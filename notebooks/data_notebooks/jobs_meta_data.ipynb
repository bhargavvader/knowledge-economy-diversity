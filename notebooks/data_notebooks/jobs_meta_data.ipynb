{
 "cells": [
  {
   "cell_type": "markdown",
   "metadata": {},
   "source": [
    "### Meta data for Jobs \n",
    "\n",
    "This notebook explores the jobs data to see how the texts can be cleaned, while also storing meta data to a file. This notebook should be converted to a script when running on the full data."
   ]
  },
  {
   "cell_type": "code",
   "execution_count": 1,
   "metadata": {},
   "outputs": [],
   "source": [
    "import zipfile"
   ]
  },
  {
   "cell_type": "code",
   "execution_count": 2,
   "metadata": {},
   "outputs": [],
   "source": [
    "import xml.etree.cElementTree as ET\n",
    "import os"
   ]
  },
  {
   "cell_type": "code",
   "execution_count": 3,
   "metadata": {},
   "outputs": [],
   "source": [
    "from gensim.parsing.preprocessing import remove_stopwords, strip_numeric, strip_non_alphanum, stem_text"
   ]
  },
  {
   "cell_type": "code",
   "execution_count": 4,
   "metadata": {},
   "outputs": [],
   "source": [
    "# 2018 US_XML_AddFeed_20180903_20180909.zip\n",
    "# 2018 US_XML_AddFeed_20180604_20180610.zip\n",
    "# 2018 US_XML_AddFeed_20181008_20181014.zip"
   ]
  },
  {
   "cell_type": "code",
   "execution_count": 5,
   "metadata": {},
   "outputs": [],
   "source": [
    "folder = \"2018\"\n",
    "filename = \"US_XML_AddFeed_20181008_20181014.zip\""
   ]
  },
  {
   "cell_type": "code",
   "execution_count": 6,
   "metadata": {},
   "outputs": [],
   "source": [
    "zfile_0 = zipfile.ZipFile(\"/project2/jevans/BG/Text_Data/\" + folder + \"/\" +filename)"
   ]
  },
  {
   "cell_type": "code",
   "execution_count": 7,
   "metadata": {},
   "outputs": [],
   "source": [
    "jobs = ET.parse(zfile_0.open(zfile_0.infolist()[0])).getroot()"
   ]
  },
  {
   "cell_type": "code",
   "execution_count": 8,
   "metadata": {},
   "outputs": [],
   "source": [
    "jobs_texts_cities = {}\n",
    "jobs_texts_orgs = {}"
   ]
  },
  {
   "cell_type": "code",
   "execution_count": 26,
   "metadata": {},
   "outputs": [],
   "source": [
    "maybes = [\"service\", \"customer\", \"process\", \"ensure\", \"care\", \"knowledge\", \"project\",\n",
    "         \"client\", \"report\", \"plan\", \"relate\", \"assist\", \"learn\", \"function\", \"understand\",\n",
    "         \"practice\", \"organization\", \"partner\", \"relationship\", \"family\", \"appropriate\",\n",
    "         \"insurance\"]"
   ]
  },
  {
   "cell_type": "code",
   "execution_count": 28,
   "metadata": {},
   "outputs": [],
   "source": [
    "my_stop_words = [\"hours\", \"job\", \"description\", \"employment\", \"work\", \"experience\", \"apply\", \"company\",\n",
    " \"skill\", \"include\", \"position\", \"year\", \"require\", \"team\" ,\"time\", \"ability\", \"skill\", \"provide\",\n",
    " \"include\", \"need\", \"opportunity\", \"support\", \"requirement\", \"work\", \"perform\", \"maintain\", \"year\", \n",
    " \"location\", \"train\", \"duty\", \"responsibility\", \"application\", \"save\", \"prefer\", \"level\", \"benefit\", \n",
    "  \"qualification\", \"staff\", \"office\", \"able\", \"employer\" \n",
    "   \"follow\", \"strong\", \"member\", \"and/or\", \"status\", \"procedure\" \n",
    "        \"disability\", \"degree\" \"department\", \"base\" , \"applicant\", \"offer\", \"standard\", \"individual\"\n",
    "    \"write\", \"complete\", \"career\", \"well\", \"candidate\", \"hire\", \n",
    "     \"equal\", \"license\", \"test\", \"look\", \"like\", \"right\" ,\"activity\", \"group\", \n",
    "    \"excellent\", \"date\",  \"performance\", \"national\", \"document\",\n",
    "     \"role\", \"contact\", \"minimum\", \"task\", \"issue\", \"qualify\", \"great\", \"general\",\n",
    "    \"travel\", \"goal\", \"essential\", \"direct\", \"email\", \"field\", \"request\", \"clean\",\n",
    "     \"term\", \"life\", \"view\", \"rate\", \"pay\", \"certification\", \"join\", \"current\", \"federal\" \n",
    "    \"salary\" ]"
   ]
  },
  {
   "cell_type": "code",
   "execution_count": 10,
   "metadata": {},
   "outputs": [],
   "source": [
    "import spacy"
   ]
  },
  {
   "cell_type": "code",
   "execution_count": 11,
   "metadata": {},
   "outputs": [],
   "source": [
    "nlp = spacy.load(\"en\")"
   ]
  },
  {
   "cell_type": "code",
   "execution_count": 12,
   "metadata": {},
   "outputs": [],
   "source": [
    "for stopword in my_stop_words:\n",
    "    lexeme = nlp.vocab[stopword]\n",
    "    lexeme.is_stop = True"
   ]
  },
  {
   "cell_type": "code",
   "execution_count": 13,
   "metadata": {},
   "outputs": [],
   "source": [
    "def clean_text(text, max_len=1500000):\n",
    "    nlp.max_length = max_len\n",
    "    if len(text) > max_len:\n",
    "        text = text[0:max_len]\n",
    "    doc = nlp(text.lower(), disable=[\"parser\", \"tagger\", \"ner\"])\n",
    "    clean_text = []\n",
    "    for w in doc:\n",
    "        if (not '\\n' in w.text and not w.is_stop and not w.is_punct and not w.like_num and not '’' in w.text \n",
    "            and not ')' in w.text and not '\\xa0' in w.text and not '\\r' in w.text and not '\\t' in w.text \n",
    "            and not '\\v' in w.text and len(w.text) > 3 and \"@\" not in w.text and \"https\" not in w.text\n",
    "            and w.lemma_ not in my_stop_words):\n",
    "                clean_text.append(w.lemma_)\n",
    "    return clean_text"
   ]
  },
  {
   "cell_type": "code",
   "execution_count": 14,
   "metadata": {},
   "outputs": [],
   "source": [
    "for job in jobs:\n",
    "    if job[4].text != 'USA' or job[7].text is None or job[7].text == \"jtext dummybgt\" or job[7].text == \"None\":\n",
    "        continue\n",
    "    text = clean_text(job[7].text.lower())                               \n",
    "    city = job[3].text\n",
    "    if city != \"None\" and city is not None:\n",
    "        if city not in jobs_texts_cities:\n",
    "            jobs_texts_cities[city] = []\n",
    "            jobs_texts_cities[city].append(text)\n",
    "        else:\n",
    "            jobs_texts_cities[city].append(text)\n",
    "    \n",
    "    org = job[13].text\n",
    "    if org != \"None\" and org is not None:\n",
    "        if org not in jobs_texts_orgs:\n",
    "            jobs_texts_orgs[org] = []\n",
    "            jobs_texts_orgs[org].append(text)\n",
    "        else:\n",
    "            jobs_texts_orgs[org].append(text)"
   ]
  },
  {
   "cell_type": "code",
   "execution_count": 15,
   "metadata": {},
   "outputs": [],
   "source": [
    "word_count = {}"
   ]
  },
  {
   "cell_type": "code",
   "execution_count": 16,
   "metadata": {},
   "outputs": [],
   "source": [
    "for city in jobs_texts_cities:\n",
    "    for text in jobs_texts_cities[city]:\n",
    "        for word in text:\n",
    "            if word not in word_count:\n",
    "                word_count[word] = 0\n",
    "            if word in word_count:\n",
    "                word_count[word] += 1"
   ]
  },
  {
   "cell_type": "code",
   "execution_count": 17,
   "metadata": {},
   "outputs": [],
   "source": [
    "import operator\n",
    "sorted_words = sorted(word_count.items(), key=operator.itemgetter(1))"
   ]
  },
  {
   "cell_type": "code",
   "execution_count": 18,
   "metadata": {},
   "outputs": [],
   "source": [
    "sorted_words.reverse()"
   ]
  },
  {
   "cell_type": "code",
   "execution_count": 20,
   "metadata": {},
   "outputs": [
    {
     "name": "stdout",
     "output_type": "stream",
     "text": [
      "service require customer team time ability skill provide management business include need opportunity employee support requirement information sale work system perform maintain year process state program product ensure care knowledge project client report plan location train duty responsibility high environment manager application save prefer health review education level development benefit qualification patient relate type communication staff professional assist office datum able employer account follow medical quality schedule strong member area and/or post policy status procedure industry disability help site market degree manage department lead equipment technology meet responsible base applicant offer drive standard school individual write engineer associate build solution operation assign people design apply complete career job well store photo candidate hire learn function understand nurse equal license test look technical order like right develop veteran safety activity group security driver excellent community date practice organization partner performance national document track center financial create detail change unite role demonstrate receive problem shift contact minimum software task issue qualify record great relationship family appropriate computer maintenance deliver general operate insurance guest travel tool resource goal essential direct physical email field request clean home term life view communicate food protect serve rate pay certification join current identify federal salary code value "
     ]
    }
   ],
   "source": [
    "for word_ in sorted_words[0:200]:\n",
    "    word, _ = word_\n",
    "    print(word, end=\" \")"
   ]
  }
 ],
 "metadata": {
  "kernelspec": {
   "display_name": "Python 3",
   "language": "python",
   "name": "python3"
  },
  "language_info": {
   "codemirror_mode": {
    "name": "ipython",
    "version": 3
   },
   "file_extension": ".py",
   "mimetype": "text/x-python",
   "name": "python",
   "nbconvert_exporter": "python",
   "pygments_lexer": "ipython3",
   "version": "3.9.4"
  }
 },
 "nbformat": 4,
 "nbformat_minor": 2
}
