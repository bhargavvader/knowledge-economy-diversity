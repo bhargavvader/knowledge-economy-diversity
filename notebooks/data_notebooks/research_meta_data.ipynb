{
 "cells": [
  {
   "cell_type": "markdown",
   "metadata": {},
   "source": [
    "### Meta data for Syllabi¶\n",
    "\n",
    "This notebook explores the WoS data to see how the texts can be cleaned, while also storing meta data to a file. This notebook should be converted to a script when running on the full data.\n"
   ]
  },
  {
   "cell_type": "code",
   "execution_count": 1,
   "metadata": {},
   "outputs": [],
   "source": [
    "import pandas as pd"
   ]
  },
  {
   "cell_type": "code",
   "execution_count": 8,
   "metadata": {},
   "outputs": [],
   "source": [
    "import spacy"
   ]
  },
  {
   "cell_type": "code",
   "execution_count": null,
   "metadata": {},
   "outputs": [],
   "source": []
  },
  {
   "cell_type": "code",
   "execution_count": 9,
   "metadata": {},
   "outputs": [],
   "source": [
    "my_stop_words = [ high increase method effect\n",
    "                 analysis time base level associate control group include compare \n",
    "                 system treatment rate protein suggest find provide risk test factor \n",
    "                 gene change show present disease report measure response year identify \n",
    "                 function cancer conclusion expression significant process type activity \n",
    "                 similar sample significantly large determine demonstrate clinical reduce\n",
    "                 different case human follow structure observe state mouse examine relate\n",
    "                 \"right\" design population approach role difference indicate health range \n",
    "                 elsevier induce surface condition potential research decrease specific \n",
    "                 development image signal species evaluate outcome reserve important mean \n",
    "                 mechanism low region improve numb individual child develope value]"
   ]
  },
  {
   "cell_type": "code",
   "execution_count": 10,
   "metadata": {},
   "outputs": [],
   "source": [
    "nlp = spacy.load(\"en\")"
   ]
  },
  {
   "cell_type": "code",
   "execution_count": 11,
   "metadata": {},
   "outputs": [],
   "source": [
    "for stopword in my_stop_words:\n",
    "    lexeme = nlp.vocab[stopword]\n",
    "    lexeme.is_stop = True"
   ]
  },
  {
   "cell_type": "code",
   "execution_count": 12,
   "metadata": {},
   "outputs": [],
   "source": [
    "def clean_text(text, max_len=1500000):\n",
    "    nlp.max_length = max_len\n",
    "    if len(text) > max_len:\n",
    "        text = text[0:max_len]\n",
    "    doc = nlp(text.lower(), disable=[\"parser\", \"tagger\", \"ner\"])\n",
    "    clean_text = []\n",
    "    for w in doc:\n",
    "        if (not '\\n' in w.text and not w.is_stop and not w.is_punct and not w.like_num and not '’' in w.text \n",
    "            and not ')' in w.text and not '\\xa0' in w.text and not '\\r' in w.text and not '\\t' in w.text \n",
    "            and not '\\v' in w.text and len(w.text) > 3 and \"@\" not in w.text and \"https\" not in w.text\n",
    "            and w.lemma_ not in my_stop_words):\n",
    "                # we add the lematized version of the word\n",
    "                clean_text.append(w.lemma_)\n",
    "    return clean_text"
   ]
  },
  {
   "cell_type": "code",
   "execution_count": 3,
   "metadata": {},
   "outputs": [],
   "source": [
    "wos_2010 = pd.read_csv(\"../data_files_USA/data_2010_US.csv\")"
   ]
  },
  {
   "cell_type": "code",
   "execution_count": 14,
   "metadata": {},
   "outputs": [],
   "source": [
    "cleaned_texts = []"
   ]
  },
  {
   "cell_type": "code",
   "execution_count": 15,
   "metadata": {},
   "outputs": [],
   "source": [
    "for row in wos_2010.itertuples(index=True):\n",
    "    try:\n",
    "        text = clean_text(row.abstract.lower())\n",
    "    except AttributeError:\n",
    "        continue\n",
    "    cleaned_texts.append(text)"
   ]
  },
  {
   "cell_type": "code",
   "execution_count": 16,
   "metadata": {},
   "outputs": [],
   "source": [
    "del wos_2010"
   ]
  },
  {
   "cell_type": "code",
   "execution_count": 17,
   "metadata": {},
   "outputs": [],
   "source": [
    "word_count = {}"
   ]
  },
  {
   "cell_type": "code",
   "execution_count": 18,
   "metadata": {},
   "outputs": [],
   "source": [
    "for text in cleaned_texts:\n",
    "    for word in text:\n",
    "        if word not in word_count:\n",
    "            word_count[word] = 0\n",
    "        if word in word_count:\n",
    "            word_count[word] += 1"
   ]
  },
  {
   "cell_type": "code",
   "execution_count": 19,
   "metadata": {},
   "outputs": [],
   "source": [
    "import operator\n",
    "sorted_words = sorted(word_count.items(), key=operator.itemgetter(1))"
   ]
  },
  {
   "cell_type": "raw",
   "metadata": {},
   "source": [
    "sorted_words.reverse()"
   ]
  },
  {
   "cell_type": "code",
   "execution_count": 21,
   "metadata": {},
   "outputs": [
    {
     "name": "stdout",
     "output_type": "stream",
     "text": [
      "study result patient cell high model increase datum method effect analysis time base level associate control group include compare system treatment rate protein suggest find provide risk test factor gene change show present disease report measure response year identify function cancer conclusion expression significant process type activity similar sample significantly large determine demonstrate clinical reduce different case human follow structure observe state mouse examine relate right design population approach role difference indicate health range elsevier induce surface condition potential research decrease specific development image signal species evaluate outcome reserve important mean mechanism low region improve numb individual child develope value "
     ]
    }
   ],
   "source": [
    "for word_ in sorted_words[:100]:\n",
    "    word, n = word_\n",
    "    print(word, end=' ')"
   ]
  }
 ],
 "metadata": {
  "kernelspec": {
   "display_name": "Python 3",
   "language": "python",
   "name": "python3"
  },
  "language_info": {
   "codemirror_mode": {
    "name": "ipython",
    "version": 3
   },
   "file_extension": ".py",
   "mimetype": "text/x-python",
   "name": "python",
   "nbconvert_exporter": "python",
   "pygments_lexer": "ipython3",
   "version": "3.9.4"
  }
 },
 "nbformat": 4,
 "nbformat_minor": 2
}
