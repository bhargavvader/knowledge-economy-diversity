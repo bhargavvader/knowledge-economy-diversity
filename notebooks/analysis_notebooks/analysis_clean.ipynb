{
 "cells": [
  {
   "cell_type": "markdown",
   "metadata": {},
   "source": [
    "## Flows of Knowledge - Research and Teaching\n",
    "\n",
    "We will be using the created vectors to analyse the relationship between research and teaching. \n",
    "\n",
    "### load vectors\n",
    "\n",
    "because of the super long process of generating these vectors, we will use random vectors for the time being. "
   ]
  },
  {
   "cell_type": "code",
   "execution_count": 1,
   "metadata": {},
   "outputs": [],
   "source": [
    "import csv\n",
    "import json\n",
    "import operator"
   ]
  },
  {
   "cell_type": "code",
   "execution_count": 2,
   "metadata": {},
   "outputs": [],
   "source": [
    "import numpy as np"
   ]
  },
  {
   "cell_type": "code",
   "execution_count": 3,
   "metadata": {},
   "outputs": [],
   "source": [
    "def read_vectors(file_name):\n",
    "    line = open(file_name, \"r\")\n",
    "    for l in line:\n",
    "        d = eval(l)\n",
    "    return d"
   ]
  },
  {
   "cell_type": "code",
   "execution_count": 4,
   "metadata": {},
   "outputs": [],
   "source": [
    "#job_cities = read_vectors(\"../saved_data_structures/jobs_vectors_cities.txt\")"
   ]
  },
  {
   "cell_type": "code",
   "execution_count": 5,
   "metadata": {},
   "outputs": [],
   "source": [
    "#job_orgs = read_vectors(\"../saved_data_structures/jobs_vectors_orgs.txt\")"
   ]
  },
  {
   "cell_type": "code",
   "execution_count": 6,
   "metadata": {},
   "outputs": [],
   "source": [
    "research_cities = read_vectors(\"../saved_data_structures/research_vectors_cities_cleaned.txt\")"
   ]
  },
  {
   "cell_type": "code",
   "execution_count": 7,
   "metadata": {},
   "outputs": [],
   "source": [
    "research_orgs = read_vectors(\"../saved_data_structures/research_vectors_orgs_cleaned.txt\")"
   ]
  },
  {
   "cell_type": "code",
   "execution_count": 8,
   "metadata": {},
   "outputs": [],
   "source": [
    "teaching_cities = read_vectors(\"../saved_data_structures/teaching_vectors_cities_cleaned.txt\")"
   ]
  },
  {
   "cell_type": "code",
   "execution_count": 9,
   "metadata": {},
   "outputs": [],
   "source": [
    "teaching_orgs = read_vectors(\"../saved_data_structures/teaching_vectors_orgs_cleaned.txt\")"
   ]
  },
  {
   "cell_type": "code",
   "execution_count": 10,
   "metadata": {},
   "outputs": [],
   "source": [
    "# len(research_orgs), len(teaching_orgs), len(job_orgs), len(research_cities), len(teaching_cities), len(job_cities)"
   ]
  },
  {
   "cell_type": "code",
   "execution_count": 11,
   "metadata": {},
   "outputs": [],
   "source": [
    "def count_entities(vectors, min_papers=100, kind=\"\"):\n",
    "    count = 0\n",
    "    for vec in vectors:\n",
    "        if vectors[vec][2] > min_papers and kind in vec.lower():\n",
    "            print(vec.lower(), vectors[vec][2])\n",
    "            count += 1\n",
    "    return count\n",
    "    "
   ]
  },
  {
   "cell_type": "markdown",
   "metadata": {},
   "source": [
    "### matching names\n",
    "\n",
    "We now have research, jobs, and teaching vectors. We want to match the strings of the names so we can easily analyse within each of the domains."
   ]
  },
  {
   "cell_type": "code",
   "execution_count": 12,
   "metadata": {},
   "outputs": [],
   "source": [
    "import re\n",
    "from fuzzywuzzy import fuzz"
   ]
  },
  {
   "cell_type": "code",
   "execution_count": 13,
   "metadata": {},
   "outputs": [],
   "source": [
    "import string"
   ]
  },
  {
   "cell_type": "code",
   "execution_count": 14,
   "metadata": {},
   "outputs": [],
   "source": [
    "def convertabrv(entity, city=False):\n",
    "    \"\"\"\n",
    "    converts uni/city into non abbreviated form.\n",
    "    \"\"\"\n",
    "    stop_words = ['of', 'the', 'at', 'and']\n",
    "    replace = {'univ':'university', 'res':'research', 'med':'medical', 'coll':'college', 'ctr':'center', 'jr':'junior',\n",
    "               'inst':'institute', 'nat':'natural', 'htlh':'health', 'calif':'california', 'sci':'science', 'adv':'advanced',\n",
    "               'ut':'university texas', 'n':'north', 's':'south', 'e': 'east', 'w': 'west', 'natl':'national',\n",
    "               'uc':'university california', 'pk':'park', 'ft':'fort', 'so':'southern', 'no':'northern', 'syst':'system',\n",
    "               'technol':'technology', 'penn':'pennsylvania', 'hosp':'hospital', 'clin':'clinic', 'mt':'mount',\n",
    "               'biomed':'biomedical', 'canc':'cancer', 'nw':'northwestern', 'cuny':'city university new york',\n",
    "                'suny':'state university new york', 'unc':'university north carolina', 'mit':'massachusetts institute technology',\n",
    "               'caltech':'california institute technology', 'gen':'general', 'nyu':'new york university',\n",
    "               'iit':'illionis institute technology', 'inc':'incorporated', 'fdn':'foundation'}\n",
    "    stop_chars = ['-']\n",
    "    remove_chars = ['&']\n",
    "    entity_ = entity.lower()\n",
    "    \n",
    "    for chars in stop_chars:\n",
    "        entity_ = entity_.replace(chars, \" \")\n",
    "    \n",
    "    for chars in remove_chars:\n",
    "        entity_ = entity_.replace(chars, \"\")\n",
    "    \n",
    "    for word in replace:\n",
    "        entity_ = re.sub(r'\\b%s\\b' % word, replace[word], entity_)\n",
    "    \n",
    "    for word in stop_words:\n",
    "        entity_ = re.sub(r'\\b%s\\b' % word, \" \", entity_)\n",
    "    \n",
    "    entity_ = entity_.strip()\n",
    "    entity_ = re.sub(' +', ' ', entity_)\n",
    "    \n",
    "    if city:\n",
    "        return(string.capwords(entity_))\n",
    "    \n",
    "    return entity_"
   ]
  },
  {
   "cell_type": "code",
   "execution_count": 15,
   "metadata": {},
   "outputs": [],
   "source": [
    "# for teach_org in list(teaching_orgs.keys()):\n",
    "#    teach_entity = convertabrv(teach_org)\n",
    "#    ks = {}\n",
    "#    for research_org in list(research_orgs.keys()):\n",
    "#        research_entity = convertabrv(research_org)\n",
    "#        sim = fuzz.token_sort_ratio(teach_entity, research_entity)\n",
    "#        ks[research_org] = sim\n",
    "#    sorted_ = sorted(ks.items(), key=operator.itemgetter(1))[-1]\n",
    "#    teaching_to_research[teach_org] = sorted_"
   ]
  },
  {
   "cell_type": "markdown",
   "metadata": {},
   "source": [
    "#### Sanity check\n",
    "\n",
    "Especially with the research to teaching matching, there seems to be a lot of universities missing. While conducting the matching, we will run some experiments to see if some universities are missing.\n",
    "\n",
    "missing from teaching - NYU, UPenn, Uminnesota, MD Anderson, Penn State, Boston University, uni virgnia, northeastern (boston), UT Houston, Dallas health center, montana - missoula, Ohio University\n",
    "\n"
   ]
  },
  {
   "cell_type": "code",
   "execution_count": 16,
   "metadata": {},
   "outputs": [],
   "source": [
    "research_orgs['Georgia Tech'][0] = (np.array(research_orgs['Georgia Tech'][0]) + np.array(research_orgs['Georgia Inst Technol'][0])) / 2.0"
   ]
  },
  {
   "cell_type": "code",
   "execution_count": 17,
   "metadata": {},
   "outputs": [],
   "source": [
    "research_orgs['Georgia Tech'][2] = (research_orgs['Georgia Tech'][2] + research_orgs['Georgia Inst Technol'][2]) "
   ]
  },
  {
   "cell_type": "code",
   "execution_count": 18,
   "metadata": {},
   "outputs": [],
   "source": [
    "del research_orgs['Georgia Inst Technol']"
   ]
  },
  {
   "cell_type": "code",
   "execution_count": 19,
   "metadata": {},
   "outputs": [],
   "source": [
    "def entity_name_check(vectors, entity, papers=100, paper_check=True):\n",
    "    names = []\n",
    "    for vector in vectors:\n",
    "        if paper_check:  \n",
    "            if entity in vector and vectors[vector][2] > papers:\n",
    "                names.append(vector)\n",
    "        else:\n",
    "            if entity in vector:\n",
    "                names.append((vector, vectors[vector]))\n",
    "    return names"
   ]
  },
  {
   "cell_type": "code",
   "execution_count": 20,
   "metadata": {},
   "outputs": [],
   "source": [
    "# entity_name_check(teaching_orgs, \"Texas A & M\")"
   ]
  },
  {
   "cell_type": "code",
   "execution_count": 21,
   "metadata": {},
   "outputs": [],
   "source": [
    "# entity_name_check(research_orgs, \"Texas\", papers=5000)"
   ]
  },
  {
   "cell_type": "code",
   "execution_count": 22,
   "metadata": {},
   "outputs": [],
   "source": [
    "# entity_name_check(teaching_to_research_match, \"Texas A & M\", paper_check=False)"
   ]
  },
  {
   "cell_type": "code",
   "execution_count": 23,
   "metadata": {},
   "outputs": [],
   "source": [
    "import json"
   ]
  },
  {
   "cell_type": "code",
   "execution_count": 24,
   "metadata": {},
   "outputs": [],
   "source": [
    "with open(\"../saved_data_structures/teaching_to_research_matching.txt\") as file:\n",
    "    teaching_to_research = json.load(file)"
   ]
  },
  {
   "cell_type": "code",
   "execution_count": 25,
   "metadata": {},
   "outputs": [
    {
     "data": {
      "text/plain": [
       "{'Angelo State University': ['Angelo State Univ', 100],\n",
       " 'University of Mississippi': ['Univ Mississippi', 100],\n",
       " 'Tufts University': ['Tufts Univ', 100],\n",
       " 'Foothill College': ['Foothill Coll', 100],\n",
       " 'University of Georgia': ['Univ Georgia', 100],\n",
       " 'Kean University': ['Kean Univ', 100],\n",
       " 'Jackson College': ['Jackson Coll', 100],\n",
       " 'The University of Alabama': ['Univ Alabama', 100],\n",
       " 'Lansing Community College': ['Lansing Community Coll', 100],\n",
       " 'New Mexico Junior College': ['NE Jr Coll', 81],\n",
       " 'University of West Georgia': ['West Georgia Univ', 100],\n",
       " 'Park University': ['Park Univ', 100],\n",
       " 'Stephen F Austin State University': ['Stephen F Austin State Univ', 100],\n",
       " 'Excelsior College': ['Excelsior Coll', 100],\n",
       " 'Galveston College': ['Galveston Coll', 100],\n",
       " 'North Seattle College': ['North Seattle Comm Coll', 89],\n",
       " 'Houston Community College': ['Houston Community Coll', 100],\n",
       " 'Texas A & M University-Commerce': ['Texas A& M Univ Commerce', 100],\n",
       " 'University of Maryland-College Park': ['Coll Pk Univ Maryland', 100],\n",
       " 'Clemson University': ['Clemson Univ', 100],\n",
       " 'Brandeis University': ['Brandeis Univ', 100],\n",
       " 'The University of Montana': ['Univ Montana', 100],\n",
       " 'Western Kentucky University': ['Western Kentucky Univ', 100],\n",
       " 'Brigham Young University-Provo': ['Brigham Young Univ Provo', 100],\n",
       " 'University of Denver': ['Univ Denver', 100],\n",
       " 'Windward Community College': ['Windward Community Coll', 100],\n",
       " 'University of Maryland-University College': ['Univ Maryland Univ Coll', 100],\n",
       " 'Oklahoma State University Institute of Technology': ['State Univ New York Inst Technol',\n",
       "  83],\n",
       " 'University of Southern California': ['Univ Southern Calif', 100],\n",
       " 'South Plains College': ['South Plains Coll', 100],\n",
       " 'McLennan Community College': ['Lane Community Coll', 88],\n",
       " 'San Jose State University': ['San Jose State Univ', 100],\n",
       " 'Wayne State University': ['Wayne State Univ', 100],\n",
       " 'The University of Texas at San Antonio': ['UT San Antonio', 100],\n",
       " 'Laredo Community College': ['Laredo Community Coll', 100],\n",
       " 'Valencia College': ['Valencia Coll', 100],\n",
       " 'Bellevue College': ['Bellevue Coll', 100],\n",
       " 'Texas A & M International University': ['Texas A & M Int Univ', 83],\n",
       " 'The University of Texas at Tyler': ['Univ Texas Tyler', 100],\n",
       " 'Northwest College': ['Northwest Coll', 100],\n",
       " 'Tyler Junior College': ['Tyler Jr Coll', 100],\n",
       " 'University of Illinois at Chicago': ['Univ Chicago Illinois', 100],\n",
       " 'Wilkes University': ['Wilkes Univ', 100],\n",
       " 'University of Evansville': ['Univ Evansville', 100],\n",
       " 'Imperial Valley College': ['Imperial Coll', 82],\n",
       " 'University of North Carolina at Charlotte': ['Univ North Carolina Charlotte',\n",
       "  100],\n",
       " 'Loyola University New Orleans': ['Loyola Univ New Orleans', 100],\n",
       " 'Sam Houston State University': ['Sam Houston State Univ', 100],\n",
       " 'Woodbury University': ['Woodbury Univ', 100],\n",
       " 'University of North Texas': ['N Texas Univ', 100],\n",
       " 'Texas State University': ['Texas State Univ', 100],\n",
       " 'The University of Texas at Austin': ['UT Austin', 100],\n",
       " 'Oakton Community College': ['Oakton Community Coll', 100],\n",
       " 'University of Akron Main Campus': ['Arizona State Univ Main Campus', 84],\n",
       " 'Azusa Pacific University': ['Pacific Azusa Univ', 100],\n",
       " 'University of California-San Diego': ['Univ & Calif San Diego', 100],\n",
       " 'University of California-Irvine': ['UC Irvine', 100],\n",
       " 'The University of Texas at Dallas': ['Univ Dallas Texas', 100],\n",
       " 'Virginia Commonwealth University': ['Virginia Commonwealth Univ', 100],\n",
       " 'Amarillo College': ['Amarillo Coll', 100],\n",
       " 'University of South Florida-Main Campus': ['Univ South Florida COM', 84],\n",
       " 'Lassen Community College': ['SE Community Coll', 91],\n",
       " 'Technical College of the Lowcountry': ['Wake Tech Community Coll', 73],\n",
       " 'George Mason University': ['George Mason Univ', 100],\n",
       " 'West Texas A & M University': ['West Texas A& M Univ', 100],\n",
       " 'Clark State Community College': ['Cleveland State Community Coll', 87],\n",
       " 'University of Illinois at Urbana-Champaign': ['Univ Illinois Urbana Champaign',\n",
       "  100],\n",
       " 'Bennington College': ['Bennington Coll', 100],\n",
       " 'Lewis and Clark Community College': ['Lewis & Clark Community Coll', 100],\n",
       " 'Midwestern State University': ['Midwestern State Univ', 100],\n",
       " 'Illinois State University': ['Illinois State Univ', 100],\n",
       " 'Alvin Community College': ['Aims Community Coll', 89],\n",
       " 'Palm Beach State College': ['State Coll PA', 80],\n",
       " 'Jones County Junior College': ['Johnson Cty Commun Coll', 75],\n",
       " 'University of Florida': ['Univ Florida', 100],\n",
       " 'West Los Angeles College': ['West Los Angeles Coll', 100],\n",
       " 'Collin County Community College District': ['Turtle Mt Community Coll', 74],\n",
       " 'Goucher College': ['Goucher Coll', 100],\n",
       " 'North Idaho College': ['North Idaho Coll', 100],\n",
       " 'Harding University': ['Harding Univ', 100],\n",
       " 'George Washington University': ['George Washington Univ', 100],\n",
       " 'Le Moyne College': ['Le Moyne Coll', 100],\n",
       " 'Nova Southeastern University': ['NOVA Southeastern Univ', 100],\n",
       " 'Michigan State University': ['Michigan State Univ', 100],\n",
       " 'The University of Tennessee-Knoxville': ['Univ Tennessee Knoxville', 100],\n",
       " 'Linn-Benton Community College': ['Linn Benton Community Coll', 100],\n",
       " 'University of Washington-Seattle Campus': ['Univ Washington Seattle', 89],\n",
       " 'Mercer County Community College': ['Mercer Cty Community Coll', 95],\n",
       " 'College of Charleston': ['Coll Charleston', 100],\n",
       " 'Santa Monica College': ['Santa Monica Coll', 100],\n",
       " 'Lackawanna College': ['Lakeland Coll', 76],\n",
       " 'Great Basin College': ['Great Basin Coll', 100],\n",
       " 'Casper College': ['Casper Coll', 100],\n",
       " 'Santa Rosa Junior College': ['Santa Rosa Jr Coll', 100],\n",
       " 'University of Wisconsin-Milwaukee': ['Univ Wisconsin Milwaukee', 100],\n",
       " 'Texas A & M University-College Station': ['Texas A&M Univ College Stn', 90],\n",
       " 'University of Miami': ['Univ Miami', 100],\n",
       " 'University of Arizona': ['Univ Arizona', 100],\n",
       " 'University of Michigan-Ann Arbor': ['Univ Michigan Ann Arbor', 100],\n",
       " 'College of the Mainland': ['Coll Mainland', 100],\n",
       " 'Saint Vincent College': ['St Vincent Coll', 92],\n",
       " 'Sonoma State University': ['Sonoma State Univ', 100],\n",
       " 'Andrews University': ['Andrews Univ', 100],\n",
       " 'Stony Brook University': ['Univ Stony Brook', 100],\n",
       " 'Northeast Texas Community College': ['NE Texas Community Coll', 88],\n",
       " 'Abilene Christian University': ['Abilene Christian Univ', 100],\n",
       " 'Dixie State University': ['Dixie State Univ', 100],\n",
       " 'Central Lakes College-Brainerd': ['Associated Coll Cent Kansas', 67],\n",
       " 'East Tennessee State University': ['E Tennessee State Univ', 100],\n",
       " 'University of New Hampshire-Main Campus': ['Univ New Hampshire Main Campus',\n",
       "  100],\n",
       " 'Lawrence Technological University': ['Lawrence Technol Univ', 92],\n",
       " 'Victoria College': ['Trin Coll', 79],\n",
       " 'Willamette University': ['Willamette Univ', 100],\n",
       " 'University of Iowa': ['Univ Iowa', 100],\n",
       " 'Salisbury University': ['Salisbury Univ', 100],\n",
       " 'Grand Valley State University': ['Grand Valley State Univ', 100],\n",
       " 'Chaminade University of Honolulu': ['Chaminade Univ Honolulu', 100],\n",
       " 'Oral Roberts University': ['Oral Roberts Univ', 100],\n",
       " 'Carnegie Mellon University': ['Carnegie Mellon Univ', 100],\n",
       " 'University of Kansas': ['Univ Kansas', 100],\n",
       " 'University of Wisconsin-Madison': ['Wisconsin Madison Univ', 100],\n",
       " 'De Anza College': ['De Anza Coll', 100],\n",
       " 'SUNY at Albany': ['New York State Univ Albany', 100],\n",
       " 'University of Rhode Island': ['Univ Rhode Island', 100],\n",
       " 'Pittsburg State University': ['Pittsburg State Univ', 100],\n",
       " 'Santa Clara University': ['Santa Clara Univ', 100],\n",
       " 'Barnard College': ['Barnard Coll', 100],\n",
       " 'Clarendon College': ['Claremont Coll', 88],\n",
       " 'University of North Carolina at Chapel Hill': ['Univ Chapel Hill North Carolina',\n",
       "  100],\n",
       " 'Pima Community College': ['Pima Community Coll', 100],\n",
       " 'Florida State University': ['Florida State Univ', 100],\n",
       " 'University of North Carolina Wilmington': ['Univ North Carolina Wilmington',\n",
       "  100],\n",
       " 'Massachusetts Institute of Technology': ['Massachusetts Inst Technol', 100],\n",
       " 'Marylhurst University': ['Marylhurst Univ', 100],\n",
       " 'University of Colorado Denver': ['Colorado Denver Univ', 100],\n",
       " 'Reedley College': ['Reedley Coll', 100],\n",
       " 'Brookdale Community College': ['Brookdale Community Coll', 100],\n",
       " 'Oregon State University': ['Oregon State Univ', 100],\n",
       " 'Iowa State University': ['Iowa State Univ', 100],\n",
       " 'Florence-Darlington Technical College': ['Florence Darlington Tech Coll',\n",
       "  93],\n",
       " 'Oakland University': ['Oakland Univ', 100],\n",
       " 'Harvard University': ['Harvard Univ', 100],\n",
       " 'The University of Texas at Arlington': ['UT Arlington', 100],\n",
       " 'Emory University': ['Emory Univ', 100],\n",
       " 'Calvin College': ['Calvin Coll', 100],\n",
       " 'Southern Maine Community College': ['Southern Maine Community Coll', 100],\n",
       " 'Princeton University': ['Princeton Univ', 100],\n",
       " 'University of Memphis': ['Univ Memphis', 100],\n",
       " 'University of Nevada-Las Vegas': ['Univ Las Vegas Nevada', 100],\n",
       " 'California State Polytechnic University-Pomona': ['Calif State Polytech Univ Pomona',\n",
       "  97],\n",
       " 'Fordham University': ['Fordham Univ', 100],\n",
       " 'Westfield State University': ['Westfield State Univ', 100],\n",
       " 'Montreat College': ['Montreat Coll', 100],\n",
       " 'Georgia State University': ['Georgia State Univ', 100],\n",
       " 'Santa Fe College': ['Santa Fe Coll', 100],\n",
       " 'Duke University': ['Duke Univ', 100],\n",
       " 'New Jersey Institute of Technology': ['New Jersey Inst Technol', 100],\n",
       " 'University of Missouri-St Louis': ['Univ Missouri St Louis', 100],\n",
       " 'Kenyon College': ['Kenyon Coll', 100],\n",
       " 'Indiana University-Bloomington': ['Bloomington Indiana Univ', 100],\n",
       " 'Northwestern University': ['NorthWestern Univ', 100],\n",
       " 'Pearl River Community College': ['Pearl River Community Coll', 100],\n",
       " 'Boston College': ['Boston Coll', 100],\n",
       " 'Lamar University': ['Lamar Univ', 100],\n",
       " 'Eastern Illinois University': ['Eastern Illinois Univ', 100],\n",
       " 'California State University-San Marcos': ['California State Univ San Marcos',\n",
       "  100],\n",
       " 'West Virginia University': ['W Univ Virginia', 100],\n",
       " 'Texas Southern University': ['Texas So Univ', 100],\n",
       " 'Cerro Coso Community College': ['Cerro Coso Community Coll', 100],\n",
       " 'Youngstown State University': ['Youngstown State Univ', 100],\n",
       " 'Carleton College': ['Carleton Coll', 100],\n",
       " 'Rice University': ['Rice Univ', 100],\n",
       " 'University of Colorado Boulder': ['Colorado Univ Boulder', 100],\n",
       " 'Indiana University-Purdue University-Fort Wayne': ['Indiana Univ Purdue Univ Fort Wayne',\n",
       "  100],\n",
       " 'Lamar State College-Orange': ['Lamar State Coll Orange', 100],\n",
       " 'Virginia Polytechnic Institute and State University': ['Virginia Polytechn State Inst & Univ',\n",
       "  98],\n",
       " 'El Paso Community College': ['El Paso Community Coll', 100],\n",
       " 'Harvey Mudd College': ['Harvey Mudd Coll', 100],\n",
       " 'Sierra Nevada College': ['Sierra Nevada Coll', 100],\n",
       " 'Simmons College': ['Simmons Coll', 100],\n",
       " 'Lone Star College System': ['Lone Star Coll', 83],\n",
       " 'Loyola University Chicago': ['Chicago Loyola Univ', 100],\n",
       " 'Portland State University': ['Portland State Univ', 100],\n",
       " 'Williams College': ['Williams Coll', 100],\n",
       " 'University of Massachusetts-Dartmouth': ['Massachusetts Univ Dartmouth',\n",
       "  100],\n",
       " 'College of the Redwoods': ['Coll Redwoods', 100],\n",
       " 'Danville Community College': ['Danville Area Community Coll', 91],\n",
       " 'California State University-Sacramento': ['Calif State Univ Sacramento',\n",
       "  100],\n",
       " 'University of Wisconsin-Whitewater': ['Wisconsin Whitewater Univ', 100],\n",
       " 'Chipola College': ['Chipola Coll', 100],\n",
       " 'SUNY College at Geneseo': ['SUNY Geneseo Coll', 100],\n",
       " 'University of Southern Indiana': ['Univ So Indiana', 100],\n",
       " 'University of South Carolina-Columbia': ['Univ South Carolina Columbia',\n",
       "  100],\n",
       " 'Blinn College': ['Blinn Coll', 100],\n",
       " 'Seward County Community College and Area Technical School': ['Rochester Community & Tech Coll',\n",
       "  68],\n",
       " 'American University': ['American Univ', 100],\n",
       " 'Dartmouth College': ['Dartmouth Coll', 100],\n",
       " 'Texas Tech University': ['Texas Tech Univ', 100],\n",
       " 'Northwest Florida State College': ['Northwest Florida State Coll', 100],\n",
       " 'University of Central Arkansas': ['Univ Cent Arkansas', 94],\n",
       " 'University of Central Florida': ['Univ Ctr Florida', 94],\n",
       " 'Pellissippi State Community College': ['Pellissippi State Community Coll',\n",
       "  100],\n",
       " 'Saddleback College': ['Saddleback Coll', 100],\n",
       " 'The University of Texas of the Permian Basin': ['Univ Texas Permian Basin',\n",
       "  100],\n",
       " 'Odessa College': ['Odessa Coll', 100],\n",
       " 'University of California-Berkeley': ['UC Berkeley', 100],\n",
       " 'Arizona Western College': ['Western Arizona Coll', 100],\n",
       " 'University of Minnesota-Crookston': ['Univ Minnesota Crookston', 100],\n",
       " 'Ohio State University-Main Campus': ['Illinois State Univ Campus', 86],\n",
       " 'Georgia College and State University': ['Georgia Coll State Univ', 100],\n",
       " 'Sul Ross State University': ['Sul Ross State Univ', 100],\n",
       " 'Rollins College': ['Rollins Coll', 100],\n",
       " 'Michigan Technological University': ['Michigan Technol Univ', 92],\n",
       " 'University of Notre Dame': ['Notre Dame Univ', 100],\n",
       " 'University of Hawaii at Manoa': ['Univ Hawaii Manoa', 100],\n",
       " 'Westmont College': ['Westmont Coll', 100],\n",
       " 'Western New Mexico University': ['Western New Mexico Univ', 100],\n",
       " 'University of New Mexico-Main Campus': ['Univ New Mexico CASAA', 87],\n",
       " 'University of North Carolina at Greensboro': ['Univ North Carolina Greensboro',\n",
       "  100],\n",
       " 'Vernon College': ['Vernon Coll', 100],\n",
       " 'University of Cincinnati-Main Campus': ['Univ Cincinnati Lib', 79],\n",
       " 'Southwestern College-Winfield': ['Southwestern Coll', 82],\n",
       " 'Syracuse University': ['Syracuse Univ', 100],\n",
       " 'Oberlin College': ['Oberlin Coll', 100],\n",
       " 'Brown University': ['Brown Univ', 100],\n",
       " 'Temple University': ['Temple Univ', 100],\n",
       " 'Colorado Mountain College': ['Colorado Coll', 78],\n",
       " 'Prairie View A & M University': ['Prairie View A &M Univ', 100],\n",
       " 'Auburn University': ['Auburn Univ', 100],\n",
       " 'Western State College of Law at Argosy University': ['Western Parana State Univ',\n",
       "  76],\n",
       " 'University of Alaska Fairbanks': ['Univ Alaska Fairbanks', 100],\n",
       " 'University of Alaska Southeast': ['Univ Alaska Southeast', 100],\n",
       " 'College of Southern Idaho': ['Coll So Idaho', 100],\n",
       " 'University of Wyoming': ['Univ Wyoming', 100],\n",
       " 'Governors State University': ['Governors State Univ', 100],\n",
       " 'Rhodes College': ['Rhodes Coll', 100],\n",
       " 'Kilgore College': ['Kilgore Coll', 100],\n",
       " 'Kansas City Kansas Community College': ['Kansas City Kansas Community Coll',\n",
       "  100],\n",
       " 'Florida Gulf Coast University': ['Florida Gulf Coast Univ', 100],\n",
       " 'Boise State University': ['Boise State Univ', 100],\n",
       " 'Hocking College': ['King Coll', 89],\n",
       " 'SUNY College at Brockport': ['Coll Brockport State Univ New York', 100],\n",
       " 'York Technical College': ['Coll Social Work', 78],\n",
       " 'Western Illinois University': ['Western Illinois Univ', 100],\n",
       " 'North Central Texas College': ['North Cent Texas Coll', 94],\n",
       " 'Louisiana State University and Agricultural & Mechanical College': ['Louisiana State Univ & A&M Coll',\n",
       "  76],\n",
       " 'South Texas College': ['South Texas Coll', 100],\n",
       " 'Clayton State University': ['Clayton State Univ', 100],\n",
       " 'Longwood University': ['Longwood Univ', 100],\n",
       " 'Earlham College': ['Earlham Coll', 100],\n",
       " 'Gonzaga University': ['Gonzaga Univ', 100],\n",
       " 'Angelina College': ['Angelina Coll', 100],\n",
       " 'University of Rochester': ['Univ Rochester', 100],\n",
       " 'Harford Community College': ['Harford Community Coll', 100],\n",
       " 'Clovis Community College': ['Cloud Community Coll', 89],\n",
       " 'Worcester Polytechnic Institute': ['Worcester Polytechn Inst', 97],\n",
       " 'University of Kentucky': ['Univ Kentucky', 100],\n",
       " 'Moravian College': ['Moravian Coll', 100],\n",
       " 'University of Maine at Presque Isle': ['Univ Maine Presque Isle', 100],\n",
       " 'Westminster College-New Wilmington': ['Westminster Coll', 72],\n",
       " 'Augsburg College': ['Augsburg Coll', 100],\n",
       " 'Virginia Western Community College': ['Virginia Western Community Coll',\n",
       "  100],\n",
       " 'James Madison University': ['James Madison Univ', 100],\n",
       " 'University of Central Oklahoma': ['Univ Cent Oklahoma', 94],\n",
       " 'Washington State University': ['Washington State Univ', 100],\n",
       " 'Howard University': ['Howard Univ', 100],\n",
       " 'Barry University': ['Barry Univ', 100],\n",
       " 'Bainbridge State College': ['Bainbridge Coll', 86],\n",
       " 'Los Angeles Mission College': ['Los Angeles Mission Coll', 100],\n",
       " 'San Francisco State University': ['San Francisco State Univ', 100],\n",
       " 'Portland Community College': ['Portland Community Coll', 100],\n",
       " 'Suffolk University': ['Suffolk Univ', 100],\n",
       " 'Sierra College': ['Sierra Coll', 100],\n",
       " 'Valdosta State University': ['Valdosta State Univ', 100],\n",
       " 'California State University-Los Angeles': ['Calif State Univ Los Angeles',\n",
       "  100],\n",
       " 'Chaffey College': ['Chaffey Coll', 100],\n",
       " 'Rochester Institute of Technology': ['Rochester Inst Technol', 100],\n",
       " 'Central Texas College': ['North Cent Texas Coll', 80],\n",
       " 'Rio Salado College': ['Richland Coll', 76],\n",
       " 'Santa Barbara City College': ['Santa Barbara City Coll', 100],\n",
       " 'Lewis & Clark College': ['Lewis & Clark Coll', 100],\n",
       " 'Central Washington University': ['Cent Washington Univ', 95],\n",
       " 'CUNY City College': ['CUNY City Coll', 100],\n",
       " 'University of New Orleans': ['Univ New Orleans', 100],\n",
       " 'South Dakota School of Mines and Technology': ['South Dakota Sch Mines Technol',\n",
       "  96],\n",
       " 'Southern Illinois University-Carbondale': ['Southern Illinois Univ Carbondale',\n",
       "  100],\n",
       " 'Florida Agricultural and Mechanical University': ['Univ Florida Cultural Plaza',\n",
       "  80],\n",
       " 'Texarkana College': ['Texas Coll', 80],\n",
       " 'University of Vermont': ['Univ Vermont', 100],\n",
       " 'Saint Leo University': ['St Leo Univ', 92],\n",
       " 'Murray State University': ['Murray State Univ', 100],\n",
       " 'Rowan College at Burlington County': ['Clinton Community Coll', 75],\n",
       " 'Meridian Community College': ['Erie Community Coll', 88],\n",
       " 'Wake Forest University': ['Wake Forest Univ', 100],\n",
       " 'North Central State College': ['North Cent Texas Coll', 82],\n",
       " 'University of Wisconsin-Oshkosh': ['Univ Wisconsin Oshkosh', 100],\n",
       " 'Grinnell College': ['Grinnell Coll', 100],\n",
       " 'State University of New York at New Paltz': ['State Univ New York New Paltz',\n",
       "  100],\n",
       " 'Humboldt State University': ['Humboldt State Univ', 100],\n",
       " 'Loyola Marymount University': ['Loyola Marymount Univ', 100],\n",
       " 'University of Massachusetts-Boston': ['Boston Univ Massachusetts', 100],\n",
       " 'University of Arkansas at Little Rock': ['Univ Arkansas Little Rock', 100],\n",
       " 'University of Utah': ['Univ Utah', 100],\n",
       " 'California Institute of Technology': ['CalTech', 100],\n",
       " 'Shippensburg University of Pennsylvania': ['Shippensburg Univ Penn', 100],\n",
       " 'Kutztown University of Pennsylvania': ['Kutztown Univ Pennsylvania', 100],\n",
       " 'University of Massachusetts-Amherst': ['Univ Massachusetts Amherst', 100],\n",
       " 'Northwestern Connecticut Community College': ['Houston Community Coll NW',\n",
       "  82],\n",
       " 'Mount Wachusett Community College': ['Turtle Mt Community Coll', 83],\n",
       " 'Stanford University': ['Stanford Univ', 100],\n",
       " 'Edinboro University of Pennsylvania': ['Edinboro Univ Pennsylvania', 100],\n",
       " 'CUNY Borough of Manhattan Community College': ['CUNY Borough Manhattan Community Coll',\n",
       "  100],\n",
       " 'Bossier Parish Community College': ['Bossier Parish Community Coll', 100],\n",
       " 'Coastal Bend College': ['Coastal Bend Coll', 100],\n",
       " 'Cape Cod Community College': ['Cloud Community Coll', 86],\n",
       " 'Catawba College': ['Catawba Coll', 100],\n",
       " 'DePaul University': ['DePaul Univ', 100],\n",
       " 'Central Michigan University': ['Univ Michigan Ctr', 94],\n",
       " 'Columbia University in the City of New York': ['Columbia Univ City New York',\n",
       "  96],\n",
       " 'Brazosport College': ['Brazosport Coll', 100],\n",
       " 'Marquette University': ['Marquette Univ', 100],\n",
       " 'Washington University in St Louis': ['Washington St Louis Univ', 95],\n",
       " 'East Carolina University': ['E Carolina Univ', 100],\n",
       " 'University of Chicago': ['Univ Chicago', 100],\n",
       " 'Gavilan College': ['Coll Mainland', 84],\n",
       " 'Rogue Community College': ['Rogue Community Coll', 100],\n",
       " 'North Hennepin Community College': ['North Hennepin Community Coll', 100],\n",
       " 'Cedar Crest College': ['Cedar Crest Muhlenberg Coll', 78],\n",
       " 'University of California-Los Angeles': ['UC Los Angeles', 100],\n",
       " 'University of Pittsburgh-Pittsburgh Campus': ['Univ Pittsburgh PITT', 80],\n",
       " 'Hofstra University': ['Hofstra Univ', 100],\n",
       " 'University of Toledo': ['Univ Toledo', 100],\n",
       " 'Otterbein University': ['Otterbein Univ', 100],\n",
       " 'Springfield Technical Community College': ['Springfield Tech Community Coll',\n",
       "  93],\n",
       " 'Davidson College': ['Davidson Coll', 100],\n",
       " 'Drexel University': ['Drexel Univ', 100],\n",
       " 'College of the Canyons': ['Coll Canyons', 100],\n",
       " 'Monmouth College': ['Monmouth Coll', 100],\n",
       " 'Columbus State University': ['Columbus State Univ', 100],\n",
       " 'Nashville State Community College': ['Nashville State Community Coll', 100],\n",
       " 'El Camino Community College District': ['El Camino Community Coll', 86],\n",
       " 'Western Oregon University': ['Western Oregon Univ', 100],\n",
       " 'Mississippi State University': ['Mississippi State Univ', 100],\n",
       " 'Lamar State College-Port Arthur': ['Lamar State Coll Port Arthur', 100],\n",
       " 'Northern Illinois University': ['No Univ Illinois', 100],\n",
       " 'Moberly Area Community College': ['Moberly Area Community Coll', 100],\n",
       " 'Minnesota State College-Southeast Technical': ['Minnesota State Community & Tech Coll',\n",
       "  69],\n",
       " 'Texas Tech University Health Sciences Center': ['Texas Tech Univ Heath Sci Ctr',\n",
       "  98],\n",
       " 'Creighton University': ['Creighton Univ', 100],\n",
       " 'Wesley College': ['Wesley Coll', 100],\n",
       " 'University of Nevada-Reno': ['Univ Nevada Reno', 100],\n",
       " 'North Carolina State University at Raleigh': ['North Carolina & A&T State Univ',\n",
       "  89],\n",
       " 'University of Alabama at Birmingham': ['Univ Birmingham Alabama', 100],\n",
       " 'Georgetown University': ['Georgetown Univ', 100],\n",
       " 'Southern Methodist University': ['Southern Methodist Univ', 100],\n",
       " 'University of Oklahoma-Norman Campus': ['Univ Oklahoma Norman', 88],\n",
       " 'Emporia State University': ['Emporia State Univ', 100],\n",
       " 'Western Washington University': ['Western Washington Univ', 100],\n",
       " 'Whitman College': ['Whitman Coll', 100],\n",
       " 'The New School': ['New Sch', 82],\n",
       " 'Texas Christian University': ['Texas Christian Univ', 100],\n",
       " 'Medical University of South Carolina': ['Med Univ South Carolina', 100],\n",
       " 'SUNY College at Cortland': ['SUNY Coll Cortland', 100],\n",
       " 'University of Nebraska at Kearney': ['Univ Nebraska Kearney', 100],\n",
       " 'Bergen Community College': ['Bergen Community Coll', 100],\n",
       " 'Lander University': ['Lander Univ', 100],\n",
       " 'Liberty University': ['Liberty Univ', 100],\n",
       " 'Appalachian State University': ['Appalachian State Univ', 100],\n",
       " 'San Juan College': ['San Jan Coll', 97],\n",
       " 'SUNY College of Technology at Canton': ['SUNY Coll Technol', 93],\n",
       " 'Cleveland State University': ['Cleveland State Univ', 100],\n",
       " 'Western Texas College': ['Eastern Coll', 83],\n",
       " 'Georgia Highlands College': ['Georgia Highlands Coll', 100],\n",
       " 'Florida International University': ['Florida Intern Univ', 88],\n",
       " 'Lake Land College': ['Lake Land Coll', 100],\n",
       " 'Carroll University': ['Carroll Univ', 100],\n",
       " 'Florida Atlantic University': ['Florida Atlantic Univ', 100],\n",
       " 'University of Maine': ['Univ Maine', 100],\n",
       " 'Indiana University-Purdue University-Indianapolis': ['Indiana Univ & Purdue Univ Indianapolis',\n",
       "  100],\n",
       " 'University of California-Santa Cruz': ['Univ California Santa Cruz', 100],\n",
       " 'Houston Graduate School of Theology': ['Oregon Grad Inst Sci & Technol', 61],\n",
       " 'Community College of Philadelphia': ['Philadelphia Community Coll', 100],\n",
       " 'Northwestern Oklahoma State University': ['NW Oklahoma State Univ', 100],\n",
       " 'Dickinson College': ['Dickinson Coll', 100],\n",
       " 'University of Missouri-Columbia': ['Univ Columbia Missouri', 100],\n",
       " 'Monroe County Community College': ['Monroe Cty Community Coll', 95],\n",
       " 'Fort Hays State University': ['Ft Hays State Univ', 100],\n",
       " 'Rose-Hulman Institute of Technology': ['Rose Hulman Inst Technol', 100],\n",
       " 'Hamilton College': ['Hamilton Coll', 100],\n",
       " 'University of San Francisco': ['Univ San Francisco', 100],\n",
       " 'University at Buffalo': ['Univ Buffalo', 100],\n",
       " 'Indiana University of Pennsylvania-Main Campus': ['Indiana Univ Pennsylvania',\n",
       "  84],\n",
       " 'California State University-Long Beach': ['Calif State Univ Long Beach',\n",
       "  100],\n",
       " 'New Mexico State University-Main Campus': ['New Mexico State Univ Las Cruces',\n",
       "  86],\n",
       " 'Lake Tahoe Community College': ['Lake Tahoe Community Coll', 100],\n",
       " 'Hagerstown Community College': ['Hagerstown Community Coll', 100],\n",
       " 'Graceland University-Lamoni': ['Graceland Univ', 85],\n",
       " 'Pomona College': ['Pomona Coll', 100],\n",
       " 'Illinois Wesleyan University': ['Illinois Wesleyan Univ', 100],\n",
       " 'Colorado State University-Pueblo': ['Colorado State Univ Pueblo', 100],\n",
       " 'Albany State University': ['Albany State Univ', 100],\n",
       " 'Colby-Sawyer College': ['Colby Sawyer Coll', 100],\n",
       " 'Weber State University': ['Weber State Univ', 100],\n",
       " 'The Evergreen State College': ['Evergreen State Coll', 100],\n",
       " 'Western Nevada College': ['Coll Southern Nevada', 89],\n",
       " 'SUNY at Binghamton': ['SUNY Binghamton', 100],\n",
       " 'Regis University': ['Regis Univ', 100],\n",
       " 'California Polytechnic State University-San Luis Obispo': ['Calif Polytechnic State Univ San Luis Obispo',\n",
       "  100],\n",
       " 'Metropolitan State University': ['Metropolitan State Univ', 100],\n",
       " 'Western Michigan University': ['Western Michigan Univ', 100],\n",
       " 'Vincennes University': ['Vincennes Univ', 100],\n",
       " 'University of South Carolina-Aiken': ['Univ South Carolina Aiken', 100],\n",
       " 'Columbia Southern University': ['Columbia So Univ', 100],\n",
       " 'Purdue University-Main Campus': ['Univ Toledo Main Campus', 83],\n",
       " 'Southern Utah University': ['Southern Utah Univ', 100],\n",
       " 'Northern Arizona University': ['No Univ Arizona', 100],\n",
       " 'Seattle University': ['Seattle Univ', 100],\n",
       " 'Itawamba Community College': ['Itasca Community Coll', 88],\n",
       " 'St Petersburg College': ['St Petersburg Coll', 100],\n",
       " 'SUNY at Fredonia': ['SUNY Alfred', 91],\n",
       " 'Trinity University': ['Trinity Univ', 100],\n",
       " 'University of Arkansas-Fort Smith': ['Univ Arkansas Ft Smith', 100],\n",
       " 'Tennessee State University': ['Tennessee State Univ', 100],\n",
       " 'Illinois Valley Community College': ['Raritan Valley Community Coll', 83],\n",
       " 'Pacific University': ['Pacific Univ', 100],\n",
       " 'University of Arkansas at Monticello': ['Univ Arkansas Monticello', 100],\n",
       " 'University of Southern Maine': ['Univ So Maine', 100],\n",
       " 'Napa Valley College': ['Napa Valley Coll', 100],\n",
       " 'Lehigh University': ['Lehigh Univ', 100],\n",
       " 'University of Oregon': ['Univ Oregon', 100],\n",
       " 'Adelphi University': ['Adelphi Univ', 100],\n",
       " 'Touro College': ['Touro Coll', 100],\n",
       " 'Cosumnes River College': ['Cosumnes River Coll', 100],\n",
       " 'Hinds Community College': ['Kings Community Coll', 91],\n",
       " 'Jefferson College': ['Emerson Coll', 88],\n",
       " 'College of Marin': ['Coll Marin', 100],\n",
       " 'California State University-Chico': ['Calif State Univ Chico', 100],\n",
       " 'Colby College': ['Colby Coll', 100],\n",
       " 'Calumet College of Saint Joseph': ['Calumet Coll St Joseph', 94],\n",
       " 'Cornell College': ['Cornell Coll', 100],\n",
       " 'College of Staten Island CUNY': ['Coll Staten Isl CUNY', 97],\n",
       " 'Roane State Community College': ['Roane State Community Coll', 100],\n",
       " 'Hampshire College': ['Hampshire Coll', 100],\n",
       " 'Walla Walla Community College': ['Walla Walla Community Coll', 100],\n",
       " 'The University of Texas at El Paso': ['UT El Paso', 100],\n",
       " 'Everett Community College': ['Everett Community Coll', 100],\n",
       " 'Southwest Tennessee Community College': ['SW Tennessee Community Coll', 90],\n",
       " 'New College of Florida': ['New Coll Florida', 100],\n",
       " 'Sacramento City College': ['Sacramento City Coll', 100],\n",
       " 'University of Massachusetts-Lowell': ['Univ Lowell Massachusetts', 100],\n",
       " 'Moraine Valley Community College': ['Moraine Valley Community Coll', 100],\n",
       " 'The University of the Arts': ['Univ AR', 93],\n",
       " 'Neosho County Community College': ['South Mt Community Coll', 83],\n",
       " 'Trinity College': ['Trinity Coll', 100],\n",
       " 'Georgia Gwinnett College': ['Georgia Gwinnett Coll', 100],\n",
       " 'Cornell University': ['Cornell Univ', 100],\n",
       " 'Contra Costa College': ['Contra Costa Coll', 100],\n",
       " 'Naval Postgraduate School': ['Naval Postgraduate Sch', 94],\n",
       " 'Walla Walla University': ['Walla Walla Univ', 100],\n",
       " 'Biola University': ['Biola Univ', 100],\n",
       " 'MiraCosta College': ['MiraCosta Coll', 100],\n",
       " 'Yale University': ['Yale Univ', 100],\n",
       " 'University of South Alabama': ['Univ S Alabama', 100],\n",
       " 'Winthrop University': ['Winthrop Univ', 100],\n",
       " \"Emperor's College of Traditional Oriental Medicine\": ['Emperors Coll Tradit Oriental Med',\n",
       "  81],\n",
       " 'South Mountain Community College': ['South Mt Community Coll', 95],\n",
       " 'Cypress College': ['Cypress Coll', 100],\n",
       " 'Georgia Institute of Technology-Main Campus': ['CSIR Georgia Inst Technol',\n",
       "  85],\n",
       " 'University of South Florida-Sarasota-Manatee': ['Univ South Florida Sarasota Manatee',\n",
       "  100],\n",
       " 'Nicholls State University': ['Nicholls State Univ', 100],\n",
       " 'Columbia College-Chicago': ['Columbia Coll Chicago', 100],\n",
       " 'Stonehill College': ['Stonehill Coll', 100],\n",
       " 'Adler Graduate School': ['Naval Postgraduate Sch', 70],\n",
       " 'Pikes Peak Community College': ['Pikes Peak Community Coll', 100],\n",
       " 'Florida SouthWestern State College': ['Florida SouthWestern State Coll',\n",
       "  100],\n",
       " 'CUNY Lehman College': ['CUNY Lehman Coll', 100],\n",
       " 'Midland College': ['Midland Coll', 100],\n",
       " 'Rhode Island College': ['Rhode Isl Coll', 92],\n",
       " 'Benedictine University': ['Benedictine Univ', 100],\n",
       " 'University of Washington-Tacoma Campus': ['Univ Washington Tacoma', 89],\n",
       " 'Alamance Community College': ['Arapahoe Community Coll', 85],\n",
       " 'Pensacola State College': ['Pensacola State Coll', 100],\n",
       " 'Anoka-Ramsey Community College': ['Anoka Ramsey Community Coll', 100],\n",
       " 'Colorado State University-Fort Collins': ['Colorado State Univ Ft Collins',\n",
       "  100],\n",
       " 'North Park University': ['North Pk Univ', 100],\n",
       " 'Rensselaer Polytechnic Institute': ['Rensselaer Polytechn Inst', 97],\n",
       " 'University of Louisville': ['Univ Louisville', 100],\n",
       " 'Onondaga Community College': ['Onondaga Community Coll', 100],\n",
       " 'Marshall University': ['Marshall Univ', 100],\n",
       " 'Glendale Community College-Glendale': ['Glendale Community Coll', 85],\n",
       " 'DePauw University': ['DePauw Univ', 100],\n",
       " 'George C Wallace State Community College-Hanceville': ['Wallace State Community Coll',\n",
       "  76],\n",
       " \"St John's Seminary\": ['St John Vianney Theol Seminary', 69],\n",
       " 'Millersville University of Pennsylvania': ['Millersville Univ Pennsylvania',\n",
       "  100],\n",
       " 'Utah State University': ['Utah State Univ', 100],\n",
       " 'Los Angeles Valley College': ['Los Angeles Valley Coll', 100],\n",
       " 'California State University-Fresno': ['Calif State Univ Fresno', 100],\n",
       " 'University of Wisconsin-Stout': ['Univ Wisconsin Stout', 100],\n",
       " 'Tallahassee Community College': ['Tallahassee Community Coll', 100],\n",
       " 'University of Missouri-Kansas City': ['Univ Kansas City Missouri', 100],\n",
       " 'University of Richmond': ['Univ Richmond', 100],\n",
       " 'Arkansas Tech University': ['Arkansas Tech Univ', 100],\n",
       " 'Green River College': ['Greenville Coll', 81],\n",
       " 'Kalamazoo College': ['Kalamazoo Coll', 100],\n",
       " 'CUNY John Jay College of Criminal Justice': ['John Jay Coll Criminal Justice CUNY',\n",
       "  100],\n",
       " 'Minnesota State University Moorhead': ['Minnesota State Univ Moorhead', 100],\n",
       " 'Florida Coastal School of Law': ['Florida Coastal Sch Law', 94],\n",
       " 'University of North Florida': ['Univ N Florida', 100],\n",
       " 'Black Hills State University': ['Black Hills State Univ', 100],\n",
       " 'Wittenberg University': ['Wittenberg Univ', 100],\n",
       " 'Northeastern Illinois University': ['NW Univ Illinois', 97],\n",
       " 'Bates College': ['Bates Coll', 100],\n",
       " 'Mount Holyoke College': ['Mount Holyoke Coll', 100],\n",
       " 'University of Northern Iowa': ['Univ No Iowa', 100],\n",
       " 'California State University-Channel Islands': ['Calif State Univ Channel Islands',\n",
       "  100],\n",
       " 'University of Houston-Clear Lake': ['Univ Houston Clear Lake', 100],\n",
       " 'Calvary Bible College and Theological Seminary': ['Nazarene Theol Seminary',\n",
       "  62],\n",
       " 'Inver Hills Community College': ['Inver Hills Community Coll', 100],\n",
       " 'Chattanooga State Community College': ['Chattanooga State Community Coll',\n",
       "  100],\n",
       " 'Snow College': ['Snow Coll', 100],\n",
       " 'Mid Michigan Community College': ['Mid Michigan Community Coll', 100],\n",
       " 'Roanoke College': ['Roanoke Coll', 100],\n",
       " 'Lake Superior State University': ['Lake Superior State Univ', 100],\n",
       " 'Hope College': ['Hope Coll', 100],\n",
       " 'Multnomah University': ['Univ Manoa', 83],\n",
       " 'La Sierra University': ['La Sierra Univ', 100],\n",
       " 'Point Loma Nazarene University': ['Point Loma Nazarene Univ', 100],\n",
       " 'North Dakota State College of Science': ['N Dakota State Coll Sci', 100],\n",
       " 'York College Pennsylvania': ['York Coll Penn', 100],\n",
       " 'Fairfield University': ['Fairfield Univ', 100],\n",
       " 'John A Logan College': ['John A Logan Coll', 100],\n",
       " 'Rio Hondo College': ['Hondros Coll', 81],\n",
       " 'University of South Dakota': ['Univ S Dakota', 100],\n",
       " 'Berea College': ['Berea Coll', 100],\n",
       " 'Old Dominion University': ['Old Dominion Univ', 100],\n",
       " 'University of North Carolina at Asheville': ['Univ North Carolina Asheville',\n",
       "  100],\n",
       " 'Grossmont College': ['Grossmont Coll', 100],\n",
       " 'St Lawrence University': ['St Lawrence Univ', 100],\n",
       " 'Kent State University at Kent': ['Kent State Univ', 89],\n",
       " 'Rowan University': ['Rowan Univ', 100],\n",
       " 'Avila University': ['Avila Univ', 100],\n",
       " 'College of William and Mary': ['Coll William Mary', 100],\n",
       " 'Saint Anselm College': ['St Anselm Coll', 92],\n",
       " 'Wayland Baptist University': ['Wayland Baptist Univ', 100],\n",
       " 'Marietta College': ['Marietta Coll', 100],\n",
       " 'Fayetteville State University': ['Fayetteville State University', 100],\n",
       " 'Jackson State University': ['Jackson State Univ', 100],\n",
       " 'Colby Community College': ['Cloud Community Coll', 87],\n",
       " 'Bryn Mawr College': ['Bryn Mawr Coll', 100],\n",
       " 'Southeast Missouri State University': ['Southeast Missouri State Univ', 100],\n",
       " 'Bard College': ['Bard Coll', 100],\n",
       " 'Drake University': ['Drake Univ', 100],\n",
       " 'Reed College': ['Reed Coll', 100],\n",
       " 'Erskine College': ['Erskine Coll', 100],\n",
       " 'University of Northern Colorado': ['Univ No Colorado', 100],\n",
       " 'Vermont Law School': ['Vermont Law School', 100],\n",
       " 'Hebrew College': ['Hebrew Coll', 100],\n",
       " 'Triton College': ['Triton Coll', 100],\n",
       " 'University of Louisiana at Monroe': ['Univ Louisiana,Monroe', 100],\n",
       " 'Tulane University of Louisiana': ['Tulane Univ Louisiana', 100],\n",
       " 'Diablo Valley College': ['Diablo Valley Coll', 100],\n",
       " 'College of DuPage': ['Coll Dupage', 100],\n",
       " 'University of Idaho': ['Univ Idaho', 100],\n",
       " 'Elon University': ['Elon Univ', 100],\n",
       " 'Nebraska Wesleyan University': ['Nebraska Wesleyan Univ', 100],\n",
       " 'University of San Diego': ['Univ San Diego', 100],\n",
       " 'University of Virginia-Main Campus': ['Nursing Univ Virginia', 83],\n",
       " 'Bridgewater College': ['Bridgewater Coll', 100],\n",
       " 'Tunxis Community College': ['Tunxis Community Coll', 100],\n",
       " 'Bentley University': ['Bentley Univ', 100],\n",
       " 'California State University-Fullerton': ['Calif State Univ Fullerton', 100],\n",
       " 'South Puget Sound Community College': ['S Puget Sound Community Coll', 100],\n",
       " 'Berklee College of Music': ['Berklee Coll Mus', 95],\n",
       " 'Montgomery County Community College': ['Montgomery Cty Community Coll', 96],\n",
       " 'Bakersfield College': ['Bakersfield Coll', 100],\n",
       " 'West Virginia University at Parkersburg': ['West Virginia State Univ', 82],\n",
       " 'Westmoreland County Community College': ['Southwestern Community Coll', 81],\n",
       " 'The College of Wooster': ['Coll Wooster', 100],\n",
       " 'University of Maryland-Baltimore County': ['Univ Maryland Baltimore County',\n",
       "  100],\n",
       " 'Tennessee Technological University': ['Tennessee Technol Univ', 92],\n",
       " \"Prince George's Community College\": ['Prince George Community Coll', 91],\n",
       " 'Northwest Mississippi Community College': ['Northwest Mississippi Community Coll',\n",
       "  100],\n",
       " 'Eastern Michigan University': ['Eastern Michigan Univ', 100],\n",
       " 'Shoreline Community College': ['Shoreline Community Coll', 100],\n",
       " 'Central Oregon Community College': ['Cent Oregon Community Coll', 95],\n",
       " 'CUNY Hunter College': ['CUNY Hunter coll', 100],\n",
       " 'Copiah-Lincoln Community College': ['Lincoln Land Community Coll', 87],\n",
       " 'University of Southern Mississippi': ['Univ Southern Mississippi', 100],\n",
       " 'Drew University': ['Drew Univ', 100],\n",
       " 'Macalester College': ['Macalester Coll', 100],\n",
       " 'SUNY at Purchase College': ['SUNY Coll Purchase', 100],\n",
       " 'Panola College': ['Dana Coll', 85],\n",
       " 'University of Colorado Colorado Springs': ['Univ Colorado Colorado Springs',\n",
       "  100],\n",
       " 'Gordon College': ['Gordon Coll', 100],\n",
       " 'Utah Valley University': ['Utah Valley Univ', 100],\n",
       " 'Southwest Baptist University': ['Southwest Baptist Univ', 100],\n",
       " 'CUNY Graduate School and University Center': ['CUNY Grad Sch & Univ Ctr',\n",
       "  94],\n",
       " 'City College of San Francisco': ['City Coll San Francisco', 100],\n",
       " 'Wheaton College-Wheaton': ['Wheaton Coll', 79],\n",
       " 'Elizabethtown College': ['Elizabethtown Coll', 100],\n",
       " 'Central Piedmont Community College': ['Piedmont Community Coll', 87],\n",
       " 'Villanova University': ['Villanova Univ', 100],\n",
       " 'Miami University-Oxford': ['Univ Miami Ohio', 86],\n",
       " 'Frank Phillips College': ['Franklin Coll', 79],\n",
       " 'Centralia College': ['Centralia Coll', 100],\n",
       " 'Seattle Central College': ['El Centro Coll', 80],\n",
       " 'SIT Graduate Institute': ['Grad Inst', 78],\n",
       " 'University of Nebraska at Omaha': ['Univ Omaha Nebraska', 100],\n",
       " 'Southern Illinois University-Edwardsville': ['Southern Illinois Univ Edwardsville',\n",
       "  100],\n",
       " 'Southeast Community College Area': ['Southeastern Community Coll', 87],\n",
       " \"Texas Woman's University\": ['Texas Woman Univ', 88],\n",
       " 'Berkeley City College': ['Berkeley City Coll', 100],\n",
       " 'University of California-Merced': ['Univ California Merced', 100],\n",
       " 'Gustavus Adolphus College': ['Gustavus Adolphus Coll', 100],\n",
       " 'Ithaca College': ['Ithaca Coll', 100],\n",
       " 'Fullerton College': ['Fullerton Coll', 100],\n",
       " 'Suffolk County Community College': ['Suffolk Cty Community Coll', 95],\n",
       " 'University of Wisconsin-Platteville': ['Univ Wisconsin Platteville', 100],\n",
       " 'Asbury Theological Seminary': ['Asbury Theol Seminary', 88],\n",
       " 'Riverside City College': ['Riverside City Coll', 100],\n",
       " \"Saint Mary's College of California\": ['St Marys Coll California', 84],\n",
       " 'Pasadena City College': ['Pasadena City Coll', 100],\n",
       " 'Broward College': ['Broward Coll', 100],\n",
       " 'Whittier College': ['Whittier Coll', 100],\n",
       " 'University of Mary Washington': ['Mary Washington Univ', 100],\n",
       " 'University of California-Santa Barbara': ['Univ California Santa Barbara',\n",
       "  100],\n",
       " 'New Orleans Baptist Theological Seminary': ['New Orleans Baptist Theol Seminary',\n",
       "  92],\n",
       " 'CUNY York College': ['City Univ New York York Coll', 100],\n",
       " 'Tulsa Community College': ['Tulsa Community Coll', 100],\n",
       " 'University of Arkansas': ['Univ Arkansas', 100],\n",
       " 'University of California-Riverside': ['UC Riverside', 100],\n",
       " 'Johns Hopkins University': ['Johns & Hopkins Univ', 100],\n",
       " 'San Diego State University': ['San Diego State Univ', 100],\n",
       " 'Georgia Southern University': ['Georgia Southern Univ', 100],\n",
       " 'University of Wisconsin-Parkside': ['Univ Wisconsin Parkside', 100],\n",
       " 'Northern Michigan University': ['No Michigan Univ', 100],\n",
       " 'National Louis University': ['Natl Louis Univ', 100],\n",
       " 'Holy Apostles College and Seminary': ['Baptist Coll Hlth Sci', 66],\n",
       " 'North Central Michigan College': ['Northwestern Michigan Coll', 75],\n",
       " 'Catholic University of America': ['Catholic Univ America', 100],\n",
       " 'Luther College': ['Luther College', 100],\n",
       " 'Barton County Community College': ['Baton Rouge Community Coll', 87],\n",
       " 'Queens University of Charlotte': ['Queens Univ Charlotte', 100],\n",
       " 'Midlands Technical College': ['Midland Coll', 73],\n",
       " 'CUNY Bronx Community College': ['Bronx Community Coll City Univ New York',\n",
       "  100],\n",
       " 'William Carey University': ['William Carey Univ', 100],\n",
       " 'Grays Harbor College': ['Grays Harbor Coll', 100],\n",
       " 'Mississippi College': ['Mississippi Coll', 100],\n",
       " 'Eastern Kentucky University': ['Eastern Kentucky Univ', 100],\n",
       " 'Eastern Washington University': ['Eastern Washington Univ', 100],\n",
       " 'Concordia University-Chicago': ['Concordia Univ Chicago', 100],\n",
       " 'Hobart William Smith Colleges': ['Hobart & William Smith Colleges', 100],\n",
       " 'Mississippi Gulf Coast Community College': ['Gulf Coast Community Coll', 82],\n",
       " 'University of Nebraska-Lincoln': ['Univ Lincoln Nebraska', 100],\n",
       " 'Adams State University': ['Adams State Univ', 100],\n",
       " 'New Mexico Institute of Mining and Technology': ['New Mexico Inst Mining & Technol',\n",
       "  100],\n",
       " 'Victor Valley College': ['Victor Valley Coll', 100],\n",
       " 'Missouri State University-Springfield': ['Missouri State Univ Springfield',\n",
       "  100],\n",
       " 'NorthWest Arkansas Community College': ['Northwest Arkansas Community Coll',\n",
       "  100],\n",
       " 'Chatham University': ['Chatham Univ', 100],\n",
       " 'Chemeketa Community College': ['Chemeketa Community Coll', 100],\n",
       " 'Mesa Community College': ['Mesa Community Coll', 100],\n",
       " 'California State University-Stanislaus': ['Calif State Univ Stanislaus',\n",
       "  100],\n",
       " 'Eastern Connecticut State University': ['Eastern Connecticut State Univ',\n",
       "  100],\n",
       " 'Benedictine College': ['Benedictine Coll', 100],\n",
       " 'Hillsborough Community College': ['Hillsborough Community Coll', 100],\n",
       " 'Vanderbilt University': ['Vanderbilt Univ', 100],\n",
       " 'Northern Kentucky University': ['Northern Kentucky Univ', 100],\n",
       " 'Lincoln University-Oakland': ['Univ NE Lincoln', 85],\n",
       " 'University of Alabama in Huntsville': ['Univ Alabama Huntsville', 95],\n",
       " 'Florida State College at Jacksonville': ['Florida State Coll Jacksonville',\n",
       "  100],\n",
       " 'Raritan Valley Community College': ['Raritan Valley Community Coll', 100],\n",
       " 'Gettysburg College': ['Gettysburg Coll', 100],\n",
       " 'Los Angeles Southwest College': ['West Los Angeles Coll', 91],\n",
       " 'Central New Mexico Community College': ['Cent New Mexico Community Coll',\n",
       "  96],\n",
       " 'Edmonds Community College': ['Edmonds Community Coll', 100],\n",
       " 'Naugatuck Valley Community College': ['Mohawk Valley Community Coll', 83],\n",
       " 'William Rainey Harper College': ['William Rainey Harper Coll', 100],\n",
       " 'Cape Fear Community College': ['Cape Fear Community Coll', 100],\n",
       " 'Delta State University': ['Delta State Univ', 100],\n",
       " 'University of Baltimore': ['Univ Baltimore', 100],\n",
       " 'Baylor University': ['Baylor Univ', 100],\n",
       " 'Walden University': ['Walden Univ', 100],\n",
       " 'United States Naval Academy': ['United States Naval Acad', 94],\n",
       " 'High Point University': ['High Point Univ', 100],\n",
       " 'University of Wisconsin Colleges': ['Univ Wisconsin Coll', 98],\n",
       " 'Regent University': ['Regent Univ', 100],\n",
       " 'Radford University': ['Radford Univ', 100],\n",
       " 'West Chester University of Pennsylvania': ['West Chester Univ Pennsylvania',\n",
       "  100],\n",
       " 'Southwestern University': ['Southwestern Univ', 100],\n",
       " 'Community College of Vermont': ['Piedmont Community Coll', 90],\n",
       " 'Rhode Island School of Design': ['Rhode Isl Sch Design', 87],\n",
       " 'CUNY Bernard M Baruch College': ['CUNY Bernard M Baruch Coll', 100],\n",
       " 'Washtenaw Community College': ['Washtenaw Community Coll', 100],\n",
       " 'Chapman University': ['Chapman Univ', 100],\n",
       " 'University of Dayton': ['Univ dayton', 100],\n",
       " 'Institute for Clinical Social Work': ['Western Psychiat Inst & Clin', 72],\n",
       " 'Tompkins Cortland Community College': ['Portland Community Coll', 82],\n",
       " 'Vanguard University of Southern California': ['Univ Southern Calif USC', 88],\n",
       " 'Juniata College': ['Juniata Coll', 100],\n",
       " 'Morehouse College': ['Morehouse Coll', 100],\n",
       " 'Lake-Sumter State College': ['Lake Reg State Coll', 77],\n",
       " \"Saint Mary's College\": ['Coll Southern Maryland', 82],\n",
       " 'California State University-Northridge': ['Calif State Univ Northridge',\n",
       "  100],\n",
       " 'Thomas Nelson Community College': ['NE Texas Community Coll', 84],\n",
       " 'Southern Connecticut State University': ['So Connecticut State Univ', 100],\n",
       " 'Union County College': ['Union Cty Coll', 92],\n",
       " 'Hendrix College': ['Hendrix Coll', 100],\n",
       " 'Mercyhurst University': ['Mercyhurst Univ', 100],\n",
       " 'Des Moines University-Osteopathic Medical Center': ['Des Moines Univ Osteopath Med Ctr',\n",
       "  98],\n",
       " 'Rutgers University-Camden': ['Rutgers Univ Camden', 100],\n",
       " 'Missouri University of Science and Technology': ['Missouri Univ Sci & technol',\n",
       "  100],\n",
       " 'Wichita State University': ['Wichita State Univ', 100],\n",
       " 'College of the Holy Cross': ['Coll Holy Cross', 100],\n",
       " 'Cumberland County College': ['Cumberland Cty Coll', 94],\n",
       " 'University of North Alabama': ['Univ North Alabama', 100],\n",
       " 'Providence College': ['Providence Coll', 100],\n",
       " 'University of Wisconsin-Green Bay': ['Univ Wisconsin Green Bay', 100],\n",
       " 'University of Delaware': ['Univ Delaware', 100],\n",
       " 'Columbia International University': ['Columbia Univ Neurol', 85],\n",
       " 'Ferris State University': ['Ferris State Univ', 100],\n",
       " 'University of Wisconsin-La Crosse': ['Univ La Crosse Wisconsin', 100],\n",
       " 'Tarleton State University': ['Tarleton State Univ', 100],\n",
       " 'University of Minnesota-Duluth': ['Univ Minnesota Duluth', 100],\n",
       " 'Northwest Missouri State University': ['NW Missouri State Univ', 96],\n",
       " 'Lipscomb University': ['Lipscomb Univ', 100],\n",
       " 'Passaic County Community College': ['Passaic Cty Community Coll', 95],\n",
       " 'Long Beach City College': ['Long Beach City Coll', 100],\n",
       " 'Lyndon State College': ['Lyndon State Coll', 100],\n",
       " 'Mesabi Range College': ['Mesa State Coll', 79],\n",
       " 'CUNY Brooklyn College': ['Brooklyn Coll City Univ New York', 100],\n",
       " 'Normandale Community College': ['Normandale Community Coll', 100],\n",
       " 'CUNY Queens College': ['Queens Coll City Univ New York', 100],\n",
       " 'University of Central Missouri': ['Univ Cent Missouri', 94],\n",
       " 'Rowan College at Gloucester County': ['Rowan Coll Gloucester Cty', 95],\n",
       " 'Clackamas Community College': ['Clackamas Community Coll', 100],\n",
       " 'University of La Verne': ['Univ La Verne', 100],\n",
       " 'East Los Angeles College': ['East Los Angeles Coll', 100],\n",
       " 'John Brown University': ['John Brown Univ', 100],\n",
       " 'University of New England': ['Univ New England', 100],\n",
       " 'Cowley County Community College': ['Turtle Mt Community Coll', 82],\n",
       " 'Rainy River Community College': ['Green River Community Coll', 90],\n",
       " 'South Dakota State University': ['South Dakota State Univ', 100],\n",
       " 'La Roche College': ['La Roche Coll', 100],\n",
       " 'Point Park University': ['Point Pk Univ', 100],\n",
       " 'Furman University': ['Furman Univ', 100],\n",
       " 'SUNY College at Oswego': ['SUNY Coll Oswego', 100],\n",
       " 'Big Bend Community College': ['Bergen Community Coll', 84],\n",
       " 'Gannon University': ['Gannon Univ', 100],\n",
       " 'Stevens Institute of Technology': ['Stevens Inst Technol', 100],\n",
       " 'Texas Wesleyan University': ['Texas Wesleyan Univ', 100],\n",
       " 'SUNY Buffalo State': ['State Univ New York Buffalo State', 100],\n",
       " 'CUNY Kingsborough Community College': ['Kingsborough Community Coll CUNY',\n",
       "  100],\n",
       " 'South Seattle College': ['Coll Eastern Utah', 78],\n",
       " 'Wright State University-Main Campus': ['NC State Univ Campus', 82],\n",
       " 'Augustana College-Rock Island': ['Augustana Coll SD', 82],\n",
       " 'Ohlone College': ['Ohlone Coll', 100],\n",
       " 'Cleveland State Community College': ['Cleveland State Community Coll', 100],\n",
       " 'Adrian College': ['Adrian Coll', 100],\n",
       " 'Columbus State Community College': ['Columbus State Community Coll', 100],\n",
       " 'Lewis-Clark State College': ['Lewis & Clark State Coll', 100],\n",
       " 'California State University-San Bernardino': ['Calif State Univ San Bernardino',\n",
       "  100],\n",
       " 'College of the Siskiyous': ['Coll Siskiyous', 100],\n",
       " 'Northeast Alabama Community College': ['Northwest Arkansas Community Coll',\n",
       "  85],\n",
       " 'Wheaton College-Norton': ['Wheaton Coll', 81],\n",
       " 'Wharton County Junior College': ['Wharton Cty Jr Coll', 95],\n",
       " 'Shepherd University': ['Shepherd Univ', 100],\n",
       " 'CUNY New York City College of Technology': ['New York City Coll Technol CUNY',\n",
       "  100],\n",
       " 'Hawaii Pacific University': ['Hawaii Pacific Univ', 100],\n",
       " 'Amberton University': ['Cameron Univ', 92],\n",
       " 'Pacific Lutheran University': ['Pacific Lutheran Univ', 100],\n",
       " 'College of Western Idaho': ['Coll Western Idaho', 100],\n",
       " 'Stetson University': ['Stetson Univ', 100],\n",
       " 'Illinois Institute of Technology': ['Illinois Inst Technol', 100],\n",
       " 'Richland Community College': ['Richmond Community Coll', 92],\n",
       " 'Notre Dame de Namur University': ['Notre Dame de Namur Univ', 100],\n",
       " 'California State University-Dominguez Hills': ['Calif State Univ Dominguez Hills',\n",
       "  100],\n",
       " 'University of Hartford': ['Univ Hartford', 100],\n",
       " 'Troy University': ['Troy Univ', 100],\n",
       " 'Monmouth University': ['Univ Monmouth', 100],\n",
       " 'California State University-Bakersfield': ['Calif State Univ Bakersfield',\n",
       "  100],\n",
       " 'Cedarville University': ['Cedarville Univ', 100],\n",
       " 'Occidental College': ['Occidental Coll', 100],\n",
       " 'Lawrence University': ['Lawrence Univ', 100],\n",
       " 'The College of New Jersey': ['Coll New jersey', 100],\n",
       " 'Community College of Rhode Island': ['Community Coll Rhode Isalnd', 97],\n",
       " 'Western Wyoming Community College': ['Western Wyoming Community Coll', 100],\n",
       " 'Des Moines Area Community College': ['Des Moines Community Coll', 92],\n",
       " \"Saint Joseph's College of Maine\": ['St Josephs Coll Maine', 82],\n",
       " 'Wellesley College': ['Wellesley Coll', 100],\n",
       " 'Swarthmore College': ['Swarthmore Coll', 100],\n",
       " 'Bloomsburg University of Pennsylvania': ['Bloomsburg Univ Penn', 100],\n",
       " 'Wor-Wic Community College': ['Windward Community Coll', 86],\n",
       " 'Blue Ridge Community and Technical College': ['Bluegrass Community & Tech Coll',\n",
       "  77],\n",
       " 'The Lincoln University': ['Lincoln Univ', 100],\n",
       " 'Butler Community College': ['Butler Community Coll', 100],\n",
       " 'Wilson College': ['Wilson Coll', 100],\n",
       " 'Randolph-Macon College': ['Randolph Macon Coll', 100],\n",
       " 'Eastern Florida State College': ['Eastern Florida State Coll', 100],\n",
       " 'Colgate University': ['Colgate Univ', 100],\n",
       " 'Bellevue University': ['Bellevue Univ', 100],\n",
       " 'Colorado School of Mines': ['Colorado Sch Mines', 92],\n",
       " 'Philadelphia University': ['Univ Philadelphia', 100],\n",
       " 'Mott Community College': ['Mott Community Coll', 100],\n",
       " 'University of California-Davis': ['Univ Calif,Davis', 100],\n",
       " 'Austin Peay State University': ['Austin Peay State Univ', 100],\n",
       " 'New Jersey City University': ['New Jersey City Univ', 100],\n",
       " 'Hood College': ['Hood Coll', 100],\n",
       " 'Lorain County Community College': ['Lorain Cty Community Coll', 95],\n",
       " 'Savannah College of Art and Design': ['Savannah Coll Art & Design', 100],\n",
       " 'Ramapo College of New Jersey': ['Rampo Coll New Jersey', 98],\n",
       " 'Blue Mountain Community College': ['Mott Community Coll', 79],\n",
       " 'Duquesne University': ['Duquesne Univ', 100],\n",
       " 'Northland College': ['Northland Coll', 100],\n",
       " 'Evangel University': ['Evangel Univ', 100],\n",
       " 'Seton Hall University': ['Seton Hall Univ', 100],\n",
       " 'Brigham Young University-Idaho': ['Brigham Young Univ Idaho', 100],\n",
       " 'East Central Community College': ['East Cent Community Coll', 95],\n",
       " 'Mansfield University of Pennsylvania': ['Mansfield Univ Penn', 100],\n",
       " 'Hibbing Community College': ['Kings Community Coll', 88],\n",
       " 'The University of Tampa': ['Univ Tampa', 100],\n",
       " 'Sewanee-The University of the South': ['Univ South Sewanee', 100],\n",
       " 'Christopher Newport University': ['Christopher Newport Univ', 100],\n",
       " 'Point University': ['Point Univ', 100],\n",
       " 'University of Alaska Anchorage': ['Univ Alaska Anchorage', 100],\n",
       " 'Mt San Jacinto Community College District': ['Estrella Mt Community Coll',\n",
       "  74],\n",
       " 'Ball State University': ['Ball State Univ', 100],\n",
       " 'University of Illinois at Springfield': ['Univ Illinois Springfield', 100],\n",
       " 'Manhattan College': ['Manhattan Coll', 100],\n",
       " 'Indiana State University': ['Indiana State Univ', 100],\n",
       " 'Lanier Technical College': ['Lerner Coll Med', 78],\n",
       " 'Warren Wilson College': ['Warren Wilson Coll', 100],\n",
       " 'Tidewater Community College': ['Tidewater Community Coll', 100],\n",
       " 'Minnesota State University-Mankato': ['Minnesota State Univ Mankato', 100],\n",
       " 'Dakota County Technical College': ['Delaware Tech Community Coll', 74],\n",
       " 'University of North Dakota': ['Univ North Dakota', 100],\n",
       " 'Towson University': ['Univ Towson', 100],\n",
       " 'The University of West Florida': ['Univ West Florida', 100],\n",
       " 'Wartburg College': ['Wartburg Coll', 100],\n",
       " 'Oklahoma City University': ['Oklahoma City Univ', 100],\n",
       " 'Saint Louis University': ['Saint Louis Univ', 100],\n",
       " 'St Olaf College': ['St Olaf Coll', 100],\n",
       " 'Sacred Heart University': ['Sacred Heart Univ', 100],\n",
       " 'Monroe Community College': ['Monroe Cty Community Coll', 92],\n",
       " 'Franklin and Marshall College': ['Franklin Marshall Coll', 100],\n",
       " 'Wentworth Institute of Technology': ['Wentworth Inst Technol', 100],\n",
       " 'Truman State University': ['Truman State Univ', 100],\n",
       " 'Bucks County Community College': ['Bucks Cty Community Coll', 95],\n",
       " 'Cuyamaca College': ['Coll Humacao', 84],\n",
       " 'The University of Tennessee-Martin': ['Univ Tennessee Martin', 100],\n",
       " 'Massachusetts School of Law': ['Woods Hole Massachusetts', 75],\n",
       " 'Eastern New Mexico University-Main Campus': ['Eastern Univ New Mexico', 83],\n",
       " 'North Georgia Technical College': ['N Georgia Coll', 81],\n",
       " 'Iowa Western Community College': ['Iowa Western Community Coll', 100],\n",
       " 'SUNY College of Environmental Science and Forestry': ['State Univ New York Coll Environm Sci & Forestry',\n",
       "  96],\n",
       " 'School of the Art Institute of Chicago': ['Sch Art Inst Chicago', 94],\n",
       " 'Shelton State Community College': ['NE State Community Coll', 88],\n",
       " 'Hanover College': ['Hanover Coll', 100],\n",
       " 'Dordt College': ['Dordt Coll', 100],\n",
       " 'Jacksonville State University': ['Jacksonville State Univ', 100],\n",
       " 'Wabash College': ['Wabash Coll', 100],\n",
       " 'Central Connecticut State University': ['Cent Connecticut State Univ', 96],\n",
       " 'SUNY Oneonta': ['SUNY Coll Oneonta', 89],\n",
       " 'Metropolitan State University of Denver': ['Metropolitan State Univ Denver',\n",
       "  100],\n",
       " 'Florida Keys Community College': ['Florida Keys Community Coll', 100],\n",
       " 'Bowdoin College': ['Bowdoin Coll', 100],\n",
       " 'Abraham Baldwin Agricultural College': ['Abraham Baldwin Agr Coll', 86],\n",
       " 'Temple College': ['Temple Coll', 100],\n",
       " 'Madison Area Technical College': ['Madison Area Tech Coll', 91],\n",
       " 'Minot State University': ['Minot State Univ', 100],\n",
       " 'Bowling Green State University-Main Campus': ['Bowling Green Ohio State Univ',\n",
       "  83],\n",
       " 'University of Houston-Downtown': ['Univ Houston Downtown', 100],\n",
       " 'State College of Florida-Manatee-Sarasota': ['Northwest Florida State Coll',\n",
       "  78],\n",
       " 'San Jacinto Community College': ['Oakton Community Coll', 83],\n",
       " 'Academy of Art University': ['Acad Art Univ', 93],\n",
       " 'Danville Area Community College': ['Danville Area Community Coll', 100],\n",
       " 'Frostburg State University': ['Frostburg State Univ', 100],\n",
       " 'Ashland University': ['Ashland Univ', 100],\n",
       " 'Winona State University': ['Winona State Univ', 100],\n",
       " 'Eastern Oregon University': ['Eastern Oregon Univ', 100],\n",
       " 'Hartwick College': ['Hartwick Coll', 100],\n",
       " 'Cisco College': ['Cisco Coll', 100],\n",
       " 'Phoenix College': ['Phoenix Coll', 100],\n",
       " 'University of Rio Grande': ['Grande Rio Univ', 100],\n",
       " 'Rose State College': ['Rose State Coll', 100],\n",
       " 'University of Bridgeport': ['Univ Bridgeport', 100],\n",
       " 'Canada College': ['Canada Coll', 100],\n",
       " 'University of the Incarnate Word': ['Incarnate Word Univ', 100],\n",
       " 'Southern University and A & M College': ['So Univ & A & M Coll', 100],\n",
       " 'Northeast State Community College': ['N Seattle Community Coll', 88],\n",
       " 'Bristol Community College': ['Bristol Community Coll', 100],\n",
       " 'Highline College': ['Ohlone Coll', 80],\n",
       " 'Oregon Health & Science University': ['Oregon Heath Sci Univ', 98],\n",
       " 'University of Washington-Bothell Campus': ['Univ Washington Bothell', 89],\n",
       " 'Motlow State Community College': ['Motlow State Community Coll', 100],\n",
       " 'Merced College': ['Mercy Coll', 89],\n",
       " 'Massachusetts College of Art and Design': ['Massachusetts Coll Art & Design',\n",
       "  100],\n",
       " 'Amherst College': ['Amherst Coll', 100],\n",
       " 'University of Science and Arts of Oklahoma': ['Univ Sci & Arts Oklahoma',\n",
       "  100],\n",
       " 'Auburn University at Montgomery': ['Univ Montgomery', 86],\n",
       " 'Case Western Reserve University': ['Case Western Reserve Univ', 100],\n",
       " 'Los Angeles City College': ['Los Angeles City Coll', 100],\n",
       " 'Navarro College': ['Naval War Coll', 81],\n",
       " 'Mt San Antonio College': ['Mt San Antonio Coll', 100],\n",
       " 'Framingham State University': ['Framingham State Univ', 100],\n",
       " 'Skidmore College': ['Skidmore Coll', 100],\n",
       " 'University of Nebraska Medical Center': ['Univ Nebraska Med Ctr', 100],\n",
       " 'Seattle Pacific University': ['Seattle Pacific Univ', 100],\n",
       " 'Slippery Rock University of Pennsylvania': ['Slippery Rock Univ Penn', 100],\n",
       " 'Piedmont Technical College': ['Piedmont Coll', 76],\n",
       " 'Westminster College-Salt Lake City': ['Westminster Coll', 72],\n",
       " 'University of Saint Francis-Fort Wayne': ['St Francis Xavier Univ', 76],\n",
       " 'Clatsop Community College': ['Cloud Community Coll', 88],\n",
       " 'Virginia Wesleyan College': ['Virginia Wesleyan Coll', 100],\n",
       " 'Los Angeles Harbor College': ['East Los Angeles Coll', 84],\n",
       " 'San Jose City College': ['San Jose City Coll', 100],\n",
       " 'Community College of Denver': ['Community Coll Denver', 100],\n",
       " 'Chabot College': ['Chabot Coll', 100],\n",
       " 'St. Thomas Aquinas College': ['St Thomas Aquinas Coll', 100],\n",
       " 'Concord University': ['Concord Univ', 100],\n",
       " 'Arcadia University': ['Arcadia Univ', 100],\n",
       " 'Seton Hill University': ['Univ Seton Hill', 100],\n",
       " 'Union College-Barbourville': ['Bourns Coll Engn', 67],\n",
       " 'Wayne State College': ['Wayne State Coll', 100],\n",
       " 'Brigham Young University-Hawaii': ['Brigham Young Univ Hawaii', 100],\n",
       " 'McMurry University': ['McMurry Univ', 100],\n",
       " 'Canisius College': ['Canisius Coll', 100],\n",
       " 'Ocean County College': ['Ocean Cty Coll', 92],\n",
       " 'Fayetteville Technical Community College': ['Fayetteville Tech Community Coll',\n",
       "  93],\n",
       " 'University of St Thomas-Saint Paul': ['Univ St Thomas Houston', 81],\n",
       " 'Macomb Community College': ['Macomb Community Coll', 100],\n",
       " 'South Georgia Technical College': ['Georgia So Coll', 84],\n",
       " 'Cornish College of the Arts': ['Cornish Coll Arts', 100],\n",
       " 'Huntingdon College': ['Huntingdon Coll', 100],\n",
       " 'New River Community College': ['New River Community Coll', 100],\n",
       " 'Hartnell College': ['Hartnell Coll', 100],\n",
       " 'Clarion University of Pennsylvania': ['Clarion Univ Pennsylvania', 100],\n",
       " 'Texas A & M University-Texarkana': ['Texas A&M Univ Texarkana', 98],\n",
       " 'Lafayette College': ['Lafayette Coll', 100],\n",
       " 'Edison State Community College': ['NE State Community Coll', 89],\n",
       " 'North Carolina Central University': ['N Carolina Cent Univ', 95],\n",
       " 'Union College-Schenectady': ['Union Cty Coll', 81],\n",
       " 'Southeastern Louisiana University': ['Southeastern Louisiana Univ', 100],\n",
       " 'Upper Iowa University': ['Upper Iowa Univ', 100],\n",
       " 'Christian Brothers University': ['Christian Brothers Univ', 100],\n",
       " 'Kankakee Community College': ['Kankakee Community Coll', 100],\n",
       " 'Dalton State College': ['Dalton State Coll', 100],\n",
       " 'St Thomas University': ['St Thomas Univ', 100],\n",
       " 'Louisville Presbyterian Theological Seminary': ['Lutheran Theol Seminary',\n",
       "  66],\n",
       " 'Bucknell University': ['Bucknell Univ', 100],\n",
       " 'University of the District of Columbia': ['Univ District Columbia', 100],\n",
       " 'College of Central Florida': ['El Centro Coll', 75],\n",
       " 'Miami Dade College': ['Miami Dade Coll', 100],\n",
       " 'Kansas State University': ['Kansas State Univ', 100],\n",
       " 'Allegheny College': ['Allegheny Coll', 100],\n",
       " 'Southeastern Oklahoma State University': ['Southeastern Oklahoma State Univ',\n",
       "  100],\n",
       " 'Lower Columbia College': ['Lower Columbia Coll', 100],\n",
       " 'Tuskegee University': ['Tuskegee Univ', 100],\n",
       " 'Texas A & M University-Corpus Christi': ['Texas A& M Univ Corpus Christi',\n",
       "  100],\n",
       " 'Houston Baptist University': ['Houston Baptist Univ', 100],\n",
       " 'Dominican University': ['Dominican Univ', 100],\n",
       " 'Siena College': ['Siena College', 100],\n",
       " 'Peru State College': ['Peru State Coll', 100],\n",
       " 'Elmhurst College': ['Elmhurst Coll', 100],\n",
       " 'University of North Texas Health Science Center': ['Univ North Texas Hlth Sci Ctr',\n",
       "  98],\n",
       " 'Lancaster Bible College': ['Manchaester Coll', 76],\n",
       " 'Essex County College': ['Essex Cty Coll', 92],\n",
       " 'Northwestern State University of Louisiana': ['NW State Univ Louisiana',\n",
       "  100],\n",
       " 'Arkansas State University-Main Campus': ['Arizona State Univ Main Campus',\n",
       "  88],\n",
       " 'Olympic College': ['Olymp Coll', 93],\n",
       " 'Three Rivers Community College-Norwich': ['Three Rivers Community Coll', 88],\n",
       " 'Alabama Southern Community College': ['South Arkansas Community Coll', 82],\n",
       " 'Waukesha County Technical College': ['Wake Tech Community Coll', 80],\n",
       " 'Anna Maria College': ['Maria Coll', 84],\n",
       " 'Cerritos College': ['Cerritos Coll', 100],\n",
       " 'Parkland College': ['Parkland Coll', 100],\n",
       " 'Spartanburg Community College': ['Spartanburg Community Coll', 100],\n",
       " 'Southwest Mississippi Community College': ['Northwest Mississippi Community Coll',\n",
       "  95],\n",
       " 'Bridgewater State University': ['Bridgewater State Univ', 100],\n",
       " 'Ursinus College': ['Ursinus Coll', 100],\n",
       " 'Jefferson State Community College': ['Jefferson Community & Tech Coll', 92],\n",
       " 'Delta College': ['Delta Coll', 100],\n",
       " 'California State University-East Bay': ['Calif State Univ East Bay', 100],\n",
       " \"Saint Michael's College\": ['St Michaels Coll', 78],\n",
       " 'Redlands Community College': ['Redlands Community Coll', 100],\n",
       " 'Fond du Lac Tribal and Community College': ['Florida Community Coll', 75],\n",
       " 'Westminster College-Fulton': ['Westminster Coll', 84],\n",
       " 'Ave Maria University': ['Ave Maria Univ', 100],\n",
       " 'University of Detroit Mercy': ['Univ Detroit Mercy', 100],\n",
       " 'Bradley University': ['Bradley Univ', 100],\n",
       " 'Merritt College': ['Merritt Coll', 100],\n",
       " 'Post University': ['Post Univ', 100],\n",
       " 'Los Angeles Trade Technical College': ['Los Angeles Pierce Coll', 75],\n",
       " 'Scottsdale Community College': ['Scottsdale Community Coll', 100],\n",
       " 'Washburn University': ['Washburn Univ', 100],\n",
       " 'Alfred University': ['Alfred Univ', 100],\n",
       " 'Kirkwood Community College': ['Kirkwood Community Coll', 100],\n",
       " 'Joliet Junior College': ['Joliet Jr Coll', 100],\n",
       " 'Johnson County Community College': ['Johnson Cty Community College', 95],\n",
       " 'Montclair State University': ['Montclair State Univ', 100],\n",
       " ...}"
      ]
     },
     "execution_count": 25,
     "metadata": {},
     "output_type": "execute_result"
    }
   ],
   "source": [
    "teaching_to_research"
   ]
  },
  {
   "cell_type": "code",
   "execution_count": 26,
   "metadata": {},
   "outputs": [],
   "source": [
    "teaching_to_research_match = {}"
   ]
  },
  {
   "cell_type": "code",
   "execution_count": 27,
   "metadata": {},
   "outputs": [],
   "source": [
    "for teach_org in teaching_to_research:\n",
    "    if teaching_to_research[teach_org][1] > 90:\n",
    "        teaching_to_research_match[teach_org] = teaching_to_research[teach_org][0]"
   ]
  },
  {
   "cell_type": "code",
   "execution_count": 28,
   "metadata": {},
   "outputs": [],
   "source": [
    "teaching_to_research_match['University of California-Berkeley'] = 'Univ Calif Berkeley'"
   ]
  },
  {
   "cell_type": "code",
   "execution_count": 29,
   "metadata": {},
   "outputs": [],
   "source": [
    "teaching_to_research_match['University of Washington-Seattle Campus'] = 'Univ Washington'"
   ]
  },
  {
   "cell_type": "code",
   "execution_count": 30,
   "metadata": {},
   "outputs": [],
   "source": [
    "teaching_to_research_match['Georgia Institute of Technology-Main Campus'] = 'Georgia Tech'"
   ]
  },
  {
   "cell_type": "code",
   "execution_count": 31,
   "metadata": {},
   "outputs": [],
   "source": [
    "teaching_to_research_match['University of Pittsburgh-Pittsburgh Campus'] = 'Univ Pittsburgh'"
   ]
  },
  {
   "cell_type": "code",
   "execution_count": 32,
   "metadata": {},
   "outputs": [],
   "source": [
    "teaching_to_research_match['Ohio State University-Main Campus'] = 'Ohio State Univ'"
   ]
  },
  {
   "cell_type": "code",
   "execution_count": 33,
   "metadata": {},
   "outputs": [],
   "source": [
    "teaching_to_research_match['Texas A & M University-College Station'] = 'Texas A&M Univ'"
   ]
  },
  {
   "cell_type": "code",
   "execution_count": 34,
   "metadata": {},
   "outputs": [
    {
     "data": {
      "text/plain": [
       "1583"
      ]
     },
     "execution_count": 34,
     "metadata": {},
     "output_type": "execute_result"
    }
   ],
   "source": [
    "len(teaching_to_research_match)"
   ]
  },
  {
   "cell_type": "code",
   "execution_count": 35,
   "metadata": {},
   "outputs": [],
   "source": [
    "research_to_teaching_match = dict((v, k) for k, v in teaching_to_research_match.items())"
   ]
  },
  {
   "cell_type": "markdown",
   "metadata": {},
   "source": [
    "### angles\n",
    "\n",
    "Our vectors come with three different kinds of information - the mean, the variance, and the number of articles used to create these metrics. One basic tool of analysis we can use is to create angles of difference to measure similarities. This section will contain methods to generate these angles, as well as functions to find most and least similar institutions. "
   ]
  },
  {
   "cell_type": "code",
   "execution_count": 36,
   "metadata": {},
   "outputs": [],
   "source": [
    "def unit_vector(vector):\n",
    "    \"\"\" Returns the unit vector of the vector.  \"\"\"\n",
    "    return vector / np.linalg.norm(vector)"
   ]
  },
  {
   "cell_type": "code",
   "execution_count": 37,
   "metadata": {},
   "outputs": [],
   "source": [
    "def angle_between(v1, v2):\n",
    "    \"\"\" Returns the angle in radians between vectors 'v1' and 'v2'::\n",
    "\n",
    "            >>> angle_between((1, 0, 0), (0, 1, 0))\n",
    "            1.5707963267948966\n",
    "            >>> angle_between((1, 0, 0), (1, 0, 0))\n",
    "            0.0\n",
    "            >>> angle_between((1, 0, 0), (-1, 0, 0))\n",
    "            3.141592653589793\n",
    "    \"\"\"\n",
    "    if v1 is None or v2 is None:\n",
    "        return (None, None)\n",
    "    v1_u = unit_vector(v1)\n",
    "    v2_u = unit_vector(v2)\n",
    "    cos = np.clip(np.dot(v1_u, v2_u), -1.0, 1.0)\n",
    "    return np.arccos(cos)*57.2958 , cos"
   ]
  },
  {
   "cell_type": "code",
   "execution_count": 38,
   "metadata": {},
   "outputs": [],
   "source": [
    "def find_similar(name, dictionary, n=5, reverse=False):\n",
    "    angles = {}\n",
    "    for entity in dictionary:\n",
    "        if entity != name:\n",
    "            angles[entity] = round(angle_between(dictionary[entity][0], dictionary[name][0])[0], 3)\n",
    "    \n",
    "    sorted_n = sorted(angles.items(), key=operator.itemgetter(1))\n",
    "    if not reverse:\n",
    "        return(sorted_n[0:n])\n",
    "    if reverse:\n",
    "        sorted_n.reverse()\n",
    "        return(sorted_n[0:n])"
   ]
  },
  {
   "cell_type": "code",
   "execution_count": 39,
   "metadata": {},
   "outputs": [
    {
     "data": {
      "text/plain": [
       "[('New York', 3.982),\n",
       " ('Philadelphia', 4.595),\n",
       " ('Los Angeles', 4.663),\n",
       " ('Pittsburgh', 4.825),\n",
       " ('Durham', 5.295),\n",
       " ('St Louis', 5.348),\n",
       " ('Iowa City', 5.662),\n",
       " ('Milwaukee', 5.945),\n",
       " ('New Haven', 5.978),\n",
       " ('Baltimore', 6.006)]"
      ]
     },
     "execution_count": 39,
     "metadata": {},
     "output_type": "execute_result"
    }
   ],
   "source": [
    "find_similar(\"Chicago\", research_cities, n=10)"
   ]
  },
  {
   "cell_type": "code",
   "execution_count": 40,
   "metadata": {},
   "outputs": [
    {
     "data": {
      "text/plain": [
       "[('Univ Virginia', 6.973),\n",
       " ('Stanford Univ', 6.974),\n",
       " ('Univ Michigan', 7.263),\n",
       " ('Indiana Univ', 7.827),\n",
       " ('Yale Univ', 8.0),\n",
       " ('Univ Calif Los Angeles', 8.004),\n",
       " ('Univ Calif Irvine', 8.233),\n",
       " ('Ohio State Univ', 8.34),\n",
       " ('Univ Rochester', 8.367),\n",
       " ('Univ Utah', 8.429)]"
      ]
     },
     "execution_count": 40,
     "metadata": {},
     "output_type": "execute_result"
    }
   ],
   "source": [
    "find_similar(\"Univ Chicago\", research_orgs, n=10)"
   ]
  },
  {
   "cell_type": "markdown",
   "metadata": {},
   "source": [
    "## visualisation tools\n",
    "\n",
    "We will use the angles and vectors to create visualisations to better understand how the cities or institutions relate."
   ]
  },
  {
   "cell_type": "code",
   "execution_count": 41,
   "metadata": {},
   "outputs": [],
   "source": [
    "import random\n",
    "import numpy as np\n",
    "import matplotlib.pyplot as plt"
   ]
  },
  {
   "cell_type": "code",
   "execution_count": 42,
   "metadata": {},
   "outputs": [],
   "source": [
    "def create_heatmap(matrix, names_0, names_1, kind, title=\"HEATMAP\", figsize=(7, 7)):\n",
    "    angles = np.zeros((len(names_0), len(names_1)))\n",
    "    for i, name_0 in enumerate(names_0):\n",
    "        for j, name_1 in enumerate(names_1):\n",
    "            if name_0 is not name_1:\n",
    "                angles[i][j] = np.around(eval(matrix[repr((name_0, name_1))])[kind], decimals=1)\n",
    "\n",
    "    fig, ax = plt.subplots(figsize=figsize)\n",
    "    im = ax.imshow(angles)\n",
    "    \n",
    "    ax.set_xticks(np.arange(len(names_0)))\n",
    "    ax.set_yticks(np.arange(len(names_1)))\n",
    "    \n",
    "    ax.set_xticklabels(names_0)\n",
    "    ax.set_yticklabels(names_1)\n",
    "    \n",
    "    plt.setp(ax.get_xticklabels(), rotation=45, ha=\"right\", rotation_mode=\"anchor\")\n",
    "    \n",
    "    for i in range(len(names_0)):\n",
    "        for j in range(len(names_1)):\n",
    "            text = ax.text(j, i, angles[i, j], ha=\"center\", va=\"center\", color=\"w\")\n",
    "    \n",
    "    ax.set_title(title)\n",
    "    fig.tight_layout()\n",
    "    plt.show()\n",
    "    "
   ]
  },
  {
   "cell_type": "code",
   "execution_count": 43,
   "metadata": {},
   "outputs": [],
   "source": [
    "names_0 = []\n",
    "names_1 = []"
   ]
  },
  {
   "cell_type": "code",
   "execution_count": 44,
   "metadata": {},
   "outputs": [],
   "source": [
    "with open('../saved_data_structures/org_angles_between.txt', 'r') as file:\n",
    "    org_angles_between = (json.load(file))"
   ]
  },
  {
   "cell_type": "code",
   "execution_count": 45,
   "metadata": {},
   "outputs": [],
   "source": [
    "names = list(org_angles_between.keys())"
   ]
  },
  {
   "cell_type": "code",
   "execution_count": 46,
   "metadata": {},
   "outputs": [],
   "source": [
    "names_0, names_1 = [], []\n",
    "for name_ in random.sample(names, 7):\n",
    "    name_0, name_1 = eval(name_)\n",
    "    names_0.append(name_0)\n",
    "    names_1.append(name_1)"
   ]
  },
  {
   "cell_type": "code",
   "execution_count": 47,
   "metadata": {},
   "outputs": [],
   "source": [
    "names_1.append('Harvard University')"
   ]
  },
  {
   "cell_type": "code",
   "execution_count": 48,
   "metadata": {},
   "outputs": [],
   "source": [
    "names_1.append('University of Chicago')"
   ]
  },
  {
   "cell_type": "code",
   "execution_count": 49,
   "metadata": {},
   "outputs": [],
   "source": [
    "names_1.append('Rice University')"
   ]
  },
  {
   "cell_type": "code",
   "execution_count": 50,
   "metadata": {},
   "outputs": [
    {
     "data": {
      "image/png": "[encoded data removed]",
      "text/plain": [
       "<Figure size 576x576 with 1 Axes>"
      ]
     },
     "metadata": {
      "needs_background": "light"
     },
     "output_type": "display_data"
    }
   ],
   "source": [
    "create_heatmap(org_angles_between, names_1, names_1, 0, \"Angles of Research-Research\", figsize=(8, 8))"
   ]
  },
  {
   "cell_type": "code",
   "execution_count": 51,
   "metadata": {},
   "outputs": [
    {
     "data": {
      "image/png": "[encoded data removed]",
      "text/plain": [
       "<Figure size 576x576 with 1 Axes>"
      ]
     },
     "metadata": {
      "needs_background": "light"
     },
     "output_type": "display_data"
    }
   ],
   "source": [
    "create_heatmap(org_angles_between, names_1, names_1, 3, \"Angles of Teaching-Teaching\", figsize=(8, 8))"
   ]
  },
  {
   "cell_type": "markdown",
   "metadata": {},
   "source": [
    "### tier information\n",
    "\n",
    "We will load tiers so that we can use them to cluster and do tier analysis."
   ]
  },
  {
   "cell_type": "code",
   "execution_count": 52,
   "metadata": {},
   "outputs": [],
   "source": [
    "with open('../saved_data_structures/tiers.txt') as json_file:\n",
    "    tiers = json.load(json_file)"
   ]
  },
  {
   "cell_type": "code",
   "execution_count": 53,
   "metadata": {},
   "outputs": [],
   "source": [
    "tiers['1'].append('Harvard University')"
   ]
  },
  {
   "cell_type": "code",
   "execution_count": 54,
   "metadata": {},
   "outputs": [],
   "source": [
    "with open('../saved_data_structures/tiers_research.txt') as json_file:\n",
    "    tiers_research = json.load(json_file)"
   ]
  },
  {
   "cell_type": "markdown",
   "metadata": {},
   "source": [
    "### clustering\n",
    "\n",
    "We will use the vectors to then cluster and visualise these clusters. "
   ]
  },
  {
   "cell_type": "code",
   "execution_count": 55,
   "metadata": {},
   "outputs": [],
   "source": [
    "from scipy.cluster.vq import kmeans, vq"
   ]
  },
  {
   "cell_type": "code",
   "execution_count": 56,
   "metadata": {},
   "outputs": [],
   "source": [
    "no_clusters = 7"
   ]
  },
  {
   "cell_type": "code",
   "execution_count": 57,
   "metadata": {},
   "outputs": [],
   "source": [
    "def create_clusters_scipy(vector_dict, no_clusters, min_docs=100):\n",
    "    names, vectors = [], []\n",
    "    for name in vector_dict:\n",
    "        vector = vector_dict[name]\n",
    "        if vector[2] > min_docs:\n",
    "            names.append(name)\n",
    "            vectors.append(np.array(vector[0]))\n",
    "    vectors = np.array(vectors)\n",
    "    centroids, _ = kmeans(vectors, no_clusters)\n",
    "    doc_clusters, _ = vq(vectors, centroids)\n",
    "    doc_labels = list(zip(names, doc_clusters))\n",
    "    return doc_labels"
   ]
  },
  {
   "cell_type": "code",
   "execution_count": 58,
   "metadata": {},
   "outputs": [],
   "source": [
    "def in_cluster(entity_labels, label_no):\n",
    "    entities = []\n",
    "    for item_ in entity_labels:\n",
    "        entity, label = item_\n",
    "        if label == label_no:\n",
    "            entities.append(entity)\n",
    "    return entities\n",
    "    "
   ]
  },
  {
   "cell_type": "code",
   "execution_count": 59,
   "metadata": {},
   "outputs": [],
   "source": [
    "clustered_research_orgs = create_clusters_scipy(research_orgs, no_clusters, min_docs=2500)"
   ]
  },
  {
   "cell_type": "code",
   "execution_count": 60,
   "metadata": {},
   "outputs": [
    {
     "name": "stdout",
     "output_type": "stream",
     "text": [
      "81 ['Rutgers State Univ', 'Penn State Univ', 'Univ Houston', 'Univ Toledo', 'Iowa State Univ', 'San Diego State Univ', 'Univ Wisconsin', 'Univ Florida', 'Texas A&M Univ', 'N Carolina State Univ', 'Miami Univ', 'Cornell Univ', 'SUNY Stony Brook', 'Louisiana State Univ', 'Purdue Univ', 'Florida Int Univ', 'Univ Missouri', 'Wright State Univ', 'Michigan State Univ', 'Univ Illinois']\n",
      "61 ['Brigham & Womens Hosp', 'Univ Pittsburgh', 'Baylor Coll Med', 'Med Univ S Carolina', 'Thomas Jefferson Univ', 'Johns Hopkins Univ Hosp', 'Wake Forest Univ', 'Childrens Hosp', 'Rush Univ', 'Loma Linda Univ', 'Mt Sinai Sch Med', 'Mayo Clin', 'Ctr Dis Control & Prevent', 'Oregon Hlth & Sci Univ', 'NHLBI', 'NIH', 'Med Coll Wisconsin', 'Albert Einstein Coll Med', 'Emory Univ', 'Univ Calif San Francisco']\n",
      "14 ['Argonne Natl Lab', 'Natl Inst Stand & Technol', 'NASA', 'USN', 'Univ Calif Santa Cruz', 'Oak Ridge Natl Lab', 'NIST', 'Brookhaven Natl Lab', 'Los Alamos Natl Lab', 'CALTECH', 'Pacific NW Natl Lab', 'Lawrence Livermore Natl Lab', 'Sandia Natl Labs', 'Colorado Sch Mines']\n",
      "56 ['Johns Hopkins Univ', 'Univ Chicago', 'Univ Washington', 'Univ Texas', 'Univ Calif Los Angeles', 'Indiana Univ', 'Georgetown Univ', 'Ohio State Univ', 'Harvard Univ', 'Univ Oklahoma', 'George Washington Univ', 'Boston Univ', 'Univ Massachusetts', 'Duke Univ', 'Univ Minnesota', 'Tulane Univ', 'Univ N Carolina', 'Univ Cincinnati', 'E Carolina Univ', 'Univ Michigan']\n",
      "14 ['Roswell Pk Canc Inst', 'Mem Sloan Kettering Canc Ctr', 'NIAID', 'Scripps Res Inst', 'NCI', 'NIEHS', 'St Jude Childrens Hosp', 'Rockefeller Univ', 'Dana Farber Canc Inst', 'City Hope Natl Med Ctr', 'Fred Hutchinson Canc Res Ctr', 'NIDDK', 'St Jude Childrens Res Hosp', 'Univ Texas MD Anderson Canc Ctr']\n",
      "27 ['Univ Calif Berkeley', 'Univ Notre Dame', 'Univ Cent Florida', 'Univ Calif Santa Barbara', 'Univ Maryland Baltimore Cty', 'MIT', 'Univ Delaware', 'USAF', 'Rice Univ', 'IIT', 'Rensselaer Polytech Inst', 'Princeton Univ', 'Michigan Technol Univ', 'Carnegie Mellon Univ', 'Lehigh Univ', 'New Jersey Inst Technol', 'Georgia Tech', 'CUNY City Coll', 'IBM Corp', 'Worcester Polytech Inst']\n",
      "23 ['US EPA', 'Oregon State Univ', 'USDA ARS', 'Colorado State Univ', 'Univ Wyoming', 'USDA', 'Univ New Hampshire', 'Smithsonian Inst', 'Univ Hawaii', 'Montana State Univ', 'Univ Hawaii Manoa', 'ARS', 'Univ Idaho', 'Univ Alaska Fairbanks', 'US Geol Survey', 'US Forest Serv', 'Woods Hole Oceanog Inst', 'Univ Maine', 'Utah State Univ', 'NOAA']\n"
     ]
    }
   ],
   "source": [
    "for i in range(0, 7):\n",
    "    clust = in_cluster(clustered_research_orgs, i)\n",
    "    print(len(clust), clust[0:20])"
   ]
  },
  {
   "cell_type": "code",
   "execution_count": 61,
   "metadata": {},
   "outputs": [],
   "source": [
    "clustered_research_cities = create_clusters_scipy(research_cities, no_clusters, min_docs=2500)"
   ]
  },
  {
   "cell_type": "code",
   "execution_count": 62,
   "metadata": {},
   "outputs": [
    {
     "name": "stdout",
     "output_type": "stream",
     "text": [
      "44 ['University Pk', 'Normal', 'Stony Brook', 'W Lafayette', 'Dayton', 'Evanston', 'Orlando', 'Austin', 'Kent', 'Irvine', 'Tallahassee', 'San Jose', 'Cambridge', 'Storrs', 'Bloomington', 'Greensboro', 'Newark', 'Medford', 'Denton', 'Norfolk']\n",
      "36 ['Ames', 'College Stn', 'Raleigh', 'Oxford', 'Ithaca', 'Baton Rouge', 'E Lansing', 'Tucson', 'Athens', 'Clemson', 'Davis', 'Riverside', 'Laramie', 'Mississippi State', 'Lincoln', 'Blacksburg', 'Knoxville', 'Boise', 'Honolulu', 'Norman']\n",
      "13 ['St Paul', 'Corvallis', 'Ft Collins', 'Bozeman', 'Beltsville', 'Moscow', 'Flagstaff', 'Fairbanks', 'Woods Hole', 'Orono', 'Anchorage', 'Brookings', 'Missoula']\n",
      "48 ['Washington', 'New Brunswick', 'Chicago', 'Seattle', 'Los Angeles', 'San Antonio', 'Toledo', 'Columbus', 'San Diego', 'Madison', 'Gainesville', 'Worcester', 'Durham', 'Minneapolis', 'New Orleans', 'Miami', 'Atlanta', 'Greenville', 'Columbia', 'Pittsburgh']\n",
      "25 ['Berkeley', 'Argonne', 'Notre Dame', 'Urbana', 'Santa Barbara', 'Gaithersburg', 'Oak Ridge', 'Upton', 'Los Alamos', 'Livermore', 'Richardson', 'Rolla', 'College Pk', 'Troy', 'Lowell', 'Princeton', 'Houghton', 'Richland', 'Bethlehem', 'Yorktown Hts']\n",
      "54 ['Baltimore', 'Cincinnati', 'Houston', 'Indianapolis', 'Boston', 'Oklahoma City', 'Sacramento', 'Chapel Hill', 'Charleston', 'New York', 'St Louis', 'Philadelphia', 'Aurora', 'Birmingham', 'Cleveland', 'Bronx', 'Memphis', 'Hershey', 'Winston Salem', 'Dallas']\n",
      "10 ['Boulder', 'Hampton', 'Greenbelt', 'Santa Cruz', 'Pasadena', 'Palisades', 'Monterey', 'Huntsville', 'Laurel', 'Moffett Field']\n",
      "0 []\n",
      "0 []\n",
      "0 []\n",
      "0 []\n",
      "0 []\n",
      "0 []\n",
      "0 []\n",
      "0 []\n"
     ]
    }
   ],
   "source": [
    "for i in range(0, 15):\n",
    "    clust = in_cluster(clustered_research_cities, i)\n",
    "    print(len(clust), clust[0:20])"
   ]
  },
  {
   "cell_type": "code",
   "execution_count": 63,
   "metadata": {},
   "outputs": [],
   "source": [
    "clustered_teaching_orgs = create_clusters_scipy(teaching_orgs, no_clusters, min_docs=1500)"
   ]
  },
  {
   "cell_type": "code",
   "execution_count": 64,
   "metadata": {},
   "outputs": [
    {
     "name": "stdout",
     "output_type": "stream",
     "text": [
      "58 ['Angelo State University', 'University of Georgia', 'University of West Georgia', 'Stephen F Austin State University', 'Texas A & M University-Commerce', 'Clemson University', 'The University of Montana', 'Western Kentucky University', 'Brigham Young University-Provo', 'University of Southern California', 'Wayne State University', 'The University of Texas at San Antonio', 'Texas A & M International University', 'The University of Texas at Tyler', 'University of Illinois at Chicago', 'University of North Carolina at Charlotte', 'Loyola University New Orleans', 'Sam Houston State University', 'Woodbury University', 'University of North Texas']\n",
      "1 ['Calvin College']\n",
      "37 ['Jackson College', 'Lansing Community College', 'New Mexico Junior College', 'Houston Community College', 'South Plains College', 'McLennan Community College', 'Valencia College', 'Northwest College', 'Imperial Valley College', 'University of Akron Main Campus', 'Amarillo College', 'Clark State Community College', 'Midwestern State University', 'Alvin Community College', 'Palm Beach State College', 'West Los Angeles College', 'Collin County Community College District', 'North Idaho College', 'Lackawanna College', 'Great Basin College']\n",
      "11 ['Foothill College', 'Laredo Community College', 'Lewis and Clark Community College', 'Santa Rosa Junior College', 'Central Lakes College-Brainerd', 'El Paso Community College', 'Seward County Community College and Area Technical School', 'Sierra College', 'Santa Barbara City College', 'Gavilan College', 'Minnesota State College-Southeast Technical']\n",
      "5 ['San Jose State University', 'Bellevue College', 'Nova Southeastern University', 'California State University-San Marcos', 'Loyola University Chicago']\n",
      "29 ['The University of Alabama', 'Galveston College', 'University of Maryland-College Park', 'Brandeis University', 'Windward Community College', 'Tyler Junior College', 'University of California-San Diego', 'University of California-Irvine', 'University of Illinois at Urbana-Champaign', 'University of Washington-Seattle Campus', 'Casper College', 'University of Michigan-Ann Arbor', 'Stony Brook University', 'Carnegie Mellon University', 'De Anza College', 'Massachusetts Institute of Technology', 'Princeton University', 'New Jersey Institute of Technology', 'American University', 'University of California-Berkeley']\n",
      "4 ['Park University', 'Excelsior College', 'University of Maryland-University College', 'Azusa Pacific University']\n",
      "0 []\n",
      "0 []\n",
      "0 []\n"
     ]
    }
   ],
   "source": [
    "for i in range(0, 10):\n",
    "    clust = in_cluster(clustered_teaching_orgs, i)\n",
    "    print(len(clust), clust[0:20])"
   ]
  },
  {
   "cell_type": "code",
   "execution_count": 65,
   "metadata": {},
   "outputs": [],
   "source": [
    "from sklearn.cluster import KMeans"
   ]
  },
  {
   "cell_type": "code",
   "execution_count": 66,
   "metadata": {},
   "outputs": [],
   "source": [
    "def sklearn_cluster(vector_dict, no_clusters, min_docs=1500):\n",
    "    return it"
   ]
  },
  {
   "cell_type": "markdown",
   "metadata": {},
   "source": [
    "## Visualising clusters"
   ]
  },
  {
   "cell_type": "code",
   "execution_count": 67,
   "metadata": {},
   "outputs": [],
   "source": [
    "from sklearn.manifold import TSNE\n",
    "from sklearn.decomposition import PCA"
   ]
  },
  {
   "cell_type": "code",
   "execution_count": 68,
   "metadata": {},
   "outputs": [],
   "source": [
    "import matplotlib.pyplot as plt"
   ]
  },
  {
   "cell_type": "code",
   "execution_count": 69,
   "metadata": {},
   "outputs": [],
   "source": [
    "import matplotlib._color_data as mcd\n",
    "from random import sample"
   ]
  },
  {
   "cell_type": "code",
   "execution_count": 70,
   "metadata": {},
   "outputs": [],
   "source": [
    "colors_20 = sample(list(mcd.CSS4_COLORS), 20)"
   ]
  },
  {
   "cell_type": "code",
   "execution_count": 71,
   "metadata": {},
   "outputs": [],
   "source": [
    "uni_labels = {}"
   ]
  },
  {
   "cell_type": "code",
   "execution_count": 72,
   "metadata": {},
   "outputs": [],
   "source": [
    "for tier in tiers:\n",
    "    for uni in tiers[tier]:\n",
    "        if uni in teaching_orgs:\n",
    "            uni_labels[uni] = colors_20[int(tier) - 1]"
   ]
  },
  {
   "cell_type": "code",
   "execution_count": 73,
   "metadata": {},
   "outputs": [],
   "source": [
    "def plotpca(vector_dict, dims= (0, 1), n_components=10, min_docs=100, annotate=True):\n",
    "    PCA_n = PCA(n_components=n_components)\n",
    "    names, vectors = [], []\n",
    "    for name in vector_dict:\n",
    "        vector = vector_dict[name]\n",
    "        if vector[2] > min_docs:\n",
    "            if name in research_to_teaching_match:\n",
    "                names.append(research_to_teaching_match[name])\n",
    "            else:\n",
    "                names.append(name)\n",
    "            vectors.append(np.array(vector[0]))\n",
    "    vectors = np.array(vectors)\n",
    "    pca_vecs = PCA_n.fit_transform(vectors)\n",
    "    fig = plt.figure(figsize= (8, 8))\n",
    "    ax = fig.add_subplot(1, 1, 1)\n",
    "    ax.set_xlabel('PCA 1')\n",
    "    ax.set_ylabel('PCA 2')\n",
    "    ax.set_title('PCA plot')\n",
    "    dim_1, dim_2 = dims\n",
    "    for vec, name in zip(pca_vecs, names):\n",
    "        if name in uni_labels:\n",
    "            ax.scatter(vec[dim_1], vec[dim_2], c=uni_labels[name])\n",
    "            if annotate:\n",
    "                ax.annotate(name, (vec[dim_1], vec[dim_2]))\n",
    "    plt.show()"
   ]
  },
  {
   "cell_type": "code",
   "execution_count": 74,
   "metadata": {
    "scrolled": false
   },
   "outputs": [
    {
     "data": {
      "image/png": "[encoded data removed]",
      "text/plain": [
       "<Figure size 576x576 with 1 Axes>"
      ]
     },
     "metadata": {
      "needs_background": "light"
     },
     "output_type": "display_data"
    }
   ],
   "source": [
    "plotpca(research_orgs, min_docs=20000)"
   ]
  },
  {
   "cell_type": "code",
   "execution_count": 75,
   "metadata": {},
   "outputs": [
    {
     "data": {
      "image/png": "[encoded data removed]",
      "text/plain": [
       "<Figure size 576x576 with 1 Axes>"
      ]
     },
     "metadata": {
      "needs_background": "light"
     },
     "output_type": "display_data"
    }
   ],
   "source": [
    "plotpca(research_orgs, min_docs=20000, dims=(2, 3))"
   ]
  },
  {
   "cell_type": "markdown",
   "metadata": {},
   "source": [
    "### t-sne"
   ]
  },
  {
   "cell_type": "code",
   "execution_count": 76,
   "metadata": {},
   "outputs": [],
   "source": [
    "def plottsne(vector_dict, dims= (0, 1), n_components=2, min_docs=500, perplexity=400, n_iter=300, annotate=True):\n",
    "    tsne = TSNE(n_components=n_components, perplexity=perplexity, n_iter=n_iter)    \n",
    "    names, vectors = [], []\n",
    "    for name in vector_dict:\n",
    "        vector = vector_dict[name]\n",
    "        if vector[2] > min_docs:\n",
    "            if name in research_to_teaching_match:\n",
    "                names.append(research_to_teaching_match[name])\n",
    "            else:\n",
    "                names.append(name)\n",
    "            vectors.append(np.array(vector[0]))\n",
    "    vectors = np.array(vectors)\n",
    "    tsne_vecs = tsne.fit_transform(vectors)\n",
    "    fig = plt.figure(figsize= (8, 8))\n",
    "    ax = fig.add_subplot(1, 1, 1)\n",
    "    ax.set_xlabel('tsne 1')\n",
    "    ax.set_ylabel('tsne 2')\n",
    "    ax.set_title('tsne plot')\n",
    "    dim_1, dim_2 = dims\n",
    "    for vec, name in zip(tsne_vecs, names):\n",
    "        if name in uni_labels:\n",
    "            ax.scatter(vec[dim_1], vec[dim_2], c=uni_labels[name])\n",
    "            if annotate:\n",
    "                ax.annotate(name, (vec[dim_1], vec[dim_2]))"
   ]
  },
  {
   "cell_type": "code",
   "execution_count": 77,
   "metadata": {},
   "outputs": [
    {
     "data": {
      "image/png": "[encoded data removed]",
      "text/plain": [
       "<Figure size 576x576 with 1 Axes>"
      ]
     },
     "metadata": {
      "needs_background": "light"
     },
     "output_type": "display_data"
    }
   ],
   "source": [
    "plottsne(teaching_orgs, min_docs=3000)"
   ]
  },
  {
   "cell_type": "markdown",
   "metadata": {},
   "source": [
    "### tier-analysis\n",
    "\n",
    "Access to tiers means we can create more fine tuned analysis within tiers to find patterns. Similarities to other universities within the tier and outside the tier."
   ]
  },
  {
   "cell_type": "code",
   "execution_count": 78,
   "metadata": {},
   "outputs": [],
   "source": [
    "def clean_uni_name(uni_name):\n",
    "    # matching for peculiarities in the tiers\n",
    "    # to fix - Uni Houston, Purdue, University of Pittsburgh, \n",
    "    # to fix - UMass-Amherst, UMass-Boston, Uni South Florida, Tulane, oklahoma-norman, uni of alaska\n",
    "    uni_name = uni_name.replace(\" - \", \"-\").replace(\" : \", \"-\").replace(\", \", \"-\").replace(\" (MIT)\", \"\").replace(\".\", \"\")\n",
    "    uni_name = uni_name.replace(\"Columbia University\", \"Columbia University in the City of New York\").replace(\"The \", \"\")\n",
    "    uni_name = uni_name.replace(\"University of Colorado at Boulder\", \"University of Colorado Boulder\")\n",
    "    uni_name = uni_name.replace(\"University of Colorado at Denver\", \"University of Colorado Denver\")\n",
    "    uni_name = uni_name.replace(\"University of Texas at Austin\", \"The University of Texas at Austin\")\n",
    "    uni_name = uni_name.replace(\"University of Texas at Dallas\", \"The University of Texas at Dallas\")\n",
    "    uni_name = uni_name.replace(\"Indiana University Bloomington\", \"Indiana University-Bloomington\")\n",
    "    uni_name = uni_name.replace(\"University of Washington\", \"University of Washington-Seattle Campus\")\n",
    "    uni_name = uni_name.replace(\"Georgia Institute of Technology\", \"Georgia Institute of Technology-Main Campus\")\n",
    "    uni_name = uni_name.replace(\"The Ohio State University - Columbus\", \"Ohio State University-Main Campus\")\n",
    "    uni_name = uni_name.replace(\"Texas A&M University\", \"Texas A & M University-College Station\")\n",
    "    return(uni_name)"
   ]
  },
  {
   "cell_type": "code",
   "execution_count": 79,
   "metadata": {},
   "outputs": [],
   "source": [
    "within_tier_angles_rr = {}\n",
    "within_tier_angles_tt = {}\n",
    "within_tier_angles_rt = {}\n",
    "within_tier_angles_rt_self = {}"
   ]
  },
  {
   "cell_type": "code",
   "execution_count": 80,
   "metadata": {},
   "outputs": [],
   "source": [
    "missing_unis_teaching = []"
   ]
  },
  {
   "cell_type": "code",
   "execution_count": 81,
   "metadata": {},
   "outputs": [],
   "source": [
    "missing_unis_research = []"
   ]
  },
  {
   "cell_type": "code",
   "execution_count": 82,
   "metadata": {},
   "outputs": [],
   "source": [
    "def get_entity_vector(entity):\n",
    "    # get teaching name\n",
    "    try:\n",
    "        teaching_uni_1_vector = teaching_orgs[entity][0]\n",
    "    except KeyError:\n",
    "        teaching_uni_1_vector = None\n",
    "    # get research name\n",
    "    try:\n",
    "        research_uni_1 = teaching_to_research_match[entity]\n",
    "        research_vector_1 = research_orgs[research_uni_1][0]\n",
    "    except KeyError:\n",
    "        if entity == \"New York University\":\n",
    "            research_uni_1 = \"NYU\"\n",
    "            research_vector_1 = research_orgs[research_uni_1][0]\n",
    "        if entity == \"University of Pennsylvania\":\n",
    "            research_uni_1 = \"UPenn\"\n",
    "            research_vector_1 = research_orgs[research_uni_1][0]\n",
    "        else:\n",
    "            research_vector_1 = None\n",
    "    return teaching_uni_1_vector, research_vector_1"
   ]
  },
  {
   "cell_type": "code",
   "execution_count": 83,
   "metadata": {},
   "outputs": [],
   "source": [
    "unis_per_tier_research = {}\n",
    "unis_per_tier_teaching = {}"
   ]
  },
  {
   "cell_type": "code",
   "execution_count": 84,
   "metadata": {},
   "outputs": [],
   "source": [
    "american_unis = []"
   ]
  },
  {
   "cell_type": "code",
   "execution_count": 85,
   "metadata": {},
   "outputs": [],
   "source": [
    "for tier in tiers:\n",
    "    for uni in tiers[tier]:\n",
    "        uni_name = clean_uni_name(uni)\n",
    "        if uni_name in teaching_orgs:\n",
    "            american_unis.append(uni_name)"
   ]
  },
  {
   "cell_type": "code",
   "execution_count": 86,
   "metadata": {},
   "outputs": [
    {
     "data": {
      "text/plain": [
       "147"
      ]
     },
     "execution_count": 86,
     "metadata": {},
     "output_type": "execute_result"
    }
   ],
   "source": [
    "len(american_unis)"
   ]
  },
  {
   "cell_type": "code",
   "execution_count": 87,
   "metadata": {},
   "outputs": [],
   "source": [
    "america_tiers = {}"
   ]
  },
  {
   "cell_type": "code",
   "execution_count": 88,
   "metadata": {},
   "outputs": [],
   "source": [
    "i = 0"
   ]
  },
  {
   "cell_type": "code",
   "execution_count": 89,
   "metadata": {},
   "outputs": [],
   "source": [
    "for num in range(0, 7):\n",
    "    america_tiers[num] = american_unis[i:i+21]\n",
    "    i += 21"
   ]
  },
  {
   "cell_type": "code",
   "execution_count": 90,
   "metadata": {},
   "outputs": [],
   "source": [
    "america_tiers[0].remove('University of California-San Francisco')"
   ]
  },
  {
   "cell_type": "code",
   "execution_count": 91,
   "metadata": {},
   "outputs": [],
   "source": [
    "america_tiers[0].append('Harvard University')"
   ]
  },
  {
   "cell_type": "code",
   "execution_count": 92,
   "metadata": {},
   "outputs": [],
   "source": [
    "america_tiers[1].remove('Harvard University')"
   ]
  },
  {
   "cell_type": "code",
   "execution_count": 93,
   "metadata": {},
   "outputs": [],
   "source": [
    "america_tiers[1].append('University of California-San Francisco')"
   ]
  },
  {
   "cell_type": "code",
   "execution_count": 94,
   "metadata": {},
   "outputs": [
    {
     "data": {
      "text/plain": [
       "{0: ['Stanford University',\n",
       "  'Massachusetts Institute of Technology',\n",
       "  'University of California-Berkeley',\n",
       "  'Princeton University',\n",
       "  'Columbia University in the City of New York',\n",
       "  'California Institute of Technology',\n",
       "  'University of Chicago',\n",
       "  'University of California-Los Angeles',\n",
       "  'Yale University',\n",
       "  'Cornell University',\n",
       "  'University of Washington-Seattle Campus',\n",
       "  'Johns Hopkins University',\n",
       "  'University of California-San Diego',\n",
       "  'University of Michigan-Ann Arbor',\n",
       "  'Washington University in St Louis',\n",
       "  'University of Wisconsin-Madison',\n",
       "  'Duke University',\n",
       "  'Northwestern University',\n",
       "  'University of North Carolina at Chapel Hill',\n",
       "  'Rockefeller University',\n",
       "  'Harvard University'],\n",
       " 1: ['University of Colorado Boulder',\n",
       "  'University of Illinois at Urbana-Champaign',\n",
       "  'The University of Texas at Austin',\n",
       "  'University of Maryland-College Park',\n",
       "  'University of California-Santa Barbara',\n",
       "  'University of Southern California',\n",
       "  'Vanderbilt University',\n",
       "  'University of California-Irvine',\n",
       "  'Brown University',\n",
       "  'University of Pittsburgh-Pittsburgh Campus',\n",
       "  'University of California-Davis',\n",
       "  'Carnegie Mellon University',\n",
       "  'Rice University',\n",
       "  'University of Florida',\n",
       "  'Baylor College of Medicine',\n",
       "  'Case Western Reserve University',\n",
       "  'Emory University',\n",
       "  'Georgia Institute of Technology-Main Campus',\n",
       "  'Icahn School of Medicine at Mount Sinai',\n",
       "  'Indiana University-Bloomington',\n",
       "  'University of California-San Francisco'],\n",
       " 2: ['Michigan State University',\n",
       "  'University of Arizona',\n",
       "  'University of California-Santa Cruz',\n",
       "  'University of Utah',\n",
       "  'Texas A & M University-College Station',\n",
       "  'Tufts University',\n",
       "  'University of California-Riverside',\n",
       "  'University of Missouri-Columbia',\n",
       "  'University of Rochester',\n",
       "  'Florida State University',\n",
       "  'George Mason University',\n",
       "  'Iowa State University',\n",
       "  'Oregon State University',\n",
       "  'Stony Brook University',\n",
       "  'George Washington University',\n",
       "  'University of Georgia',\n",
       "  'University of Alabama at Birmingham',\n",
       "  'University of Delaware',\n",
       "  'University of Hawaii at Manoa',\n",
       "  'University of Illinois at Chicago',\n",
       "  'University of Iowa'],\n",
       " 3: ['University of Kansas',\n",
       "  'University of Maryland-Baltimore',\n",
       "  'University of Miami',\n",
       "  'University of Nebraska-Lincoln',\n",
       "  'Virginia Commonwealth University',\n",
       "  'Virginia Polytechnic Institute and State University',\n",
       "  'Yeshiva University',\n",
       "  'Brandeis University',\n",
       "  'Dartmouth College',\n",
       "  'Drexel University',\n",
       "  'Georgetown University',\n",
       "  'Kansas State University',\n",
       "  'Rensselaer Polytechnic Institute',\n",
       "  'Temple University',\n",
       "  'The University of Texas at Dallas',\n",
       "  'University of Central Florida',\n",
       "  'University of Colorado Denver',\n",
       "  'University of Kentucky',\n",
       "  'University of Notre Dame',\n",
       "  'University of Oregon',\n",
       "  'University of South Carolina-Columbia'],\n",
       " 4: ['University of Vermont',\n",
       "  'Washington State University',\n",
       "  'Boston College',\n",
       "  'Clemson University',\n",
       "  'CUNY Graduate School and University Center',\n",
       "  'Florida International University',\n",
       "  'Medical University of South Carolina',\n",
       "  'Saint Louis University',\n",
       "  'Thomas Jefferson University',\n",
       "  'University of California-Merced',\n",
       "  'University of North Texas',\n",
       "  'University of Wisconsin-Milwaukee',\n",
       "  'University of Wyoming',\n",
       "  'Utah State University',\n",
       "  'Wake Forest University',\n",
       "  'Wayne State University',\n",
       "  'West Virginia University',\n",
       "  'Auburn University',\n",
       "  'Baylor University',\n",
       "  'Georgia State University',\n",
       "  'Mississippi State University'],\n",
       " 5: ['Northern Arizona University',\n",
       "  'San Diego State University',\n",
       "  'Southern Methodist University',\n",
       "  'Texas Tech University',\n",
       "  'University of Maine',\n",
       "  'University of Maryland-Baltimore County',\n",
       "  'Colorado School of Mines',\n",
       "  'Lehigh University',\n",
       "  'Loyola University Chicago',\n",
       "  'Medical College of Wisconsin',\n",
       "  'Missouri University of Science and Technology',\n",
       "  'Old Dominion University',\n",
       "  'Syracuse University',\n",
       "  'University of Idaho',\n",
       "  'University of Louisville',\n",
       "  'University of Nebraska Medical Center',\n",
       "  'University of Nevada-Reno',\n",
       "  'University of New England',\n",
       "  'University of Rhode Island',\n",
       "  'Amherst College',\n",
       "  'East Carolina University'],\n",
       " 6: ['Michigan Technological University',\n",
       "  'Stevens Institute of Technology',\n",
       "  'Swarthmore College',\n",
       "  'University of Arkansas for Medical Sciences',\n",
       "  'University of Nevada-Las Vegas',\n",
       "  'College of William and Mary',\n",
       "  'CUNY Hunter College',\n",
       "  'Haverford College',\n",
       "  'Portland State University',\n",
       "  'Rutgers University-Newark',\n",
       "  'University of Arkansas at Little Rock',\n",
       "  'University of Mississippi',\n",
       "  'University of Toledo',\n",
       "  'Clark University',\n",
       "  'Florida Atlantic University',\n",
       "  'New Jersey Institute of Technology',\n",
       "  'University of Denver',\n",
       "  'University of New Orleans',\n",
       "  'University of North Carolina at Charlotte',\n",
       "  'Williams College',\n",
       "  'Worcester Polytechnic Institute']}"
      ]
     },
     "execution_count": 94,
     "metadata": {},
     "output_type": "execute_result"
    }
   ],
   "source": [
    "america_tiers"
   ]
  },
  {
   "cell_type": "code",
   "execution_count": 95,
   "metadata": {},
   "outputs": [],
   "source": [
    "for tier in tiers:\n",
    "    \n",
    "    within_tier_angles_rr[tier] = 0\n",
    "    within_tier_angles_tt[tier] = 0\n",
    "    within_tier_angles_rt[tier] = 0\n",
    "    within_tier_angles_rt_self[tier] = 0\n",
    "\n",
    "    no_checks_rr = 0\n",
    "    no_checks_tt = 0\n",
    "    no_checks_rt = 0\n",
    "    no_checks_self = 0\n",
    "    \n",
    "    unis_per_tier_research[tier] = []\n",
    "    unis_per_tier_teaching[tier] = []\n",
    "    \n",
    "    for uni_1 in tiers[tier]:\n",
    "        \n",
    "        \n",
    "        teaching_vector_1, research_vector_1 = get_entity_vector(clean_uni_name(uni_1))\n",
    "        \n",
    "        if research_vector_1 is not None:\n",
    "            unis_per_tier_research[tier].append(uni_1)\n",
    "            \n",
    "        if teaching_vector_1 is not None:\n",
    "            unis_per_tier_teaching[tier].append(uni_1)\n",
    "            \n",
    "        if teaching_vector_1 is not None and research_vector_1 is not None:\n",
    "            within_tier_angles_rt_self[tier] += angle_between(research_vector_1, teaching_vector_1)[0]\n",
    "            no_checks_self += 1\n",
    "            \n",
    "        if teaching_vector_1 is None and uni_1 not in missing_unis_teaching:\n",
    "            missing_unis_teaching.append(uni_1)\n",
    "            \n",
    "        if research_vector_1 is None and uni_1 not in missing_unis_research:\n",
    "            missing_unis_research.append(uni_1)\n",
    "            \n",
    "        for uni_2 in tiers[tier]:\n",
    "            \n",
    "            teaching_vector_2, research_vector_2 = get_entity_vector(clean_uni_name(uni_2))\n",
    "            \n",
    "            if research_vector_1 is not None and research_vector_2 is not None:\n",
    "                within_tier_angles_rr[tier] += angle_between(research_vector_1, research_vector_2)[0]\n",
    "                no_checks_rr += 1\n",
    "            \n",
    "            if teaching_vector_1 is not None and teaching_vector_2 is not None:\n",
    "                within_tier_angles_tt[tier] += angle_between(teaching_vector_1, teaching_vector_2)[0]\n",
    "                no_checks_tt += 1                \n",
    "            \n",
    "            if research_vector_1 is not None and research_vector_2 is not None and teaching_vector_1 is not None and teaching_vector_2 is not None:\n",
    "                within_tier_angles_rt[tier] += angle_between(research_vector_1, teaching_vector_2)[0] + angle_between(teaching_vector_1, research_vector_2)[0]\n",
    "                no_checks_rt += 2\n",
    "\n",
    "    within_tier_angles_rt_self[tier] = round(within_tier_angles_rt_self[tier] / no_checks_self, 3)\n",
    "    within_tier_angles_rr[tier] = round(within_tier_angles_rr[tier] / no_checks_rr, 3)\n",
    "    within_tier_angles_tt[tier] = round(within_tier_angles_tt[tier] / no_checks_tt, 3)\n",
    "    within_tier_angles_rt[tier] = round(within_tier_angles_rt[tier] / no_checks_rt, 3)"
   ]
  },
  {
   "cell_type": "code",
   "execution_count": 96,
   "metadata": {},
   "outputs": [],
   "source": [
    "# missing_unis_research"
   ]
  },
  {
   "cell_type": "code",
   "execution_count": 97,
   "metadata": {},
   "outputs": [],
   "source": [
    "uni_tier_lens = {}\n",
    "for tier in unis_per_tier_research:\n",
    "    uni_tier_lens[tier] = len(unis_per_tier_research[tier])"
   ]
  },
  {
   "cell_type": "code",
   "execution_count": 98,
   "metadata": {},
   "outputs": [
    {
     "data": {
      "text/plain": [
       "{'1': 28,\n",
       " '2': 9,\n",
       " '3': 9,\n",
       " '4': 5,\n",
       " '5': 7,\n",
       " '6': 12,\n",
       " '7': 7,\n",
       " '8': 9,\n",
       " '9': 5,\n",
       " '10': 9,\n",
       " '11': 6,\n",
       " '12': 4,\n",
       " '13': 6,\n",
       " '14': 7,\n",
       " '15': 3,\n",
       " '16': 4,\n",
       " '17': 3,\n",
       " '18': 5,\n",
       " '19': 3,\n",
       " '20': 5}"
      ]
     },
     "execution_count": 98,
     "metadata": {},
     "output_type": "execute_result"
    }
   ],
   "source": [
    "uni_tier_lens"
   ]
  },
  {
   "cell_type": "code",
   "execution_count": 99,
   "metadata": {},
   "outputs": [
    {
     "data": {
      "text/plain": [
       "{'1': 53.789,\n",
       " '2': 33.214,\n",
       " '3': 42.499,\n",
       " '4': 29.105,\n",
       " '5': 23.89,\n",
       " '6': 38.58,\n",
       " '7': 20.415,\n",
       " '8': 46.198,\n",
       " '9': 39.908,\n",
       " '10': 37.739,\n",
       " '11': 25.209,\n",
       " '12': 42.702,\n",
       " '13': 42.002,\n",
       " '14': 29.403,\n",
       " '15': 16.242,\n",
       " '16': 47.593,\n",
       " '17': 39.898,\n",
       " '18': 32.265,\n",
       " '19': 15.663,\n",
       " '20': 27.507}"
      ]
     },
     "execution_count": 99,
     "metadata": {},
     "output_type": "execute_result"
    }
   ],
   "source": [
    "within_tier_angles_rr"
   ]
  },
  {
   "cell_type": "code",
   "execution_count": 100,
   "metadata": {},
   "outputs": [
    {
     "data": {
      "text/plain": [
       "array([[1.        , 0.50305704],\n",
       "       [0.50305704, 1.        ]])"
      ]
     },
     "execution_count": 100,
     "metadata": {},
     "output_type": "execute_result"
    }
   ],
   "source": [
    "np.corrcoef(np.array(list(within_tier_angles_rr.values())), np.array(list(uni_tier_lens.values())))"
   ]
  },
  {
   "cell_type": "code",
   "execution_count": 101,
   "metadata": {},
   "outputs": [
    {
     "data": {
      "text/plain": [
       "{'1': 29.118,\n",
       " '2': 28.999,\n",
       " '3': 33.635,\n",
       " '4': 25.468,\n",
       " '5': 23.263,\n",
       " '6': 29.535,\n",
       " '7': 30.812,\n",
       " '8': 26.573,\n",
       " '9': 28.101,\n",
       " '10': 27.583,\n",
       " '11': 21.785,\n",
       " '12': 23.524,\n",
       " '13': 32.11,\n",
       " '14': 29.216,\n",
       " '15': 25.228,\n",
       " '16': 40.377,\n",
       " '17': 21.737,\n",
       " '18': 26.466,\n",
       " '19': 25.122,\n",
       " '20': 28.759}"
      ]
     },
     "execution_count": 101,
     "metadata": {},
     "output_type": "execute_result"
    }
   ],
   "source": [
    "within_tier_angles_tt"
   ]
  },
  {
   "cell_type": "code",
   "execution_count": 102,
   "metadata": {},
   "outputs": [
    {
     "data": {
      "text/plain": [
       "{'1': 67.725,\n",
       " '2': 64.019,\n",
       " '3': 65.158,\n",
       " '4': 65.024,\n",
       " '5': 63.073,\n",
       " '6': 66.386,\n",
       " '7': 63.963,\n",
       " '8': 68.253,\n",
       " '9': 66.756,\n",
       " '10': 64.955,\n",
       " '11': 65.771,\n",
       " '12': 68.93,\n",
       " '13': 67.373,\n",
       " '14': 66.301,\n",
       " '15': 63.135,\n",
       " '16': 72.028,\n",
       " '17': 71.405,\n",
       " '18': 65.918,\n",
       " '19': 62.482,\n",
       " '20': 62.742}"
      ]
     },
     "execution_count": 102,
     "metadata": {},
     "output_type": "execute_result"
    }
   ],
   "source": [
    "within_tier_angles_rt"
   ]
  },
  {
   "cell_type": "code",
   "execution_count": 103,
   "metadata": {},
   "outputs": [],
   "source": [
    "between_tier_angles_rr = {}\n",
    "between_tier_angles_tt = {}"
   ]
  },
  {
   "cell_type": "code",
   "execution_count": 104,
   "metadata": {},
   "outputs": [],
   "source": [
    "for tier_1 in tiers:\n",
    "    for tier_2 in tiers:\n",
    "        if tier_1 == tier_2:\n",
    "            continue\n",
    "        between_tier_angles_rr[(tier_1, tier_2)] = 0\n",
    "        between_tier_angles_tt[(tier_1, tier_2)] = 0\n",
    "        no_checks_rr = 0\n",
    "        no_checks_tt = 0\n",
    "        for uni_1 in tiers[tier_1]:\n",
    "            \n",
    "            teaching_vector_1, research_vector_1 = get_entity_vector(clean_uni_name(uni_1))\n",
    "\n",
    "            for uni_2 in tiers[tier_2]:\n",
    "                \n",
    "                teaching_vector_2, research_vector_2 = get_entity_vector(clean_uni_name(uni_2))\n",
    "                \n",
    "                if research_vector_1 is not None and research_vector_2 is not None:\n",
    "                    between_tier_angles_rr[(tier_1, tier_2)] += angle_between(research_vector_1, research_vector_2)[0]\n",
    "                    no_checks_rr += 1\n",
    "\n",
    "                if teaching_vector_1 is not None and teaching_vector_2 is not None:\n",
    "                    between_tier_angles_tt[(tier_1, tier_2)] += angle_between(teaching_vector_1, teaching_vector_2)[0]\n",
    "                    no_checks_tt += 1                \n",
    "\n",
    "        between_tier_angles_rr[(tier_1, tier_2)] = round(between_tier_angles_rr[(tier_1, tier_2)] / no_checks_rr, 3)\n",
    "        between_tier_angles_tt[(tier_1, tier_2)] = round(between_tier_angles_tt[(tier_1, tier_2)] / no_checks_tt, 3)"
   ]
  },
  {
   "cell_type": "code",
   "execution_count": 105,
   "metadata": {},
   "outputs": [
    {
     "data": {
      "text/plain": [
       "{('1', '2'): 31.681,\n",
       " ('1', '3'): 34.297,\n",
       " ('1', '4'): 30.772,\n",
       " ('1', '5'): 32.181,\n",
       " ('1', '6'): 33.371,\n",
       " ('1', '7'): 33.882,\n",
       " ('1', '8'): 31.9,\n",
       " ('1', '9'): 33.347,\n",
       " ('1', '10'): 33.451,\n",
       " ('1', '11'): 32.819,\n",
       " ('1', '12'): 34.049,\n",
       " ('1', '13'): 37.51,\n",
       " ('1', '14'): 35.06,\n",
       " ('1', '15'): 33.169,\n",
       " ('1', '16'): 42.149,\n",
       " ('1', '17'): 31.927,\n",
       " ('1', '18'): 34.632,\n",
       " ('1', '19'): 35.735,\n",
       " ('1', '20'): 33.528,\n",
       " ('2', '1'): 31.681,\n",
       " ('2', '3'): 34.805,\n",
       " ('2', '4'): 32.269,\n",
       " ('2', '5'): 31.794,\n",
       " ('2', '6'): 33.535,\n",
       " ('2', '7'): 34.423,\n",
       " ('2', '8'): 31.386,\n",
       " ('2', '9'): 34.011,\n",
       " ('2', '10'): 32.872,\n",
       " ('2', '11'): 32.174,\n",
       " ('2', '12'): 33.215,\n",
       " ('2', '13'): 37.617,\n",
       " ('2', '14'): 34.255,\n",
       " ('2', '15'): 33.005,\n",
       " ('2', '16'): 43.046,\n",
       " ('2', '17'): 32.184,\n",
       " ('2', '18'): 34.246,\n",
       " ('2', '19'): 35.363,\n",
       " ('2', '20'): 34.187,\n",
       " ('3', '1'): 34.297,\n",
       " ('3', '2'): 34.805,\n",
       " ('3', '4'): 33.933,\n",
       " ('3', '5'): 33.399,\n",
       " ('3', '6'): 34.835,\n",
       " ('3', '7'): 36.704,\n",
       " ('3', '8'): 33.489,\n",
       " ('3', '9'): 36.396,\n",
       " ('3', '10'): 34.687,\n",
       " ('3', '11'): 33.014,\n",
       " ('3', '12'): 34.839,\n",
       " ('3', '13'): 38.481,\n",
       " ('3', '14'): 36.484,\n",
       " ('3', '15'): 35.929,\n",
       " ('3', '16'): 44.56,\n",
       " ('3', '17'): 35.134,\n",
       " ('3', '18'): 35.896,\n",
       " ('3', '19'): 36.871,\n",
       " ('3', '20'): 36.214,\n",
       " ('4', '1'): 30.772,\n",
       " ('4', '2'): 32.269,\n",
       " ('4', '3'): 33.933,\n",
       " ('4', '5'): 30.605,\n",
       " ('4', '6'): 32.037,\n",
       " ('4', '7'): 33.613,\n",
       " ('4', '8'): 30.843,\n",
       " ('4', '9'): 31.935,\n",
       " ('4', '10'): 31.834,\n",
       " ('4', '11'): 30.223,\n",
       " ('4', '12'): 32.334,\n",
       " ('4', '13'): 37.058,\n",
       " ('4', '14'): 33.845,\n",
       " ('4', '15'): 32.513,\n",
       " ('4', '16'): 42.599,\n",
       " ('4', '17'): 31.412,\n",
       " ('4', '18'): 32.489,\n",
       " ('4', '19'): 34.309,\n",
       " ('4', '20'): 32.892,\n",
       " ('5', '1'): 32.181,\n",
       " ('5', '2'): 31.794,\n",
       " ('5', '3'): 33.399,\n",
       " ('5', '4'): 30.605,\n",
       " ('5', '6'): 30.111,\n",
       " ('5', '7'): 34.249,\n",
       " ('5', '8'): 28.827,\n",
       " ('5', '9'): 31.65,\n",
       " ('5', '10'): 29.039,\n",
       " ('5', '11'): 26.416,\n",
       " ('5', '12'): 29.674,\n",
       " ('5', '13'): 34.717,\n",
       " ('5', '14'): 30.848,\n",
       " ('5', '15'): 31.965,\n",
       " ('5', '16'): 41.514,\n",
       " ('5', '17'): 32.275,\n",
       " ('5', '18'): 30.536,\n",
       " ('5', '19'): 32.593,\n",
       " ('5', '20'): 33.006,\n",
       " ('6', '1'): 33.371,\n",
       " ('6', '2'): 33.535,\n",
       " ('6', '3'): 34.835,\n",
       " ('6', '4'): 32.037,\n",
       " ('6', '5'): 30.111,\n",
       " ('6', '7'): 34.499,\n",
       " ('6', '8'): 30.599,\n",
       " ('6', '9'): 34.469,\n",
       " ('6', '10'): 31.379,\n",
       " ('6', '11'): 29.396,\n",
       " ('6', '12'): 31.568,\n",
       " ('6', '13'): 35.527,\n",
       " ('6', '14'): 33.024,\n",
       " ('6', '15'): 33.688,\n",
       " ('6', '16'): 43.22,\n",
       " ('6', '17'): 33.901,\n",
       " ('6', '18'): 32.209,\n",
       " ('6', '19'): 33.918,\n",
       " ('6', '20'): 34.04,\n",
       " ('7', '1'): 33.882,\n",
       " ('7', '2'): 34.423,\n",
       " ('7', '3'): 36.704,\n",
       " ('7', '4'): 33.613,\n",
       " ('7', '5'): 34.249,\n",
       " ('7', '6'): 34.499,\n",
       " ('7', '8'): 33.035,\n",
       " ('7', '9'): 36.519,\n",
       " ('7', '10'): 34.615,\n",
       " ('7', '11'): 32.985,\n",
       " ('7', '12'): 33.985,\n",
       " ('7', '13'): 37.82,\n",
       " ('7', '14'): 35.771,\n",
       " ('7', '15'): 34.307,\n",
       " ('7', '16'): 43.939,\n",
       " ('7', '17'): 34.023,\n",
       " ('7', '18'): 34.928,\n",
       " ('7', '19'): 35.61,\n",
       " ('7', '20'): 34.723,\n",
       " ('8', '1'): 31.9,\n",
       " ('8', '2'): 31.386,\n",
       " ('8', '3'): 33.489,\n",
       " ('8', '4'): 30.843,\n",
       " ('8', '5'): 28.827,\n",
       " ('8', '6'): 30.599,\n",
       " ('8', '7'): 33.035,\n",
       " ('8', '9'): 32.561,\n",
       " ('8', '10'): 29.709,\n",
       " ('8', '11'): 27.837,\n",
       " ('8', '12'): 30.116,\n",
       " ('8', '13'): 34.716,\n",
       " ('8', '14'): 31.369,\n",
       " ('8', '15'): 31.542,\n",
       " ('8', '16'): 42.131,\n",
       " ('8', '17'): 32.025,\n",
       " ('8', '18'): 30.771,\n",
       " ('8', '19'): 32.924,\n",
       " ('8', '20'): 32.487,\n",
       " ('9', '1'): 33.347,\n",
       " ('9', '2'): 34.011,\n",
       " ('9', '3'): 36.396,\n",
       " ('9', '4'): 31.935,\n",
       " ('9', '5'): 31.65,\n",
       " ('9', '6'): 34.469,\n",
       " ('9', '7'): 36.519,\n",
       " ('9', '8'): 32.561,\n",
       " ('9', '10'): 33.444,\n",
       " ('9', '11'): 31.895,\n",
       " ('9', '12'): 34.758,\n",
       " ('9', '13'): 40.021,\n",
       " ('9', '14'): 34.953,\n",
       " ('9', '15'): 33.63,\n",
       " ('9', '16'): 44.865,\n",
       " ('9', '17'): 32.548,\n",
       " ('9', '18'): 33.389,\n",
       " ('9', '19'): 36.399,\n",
       " ('9', '20'): 35.513,\n",
       " ('10', '1'): 33.451,\n",
       " ('10', '2'): 32.872,\n",
       " ('10', '3'): 34.687,\n",
       " ('10', '4'): 31.834,\n",
       " ('10', '5'): 29.039,\n",
       " ('10', '6'): 31.379,\n",
       " ('10', '7'): 34.615,\n",
       " ('10', '8'): 29.709,\n",
       " ('10', '9'): 33.444,\n",
       " ('10', '11'): 28.391,\n",
       " ('10', '12'): 30.466,\n",
       " ('10', '13'): 35.219,\n",
       " ('10', '14'): 31.364,\n",
       " ('10', '15'): 32.72,\n",
       " ('10', '16'): 43.15,\n",
       " ('10', '17'): 33.222,\n",
       " ('10', '18'): 31.5,\n",
       " ('10', '19'): 33.611,\n",
       " ('10', '20'): 33.928,\n",
       " ('11', '1'): 32.819,\n",
       " ('11', '2'): 32.174,\n",
       " ('11', '3'): 33.014,\n",
       " ('11', '4'): 30.223,\n",
       " ('11', '5'): 26.416,\n",
       " ('11', '6'): 29.396,\n",
       " ('11', '7'): 32.985,\n",
       " ('11', '8'): 27.837,\n",
       " ('11', '9'): 31.895,\n",
       " ('11', '10'): 28.391,\n",
       " ('11', '12'): 28.46,\n",
       " ('11', '13'): 34.009,\n",
       " ('11', '14'): 29.863,\n",
       " ('11', '15'): 30.916,\n",
       " ('11', '16'): 41.475,\n",
       " ('11', '17'): 31.854,\n",
       " ('11', '18'): 29.114,\n",
       " ('11', '19'): 31.553,\n",
       " ('11', '20'): 31.942,\n",
       " ('12', '1'): 34.049,\n",
       " ('12', '2'): 33.215,\n",
       " ('12', '3'): 34.839,\n",
       " ('12', '4'): 32.334,\n",
       " ('12', '5'): 29.674,\n",
       " ('12', '6'): 31.568,\n",
       " ('12', '7'): 33.985,\n",
       " ('12', '8'): 30.116,\n",
       " ('12', '9'): 34.758,\n",
       " ('12', '10'): 30.466,\n",
       " ('12', '11'): 28.46,\n",
       " ('12', '13'): 33.885,\n",
       " ('12', '14'): 31.871,\n",
       " ('12', '15'): 32.128,\n",
       " ('12', '16'): 43.533,\n",
       " ('12', '17'): 33.07,\n",
       " ('12', '18'): 31.075,\n",
       " ('12', '19'): 33.015,\n",
       " ('12', '20'): 33.155,\n",
       " ('13', '1'): 37.51,\n",
       " ('13', '2'): 37.617,\n",
       " ('13', '3'): 38.481,\n",
       " ('13', '4'): 37.058,\n",
       " ('13', '5'): 34.717,\n",
       " ('13', '6'): 35.527,\n",
       " ('13', '7'): 37.82,\n",
       " ('13', '8'): 34.716,\n",
       " ('13', '9'): 40.021,\n",
       " ('13', '10'): 35.219,\n",
       " ('13', '11'): 34.009,\n",
       " ('13', '12'): 33.885,\n",
       " ('13', '14'): 36.998,\n",
       " ('13', '15'): 37.076,\n",
       " ('13', '16'): 46.061,\n",
       " ('13', '17'): 38.855,\n",
       " ('13', '18'): 37.246,\n",
       " ('13', '19'): 37.04,\n",
       " ('13', '20'): 37.278,\n",
       " ('14', '1'): 35.06,\n",
       " ('14', '2'): 34.255,\n",
       " ('14', '3'): 36.484,\n",
       " ('14', '4'): 33.845,\n",
       " ('14', '5'): 30.848,\n",
       " ('14', '6'): 33.024,\n",
       " ('14', '7'): 35.771,\n",
       " ('14', '8'): 31.369,\n",
       " ('14', '9'): 34.953,\n",
       " ('14', '10'): 31.364,\n",
       " ('14', '11'): 29.863,\n",
       " ('14', '12'): 31.871,\n",
       " ('14', '13'): 36.998,\n",
       " ('14', '15'): 33.93,\n",
       " ('14', '16'): 44.344,\n",
       " ('14', '17'): 34.096,\n",
       " ('14', '18'): 32.543,\n",
       " ('14', '19'): 34.539,\n",
       " ('14', '20'): 35.45,\n",
       " ('15', '1'): 33.169,\n",
       " ('15', '2'): 33.005,\n",
       " ('15', '3'): 35.929,\n",
       " ('15', '4'): 32.513,\n",
       " ('15', '5'): 31.965,\n",
       " ('15', '6'): 33.688,\n",
       " ('15', '7'): 34.307,\n",
       " ('15', '8'): 31.542,\n",
       " ('15', '9'): 33.63,\n",
       " ('15', '10'): 32.72,\n",
       " ('15', '11'): 30.916,\n",
       " ('15', '12'): 32.128,\n",
       " ('15', '13'): 37.076,\n",
       " ('15', '14'): 33.93,\n",
       " ('15', '16'): 43.056,\n",
       " ('15', '17'): 32.836,\n",
       " ('15', '18'): 33.351,\n",
       " ('15', '19'): 35.046,\n",
       " ('15', '20'): 34.437,\n",
       " ('16', '1'): 42.149,\n",
       " ('16', '2'): 43.046,\n",
       " ('16', '3'): 44.56,\n",
       " ('16', '4'): 42.599,\n",
       " ('16', '5'): 41.514,\n",
       " ('16', '6'): 43.22,\n",
       " ('16', '7'): 43.939,\n",
       " ('16', '8'): 42.131,\n",
       " ('16', '9'): 44.865,\n",
       " ('16', '10'): 43.15,\n",
       " ('16', '11'): 41.475,\n",
       " ('16', '12'): 43.533,\n",
       " ('16', '13'): 46.061,\n",
       " ('16', '14'): 44.344,\n",
       " ('16', '15'): 43.056,\n",
       " ('16', '17'): 43.854,\n",
       " ('16', '18'): 44.206,\n",
       " ('16', '19'): 45.508,\n",
       " ('16', '20'): 43.315,\n",
       " ('17', '1'): 31.927,\n",
       " ('17', '2'): 32.184,\n",
       " ('17', '3'): 35.134,\n",
       " ('17', '4'): 31.412,\n",
       " ('17', '5'): 32.275,\n",
       " ('17', '6'): 33.901,\n",
       " ('17', '7'): 34.023,\n",
       " ('17', '8'): 32.025,\n",
       " ('17', '9'): 32.548,\n",
       " ('17', '10'): 33.222,\n",
       " ('17', '11'): 31.854,\n",
       " ('17', '12'): 33.07,\n",
       " ('17', '13'): 38.855,\n",
       " ('17', '14'): 34.096,\n",
       " ('17', '15'): 32.836,\n",
       " ('17', '16'): 43.854,\n",
       " ('17', '18'): 32.545,\n",
       " ('17', '19'): 34.518,\n",
       " ('17', '20'): 34.473,\n",
       " ('18', '1'): 34.632,\n",
       " ('18', '2'): 34.246,\n",
       " ('18', '3'): 35.896,\n",
       " ('18', '4'): 32.489,\n",
       " ('18', '5'): 30.536,\n",
       " ('18', '6'): 32.209,\n",
       " ('18', '7'): 34.928,\n",
       " ('18', '8'): 30.771,\n",
       " ('18', '9'): 33.389,\n",
       " ('18', '10'): 31.5,\n",
       " ('18', '11'): 29.114,\n",
       " ('18', '12'): 31.075,\n",
       " ('18', '13'): 37.246,\n",
       " ('18', '14'): 32.543,\n",
       " ('18', '15'): 33.351,\n",
       " ('18', '16'): 44.206,\n",
       " ('18', '17'): 32.545,\n",
       " ('18', '19'): 33.871,\n",
       " ('18', '20'): 34.735,\n",
       " ('19', '1'): 35.735,\n",
       " ('19', '2'): 35.363,\n",
       " ('19', '3'): 36.871,\n",
       " ('19', '4'): 34.309,\n",
       " ('19', '5'): 32.593,\n",
       " ('19', '6'): 33.918,\n",
       " ('19', '7'): 35.61,\n",
       " ('19', '8'): 32.924,\n",
       " ('19', '9'): 36.399,\n",
       " ('19', '10'): 33.611,\n",
       " ('19', '11'): 31.553,\n",
       " ('19', '12'): 33.015,\n",
       " ('19', '13'): 37.04,\n",
       " ('19', '14'): 34.539,\n",
       " ('19', '15'): 35.046,\n",
       " ('19', '16'): 45.508,\n",
       " ('19', '17'): 34.518,\n",
       " ('19', '18'): 33.871,\n",
       " ('19', '20'): 36.018,\n",
       " ('20', '1'): 33.528,\n",
       " ('20', '2'): 34.187,\n",
       " ('20', '3'): 36.214,\n",
       " ('20', '4'): 32.892,\n",
       " ('20', '5'): 33.006,\n",
       " ('20', '6'): 34.04,\n",
       " ('20', '7'): 34.723,\n",
       " ('20', '8'): 32.487,\n",
       " ('20', '9'): 35.513,\n",
       " ('20', '10'): 33.928,\n",
       " ('20', '11'): 31.942,\n",
       " ('20', '12'): 33.155,\n",
       " ('20', '13'): 37.278,\n",
       " ('20', '14'): 35.45,\n",
       " ('20', '15'): 34.437,\n",
       " ('20', '16'): 43.315,\n",
       " ('20', '17'): 34.473,\n",
       " ('20', '18'): 34.735,\n",
       " ('20', '19'): 36.018}"
      ]
     },
     "execution_count": 105,
     "metadata": {},
     "output_type": "execute_result"
    }
   ],
   "source": [
    "between_tier_angles_tt"
   ]
  },
  {
   "cell_type": "code",
   "execution_count": 106,
   "metadata": {},
   "outputs": [
    {
     "data": {
      "text/plain": [
       "{('1', '2'): 46.982,\n",
       " ('1', '3'): 50.962,\n",
       " ('1', '4'): 46.206,\n",
       " ('1', '5'): 44.596,\n",
       " ('1', '6'): 49.61,\n",
       " ('1', '7'): 42.337,\n",
       " ('1', '8'): 53.719,\n",
       " ('1', '9'): 53.116,\n",
       " ('1', '10'): 49.118,\n",
       " ('1', '11'): 45.855,\n",
       " ('1', '12'): 55.756,\n",
       " ('1', '13'): 52.629,\n",
       " ('1', '14'): 46.71,\n",
       " ('1', '15'): 42.325,\n",
       " ('1', '16'): 58.27,\n",
       " ('1', '17'): 57.598,\n",
       " ('1', '18'): 49.039,\n",
       " ('1', '19'): 43.807,\n",
       " ('1', '20'): 47.028,\n",
       " ('2', '1'): 46.982,\n",
       " ('2', '3'): 41.025,\n",
       " ('2', '4'): 34.981,\n",
       " ('2', '5'): 32.593,\n",
       " ('2', '6'): 39.126,\n",
       " ('2', '7'): 30.0,\n",
       " ('2', '8'): 44.419,\n",
       " ('2', '9'): 44.01,\n",
       " ('2', '10'): 38.863,\n",
       " ('2', '11'): 33.759,\n",
       " ('2', '12'): 47.579,\n",
       " ('2', '13'): 43.849,\n",
       " ('2', '14'): 35.169,\n",
       " ('2', '15'): 29.824,\n",
       " ('2', '16'): 50.726,\n",
       " ('2', '17'): 49.738,\n",
       " ('2', '18'): 38.06,\n",
       " ('2', '19'): 31.812,\n",
       " ('2', '20'): 35.85,\n",
       " ('3', '1'): 50.962,\n",
       " ('3', '2'): 41.025,\n",
       " ('3', '4'): 40.043,\n",
       " ('3', '5'): 38.331,\n",
       " ('3', '6'): 44.056,\n",
       " ('3', '7'): 35.591,\n",
       " ('3', '8'): 48.741,\n",
       " ('3', '9'): 47.968,\n",
       " ('3', '10'): 43.459,\n",
       " ('3', '11'): 39.411,\n",
       " ('3', '12'): 51.184,\n",
       " ('3', '13'): 48.443,\n",
       " ('3', '14'): 40.445,\n",
       " ('3', '15'): 35.599,\n",
       " ('3', '16'): 54.989,\n",
       " ('3', '17'): 54.758,\n",
       " ('3', '18'): 43.129,\n",
       " ('3', '19'): 38.072,\n",
       " ('3', '20'): 42.209,\n",
       " ('4', '1'): 46.206,\n",
       " ('4', '2'): 34.981,\n",
       " ('4', '3'): 40.043,\n",
       " ('4', '5'): 31.239,\n",
       " ('4', '6'): 38.48,\n",
       " ('4', '7'): 29.079,\n",
       " ('4', '8'): 42.894,\n",
       " ('4', '9'): 43.727,\n",
       " ('4', '10'): 37.688,\n",
       " ('4', '11'): 32.601,\n",
       " ('4', '12'): 46.02,\n",
       " ('4', '13'): 43.146,\n",
       " ('4', '14'): 33.712,\n",
       " ('4', '15'): 28.398,\n",
       " ('4', '16'): 50.362,\n",
       " ('4', '17'): 48.867,\n",
       " ('4', '18'): 36.661,\n",
       " ('4', '19'): 30.757,\n",
       " ('4', '20'): 35.405,\n",
       " ('5', '1'): 44.596,\n",
       " ('5', '2'): 32.593,\n",
       " ('5', '3'): 38.331,\n",
       " ('5', '4'): 31.239,\n",
       " ('5', '6'): 36.188,\n",
       " ('5', '7'): 25.732,\n",
       " ('5', '8'): 40.394,\n",
       " ('5', '9'): 39.301,\n",
       " ('5', '10'): 35.132,\n",
       " ('5', '11'): 27.69,\n",
       " ('5', '12'): 41.884,\n",
       " ('5', '13'): 39.842,\n",
       " ('5', '14'): 30.371,\n",
       " ('5', '15'): 23.666,\n",
       " ('5', '16'): 46.892,\n",
       " ('5', '17'): 45.587,\n",
       " ('5', '18'): 33.26,\n",
       " ('5', '19'): 24.904,\n",
       " ('5', '20'): 30.523,\n",
       " ('6', '1'): 49.61,\n",
       " ('6', '2'): 39.126,\n",
       " ('6', '3'): 44.056,\n",
       " ('6', '4'): 38.48,\n",
       " ('6', '5'): 36.188,\n",
       " ('6', '7'): 33.429,\n",
       " ('6', '8'): 47.075,\n",
       " ('6', '9'): 46.03,\n",
       " ('6', '10'): 41.67,\n",
       " ('6', '11'): 36.597,\n",
       " ('6', '12'): 49.245,\n",
       " ('6', '13'): 46.685,\n",
       " ('6', '14'): 37.592,\n",
       " ('6', '15'): 32.971,\n",
       " ('6', '16'): 53.615,\n",
       " ('6', '17'): 53.033,\n",
       " ('6', '18'): 40.01,\n",
       " ('6', '19'): 35.96,\n",
       " ('6', '20'): 39.592,\n",
       " ('7', '1'): 42.337,\n",
       " ('7', '2'): 30.0,\n",
       " ('7', '3'): 35.591,\n",
       " ('7', '4'): 29.079,\n",
       " ('7', '5'): 25.732,\n",
       " ('7', '6'): 33.429,\n",
       " ('7', '8'): 38.945,\n",
       " ('7', '9'): 37.703,\n",
       " ('7', '10'): 32.924,\n",
       " ('7', '11'): 27.183,\n",
       " ('7', '12'): 41.847,\n",
       " ('7', '13'): 38.892,\n",
       " ('7', '14'): 28.997,\n",
       " ('7', '15'): 22.728,\n",
       " ('7', '16'): 46.832,\n",
       " ('7', '17'): 46.17,\n",
       " ('7', '18'): 31.77,\n",
       " ('7', '19'): 24.817,\n",
       " ('7', '20'): 29.948,\n",
       " ('8', '1'): 53.719,\n",
       " ('8', '2'): 44.419,\n",
       " ('8', '3'): 48.741,\n",
       " ('8', '4'): 42.894,\n",
       " ('8', '5'): 40.394,\n",
       " ('8', '6'): 47.075,\n",
       " ('8', '7'): 38.945,\n",
       " ('8', '9'): 49.795,\n",
       " ('8', '10'): 46.122,\n",
       " ('8', '11'): 41.719,\n",
       " ('8', '12'): 52.847,\n",
       " ('8', '13'): 50.954,\n",
       " ('8', '14'): 42.94,\n",
       " ('8', '15'): 37.797,\n",
       " ('8', '16'): 56.683,\n",
       " ('8', '17'): 56.072,\n",
       " ('8', '18'): 45.497,\n",
       " ('8', '19'): 40.283,\n",
       " ('8', '20'): 43.837,\n",
       " ('9', '1'): 53.116,\n",
       " ('9', '2'): 44.01,\n",
       " ('9', '3'): 47.968,\n",
       " ('9', '4'): 43.727,\n",
       " ('9', '5'): 39.301,\n",
       " ('9', '6'): 46.03,\n",
       " ('9', '7'): 37.703,\n",
       " ('9', '8'): 49.795,\n",
       " ('9', '10'): 45.297,\n",
       " ('9', '11'): 40.409,\n",
       " ('9', '12'): 51.667,\n",
       " ('9', '13'): 49.668,\n",
       " ('9', '14'): 42.151,\n",
       " ('9', '15'): 36.429,\n",
       " ('9', '16'): 55.686,\n",
       " ('9', '17'): 55.327,\n",
       " ('9', '18'): 44.266,\n",
       " ('9', '19'): 38.178,\n",
       " ('9', '20'): 42.443,\n",
       " ('10', '1'): 49.118,\n",
       " ('10', '2'): 38.863,\n",
       " ('10', '3'): 43.459,\n",
       " ('10', '4'): 37.688,\n",
       " ('10', '5'): 35.132,\n",
       " ('10', '6'): 41.67,\n",
       " ('10', '7'): 32.924,\n",
       " ('10', '8'): 46.122,\n",
       " ('10', '9'): 45.297,\n",
       " ('10', '11'): 36.489,\n",
       " ('10', '12'): 48.405,\n",
       " ('10', '13'): 45.712,\n",
       " ('10', '14'): 37.117,\n",
       " ('10', '15'): 32.137,\n",
       " ('10', '16'): 53.226,\n",
       " ('10', '17'): 52.147,\n",
       " ('10', '18'): 40.281,\n",
       " ('10', '19'): 34.576,\n",
       " ('10', '20'): 38.986,\n",
       " ('11', '1'): 45.855,\n",
       " ('11', '2'): 33.759,\n",
       " ('11', '3'): 39.411,\n",
       " ('11', '4'): 32.601,\n",
       " ('11', '5'): 27.69,\n",
       " ('11', '6'): 36.597,\n",
       " ('11', '7'): 27.183,\n",
       " ('11', '8'): 41.719,\n",
       " ('11', '9'): 40.409,\n",
       " ('11', '10'): 36.489,\n",
       " ('11', '12'): 43.302,\n",
       " ('11', '13'): 41.167,\n",
       " ('11', '14'): 30.99,\n",
       " ('11', '15'): 25.171,\n",
       " ('11', '16'): 48.599,\n",
       " ('11', '17'): 47.533,\n",
       " ('11', '18'): 34.019,\n",
       " ('11', '19'): 26.782,\n",
       " ('11', '20'): 32.095,\n",
       " ('12', '1'): 55.756,\n",
       " ('12', '2'): 47.579,\n",
       " ('12', '3'): 51.184,\n",
       " ('12', '4'): 46.02,\n",
       " ('12', '5'): 41.884,\n",
       " ('12', '6'): 49.245,\n",
       " ('12', '7'): 41.847,\n",
       " ('12', '8'): 52.847,\n",
       " ('12', '9'): 51.667,\n",
       " ('12', '10'): 48.405,\n",
       " ('12', '11'): 43.302,\n",
       " ('12', '13'): 51.882,\n",
       " ('12', '14'): 44.879,\n",
       " ('12', '15'): 40.055,\n",
       " ('12', '16'): 57.137,\n",
       " ('12', '17'): 55.928,\n",
       " ('12', '18'): 45.703,\n",
       " ('12', '19'): 40.519,\n",
       " ('12', '20'): 45.503,\n",
       " ('13', '1'): 52.629,\n",
       " ('13', '2'): 43.849,\n",
       " ('13', '3'): 48.443,\n",
       " ('13', '4'): 43.146,\n",
       " ('13', '5'): 39.842,\n",
       " ('13', '6'): 46.685,\n",
       " ('13', '7'): 38.892,\n",
       " ('13', '8'): 50.954,\n",
       " ('13', '9'): 49.668,\n",
       " ('13', '10'): 45.712,\n",
       " ('13', '11'): 41.167,\n",
       " ('13', '12'): 51.882,\n",
       " ('13', '14'): 42.387,\n",
       " ('13', '15'): 37.295,\n",
       " ('13', '16'): 53.862,\n",
       " ('13', '17'): 54.08,\n",
       " ('13', '18'): 45.314,\n",
       " ('13', '19'): 37.465,\n",
       " ('13', '20'): 41.973,\n",
       " ('14', '1'): 46.71,\n",
       " ('14', '2'): 35.169,\n",
       " ('14', '3'): 40.445,\n",
       " ('14', '4'): 33.712,\n",
       " ('14', '5'): 30.371,\n",
       " ('14', '6'): 37.592,\n",
       " ('14', '7'): 28.997,\n",
       " ('14', '8'): 42.94,\n",
       " ('14', '9'): 42.151,\n",
       " ('14', '10'): 37.117,\n",
       " ('14', '11'): 30.99,\n",
       " ('14', '12'): 44.879,\n",
       " ('14', '13'): 42.387,\n",
       " ('14', '15'): 27.219,\n",
       " ('14', '16'): 50.259,\n",
       " ('14', '17'): 49.596,\n",
       " ('14', '18'): 35.825,\n",
       " ('14', '19'): 29.824,\n",
       " ('14', '20'): 35.227,\n",
       " ('15', '1'): 42.325,\n",
       " ('15', '2'): 29.824,\n",
       " ('15', '3'): 35.599,\n",
       " ('15', '4'): 28.398,\n",
       " ('15', '5'): 23.666,\n",
       " ('15', '6'): 32.971,\n",
       " ('15', '7'): 22.728,\n",
       " ('15', '8'): 37.797,\n",
       " ('15', '9'): 36.429,\n",
       " ('15', '10'): 32.137,\n",
       " ('15', '11'): 25.171,\n",
       " ('15', '12'): 40.055,\n",
       " ('15', '13'): 37.295,\n",
       " ('15', '14'): 27.219,\n",
       " ('15', '16'): 45.644,\n",
       " ('15', '17'): 44.639,\n",
       " ('15', '18'): 30.242,\n",
       " ('15', '19'): 22.27,\n",
       " ('15', '20'): 28.586,\n",
       " ('16', '1'): 58.27,\n",
       " ('16', '2'): 50.726,\n",
       " ('16', '3'): 54.989,\n",
       " ('16', '4'): 50.362,\n",
       " ('16', '5'): 46.892,\n",
       " ('16', '6'): 53.615,\n",
       " ('16', '7'): 46.832,\n",
       " ('16', '8'): 56.683,\n",
       " ('16', '9'): 55.686,\n",
       " ('16', '10'): 53.226,\n",
       " ('16', '11'): 48.599,\n",
       " ('16', '12'): 57.137,\n",
       " ('16', '13'): 53.862,\n",
       " ('16', '14'): 50.259,\n",
       " ('16', '15'): 45.644,\n",
       " ('16', '17'): 57.034,\n",
       " ('16', '18'): 51.135,\n",
       " ('16', '19'): 43.955,\n",
       " ('16', '20'): 47.945,\n",
       " ('17', '1'): 57.598,\n",
       " ('17', '2'): 49.738,\n",
       " ('17', '3'): 54.758,\n",
       " ('17', '4'): 48.867,\n",
       " ('17', '5'): 45.587,\n",
       " ('17', '6'): 53.033,\n",
       " ('17', '7'): 46.17,\n",
       " ('17', '8'): 56.072,\n",
       " ('17', '9'): 55.327,\n",
       " ('17', '10'): 52.147,\n",
       " ('17', '11'): 47.533,\n",
       " ('17', '12'): 55.928,\n",
       " ('17', '13'): 54.08,\n",
       " ('17', '14'): 49.596,\n",
       " ('17', '15'): 44.639,\n",
       " ('17', '16'): 57.034,\n",
       " ('17', '18'): 50.048,\n",
       " ('17', '19'): 43.492,\n",
       " ('17', '20'): 46.132,\n",
       " ('18', '1'): 49.039,\n",
       " ('18', '2'): 38.06,\n",
       " ('18', '3'): 43.129,\n",
       " ('18', '4'): 36.661,\n",
       " ('18', '5'): 33.26,\n",
       " ('18', '6'): 40.01,\n",
       " ('18', '7'): 31.77,\n",
       " ('18', '8'): 45.497,\n",
       " ('18', '9'): 44.266,\n",
       " ('18', '10'): 40.281,\n",
       " ('18', '11'): 34.019,\n",
       " ('18', '12'): 45.703,\n",
       " ('18', '13'): 45.314,\n",
       " ('18', '14'): 35.825,\n",
       " ('18', '15'): 30.242,\n",
       " ('18', '16'): 51.135,\n",
       " ('18', '17'): 50.048,\n",
       " ('18', '19'): 31.678,\n",
       " ('18', '20'): 37.059,\n",
       " ('19', '1'): 43.807,\n",
       " ('19', '2'): 31.812,\n",
       " ('19', '3'): 38.072,\n",
       " ('19', '4'): 30.757,\n",
       " ('19', '5'): 24.904,\n",
       " ('19', '6'): 35.96,\n",
       " ('19', '7'): 24.817,\n",
       " ('19', '8'): 40.283,\n",
       " ('19', '9'): 38.178,\n",
       " ('19', '10'): 34.576,\n",
       " ('19', '11'): 26.782,\n",
       " ('19', '12'): 40.519,\n",
       " ('19', '13'): 37.465,\n",
       " ('19', '14'): 29.824,\n",
       " ('19', '15'): 22.27,\n",
       " ('19', '16'): 43.955,\n",
       " ('19', '17'): 43.492,\n",
       " ('19', '18'): 31.678,\n",
       " ('19', '20'): 27.286,\n",
       " ('20', '1'): 47.028,\n",
       " ('20', '2'): 35.85,\n",
       " ('20', '3'): 42.209,\n",
       " ('20', '4'): 35.405,\n",
       " ('20', '5'): 30.523,\n",
       " ('20', '6'): 39.592,\n",
       " ('20', '7'): 29.948,\n",
       " ('20', '8'): 43.837,\n",
       " ('20', '9'): 42.443,\n",
       " ('20', '10'): 38.986,\n",
       " ('20', '11'): 32.095,\n",
       " ('20', '12'): 45.503,\n",
       " ('20', '13'): 41.973,\n",
       " ('20', '14'): 35.227,\n",
       " ('20', '15'): 28.586,\n",
       " ('20', '16'): 47.945,\n",
       " ('20', '17'): 46.132,\n",
       " ('20', '18'): 37.059,\n",
       " ('20', '19'): 27.286}"
      ]
     },
     "execution_count": 106,
     "metadata": {},
     "output_type": "execute_result"
    }
   ],
   "source": [
    "between_tier_angles_rr"
   ]
  },
  {
   "cell_type": "code",
   "execution_count": 107,
   "metadata": {},
   "outputs": [],
   "source": [
    "within_tier_angles_rr = {}\n",
    "within_tier_angles_tt = {}\n",
    "within_tier_angles_rt = {}\n",
    "within_tier_angles_rt_self = {}"
   ]
  },
  {
   "cell_type": "code",
   "execution_count": 108,
   "metadata": {},
   "outputs": [],
   "source": [
    "missing_unis_teaching = []"
   ]
  },
  {
   "cell_type": "code",
   "execution_count": 109,
   "metadata": {},
   "outputs": [],
   "source": [
    "missing_unis_research = []"
   ]
  },
  {
   "cell_type": "code",
   "execution_count": 110,
   "metadata": {},
   "outputs": [],
   "source": [
    "for tier in america_tiers:\n",
    "    \n",
    "    within_tier_angles_rr[tier] = 0\n",
    "    within_tier_angles_tt[tier] = 0\n",
    "    within_tier_angles_rt[tier] = 0\n",
    "    within_tier_angles_rt_self[tier] = 0\n",
    "\n",
    "    no_checks_rr = 0\n",
    "    no_checks_tt = 0\n",
    "    no_checks_rt = 0\n",
    "    no_checks_self = 0\n",
    "    \n",
    "    unis_per_tier_research[tier] = []\n",
    "    unis_per_tier_teaching[tier] = []\n",
    "    \n",
    "    for uni_1 in america_tiers[tier]:\n",
    "        \n",
    "        \n",
    "        teaching_vector_1, research_vector_1 = get_entity_vector(clean_uni_name(uni_1))\n",
    "        \n",
    "            \n",
    "        if teaching_vector_1 is not None and research_vector_1 is not None:\n",
    "            within_tier_angles_rt_self[tier] += angle_between(research_vector_1, teaching_vector_1)[0]\n",
    "            no_checks_self += 1\n",
    "            \n",
    "        if teaching_vector_1 is None and uni_1 not in missing_unis_teaching:\n",
    "            missing_unis_teaching.append(uni_1)\n",
    "            \n",
    "        if research_vector_1 is None and uni_1 not in missing_unis_research:\n",
    "            missing_unis_research.append(uni_1)\n",
    "            \n",
    "        for uni_2 in america_tiers[tier]:\n",
    "            \n",
    "            teaching_vector_2, research_vector_2 = get_entity_vector(clean_uni_name(uni_2))\n",
    "            \n",
    "            if research_vector_1 is not None and research_vector_2 is not None:\n",
    "                within_tier_angles_rr[tier] += angle_between(research_vector_1, research_vector_2)[0]\n",
    "                no_checks_rr += 1\n",
    "            \n",
    "            if teaching_vector_1 is not None and teaching_vector_2 is not None:\n",
    "                within_tier_angles_tt[tier] += angle_between(teaching_vector_1, teaching_vector_2)[0]\n",
    "                no_checks_tt += 1                \n",
    "            \n",
    "            if research_vector_1 is not None and research_vector_2 is not None and teaching_vector_1 is not None and teaching_vector_2 is not None:\n",
    "                within_tier_angles_rt[tier] += angle_between(research_vector_1, teaching_vector_2)[0] + angle_between(teaching_vector_1, research_vector_2)[0]\n",
    "                no_checks_rt += 2\n",
    "\n",
    "    within_tier_angles_rt_self[tier] = round(within_tier_angles_rt_self[tier] / no_checks_self, 3)\n",
    "    within_tier_angles_rr[tier] = round(within_tier_angles_rr[tier] / no_checks_rr, 3)\n",
    "    within_tier_angles_tt[tier] = round(within_tier_angles_tt[tier] / no_checks_tt, 3)\n",
    "    within_tier_angles_rt[tier] = round(within_tier_angles_rt[tier] / no_checks_rt, 3)"
   ]
  },
  {
   "cell_type": "code",
   "execution_count": 111,
   "metadata": {},
   "outputs": [],
   "source": [
    "between_tier_angles_rr = {}\n",
    "between_tier_angles_tt = {}"
   ]
  },
  {
   "cell_type": "code",
   "execution_count": 112,
   "metadata": {},
   "outputs": [],
   "source": [
    "for tier_1 in america_tiers:\n",
    "    for tier_2 in america_tiers:\n",
    "        if tier_1 == tier_2:\n",
    "            continue\n",
    "        between_tier_angles_rr[(tier_1, tier_2)] = 0\n",
    "        between_tier_angles_tt[(tier_1, tier_2)] = 0\n",
    "        no_checks_rr = 0\n",
    "        no_checks_tt = 0\n",
    "        for uni_1 in america_tiers[tier_1]:\n",
    "            \n",
    "            teaching_vector_1, research_vector_1 = get_entity_vector(clean_uni_name(uni_1))\n",
    "\n",
    "            for uni_2 in america_tiers[tier_2]:\n",
    "                \n",
    "                teaching_vector_2, research_vector_2 = get_entity_vector(clean_uni_name(uni_2))\n",
    "                \n",
    "                if research_vector_1 is not None and research_vector_2 is not None:\n",
    "                    between_tier_angles_rr[(tier_1, tier_2)] += angle_between(research_vector_1, research_vector_2)[0]\n",
    "                    no_checks_rr += 1\n",
    "\n",
    "                if teaching_vector_1 is not None and teaching_vector_2 is not None:\n",
    "                    between_tier_angles_tt[(tier_1, tier_2)] += angle_between(teaching_vector_1, teaching_vector_2)[0]\n",
    "                    no_checks_tt += 1\n",
    "            \n",
    "\n",
    "        between_tier_angles_rr[(tier_1, tier_2)] = round(between_tier_angles_rr[(tier_1, tier_2)] / no_checks_rr, 3)\n",
    "        between_tier_angles_tt[(tier_1, tier_2)] = round(between_tier_angles_tt[(tier_1, tier_2)] / no_checks_tt, 3)"
   ]
  },
  {
   "cell_type": "code",
   "execution_count": 113,
   "metadata": {},
   "outputs": [
    {
     "data": {
      "text/plain": [
       "{0: 51.045, 1: 50.341, 2: 31.588, 3: 41.636, 4: 35.314, 5: 41.158, 6: 40.222}"
      ]
     },
     "execution_count": 113,
     "metadata": {},
     "output_type": "execute_result"
    }
   ],
   "source": [
    "within_tier_angles_rr"
   ]
  },
  {
   "cell_type": "code",
   "execution_count": 114,
   "metadata": {},
   "outputs": [
    {
     "data": {
      "text/plain": [
       "{0: 28.911, 1: 34.214, 2: 28.191, 3: 31.888, 4: 29.3, 5: 32.322, 6: 36.225}"
      ]
     },
     "execution_count": 114,
     "metadata": {},
     "output_type": "execute_result"
    }
   ],
   "source": [
    "within_tier_angles_tt"
   ]
  },
  {
   "cell_type": "code",
   "execution_count": 115,
   "metadata": {},
   "outputs": [],
   "source": [
    "def avg_between_tiers(between_tiers):\n",
    "    tiers = {}\n",
    "    for tier in between_tiers:\n",
    "        tier_1, tier_2 = tier\n",
    "        if tier_1 not in tiers:\n",
    "            tiers[tier_1] = 0\n",
    "        if tier_1 in tiers:\n",
    "            tiers[tier_1] += between_tiers[tier]\n",
    "    \n",
    "    for tier in tiers:\n",
    "        tiers[tier] /= len(tiers)\n",
    "    \n",
    "    return tiers"
   ]
  },
  {
   "cell_type": "code",
   "execution_count": 116,
   "metadata": {},
   "outputs": [
    {
     "data": {
      "text/plain": [
       "{0: 41.802571428571426,\n",
       " 1: 41.28242857142857,\n",
       " 2: 34.19128571428572,\n",
       " 3: 37.70471428571428,\n",
       " 4: 35.48285714285715,\n",
       " 5: 37.553,\n",
       " 6: 37.88514285714286}"
      ]
     },
     "execution_count": 116,
     "metadata": {},
     "output_type": "execute_result"
    }
   ],
   "source": [
    "avg_between_tiers(between_tier_angles_rr)"
   ]
  },
  {
   "cell_type": "code",
   "execution_count": 117,
   "metadata": {},
   "outputs": [
    {
     "data": {
      "text/plain": [
       "{0: 29.44728571428572,\n",
       " 1: 30.081571428571433,\n",
       " 2: 27.695285714285717,\n",
       " 3: 28.908000000000005,\n",
       " 4: 28.256285714285717,\n",
       " 5: 29.45642857142857,\n",
       " 6: 30.542571428571428}"
      ]
     },
     "execution_count": 117,
     "metadata": {},
     "output_type": "execute_result"
    }
   ],
   "source": [
    "avg_between_tiers(between_tier_angles_tt)"
   ]
  },
  {
   "cell_type": "markdown",
   "metadata": {},
   "source": [
    "### geographical/spatial analysis\n",
    "\n",
    "Similar to tier analysis, how do universities relate within and outside the state?"
   ]
  },
  {
   "cell_type": "code",
   "execution_count": 118,
   "metadata": {},
   "outputs": [],
   "source": [
    "reader = csv.reader(open(\"../saved_data_structures/state_unis.csv\"))"
   ]
  },
  {
   "cell_type": "code",
   "execution_count": 119,
   "metadata": {},
   "outputs": [],
   "source": [
    "states = {}"
   ]
  },
  {
   "cell_type": "code",
   "execution_count": 120,
   "metadata": {},
   "outputs": [],
   "source": [
    "for k,v in reader:\n",
    "    states[k] = eval(v)"
   ]
  },
  {
   "cell_type": "code",
   "execution_count": 121,
   "metadata": {},
   "outputs": [],
   "source": [
    "within_state_angles_rr = {}\n",
    "between_state_angles_rr = {}\n",
    "\n",
    "within_state_angles_rt = {}\n",
    "within_state_angles_rt_self = {}\n",
    "\n",
    "within_state_angles_tt = {}\n",
    "between_state_angles_tt = {}"
   ]
  },
  {
   "cell_type": "code",
   "execution_count": 122,
   "metadata": {},
   "outputs": [],
   "source": [
    "missing_unis_research_states = []\n",
    "missing_unis_teaching_states = []"
   ]
  },
  {
   "cell_type": "code",
   "execution_count": 123,
   "metadata": {},
   "outputs": [],
   "source": [
    "for state in states:\n",
    "    \n",
    "    within_state_angles_rr[state] = 0\n",
    "    within_state_angles_tt[state] = 0\n",
    "    within_state_angles_rt[state] = 0\n",
    "    within_state_angles_rt_self[state] = 0\n",
    "\n",
    "    no_checks_rr = 0\n",
    "    no_checks_tt = 0\n",
    "    no_checks_rt = 0\n",
    "    no_checks_self = 0\n",
    "    \n",
    "    for uni_1 in states[state]:\n",
    "        \n",
    "        teaching_vector_1, research_vector_1 = get_entity_vector(uni_1)\n",
    "        \n",
    "        if teaching_vector_1 is not None and research_vector_1 is not None:\n",
    "            within_state_angles_rt_self[state] += angle_between(research_vector_1, teaching_vector_1)[0]\n",
    "            no_checks_self += 1\n",
    "            \n",
    "        if teaching_vector_1 is None and uni_1 not in missing_unis_teaching_states:\n",
    "            missing_unis_teaching_states.append(uni_1)\n",
    "            \n",
    "        if research_vector_1 is None and uni_1 not in missing_unis_research_states:\n",
    "            missing_unis_research_states.append(uni_1)\n",
    "            \n",
    "        for uni_2 in states[state]:\n",
    "            \n",
    "            teaching_vector_2, research_vector_2 = get_entity_vector(uni_2)\n",
    "            \n",
    "            if research_vector_1 is not None and research_vector_2 is not None:\n",
    "                within_state_angles_rr[state] += angle_between(research_vector_1, research_vector_2)[0]\n",
    "                no_checks_rr += 1\n",
    "            \n",
    "            if teaching_vector_1 is not None and teaching_vector_2 is not None:\n",
    "                within_state_angles_tt[state] += angle_between(teaching_vector_1, teaching_vector_2)[0]\n",
    "                no_checks_tt += 1                \n",
    "            \n",
    "            if research_vector_1 is not None and research_vector_2 is not None and teaching_vector_1 is not None and teaching_vector_2 is not None:\n",
    "                within_state_angles_rt[state] += angle_between(research_vector_1, teaching_vector_2)[0] + angle_between(teaching_vector_1, research_vector_2)[0]\n",
    "                no_checks_rt += 2\n",
    "    try:\n",
    "        within_state_angles_rt_self[state] = round(within_state_angles_rt_self[state] / no_checks_self, 3)\n",
    "        within_state_angles_rr[state] = round(within_state_angles_rr[state] / no_checks_rr, 3)\n",
    "        within_state_angles_tt[state] = round(within_state_angles_tt[state] / no_checks_tt, 3)\n",
    "        within_state_angles_rt[state] = round(within_state_angles_rt[state] / no_checks_rt, 3)\n",
    "    except ZeroDivisionError:\n",
    "        continue\n"
   ]
  },
  {
   "cell_type": "code",
   "execution_count": 124,
   "metadata": {},
   "outputs": [
    {
     "name": "stdout",
     "output_type": "stream",
     "text": [
      "TX 119\n",
      "MS 27\n",
      "MA 87\n",
      "CA 217\n",
      "GA 61\n",
      "NJ 43\n",
      "MI 67\n",
      "FL 69\n",
      "AL 44\n",
      "NM 15\n",
      "MO 53\n",
      "NC 84\n",
      "NY 152\n",
      "OH 75\n",
      "IL 102\n",
      "WA 49\n",
      "MD 41\n",
      "SC 44\n",
      "MT 10\n",
      "KY 31\n",
      "IA 39\n",
      "LA 28\n",
      "UT 13\n",
      "CO 34\n",
      "HI 11\n",
      "OK 34\n",
      "WY 7\n",
      "PA 111\n",
      "IN 40\n",
      "AZ 23\n",
      "VA 63\n",
      "VT 15\n",
      "WI 53\n",
      "ID 11\n",
      "AR 31\n",
      "DC 8\n",
      "TN 51\n",
      "OR 35\n",
      "NV 9\n",
      "MN 57\n",
      "NH 15\n",
      "KS 44\n",
      "RI 10\n",
      "ME 18\n",
      "WV 19\n",
      "AK 5\n",
      "SD 10\n",
      "NE 23\n",
      "ND 11\n",
      "CT 31\n",
      "DE 5\n",
      " 1\n"
     ]
    }
   ],
   "source": [
    "state_lens = {}\n",
    "for state in states:\n",
    "    state_lens[state] = len(states[state])\n",
    "    print(state, len(states[state]))"
   ]
  },
  {
   "cell_type": "code",
   "execution_count": 125,
   "metadata": {},
   "outputs": [],
   "source": [
    "import seaborn as sns"
   ]
  },
  {
   "cell_type": "code",
   "execution_count": 126,
   "metadata": {},
   "outputs": [
    {
     "data": {
      "image/png": "[encoded data removed]",
      "text/plain": [
       "<Figure size 432x288 with 1 Axes>"
      ]
     },
     "metadata": {
      "needs_background": "light"
     },
     "output_type": "display_data"
    }
   ],
   "source": [
    "ax = sns.distplot(list(state_lens.values()))\n",
    "ax.set(xlabel=\"No. of Unis\", ylabel=\"Proportion of Counts\", title=\"No. of Unis in States\")\n",
    "plt.show()"
   ]
  },
  {
   "cell_type": "code",
   "execution_count": 127,
   "metadata": {},
   "outputs": [
    {
     "data": {
      "text/plain": [
       "{'TX': 59.991,\n",
       " 'MS': 57.463,\n",
       " 'MA': 53.058,\n",
       " 'CA': 59.645,\n",
       " 'GA': 48.188,\n",
       " 'NJ': 57.283,\n",
       " 'MI': 54.481,\n",
       " 'FL': 58.017,\n",
       " 'AL': 49.351,\n",
       " 'NM': 59.241,\n",
       " 'MO': 61.031,\n",
       " 'NC': 59.486,\n",
       " 'NY': 54.384,\n",
       " 'OH': 47.178,\n",
       " 'IL': 57.064,\n",
       " 'WA': 55.169,\n",
       " 'MD': 58.946,\n",
       " 'SC': 51.56,\n",
       " 'MT': 41.245,\n",
       " 'KY': 48.424,\n",
       " 'IA': 51.047,\n",
       " 'LA': 53.963,\n",
       " 'UT': 48.952,\n",
       " 'CO': 55.48,\n",
       " 'HI': 49.892,\n",
       " 'OK': 53.603,\n",
       " 'WY': 40.185,\n",
       " 'PA': 49.412,\n",
       " 'IN': 46.29,\n",
       " 'AZ': 56.544,\n",
       " 'VA': 48.128,\n",
       " 'VT': 45.368,\n",
       " 'WI': 48.716,\n",
       " 'ID': 47.47,\n",
       " 'AR': 44.999,\n",
       " 'DC': 40.039,\n",
       " 'TN': 55.7,\n",
       " 'OR': 49.739,\n",
       " 'NV': 51.308,\n",
       " 'MN': 49.14,\n",
       " 'NH': 49.616,\n",
       " 'KS': 50.917,\n",
       " 'RI': 45.052,\n",
       " 'ME': 38.45,\n",
       " 'WV': 46.869,\n",
       " 'AK': 14.949,\n",
       " 'SD': 53.862,\n",
       " 'NE': 48.169,\n",
       " 'ND': 58.02,\n",
       " 'CT': 47.793,\n",
       " 'DE': 34.962,\n",
       " '': 0}"
      ]
     },
     "execution_count": 127,
     "metadata": {},
     "output_type": "execute_result"
    }
   ],
   "source": [
    "within_state_angles_rr"
   ]
  },
  {
   "cell_type": "code",
   "execution_count": 128,
   "metadata": {},
   "outputs": [
    {
     "data": {
      "text/plain": [
       "array([[1.        , 0.41507249],\n",
       "       [0.41507249, 1.        ]])"
      ]
     },
     "execution_count": 128,
     "metadata": {},
     "output_type": "execute_result"
    }
   ],
   "source": [
    "np.corrcoef(np.array(list(within_state_angles_rr.values())), np.array(list(state_lens.values())))"
   ]
  },
  {
   "cell_type": "code",
   "execution_count": 129,
   "metadata": {},
   "outputs": [
    {
     "data": {
      "text/plain": [
       "array([[1.        , 0.35749978],\n",
       "       [0.35749978, 1.        ]])"
      ]
     },
     "execution_count": 129,
     "metadata": {},
     "output_type": "execute_result"
    }
   ],
   "source": [
    "np.corrcoef(np.array(list(within_state_angles_tt.values())), np.array(list(state_lens.values())))"
   ]
  },
  {
   "cell_type": "code",
   "execution_count": 130,
   "metadata": {},
   "outputs": [
    {
     "data": {
      "text/plain": [
       "{'TX': 44.045,\n",
       " 'MS': 40.895,\n",
       " 'MA': 47.931,\n",
       " 'CA': 44.891,\n",
       " 'GA': 49.349,\n",
       " 'NJ': 41.064,\n",
       " 'MI': 46.286,\n",
       " 'FL': 45.178,\n",
       " 'AL': 51.087,\n",
       " 'NM': 42.477,\n",
       " 'MO': 48.177,\n",
       " 'NC': 50.315,\n",
       " 'NY': 48.953,\n",
       " 'OH': 46.914,\n",
       " 'IL': 48.749,\n",
       " 'WA': 45.68,\n",
       " 'MD': 43.382,\n",
       " 'SC': 50.455,\n",
       " 'MT': 43.787,\n",
       " 'KY': 46.077,\n",
       " 'IA': 51.026,\n",
       " 'LA': 47.226,\n",
       " 'UT': 36.198,\n",
       " 'CO': 45.573,\n",
       " 'HI': 44.649,\n",
       " 'OK': 46.189,\n",
       " 'WY': 28.461,\n",
       " 'PA': 47.31,\n",
       " 'IN': 43.288,\n",
       " 'AZ': 48.368,\n",
       " 'VA': 45.315,\n",
       " 'VT': 45.873,\n",
       " 'WI': 48.532,\n",
       " 'ID': 39.135,\n",
       " 'AR': 48.085,\n",
       " 'DC': 33.647,\n",
       " 'TN': 46.381,\n",
       " 'OR': 47.739,\n",
       " 'NV': 25.763,\n",
       " 'MN': 48.884,\n",
       " 'NH': 45.802,\n",
       " 'KS': 50.089,\n",
       " 'RI': 36.359,\n",
       " 'ME': 47.037,\n",
       " 'WV': 48.126,\n",
       " 'AK': 38.289,\n",
       " 'SD': 37.626,\n",
       " 'NE': 49.078,\n",
       " 'ND': 47.751,\n",
       " 'CT': 47.612,\n",
       " 'DE': 36.873,\n",
       " '': 0}"
      ]
     },
     "execution_count": 130,
     "metadata": {},
     "output_type": "execute_result"
    }
   ],
   "source": [
    "within_state_angles_tt"
   ]
  },
  {
   "cell_type": "code",
   "execution_count": 131,
   "metadata": {},
   "outputs": [],
   "source": [
    "for state_1 in states:\n",
    "    for state_2 in states:\n",
    "        if state_1 == state_2:\n",
    "            continue\n",
    "        between_state_angles_rr[(state_1, state_2)] = 0\n",
    "        between_state_angles_tt[(state_1, state_2)] = 0\n",
    "        no_checks_rr = 0\n",
    "        no_checks_tt = 0\n",
    "        for uni_1 in states[state_1]:\n",
    "            \n",
    "            teaching_vector_1, research_vector_1 = get_entity_vector(uni_1)\n",
    "\n",
    "            for uni_2 in states[state_2]:\n",
    "                \n",
    "                teaching_vector_2, research_vector_2 = get_entity_vector(uni_2)\n",
    "                \n",
    "                if research_vector_1 is not None and research_vector_2 is not None:\n",
    "                    between_state_angles_rr[(state_1, state_2)] += angle_between(research_vector_1, research_vector_2)[0]\n",
    "                    no_checks_rr += 1\n",
    "\n",
    "                if teaching_vector_1 is not None and teaching_vector_2 is not None:\n",
    "                    between_state_angles_tt[(state_1, state_2)] += angle_between(teaching_vector_1, teaching_vector_2)[0]\n",
    "                    no_checks_tt += 1                \n",
    "        try:\n",
    "            between_state_angles_rr[(state_1, state_2)] = round(between_state_angles_rr[(state_1, state_2)] / no_checks_rr, 3)\n",
    "            between_state_angles_tt[(state_1, state_2)] = round(between_state_angles_tt[(state_1, state_2)] / no_checks_tt, 3)\n",
    "        except ZeroDivisionError:\n",
    "            continue"
   ]
  },
  {
   "cell_type": "code",
   "execution_count": 132,
   "metadata": {},
   "outputs": [],
   "source": [
    "avg_angle_between_rr = 0\n",
    "avg_angle_between_tt = 0"
   ]
  },
  {
   "cell_type": "code",
   "execution_count": 133,
   "metadata": {},
   "outputs": [
    {
     "data": {
      "text/plain": [
       "{'TX': 55.63792307692306,\n",
       " 'MS': 56.298942307692315,\n",
       " 'MA': 52.50505769230771,\n",
       " 'CA': 55.32246153846154,\n",
       " 'GA': 50.24534615384614,\n",
       " 'NJ': 54.72859615384617,\n",
       " 'MI': 52.9698076923077,\n",
       " 'FL': 54.770230769230764,\n",
       " 'AL': 50.987173076923064,\n",
       " 'NM': 59.94465384615384,\n",
       " 'MO': 56.66259615384616,\n",
       " 'NC': 55.86284615384614,\n",
       " 'NY': 52.819384615384635,\n",
       " 'OH': 49.70007692307692,\n",
       " 'IL': 54.23136538461537,\n",
       " 'WA': 53.503576923076935,\n",
       " 'MD': 55.64990384615385,\n",
       " 'SC': 52.03090384615386,\n",
       " 'MT': 50.192423076923085,\n",
       " 'KY': 50.83542307692308,\n",
       " 'IA': 51.80596153846155,\n",
       " 'LA': 53.82621153846155,\n",
       " 'UT': 52.083519230769234,\n",
       " 'CO': 54.10288461538461,\n",
       " 'HI': 53.51776923076922,\n",
       " 'OK': 53.32949999999999,\n",
       " 'WY': 52.24438461538462,\n",
       " 'PA': 50.558538461538475,\n",
       " 'IN': 49.59425,\n",
       " 'AZ': 55.95790384615385,\n",
       " 'VA': 50.14053846153846,\n",
       " 'VT': 50.99963461538461,\n",
       " 'WI': 50.43694230769233,\n",
       " 'ID': 51.57957692307691,\n",
       " 'AR': 49.75032692307691,\n",
       " 'DC': 49.00067307692307,\n",
       " 'TN': 53.829403846153845,\n",
       " 'OR': 51.29573076923077,\n",
       " 'NV': 56.73321153846152,\n",
       " 'MN': 50.94028846153847,\n",
       " 'NH': 52.12688461538461,\n",
       " 'KS': 52.099807692307685,\n",
       " 'RI': 50.58771153846153,\n",
       " 'ME': 47.78575,\n",
       " 'WV': 50.76842307692308,\n",
       " 'AK': 44.78730769230769,\n",
       " 'SD': 54.894615384615385,\n",
       " 'NE': 51.5796923076923,\n",
       " 'ND': 59.03213461538462,\n",
       " 'CT': 50.98576923076923,\n",
       " 'DE': 49.88023076923076,\n",
       " '': 0.0}"
      ]
     },
     "execution_count": 133,
     "metadata": {},
     "output_type": "execute_result"
    }
   ],
   "source": [
    "avg_between_tiers(between_state_angles_rr)"
   ]
  },
  {
   "cell_type": "code",
   "execution_count": 134,
   "metadata": {},
   "outputs": [],
   "source": [
    "for pairs in between_state_angles_rr:\n",
    "    avg_angle_between_rr += between_state_angles_rr[pairs]\n",
    "    avg_angle_between_tt += between_state_angles_tt[pairs]"
   ]
  },
  {
   "cell_type": "code",
   "execution_count": 135,
   "metadata": {},
   "outputs": [],
   "source": [
    "avg_angle_between_rr /= len(between_state_angles_rr)\n",
    "avg_angle_between_tt /= len(between_state_angles_tt)"
   ]
  },
  {
   "cell_type": "code",
   "execution_count": 136,
   "metadata": {},
   "outputs": [],
   "source": [
    "avg_angle_within_rr = 0\n",
    "avg_angle_within_tt = 0"
   ]
  },
  {
   "cell_type": "code",
   "execution_count": 137,
   "metadata": {},
   "outputs": [],
   "source": [
    "for state in within_state_angles_rr:\n",
    "    avg_angle_within_rr += within_state_angles_rr[state]\n",
    "    avg_angle_within_tt += within_state_angles_tt[state]"
   ]
  },
  {
   "cell_type": "code",
   "execution_count": 138,
   "metadata": {},
   "outputs": [],
   "source": [
    "avg_angle_within_rr /= len(within_state_angles_rr) - 1\n",
    "avg_angle_within_tt /= len(within_state_angles_tt) - 1"
   ]
  },
  {
   "cell_type": "code",
   "execution_count": 139,
   "metadata": {},
   "outputs": [
    {
     "data": {
      "text/plain": [
       "(52.57165233785832, 46.40535897435899, 50.31056862745098, 44.66619607843138)"
      ]
     },
     "execution_count": 139,
     "metadata": {},
     "output_type": "execute_result"
    }
   ],
   "source": [
    "avg_angle_between_rr, avg_angle_between_tt, avg_angle_within_rr, avg_angle_within_tt"
   ]
  },
  {
   "cell_type": "markdown",
   "metadata": {},
   "source": [
    "### Spatial Unit City Analysis"
   ]
  },
  {
   "cell_type": "code",
   "execution_count": 140,
   "metadata": {},
   "outputs": [],
   "source": [
    "reader = csv.reader(open(\"../saved_data_structures/city_unis.csv\"))"
   ]
  },
  {
   "cell_type": "code",
   "execution_count": 141,
   "metadata": {},
   "outputs": [],
   "source": [
    "cities = {}"
   ]
  },
  {
   "cell_type": "code",
   "execution_count": 142,
   "metadata": {},
   "outputs": [],
   "source": [
    "for k,v in reader:\n",
    "    cities[k] = eval(v)"
   ]
  },
  {
   "cell_type": "code",
   "execution_count": 143,
   "metadata": {},
   "outputs": [],
   "source": [
    "within_city_angles_rr = {}\n",
    "between_city_angles_rr = {}\n",
    "\n",
    "within_city_angles_rt = {}\n",
    "within_city_angles_rt_self = {}\n",
    "\n",
    "within_city_angles_tt = {}\n",
    "between_city_angles_tt = {}"
   ]
  },
  {
   "cell_type": "code",
   "execution_count": 144,
   "metadata": {},
   "outputs": [],
   "source": [
    "missing_unis_research_cities = []\n",
    "missing_unis_teaching_cities = []"
   ]
  },
  {
   "cell_type": "code",
   "execution_count": 145,
   "metadata": {},
   "outputs": [
    {
     "ename": "TypeError",
     "evalue": "type numpy.ndarray doesn't define __round__ method",
     "output_type": "error",
     "traceback": [
      "\u001b[0;31m---------------------------------------------------------------------------\u001b[0m",
      "\u001b[0;31mTypeError\u001b[0m                                 Traceback (most recent call last)",
      "\u001b[0;32m<ipython-input-145-ef97d9a5583e>\u001b[0m in \u001b[0;36m<module>\u001b[0;34m\u001b[0m\n\u001b[1;32m     61\u001b[0m         \u001b[0;32mpass\u001b[0m\u001b[0;34m\u001b[0m\u001b[0;34m\u001b[0m\u001b[0m\n\u001b[1;32m     62\u001b[0m     \u001b[0;32mtry\u001b[0m\u001b[0;34m:\u001b[0m\u001b[0;34m\u001b[0m\u001b[0;34m\u001b[0m\u001b[0m\n\u001b[0;32m---> 63\u001b[0;31m         \u001b[0mwithin_city_angles_rt\u001b[0m\u001b[0;34m[\u001b[0m\u001b[0mcity\u001b[0m\u001b[0;34m]\u001b[0m \u001b[0;34m=\u001b[0m \u001b[0mround\u001b[0m\u001b[0;34m(\u001b[0m\u001b[0mwithin_city_angles_rt\u001b[0m\u001b[0;34m[\u001b[0m\u001b[0mcity\u001b[0m\u001b[0;34m]\u001b[0m \u001b[0;34m/\u001b[0m \u001b[0mno_checks_rt\u001b[0m\u001b[0;34m,\u001b[0m \u001b[0;36m3\u001b[0m\u001b[0;34m)\u001b[0m\u001b[0;34m\u001b[0m\u001b[0;34m\u001b[0m\u001b[0m\n\u001b[0m\u001b[1;32m     64\u001b[0m     \u001b[0;32mexcept\u001b[0m \u001b[0mZeroDivisionError\u001b[0m\u001b[0;34m:\u001b[0m\u001b[0;34m\u001b[0m\u001b[0;34m\u001b[0m\u001b[0m\n\u001b[1;32m     65\u001b[0m         \u001b[0;32mpass\u001b[0m\u001b[0;34m\u001b[0m\u001b[0;34m\u001b[0m\u001b[0m\n",
      "\u001b[0;31mTypeError\u001b[0m: type numpy.ndarray doesn't define __round__ method"
     ]
    }
   ],
   "source": [
    "for city in cities:\n",
    "    \n",
    "        \n",
    "    if len(cities[city]) < 2:\n",
    "        continue\n",
    "    \n",
    "    within_city_angles_rr[city] = 0\n",
    "    within_city_angles_tt[city] = 0\n",
    "    within_city_angles_rt[city] = 0\n",
    "    within_city_angles_rt_self[city] = 0\n",
    "\n",
    "    no_checks_rr = 0\n",
    "    no_checks_tt = 0\n",
    "    no_checks_rt = 0\n",
    "    no_checks_self = 0\n",
    "\n",
    "    \n",
    "    for uni_1 in cities[city]:\n",
    "        \n",
    "        teaching_vector_1, research_vector_1 = get_entity_vector(uni_1)\n",
    "        \n",
    "        if teaching_vector_1 is not None and research_vector_1 is not None:\n",
    "            within_city_angles_rt_self[city] += angle_between(research_vector_1, teaching_vector_1)[0]\n",
    "            no_checks_self += 1\n",
    "            \n",
    "        if teaching_vector_1 is None and uni_1 not in missing_unis_teaching_states:\n",
    "            missing_unis_teaching_cities.append(uni_1)\n",
    "            \n",
    "        if research_vector_1 is None and uni_1 not in missing_unis_research_states:\n",
    "            missing_unis_research_citites.append(uni_1)\n",
    "            \n",
    "        for uni_2 in cities[city]:\n",
    "            \n",
    "            if uni_1 == uni_2:\n",
    "                continue\n",
    "            \n",
    "            teaching_vector_2, research_vector_2 = get_entity_vector(uni_2)\n",
    "            \n",
    "            if research_vector_1 is not None and research_vector_2 is not None:\n",
    "                within_city_angles_rr[city] += angle_between(research_vector_1, research_vector_2)[0]\n",
    "                no_checks_rr += 1\n",
    "            \n",
    "            if teaching_vector_1 is not None and teaching_vector_2 is not None:\n",
    "                within_city_angles_tt[city] += angle_between(teaching_vector_1, teaching_vector_2)[0]\n",
    "                no_checks_tt += 1                \n",
    "            \n",
    "            if research_vector_1 is not None and research_vector_2 is not None and teaching_vector_1 is not None and teaching_vector_2 is not None:\n",
    "                within_city_angles_rt[city] += angle_between(research_vector_1, teaching_vector_2)[0] + angle_between(teaching_vector_1, research_vector_2)\n",
    "                no_checks_rt += 2\n",
    "    try:\n",
    "        within_city_angles_rt_self[city] = round(within_city_angles_rt_self[city] / no_checks_self, 3)\n",
    "    except ZeroDivisionError:\n",
    "        pass\n",
    "    try:\n",
    "        within_city_angles_rr[city] = round(within_city_angles_rr[city] / no_checks_rr, 3)\n",
    "    except ZeroDivisionError:\n",
    "        pass\n",
    "    try:\n",
    "        within_city_angles_tt[city] = round(within_city_angles_tt[city] / no_checks_tt, 3)\n",
    "    except ZeroDivisionError:\n",
    "        pass\n",
    "    try:\n",
    "        within_city_angles_rt[city] = round(within_city_angles_rt[city] / no_checks_rt, 3)\n",
    "    except ZeroDivisionError:\n",
    "        pass"
   ]
  },
  {
   "cell_type": "code",
   "execution_count": null,
   "metadata": {},
   "outputs": [],
   "source": [
    "within_city_angles_rr['Chicago']"
   ]
  },
  {
   "cell_type": "code",
   "execution_count": null,
   "metadata": {},
   "outputs": [],
   "source": [
    "within_city_angles_rr['Houston']"
   ]
  },
  {
   "cell_type": "code",
   "execution_count": null,
   "metadata": {},
   "outputs": [],
   "source": [
    "between_city_angles_rr = {}\n",
    "between_city_angles_tt = {}"
   ]
  },
  {
   "cell_type": "code",
   "execution_count": null,
   "metadata": {},
   "outputs": [],
   "source": [
    "for city_1 in cities:\n",
    "    for city_2 in cities:\n",
    "        if city_1 == city_2:\n",
    "            continue\n",
    "        between_city_angles_rr[(city_1, city_2)] = 0\n",
    "        between_city_angles_tt[(city_1, city_2)] = 0\n",
    "        no_checks_rr = 0\n",
    "        no_checks_tt = 0\n",
    "        for uni_1 in cities[city_1]:\n",
    "            \n",
    "            teaching_vector_1, research_vector_1 = get_entity_vector(uni_1)\n",
    "\n",
    "            for uni_2 in cities[city_2]:\n",
    "                \n",
    "                teaching_vector_2, research_vector_2 = get_entity_vector(uni_2)\n",
    "                \n",
    "                if research_vector_1 is not None and research_vector_2 is not None:\n",
    "                    between_city_angles_rr[(city_1, city_2)] += angle_between(research_vector_1, research_vector_2)[0]\n",
    "                    no_checks_rr += 1\n",
    "\n",
    "                if teaching_vector_1 is not None and teaching_vector_2 is not None:\n",
    "                    between_city_angles_tt[(city_1, city_2)] += angle_between(teaching_vector_1, teaching_vector_2)[0]\n",
    "                    no_checks_tt += 1                \n",
    "        try:\n",
    "            between_city_angles_rr[(city_1, city_2)] = round(between_city_angles_rr[(city_1, city_2)], no_checks_rr, 3)\n",
    "            between_city_angles_tt[(city_1, city_2)] = round(between_city_angles_tt[(city_1, city_2)], no_checks_tt, 3)\n",
    "        except ZeroDivisionError:\n",
    "            continue"
   ]
  },
  {
   "cell_type": "code",
   "execution_count": null,
   "metadata": {},
   "outputs": [],
   "source": [
    "import seaborn as sns"
   ]
  },
  {
   "cell_type": "code",
   "execution_count": null,
   "metadata": {},
   "outputs": [],
   "source": [
    "within_city_angles_rr['Chicago']"
   ]
  },
  {
   "cell_type": "code",
   "execution_count": null,
   "metadata": {},
   "outputs": [],
   "source": [
    "def analyse_cities(cities, rev=True):\n",
    "    angles = list(cities.values())\n",
    "    angles = list(filter((0).__ne__, angles))\n",
    "    ax = sns.distplot(angles)\n",
    "    ax.set(xlabel=\"Angles\", ylabel=\"Proportion of Counts\", title=\"Distribution of Angles\")\n",
    "    plt.show()\n",
    "    sorted_vals = sorted(cities.items(), key=operator.itemgetter(1))\n",
    "    if rev:\n",
    "        sorted_vals.reverse()\n",
    "        return sorted_vals\n",
    "    else:\n",
    "        return sorted_vals"
   ]
  },
  {
   "cell_type": "code",
   "execution_count": null,
   "metadata": {},
   "outputs": [],
   "source": [
    "sorted_rr_cities = analyse_cities(within_city_angles_rr)"
   ]
  },
  {
   "cell_type": "code",
   "execution_count": null,
   "metadata": {},
   "outputs": [],
   "source": [
    "sorted_tt_cities = analyse_cities(within_city_angles_tt)"
   ]
  },
  {
   "cell_type": "code",
   "execution_count": null,
   "metadata": {},
   "outputs": [],
   "source": [
    "sorted_rr_cities"
   ]
  },
  {
   "cell_type": "code",
   "execution_count": null,
   "metadata": {},
   "outputs": [],
   "source": [
    "city_nums = {}\n",
    "for city in cities:\n",
    "    city_nums[city] = len(cities[city])\n",
    "    if city_nums[city] > 15:\n",
    "        print(city)"
   ]
  },
  {
   "cell_type": "code",
   "execution_count": null,
   "metadata": {},
   "outputs": [],
   "source": [
    "ax = sns.distplot(list(city_nums.values()))\n",
    "ax.set(xlabel=\"No. of Unis\", ylabel=\"Proportion of Counts\", title=\"No. of Unis in Cities\")\n",
    "plt.show()"
   ]
  },
  {
   "cell_type": "markdown",
   "metadata": {},
   "source": [
    "### Centre of Mass for USA and States\n",
    "\n",
    "Calculate the centroid values for all of USA."
   ]
  },
  {
   "cell_type": "code",
   "execution_count": null,
   "metadata": {},
   "outputs": [],
   "source": [
    "research_usa = []"
   ]
  },
  {
   "cell_type": "code",
   "execution_count": null,
   "metadata": {},
   "outputs": [],
   "source": [
    "for city in research_cities:\n",
    "    research_usa.append(research_cities[city][0])"
   ]
  },
  {
   "cell_type": "code",
   "execution_count": null,
   "metadata": {},
   "outputs": [],
   "source": [
    "com_usa_research = np.mean(research_usa, axis=0)"
   ]
  },
  {
   "cell_type": "code",
   "execution_count": null,
   "metadata": {},
   "outputs": [],
   "source": [
    "#job_usa = []"
   ]
  },
  {
   "cell_type": "code",
   "execution_count": null,
   "metadata": {},
   "outputs": [],
   "source": [
    "#for city in job_cities:\n",
    "#    job_usa.append(job_cities[city][0])"
   ]
  },
  {
   "cell_type": "code",
   "execution_count": null,
   "metadata": {},
   "outputs": [],
   "source": [
    "#com_usa_jobs = np.mean(job_usa, axis=0)"
   ]
  },
  {
   "cell_type": "code",
   "execution_count": null,
   "metadata": {},
   "outputs": [],
   "source": [
    "teaching_usa = []"
   ]
  },
  {
   "cell_type": "code",
   "execution_count": null,
   "metadata": {},
   "outputs": [],
   "source": [
    "for city in teaching_cities:\n",
    "    teaching_usa.append(teaching_cities[city][0])"
   ]
  },
  {
   "cell_type": "code",
   "execution_count": null,
   "metadata": {},
   "outputs": [],
   "source": [
    "com_usa_teaching = np.mean(teaching_usa, axis=0)"
   ]
  },
  {
   "cell_type": "code",
   "execution_count": null,
   "metadata": {},
   "outputs": [],
   "source": [
    "research_diff_orgs = {}"
   ]
  },
  {
   "cell_type": "code",
   "execution_count": null,
   "metadata": {},
   "outputs": [],
   "source": [
    "for org in research_orgs:\n",
    "    research_diff_orgs[org] = round(angle_between(com_usa_research, research_orgs[org][0])[0], 3)"
   ]
  },
  {
   "cell_type": "code",
   "execution_count": null,
   "metadata": {},
   "outputs": [],
   "source": [
    "sorted_diff_research_orgs = sorted(research_diff_orgs.items(), key=operator.itemgetter(1))"
   ]
  },
  {
   "cell_type": "code",
   "execution_count": null,
   "metadata": {},
   "outputs": [],
   "source": [
    "sorted_diff_research_orgs[:10]"
   ]
  },
  {
   "cell_type": "code",
   "execution_count": null,
   "metadata": {},
   "outputs": [],
   "source": [
    "sorted_diff_research_orgs.reverse()"
   ]
  },
  {
   "cell_type": "code",
   "execution_count": null,
   "metadata": {},
   "outputs": [],
   "source": [
    "sorted_diff_research_orgs[:10]"
   ]
  },
  {
   "cell_type": "code",
   "execution_count": null,
   "metadata": {},
   "outputs": [],
   "source": [
    "teaching_diff_orgs = {}"
   ]
  },
  {
   "cell_type": "code",
   "execution_count": null,
   "metadata": {},
   "outputs": [],
   "source": [
    "for org in teaching_orgs:\n",
    "    teaching_diff_orgs[org] = round(angle_between(com_usa_teaching, teaching_orgs[org][0])[0], 3)"
   ]
  },
  {
   "cell_type": "code",
   "execution_count": null,
   "metadata": {},
   "outputs": [],
   "source": [
    "sorted_diff_teaching_orgs = sorted(teaching_diff_orgs.items(), key=operator.itemgetter(1))"
   ]
  },
  {
   "cell_type": "code",
   "execution_count": null,
   "metadata": {},
   "outputs": [],
   "source": [
    "sorted_diff_teaching_orgs[:10]"
   ]
  },
  {
   "cell_type": "code",
   "execution_count": null,
   "metadata": {},
   "outputs": [],
   "source": [
    "sorted_diff_teaching_orgs.reverse()\n",
    "sorted_diff_teaching_orgs[:10]"
   ]
  },
  {
   "cell_type": "code",
   "execution_count": null,
   "metadata": {},
   "outputs": [],
   "source": [
    "#job_diff_cities = {}"
   ]
  },
  {
   "cell_type": "code",
   "execution_count": null,
   "metadata": {},
   "outputs": [],
   "source": [
    "#for city in job_cities:\n",
    "#    job_diff_cities[city] = round(angle_between(com_usa_jobs, job_cities[city][0])[0], 3)"
   ]
  },
  {
   "cell_type": "code",
   "execution_count": null,
   "metadata": {},
   "outputs": [],
   "source": [
    "#sorted_diff_job_cities = sorted(job_diff_cities.items(), key=operator.itemgetter(1))"
   ]
  },
  {
   "cell_type": "code",
   "execution_count": null,
   "metadata": {},
   "outputs": [],
   "source": [
    "#sorted_diff_job_cities[:10]"
   ]
  },
  {
   "cell_type": "code",
   "execution_count": null,
   "metadata": {},
   "outputs": [],
   "source": [
    "#sorted_diff_job_cities.reverse()\n",
    "#sorted_diff_job_cities[:10]"
   ]
  },
  {
   "cell_type": "markdown",
   "metadata": {},
   "source": [
    "### State wise angle comparisons"
   ]
  },
  {
   "cell_type": "code",
   "execution_count": null,
   "metadata": {},
   "outputs": [],
   "source": [
    "state_vectors_res, state_vectors_teach = {}, {}"
   ]
  },
  {
   "cell_type": "code",
   "execution_count": null,
   "metadata": {},
   "outputs": [],
   "source": [
    "for state in states:\n",
    "    state_vectors_res[state] = []\n",
    "    state_vectors_teach[state] = []\n",
    "    for uni in states[state]:\n",
    "        try:\n",
    "            state_vectors_res[state].append(research_orgs[teaching_to_research_match[uni]][0])\n",
    "        except KeyError:\n",
    "            pass\n",
    "        try:\n",
    "            state_vectors_teach[state].append(teaching_orgs[uni][0])\n",
    "        except KeyError:\n",
    "            pass"
   ]
  },
  {
   "cell_type": "code",
   "execution_count": null,
   "metadata": {},
   "outputs": [],
   "source": [
    "for state in state_vectors_res:\n",
    "    state_vectors_res[state] = np.mean(state_vectors_res[state], axis=0)\n",
    "    state_vectors_teach[state] = np.mean(state_vectors_teach[state], axis=0)"
   ]
  },
  {
   "cell_type": "code",
   "execution_count": null,
   "metadata": {},
   "outputs": [],
   "source": [
    "state_angles_usa_res, state_angles_usa_teach = {}, {}"
   ]
  },
  {
   "cell_type": "code",
   "execution_count": null,
   "metadata": {},
   "outputs": [],
   "source": [
    "for state in state_vectors_res:\n",
    "    state_angles_usa_res[state] = round(angle_between(state_vectors_res[state], com_usa_research)[0], 3)\n",
    "    state_angles_usa_teach[state] = round(angle_between(state_vectors_teach[state], com_usa_teaching)[0], 3)"
   ]
  },
  {
   "cell_type": "code",
   "execution_count": null,
   "metadata": {},
   "outputs": [],
   "source": [
    "state_angles_usa_res"
   ]
  },
  {
   "cell_type": "code",
   "execution_count": null,
   "metadata": {},
   "outputs": [],
   "source": [
    "state_angles_usa_teach"
   ]
  },
  {
   "cell_type": "markdown",
   "metadata": {},
   "source": [
    "### Norm - Variance Vector Number Analysis\n",
    "\n",
    "How does the variance norm vector and number of articles link to the research outputs?"
   ]
  },
  {
   "cell_type": "code",
   "execution_count": null,
   "metadata": {},
   "outputs": [],
   "source": [
    "def sorted_total_articles_norm(vectors, no_papers=500, ascending=False):\n",
    "    total_no_articles = {}\n",
    "    norms = {}\n",
    "    for entity in vectors:\n",
    "        if vectors[entity][2] > no_papers:\n",
    "            total_no_articles[entity] = vectors[entity][2]\n",
    "            norms[entity] = np.linalg.norm(vectors[entity][1])\n",
    "    sorted_total_papers = sorted(total_no_articles.items(), key=operator.itemgetter(1))\n",
    "    sorted_norms = sorted(norms.items(), key=operator.itemgetter(1))\n",
    "    if ascending:\n",
    "        return sorted_total_papers, sorted_norms\n",
    "    else:\n",
    "        sorted_total_papers.reverse() \n",
    "        sorted_norms.reverse()\n",
    "        return sorted_total_papers, sorted_norms, norms"
   ]
  },
  {
   "cell_type": "code",
   "execution_count": null,
   "metadata": {},
   "outputs": [],
   "source": [
    "sorted_research_orgs_total_papers, sorted_research_orgs_norms, research_orgs_norms = sorted_total_articles_norm(research_orgs)"
   ]
  },
  {
   "cell_type": "code",
   "execution_count": null,
   "metadata": {},
   "outputs": [],
   "source": [
    "sorted_research_orgs_total_papers[0:50]"
   ]
  },
  {
   "cell_type": "code",
   "execution_count": null,
   "metadata": {},
   "outputs": [],
   "source": [
    "#for org in sorted_research_orgs_total_papers[0:50]:\n",
    "#    uni, papers = org\n",
    "#   print(uni, research_orgs_norms[uni])"
   ]
  },
  {
   "cell_type": "code",
   "execution_count": null,
   "metadata": {},
   "outputs": [],
   "source": [
    "# sorted_research_orgs_norms[0:25]"
   ]
  },
  {
   "cell_type": "code",
   "execution_count": null,
   "metadata": {},
   "outputs": [],
   "source": [
    "# sorted_research_orgs_norms[-25:]"
   ]
  },
  {
   "cell_type": "markdown",
   "metadata": {},
   "source": [
    "### teaching-research analysis\n",
    "\n",
    "How is what is being taught in universities related to what is being researched? Does this spill-over, spatially?"
   ]
  },
  {
   "cell_type": "code",
   "execution_count": null,
   "metadata": {},
   "outputs": [],
   "source": []
  },
  {
   "cell_type": "markdown",
   "metadata": {},
   "source": [
    "### teaching-job analysis\n",
    "\n",
    "How is what is being taught at universities related to what jobs are being advertised? Does this spill-over, spatially?"
   ]
  },
  {
   "cell_type": "code",
   "execution_count": null,
   "metadata": {},
   "outputs": [],
   "source": []
  },
  {
   "cell_type": "code",
   "execution_count": null,
   "metadata": {},
   "outputs": [],
   "source": []
  }
 ],
 "metadata": {
  "kernelspec": {
   "display_name": "Python 3",
   "language": "python",
   "name": "python3"
  },
  "language_info": {
   "codemirror_mode": {
    "name": "ipython",
    "version": 3
   },
   "file_extension": ".py",
   "mimetype": "text/x-python",
   "name": "python",
   "nbconvert_exporter": "python",
   "pygments_lexer": "ipython3",
   "version": "3.9.4"
  }
 },
 "nbformat": 4,
 "nbformat_minor": 2
}
