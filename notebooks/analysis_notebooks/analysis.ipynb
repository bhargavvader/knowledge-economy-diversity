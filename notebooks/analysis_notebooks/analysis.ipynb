{
 "cells": [
  {
   "cell_type": "markdown",
   "metadata": {},
   "source": [
    "## Flows of Knowledge - Research, Teaching and Jobs\n",
    "\n",
    "We will be using the created vectors to analyse the relationship between research, teaching and jobs in cities and in universities.\n",
    "\n",
    "### load vectors\n",
    "\n",
    "because of the super long process of generating these vectors, we will use random vectors for the time being. "
   ]
  },
  {
   "cell_type": "code",
   "execution_count": 1,
   "metadata": {},
   "outputs": [],
   "source": [
    "import csv\n",
    "import json\n",
    "import operator"
   ]
  },
  {
   "cell_type": "code",
   "execution_count": 2,
   "metadata": {},
   "outputs": [],
   "source": [
    "import numpy as np"
   ]
  },
  {
   "cell_type": "code",
   "execution_count": 3,
   "metadata": {},
   "outputs": [],
   "source": [
    "def read_vectors(file_name):\n",
    "    line = open(file_name, \"r\")\n",
    "    for l in line:\n",
    "        d = eval(l)\n",
    "    return d"
   ]
  },
  {
   "cell_type": "code",
   "execution_count": 4,
   "metadata": {},
   "outputs": [],
   "source": [
    "job_cities = read_vectors(\"../saved_data_structures/jobs_vectors_cities.txt\")"
   ]
  },
  {
   "cell_type": "code",
   "execution_count": 5,
   "metadata": {},
   "outputs": [],
   "source": [
    "job_orgs = read_vectors(\"../saved_data_structures/jobs_vectors_orgs.txt\")"
   ]
  },
  {
   "cell_type": "code",
   "execution_count": 6,
   "metadata": {},
   "outputs": [],
   "source": [
    "research_cities = read_vectors(\"../saved_data_structures/research_vectors_cities.txt\")"
   ]
  },
  {
   "cell_type": "code",
   "execution_count": 7,
   "metadata": {},
   "outputs": [],
   "source": [
    "research_orgs = read_vectors(\"../saved_data_structures/research_vectors_orgs.txt\")"
   ]
  },
  {
   "cell_type": "code",
   "execution_count": 8,
   "metadata": {},
   "outputs": [],
   "source": [
    "teaching_cities = read_vectors(\"../saved_data_structures/teaching_vectors_cities.txt\")"
   ]
  },
  {
   "cell_type": "code",
   "execution_count": 9,
   "metadata": {},
   "outputs": [],
   "source": [
    "teaching_orgs = read_vectors(\"../saved_data_structures/teaching_vectors_orgs.txt\")"
   ]
  },
  {
   "cell_type": "code",
   "execution_count": 10,
   "metadata": {},
   "outputs": [
    {
     "data": {
      "text/plain": [
       "(69016, 2069, 448, 7559, 1265, 264)"
      ]
     },
     "execution_count": 10,
     "metadata": {},
     "output_type": "execute_result"
    }
   ],
   "source": [
    "len(research_orgs), len(teaching_orgs), len(job_orgs), len(research_cities), len(teaching_cities), len(job_cities)"
   ]
  },
  {
   "cell_type": "code",
   "execution_count": 11,
   "metadata": {},
   "outputs": [],
   "source": [
    "def count_entities(vectors, min_papers=100, kind=\"\"):\n",
    "    count = 0\n",
    "    for vec in vectors:\n",
    "        if vectors[vec][2] > min_papers and kind in vec.lower():\n",
    "            print(vec.lower(), vectors[vec][2])\n",
    "            count += 1\n",
    "    return count\n",
    "    "
   ]
  },
  {
   "cell_type": "code",
   "execution_count": 12,
   "metadata": {},
   "outputs": [
    {
     "data": {
      "text/plain": [
       "2"
      ]
     },
     "execution_count": 12,
     "metadata": {},
     "output_type": "execute_result"
    }
   ],
   "source": [
    "job_orgs['Intuit'][2]"
   ]
  },
  {
   "cell_type": "code",
   "execution_count": 13,
   "metadata": {},
   "outputs": [
    {
     "name": "stdout",
     "output_type": "stream",
     "text": [
      "lansing community college 67586\n",
      "houston community college 25022\n",
      "windward community college 3122\n",
      "mclennan community college 15241\n",
      "laredo community college 2753\n",
      "oakton community college 326\n",
      "lassen community college 192\n",
      "clark state community college 23527\n",
      "lewis and clark community college 4874\n",
      "alvin community college 4752\n",
      "collin county community college district 11018\n",
      "linn-benton community college 151\n",
      "mercer county community college 640\n",
      "northeast texas community college 799\n",
      "pima community college 268\n",
      "brookdale community college 299\n",
      "southern maine community college 2807\n",
      "cerro coso community college 2663\n",
      "el paso community college 4563\n",
      "seward county community college and area technical school 2621\n",
      "pellissippi state community college 1892\n",
      "kansas city kansas community college 381\n",
      "virginia western community college 305\n",
      "portland community college 1150\n",
      "meridian community college 116\n",
      "northwestern connecticut community college 169\n",
      "mount wachusett community college 109\n",
      "cuny borough of manhattan community college 144\n",
      "bossier parish community college 660\n",
      "cape cod community college 290\n",
      "rogue community college 132\n",
      "north hennepin community college 963\n",
      "springfield technical community college 463\n",
      "nashville state community college 463\n",
      "el camino community college district 691\n",
      "moberly area community college 444\n",
      "bergen community college 357\n",
      "community college of philadelphia 119\n",
      "monroe county community college 252\n",
      "hagerstown community college 941\n",
      "illinois valley community college 304\n",
      "hinds community college 225\n",
      "roane state community college 120\n",
      "walla walla community college 3757\n",
      "everett community college 1127\n",
      "southwest tennessee community college 196\n",
      "neosho county community college 564\n",
      "south mountain community college 197\n",
      "inver hills community college 491\n",
      "colby community college 115\n",
      "tunxis community college 587\n",
      "montgomery county community college 181\n",
      "prince george's community college 187\n",
      "shoreline community college 120\n",
      "central oregon community college 240\n",
      "tulsa community college 117\n",
      "cuny bronx community college 122\n",
      "mississippi gulf coast community college 238\n",
      "mesa community college 115\n",
      "hillsborough community college 232\n",
      "raritan valley community college 365\n",
      "cape fear community college 193\n",
      "washtenaw community college 499\n",
      "tompkins cortland community college 380\n",
      "normandale community college 385\n",
      "cuny kingsborough community college 204\n",
      "columbus state community college 162\n",
      "northeast alabama community college 238\n",
      "richland community college 277\n",
      "community college of rhode island 156\n",
      "wor-wic community college 302\n",
      "butler community college 240\n",
      "bucks county community college 231\n",
      "shelton state community college 102\n",
      "florida keys community college 120\n",
      "san jacinto community college 297\n",
      "danville area community college 270\n",
      "motlow state community college 150\n",
      "new river community college 126\n",
      "spartanburg community college 253\n",
      "fond du lac tribal and community college 150\n",
      "johnson county community college 125\n",
      "j sargeant reynolds community college 118\n",
      "cloud county community college 199\n",
      "cuny queensborough community college 170\n"
     ]
    },
    {
     "data": {
      "text/plain": [
       "85"
      ]
     },
     "execution_count": 13,
     "metadata": {},
     "output_type": "execute_result"
    }
   ],
   "source": [
    "count_entities(teaching_orgs, kind=\"community\")"
   ]
  },
  {
   "cell_type": "code",
   "execution_count": null,
   "metadata": {},
   "outputs": [],
   "source": []
  },
  {
   "cell_type": "markdown",
   "metadata": {},
   "source": [
    "### matching names\n",
    "\n",
    "We now have research, jobs, and teaching vectors. We want to match the strings of the names so we can easily analyse within each of the domains."
   ]
  },
  {
   "cell_type": "code",
   "execution_count": 14,
   "metadata": {},
   "outputs": [
    {
     "name": "stderr",
     "output_type": "stream",
     "text": [
      "/home/bhargav/.local/lib/python3.6/site-packages/fuzzywuzzy/fuzz.py:11: UserWarning: Using slow pure-python SequenceMatcher. Install python-Levenshtein to remove this warning\n",
      "  warnings.warn('Using slow pure-python SequenceMatcher. Install python-Levenshtein to remove this warning')\n"
     ]
    }
   ],
   "source": [
    "import re\n",
    "from fuzzywuzzy import fuzz"
   ]
  },
  {
   "cell_type": "code",
   "execution_count": 15,
   "metadata": {},
   "outputs": [],
   "source": [
    "import string"
   ]
  },
  {
   "cell_type": "code",
   "execution_count": 16,
   "metadata": {},
   "outputs": [],
   "source": [
    "def convertabrv(entity, city=False):\n",
    "    \"\"\"\n",
    "    converts uni/city into non abbreviated form.\n",
    "    \"\"\"\n",
    "    stop_words = ['of', 'the', 'at', 'and']\n",
    "    replace = {'univ':'university', 'res':'research', 'med':'medical', 'coll':'college', 'ctr':'center', 'jr':'junior',\n",
    "               'inst':'institute', 'nat':'natural', 'htlh':'health', 'calif':'california', 'sci':'science', 'adv':'advanced',\n",
    "               'ut':'university texas', 'n':'north', 's':'south', 'e': 'east', 'w': 'west', 'natl':'national',\n",
    "               'uc':'university california', 'pk':'park', 'ft':'fort', 'so':'southern', 'no':'northern', 'syst':'system',\n",
    "               'technol':'technology', 'penn':'pennsylvania', 'hosp':'hospital', 'clin':'clinic', 'mt':'mount',\n",
    "               'biomed':'biomedical', 'canc':'cancer', 'nw':'northwestern', 'cuny':'city university new york',\n",
    "                'suny':'state university new york', 'unc':'university north carolina', 'mit':'massachusetts institute technology',\n",
    "               'caltech':'california institute technology', 'gen':'general', 'nyu':'new york university',\n",
    "               'iit':'illionis institute technology', 'inc':'incorporated', 'fdn':'foundation'}\n",
    "    stop_chars = ['-']\n",
    "    remove_chars = ['&']\n",
    "    entity_ = entity.lower()\n",
    "    \n",
    "    for chars in stop_chars:\n",
    "        entity_ = entity_.replace(chars, \" \")\n",
    "    \n",
    "    for chars in remove_chars:\n",
    "        entity_ = entity_.replace(chars, \"\")\n",
    "    \n",
    "    for word in replace:\n",
    "        entity_ = re.sub(r'\\b%s\\b' % word, replace[word], entity_)\n",
    "    \n",
    "    for word in stop_words:\n",
    "        entity_ = re.sub(r'\\b%s\\b' % word, \" \", entity_)\n",
    "    \n",
    "    entity_ = entity_.strip()\n",
    "    entity_ = re.sub(' +', ' ', entity_)\n",
    "    \n",
    "    if city:\n",
    "        return(string.capwords(entity_))\n",
    "    \n",
    "    return entity_"
   ]
  },
  {
   "cell_type": "code",
   "execution_count": 17,
   "metadata": {},
   "outputs": [],
   "source": [
    "# for teach_org in list(teaching_orgs.keys()):\n",
    "#    teach_entity = convertabrv(teach_org)\n",
    "#    ks = {}\n",
    "#    for research_org in list(research_orgs.keys()):\n",
    "#        research_entity = convertabrv(research_org)\n",
    "#        sim = fuzz.token_sort_ratio(teach_entity, research_entity)\n",
    "#        ks[research_org] = sim\n",
    "#    sorted_ = sorted(ks.items(), key=operator.itemgetter(1))[-1]\n",
    "#    teaching_to_research[teach_org] = sorted_"
   ]
  },
  {
   "cell_type": "markdown",
   "metadata": {},
   "source": [
    "#### Sanity check\n",
    "\n",
    "Especially with the research to teaching matching, there seems to be a lot of universities missing. While conducting the matching, we will run some experiments to see if some universities are missing.\n",
    "\n",
    "missing from teaching - NYU, UPenn, Uminnesota, MD Anderson, Penn State, Boston University, uni virgnia, northeastern (boston), UT Houston, Dallas health center, montana - missoula, Ohio University\n",
    "\n"
   ]
  },
  {
   "cell_type": "code",
   "execution_count": 18,
   "metadata": {},
   "outputs": [],
   "source": [
    "research_orgs['Georgia Tech'][0] = (np.array(research_orgs['Georgia Tech'][0]) + np.array(research_orgs['Georgia Inst Technol'][0])) / 2.0"
   ]
  },
  {
   "cell_type": "code",
   "execution_count": 19,
   "metadata": {},
   "outputs": [],
   "source": [
    "research_orgs['Georgia Tech'][2] = (research_orgs['Georgia Tech'][2] + research_orgs['Georgia Inst Technol'][2]) "
   ]
  },
  {
   "cell_type": "code",
   "execution_count": 20,
   "metadata": {},
   "outputs": [],
   "source": [
    "del research_orgs['Georgia Inst Technol']"
   ]
  },
  {
   "cell_type": "code",
   "execution_count": 21,
   "metadata": {},
   "outputs": [],
   "source": [
    "def entity_name_check(vectors, entity, papers=100, paper_check=True):\n",
    "    names = []\n",
    "    for vector in vectors:\n",
    "        if paper_check:  \n",
    "            if entity in vector and vectors[vector][2] > papers:\n",
    "                names.append(vector)\n",
    "        else:\n",
    "            if entity in vector:\n",
    "                names.append((vector, vectors[vector]))\n",
    "    return names"
   ]
  },
  {
   "cell_type": "code",
   "execution_count": 22,
   "metadata": {},
   "outputs": [],
   "source": [
    "# entity_name_check(teaching_orgs, \"Texas A & M\")"
   ]
  },
  {
   "cell_type": "code",
   "execution_count": 23,
   "metadata": {},
   "outputs": [],
   "source": [
    "# entity_name_check(research_orgs, \"Texas\", papers=5000)"
   ]
  },
  {
   "cell_type": "code",
   "execution_count": 24,
   "metadata": {},
   "outputs": [],
   "source": [
    "# entity_name_check(teaching_to_research_match, \"Texas A & M\", paper_check=False)"
   ]
  },
  {
   "cell_type": "code",
   "execution_count": 25,
   "metadata": {},
   "outputs": [],
   "source": [
    "import json"
   ]
  },
  {
   "cell_type": "code",
   "execution_count": 26,
   "metadata": {},
   "outputs": [],
   "source": [
    "with open(\"../saved_data_structures/teaching_to_research_matching.txt\") as file:\n",
    "    teaching_to_research = json.load(file)"
   ]
  },
  {
   "cell_type": "code",
   "execution_count": 27,
   "metadata": {},
   "outputs": [
    {
     "data": {
      "text/plain": [
       "{'Angelo State University': ['Angelo State Univ', 100],\n",
       " 'University of Mississippi': ['Univ Mississippi', 100],\n",
       " 'Tufts University': ['Tufts Univ', 100],\n",
       " 'Foothill College': ['Foothill Coll', 100],\n",
       " 'University of Georgia': ['Univ Georgia', 100],\n",
       " 'Kean University': ['Kean Univ', 100],\n",
       " 'Jackson College': ['Jackson Coll', 100],\n",
       " 'The University of Alabama': ['Univ Alabama', 100],\n",
       " 'Lansing Community College': ['Lansing Community Coll', 100],\n",
       " 'New Mexico Junior College': ['NE Jr Coll', 81],\n",
       " 'University of West Georgia': ['West Georgia Univ', 100],\n",
       " 'Park University': ['Park Univ', 100],\n",
       " 'Stephen F Austin State University': ['Stephen F Austin State Univ', 100],\n",
       " 'Excelsior College': ['Excelsior Coll', 100],\n",
       " 'Galveston College': ['Galveston Coll', 100],\n",
       " 'North Seattle College': ['North Seattle Comm Coll', 89],\n",
       " 'Houston Community College': ['Houston Community Coll', 100],\n",
       " 'Texas A & M University-Commerce': ['Texas A& M Univ Commerce', 100],\n",
       " 'University of Maryland-College Park': ['Coll Pk Univ Maryland', 100],\n",
       " 'Clemson University': ['Clemson Univ', 100],\n",
       " 'Brandeis University': ['Brandeis Univ', 100],\n",
       " 'The University of Montana': ['Univ Montana', 100],\n",
       " 'Western Kentucky University': ['Western Kentucky Univ', 100],\n",
       " 'Brigham Young University-Provo': ['Brigham Young Univ Provo', 100],\n",
       " 'University of Denver': ['Univ Denver', 100],\n",
       " 'Windward Community College': ['Windward Community Coll', 100],\n",
       " 'University of Maryland-University College': ['Univ Maryland Univ Coll', 100],\n",
       " 'Oklahoma State University Institute of Technology': ['State Univ New York Inst Technol',\n",
       "  83],\n",
       " 'University of Southern California': ['Univ Southern Calif', 100],\n",
       " 'South Plains College': ['South Plains Coll', 100],\n",
       " 'McLennan Community College': ['Lane Community Coll', 88],\n",
       " 'San Jose State University': ['San Jose State Univ', 100],\n",
       " 'Wayne State University': ['Wayne State Univ', 100],\n",
       " 'The University of Texas at San Antonio': ['UT San Antonio', 100],\n",
       " 'Laredo Community College': ['Laredo Community Coll', 100],\n",
       " 'Valencia College': ['Valencia Coll', 100],\n",
       " 'Bellevue College': ['Bellevue Coll', 100],\n",
       " 'Texas A & M International University': ['Texas A & M Int Univ', 83],\n",
       " 'The University of Texas at Tyler': ['Univ Texas Tyler', 100],\n",
       " 'Northwest College': ['Northwest Coll', 100],\n",
       " 'Tyler Junior College': ['Tyler Jr Coll', 100],\n",
       " 'University of Illinois at Chicago': ['Univ Chicago Illinois', 100],\n",
       " 'Wilkes University': ['Wilkes Univ', 100],\n",
       " 'University of Evansville': ['Univ Evansville', 100],\n",
       " 'Imperial Valley College': ['Imperial Coll', 82],\n",
       " 'University of North Carolina at Charlotte': ['Univ North Carolina Charlotte',\n",
       "  100],\n",
       " 'Loyola University New Orleans': ['Loyola Univ New Orleans', 100],\n",
       " 'Sam Houston State University': ['Sam Houston State Univ', 100],\n",
       " 'Woodbury University': ['Woodbury Univ', 100],\n",
       " 'University of North Texas': ['N Texas Univ', 100],\n",
       " 'Texas State University': ['Texas State Univ', 100],\n",
       " 'The University of Texas at Austin': ['UT Austin', 100],\n",
       " 'Oakton Community College': ['Oakton Community Coll', 100],\n",
       " 'University of Akron Main Campus': ['Arizona State Univ Main Campus', 84],\n",
       " 'Azusa Pacific University': ['Pacific Azusa Univ', 100],\n",
       " 'University of California-San Diego': ['Univ & Calif San Diego', 100],\n",
       " 'University of California-Irvine': ['UC Irvine', 100],\n",
       " 'The University of Texas at Dallas': ['Univ Dallas Texas', 100],\n",
       " 'Virginia Commonwealth University': ['Virginia Commonwealth Univ', 100],\n",
       " 'Amarillo College': ['Amarillo Coll', 100],\n",
       " 'University of South Florida-Main Campus': ['Univ South Florida COM', 84],\n",
       " 'Lassen Community College': ['SE Community Coll', 91],\n",
       " 'Technical College of the Lowcountry': ['Wake Tech Community Coll', 73],\n",
       " 'George Mason University': ['George Mason Univ', 100],\n",
       " 'West Texas A & M University': ['West Texas A& M Univ', 100],\n",
       " 'Clark State Community College': ['Cleveland State Community Coll', 87],\n",
       " 'University of Illinois at Urbana-Champaign': ['Univ Illinois Urbana Champaign',\n",
       "  100],\n",
       " 'Bennington College': ['Bennington Coll', 100],\n",
       " 'Lewis and Clark Community College': ['Lewis & Clark Community Coll', 100],\n",
       " 'Midwestern State University': ['Midwestern State Univ', 100],\n",
       " 'Illinois State University': ['Illinois State Univ', 100],\n",
       " 'Alvin Community College': ['Aims Community Coll', 89],\n",
       " 'Palm Beach State College': ['State Coll PA', 80],\n",
       " 'Jones County Junior College': ['Johnson Cty Commun Coll', 75],\n",
       " 'University of Florida': ['Univ Florida', 100],\n",
       " 'West Los Angeles College': ['West Los Angeles Coll', 100],\n",
       " 'Collin County Community College District': ['Turtle Mt Community Coll', 74],\n",
       " 'Goucher College': ['Goucher Coll', 100],\n",
       " 'North Idaho College': ['North Idaho Coll', 100],\n",
       " 'Harding University': ['Harding Univ', 100],\n",
       " 'George Washington University': ['George Washington Univ', 100],\n",
       " 'Le Moyne College': ['Le Moyne Coll', 100],\n",
       " 'Nova Southeastern University': ['NOVA Southeastern Univ', 100],\n",
       " 'Michigan State University': ['Michigan State Univ', 100],\n",
       " 'The University of Tennessee-Knoxville': ['Univ Tennessee Knoxville', 100],\n",
       " 'Linn-Benton Community College': ['Linn Benton Community Coll', 100],\n",
       " 'University of Washington-Seattle Campus': ['Univ Washington Seattle', 89],\n",
       " 'Mercer County Community College': ['Mercer Cty Community Coll', 95],\n",
       " 'College of Charleston': ['Coll Charleston', 100],\n",
       " 'Santa Monica College': ['Santa Monica Coll', 100],\n",
       " 'Lackawanna College': ['Lakeland Coll', 76],\n",
       " 'Great Basin College': ['Great Basin Coll', 100],\n",
       " 'Casper College': ['Casper Coll', 100],\n",
       " 'Santa Rosa Junior College': ['Santa Rosa Jr Coll', 100],\n",
       " 'University of Wisconsin-Milwaukee': ['Univ Wisconsin Milwaukee', 100],\n",
       " 'Texas A & M University-College Station': ['Texas A&M Univ College Stn', 90],\n",
       " 'University of Miami': ['Univ Miami', 100],\n",
       " 'University of Arizona': ['Univ Arizona', 100],\n",
       " 'University of Michigan-Ann Arbor': ['Univ Michigan Ann Arbor', 100],\n",
       " 'College of the Mainland': ['Coll Mainland', 100],\n",
       " 'Saint Vincent College': ['St Vincent Coll', 92],\n",
       " 'Sonoma State University': ['Sonoma State Univ', 100],\n",
       " 'Andrews University': ['Andrews Univ', 100],\n",
       " 'Stony Brook University': ['Univ Stony Brook', 100],\n",
       " 'Northeast Texas Community College': ['NE Texas Community Coll', 88],\n",
       " 'Abilene Christian University': ['Abilene Christian Univ', 100],\n",
       " 'Dixie State University': ['Dixie State Univ', 100],\n",
       " 'Central Lakes College-Brainerd': ['Associated Coll Cent Kansas', 67],\n",
       " 'East Tennessee State University': ['E Tennessee State Univ', 100],\n",
       " 'University of New Hampshire-Main Campus': ['Univ New Hampshire Main Campus',\n",
       "  100],\n",
       " 'Lawrence Technological University': ['Lawrence Technol Univ', 92],\n",
       " 'Victoria College': ['Trin Coll', 79],\n",
       " 'Willamette University': ['Willamette Univ', 100],\n",
       " 'University of Iowa': ['Univ Iowa', 100],\n",
       " 'Salisbury University': ['Salisbury Univ', 100],\n",
       " 'Grand Valley State University': ['Grand Valley State Univ', 100],\n",
       " 'Chaminade University of Honolulu': ['Chaminade Univ Honolulu', 100],\n",
       " 'Oral Roberts University': ['Oral Roberts Univ', 100],\n",
       " 'Carnegie Mellon University': ['Carnegie Mellon Univ', 100],\n",
       " 'University of Kansas': ['Univ Kansas', 100],\n",
       " 'University of Wisconsin-Madison': ['Wisconsin Madison Univ', 100],\n",
       " 'De Anza College': ['De Anza Coll', 100],\n",
       " 'SUNY at Albany': ['New York State Univ Albany', 100],\n",
       " 'University of Rhode Island': ['Univ Rhode Island', 100],\n",
       " 'Pittsburg State University': ['Pittsburg State Univ', 100],\n",
       " 'Santa Clara University': ['Santa Clara Univ', 100],\n",
       " 'Barnard College': ['Barnard Coll', 100],\n",
       " 'Clarendon College': ['Claremont Coll', 88],\n",
       " 'University of North Carolina at Chapel Hill': ['Univ Chapel Hill North Carolina',\n",
       "  100],\n",
       " 'Pima Community College': ['Pima Community Coll', 100],\n",
       " 'Florida State University': ['Florida State Univ', 100],\n",
       " 'University of North Carolina Wilmington': ['Univ North Carolina Wilmington',\n",
       "  100],\n",
       " 'Massachusetts Institute of Technology': ['Massachusetts Inst Technol', 100],\n",
       " 'Marylhurst University': ['Marylhurst Univ', 100],\n",
       " 'University of Colorado Denver': ['Colorado Denver Univ', 100],\n",
       " 'Reedley College': ['Reedley Coll', 100],\n",
       " 'Brookdale Community College': ['Brookdale Community Coll', 100],\n",
       " 'Oregon State University': ['Oregon State Univ', 100],\n",
       " 'Iowa State University': ['Iowa State Univ', 100],\n",
       " 'Florence-Darlington Technical College': ['Florence Darlington Tech Coll',\n",
       "  93],\n",
       " 'Oakland University': ['Oakland Univ', 100],\n",
       " 'Harvard University': ['Harvard Univ', 100],\n",
       " 'The University of Texas at Arlington': ['UT Arlington', 100],\n",
       " 'Emory University': ['Emory Univ', 100],\n",
       " 'Calvin College': ['Calvin Coll', 100],\n",
       " 'Southern Maine Community College': ['Southern Maine Community Coll', 100],\n",
       " 'Princeton University': ['Princeton Univ', 100],\n",
       " 'University of Memphis': ['Univ Memphis', 100],\n",
       " 'University of Nevada-Las Vegas': ['Univ Las Vegas Nevada', 100],\n",
       " 'California State Polytechnic University-Pomona': ['Calif State Polytech Univ Pomona',\n",
       "  97],\n",
       " 'Fordham University': ['Fordham Univ', 100],\n",
       " 'Westfield State University': ['Westfield State Univ', 100],\n",
       " 'Montreat College': ['Montreat Coll', 100],\n",
       " 'Georgia State University': ['Georgia State Univ', 100],\n",
       " 'Santa Fe College': ['Santa Fe Coll', 100],\n",
       " 'Duke University': ['Duke Univ', 100],\n",
       " 'New Jersey Institute of Technology': ['New Jersey Inst Technol', 100],\n",
       " 'University of Missouri-St Louis': ['Univ Missouri St Louis', 100],\n",
       " 'Kenyon College': ['Kenyon Coll', 100],\n",
       " 'Indiana University-Bloomington': ['Bloomington Indiana Univ', 100],\n",
       " 'Northwestern University': ['NorthWestern Univ', 100],\n",
       " 'Pearl River Community College': ['Pearl River Community Coll', 100],\n",
       " 'Boston College': ['Boston Coll', 100],\n",
       " 'Lamar University': ['Lamar Univ', 100],\n",
       " 'Eastern Illinois University': ['Eastern Illinois Univ', 100],\n",
       " 'California State University-San Marcos': ['California State Univ San Marcos',\n",
       "  100],\n",
       " 'West Virginia University': ['W Univ Virginia', 100],\n",
       " 'Texas Southern University': ['Texas So Univ', 100],\n",
       " 'Cerro Coso Community College': ['Cerro Coso Community Coll', 100],\n",
       " 'Youngstown State University': ['Youngstown State Univ', 100],\n",
       " 'Carleton College': ['Carleton Coll', 100],\n",
       " 'Rice University': ['Rice Univ', 100],\n",
       " 'University of Colorado Boulder': ['Colorado Univ Boulder', 100],\n",
       " 'Indiana University-Purdue University-Fort Wayne': ['Indiana Univ Purdue Univ Fort Wayne',\n",
       "  100],\n",
       " 'Lamar State College-Orange': ['Lamar State Coll Orange', 100],\n",
       " 'Virginia Polytechnic Institute and State University': ['Virginia Polytechn State Inst & Univ',\n",
       "  98],\n",
       " 'El Paso Community College': ['El Paso Community Coll', 100],\n",
       " 'Harvey Mudd College': ['Harvey Mudd Coll', 100],\n",
       " 'Sierra Nevada College': ['Sierra Nevada Coll', 100],\n",
       " 'Simmons College': ['Simmons Coll', 100],\n",
       " 'Lone Star College System': ['Lone Star Coll', 83],\n",
       " 'Loyola University Chicago': ['Chicago Loyola Univ', 100],\n",
       " 'Portland State University': ['Portland State Univ', 100],\n",
       " 'Williams College': ['Williams Coll', 100],\n",
       " 'University of Massachusetts-Dartmouth': ['Massachusetts Univ Dartmouth',\n",
       "  100],\n",
       " 'College of the Redwoods': ['Coll Redwoods', 100],\n",
       " 'Danville Community College': ['Danville Area Community Coll', 91],\n",
       " 'California State University-Sacramento': ['Calif State Univ Sacramento',\n",
       "  100],\n",
       " 'University of Wisconsin-Whitewater': ['Wisconsin Whitewater Univ', 100],\n",
       " 'Chipola College': ['Chipola Coll', 100],\n",
       " 'SUNY College at Geneseo': ['SUNY Geneseo Coll', 100],\n",
       " 'University of Southern Indiana': ['Univ So Indiana', 100],\n",
       " 'University of South Carolina-Columbia': ['Univ South Carolina Columbia',\n",
       "  100],\n",
       " 'Blinn College': ['Blinn Coll', 100],\n",
       " 'Seward County Community College and Area Technical School': ['Rochester Community & Tech Coll',\n",
       "  68],\n",
       " 'American University': ['American Univ', 100],\n",
       " 'Dartmouth College': ['Dartmouth Coll', 100],\n",
       " 'Texas Tech University': ['Texas Tech Univ', 100],\n",
       " 'Northwest Florida State College': ['Northwest Florida State Coll', 100],\n",
       " 'University of Central Arkansas': ['Univ Cent Arkansas', 94],\n",
       " 'University of Central Florida': ['Univ Ctr Florida', 94],\n",
       " 'Pellissippi State Community College': ['Pellissippi State Community Coll',\n",
       "  100],\n",
       " 'Saddleback College': ['Saddleback Coll', 100],\n",
       " 'The University of Texas of the Permian Basin': ['Univ Texas Permian Basin',\n",
       "  100],\n",
       " 'Odessa College': ['Odessa Coll', 100],\n",
       " 'University of California-Berkeley': ['UC Berkeley', 100],\n",
       " 'Arizona Western College': ['Western Arizona Coll', 100],\n",
       " 'University of Minnesota-Crookston': ['Univ Minnesota Crookston', 100],\n",
       " 'Ohio State University-Main Campus': ['Illinois State Univ Campus', 86],\n",
       " 'Georgia College and State University': ['Georgia Coll State Univ', 100],\n",
       " 'Sul Ross State University': ['Sul Ross State Univ', 100],\n",
       " 'Rollins College': ['Rollins Coll', 100],\n",
       " 'Michigan Technological University': ['Michigan Technol Univ', 92],\n",
       " 'University of Notre Dame': ['Notre Dame Univ', 100],\n",
       " 'University of Hawaii at Manoa': ['Univ Hawaii Manoa', 100],\n",
       " 'Westmont College': ['Westmont Coll', 100],\n",
       " 'Western New Mexico University': ['Western New Mexico Univ', 100],\n",
       " 'University of New Mexico-Main Campus': ['Univ New Mexico CASAA', 87],\n",
       " 'University of North Carolina at Greensboro': ['Univ North Carolina Greensboro',\n",
       "  100],\n",
       " 'Vernon College': ['Vernon Coll', 100],\n",
       " 'University of Cincinnati-Main Campus': ['Univ Cincinnati Lib', 79],\n",
       " 'Southwestern College-Winfield': ['Southwestern Coll', 82],\n",
       " 'Syracuse University': ['Syracuse Univ', 100],\n",
       " 'Oberlin College': ['Oberlin Coll', 100],\n",
       " 'Brown University': ['Brown Univ', 100],\n",
       " 'Temple University': ['Temple Univ', 100],\n",
       " 'Colorado Mountain College': ['Colorado Coll', 78],\n",
       " 'Prairie View A & M University': ['Prairie View A &M Univ', 100],\n",
       " 'Auburn University': ['Auburn Univ', 100],\n",
       " 'Western State College of Law at Argosy University': ['Western Parana State Univ',\n",
       "  76],\n",
       " 'University of Alaska Fairbanks': ['Univ Alaska Fairbanks', 100],\n",
       " 'University of Alaska Southeast': ['Univ Alaska Southeast', 100],\n",
       " 'College of Southern Idaho': ['Coll So Idaho', 100],\n",
       " 'University of Wyoming': ['Univ Wyoming', 100],\n",
       " 'Governors State University': ['Governors State Univ', 100],\n",
       " 'Rhodes College': ['Rhodes Coll', 100],\n",
       " 'Kilgore College': ['Kilgore Coll', 100],\n",
       " 'Kansas City Kansas Community College': ['Kansas City Kansas Community Coll',\n",
       "  100],\n",
       " 'Florida Gulf Coast University': ['Florida Gulf Coast Univ', 100],\n",
       " 'Boise State University': ['Boise State Univ', 100],\n",
       " 'Hocking College': ['King Coll', 89],\n",
       " 'SUNY College at Brockport': ['Coll Brockport State Univ New York', 100],\n",
       " 'York Technical College': ['Coll Social Work', 78],\n",
       " 'Western Illinois University': ['Western Illinois Univ', 100],\n",
       " 'North Central Texas College': ['North Cent Texas Coll', 94],\n",
       " 'Louisiana State University and Agricultural & Mechanical College': ['Louisiana State Univ & A&M Coll',\n",
       "  76],\n",
       " 'South Texas College': ['South Texas Coll', 100],\n",
       " 'Clayton State University': ['Clayton State Univ', 100],\n",
       " 'Longwood University': ['Longwood Univ', 100],\n",
       " 'Earlham College': ['Earlham Coll', 100],\n",
       " 'Gonzaga University': ['Gonzaga Univ', 100],\n",
       " 'Angelina College': ['Angelina Coll', 100],\n",
       " 'University of Rochester': ['Univ Rochester', 100],\n",
       " 'Harford Community College': ['Harford Community Coll', 100],\n",
       " 'Clovis Community College': ['Cloud Community Coll', 89],\n",
       " 'Worcester Polytechnic Institute': ['Worcester Polytechn Inst', 97],\n",
       " 'University of Kentucky': ['Univ Kentucky', 100],\n",
       " 'Moravian College': ['Moravian Coll', 100],\n",
       " 'University of Maine at Presque Isle': ['Univ Maine Presque Isle', 100],\n",
       " 'Westminster College-New Wilmington': ['Westminster Coll', 72],\n",
       " 'Augsburg College': ['Augsburg Coll', 100],\n",
       " 'Virginia Western Community College': ['Virginia Western Community Coll',\n",
       "  100],\n",
       " 'James Madison University': ['James Madison Univ', 100],\n",
       " 'University of Central Oklahoma': ['Univ Cent Oklahoma', 94],\n",
       " 'Washington State University': ['Washington State Univ', 100],\n",
       " 'Howard University': ['Howard Univ', 100],\n",
       " 'Barry University': ['Barry Univ', 100],\n",
       " 'Bainbridge State College': ['Bainbridge Coll', 86],\n",
       " 'Los Angeles Mission College': ['Los Angeles Mission Coll', 100],\n",
       " 'San Francisco State University': ['San Francisco State Univ', 100],\n",
       " 'Portland Community College': ['Portland Community Coll', 100],\n",
       " 'Suffolk University': ['Suffolk Univ', 100],\n",
       " 'Sierra College': ['Sierra Coll', 100],\n",
       " 'Valdosta State University': ['Valdosta State Univ', 100],\n",
       " 'California State University-Los Angeles': ['Calif State Univ Los Angeles',\n",
       "  100],\n",
       " 'Chaffey College': ['Chaffey Coll', 100],\n",
       " 'Rochester Institute of Technology': ['Rochester Inst Technol', 100],\n",
       " 'Central Texas College': ['North Cent Texas Coll', 80],\n",
       " 'Rio Salado College': ['Richland Coll', 76],\n",
       " 'Santa Barbara City College': ['Santa Barbara City Coll', 100],\n",
       " 'Lewis & Clark College': ['Lewis & Clark Coll', 100],\n",
       " 'Central Washington University': ['Cent Washington Univ', 95],\n",
       " 'CUNY City College': ['CUNY City Coll', 100],\n",
       " 'University of New Orleans': ['Univ New Orleans', 100],\n",
       " 'South Dakota School of Mines and Technology': ['South Dakota Sch Mines Technol',\n",
       "  96],\n",
       " 'Southern Illinois University-Carbondale': ['Southern Illinois Univ Carbondale',\n",
       "  100],\n",
       " 'Florida Agricultural and Mechanical University': ['Univ Florida Cultural Plaza',\n",
       "  80],\n",
       " 'Texarkana College': ['Texas Coll', 80],\n",
       " 'University of Vermont': ['Univ Vermont', 100],\n",
       " 'Saint Leo University': ['St Leo Univ', 92],\n",
       " 'Murray State University': ['Murray State Univ', 100],\n",
       " 'Rowan College at Burlington County': ['Clinton Community Coll', 75],\n",
       " 'Meridian Community College': ['Erie Community Coll', 88],\n",
       " 'Wake Forest University': ['Wake Forest Univ', 100],\n",
       " 'North Central State College': ['North Cent Texas Coll', 82],\n",
       " 'University of Wisconsin-Oshkosh': ['Univ Wisconsin Oshkosh', 100],\n",
       " 'Grinnell College': ['Grinnell Coll', 100],\n",
       " 'State University of New York at New Paltz': ['State Univ New York New Paltz',\n",
       "  100],\n",
       " 'Humboldt State University': ['Humboldt State Univ', 100],\n",
       " 'Loyola Marymount University': ['Loyola Marymount Univ', 100],\n",
       " 'University of Massachusetts-Boston': ['Boston Univ Massachusetts', 100],\n",
       " 'University of Arkansas at Little Rock': ['Univ Arkansas Little Rock', 100],\n",
       " 'University of Utah': ['Univ Utah', 100],\n",
       " 'California Institute of Technology': ['CalTech', 100],\n",
       " 'Shippensburg University of Pennsylvania': ['Shippensburg Univ Penn', 100],\n",
       " 'Kutztown University of Pennsylvania': ['Kutztown Univ Pennsylvania', 100],\n",
       " 'University of Massachusetts-Amherst': ['Univ Massachusetts Amherst', 100],\n",
       " 'Northwestern Connecticut Community College': ['Houston Community Coll NW',\n",
       "  82],\n",
       " 'Mount Wachusett Community College': ['Turtle Mt Community Coll', 83],\n",
       " 'Stanford University': ['Stanford Univ', 100],\n",
       " 'Edinboro University of Pennsylvania': ['Edinboro Univ Pennsylvania', 100],\n",
       " 'CUNY Borough of Manhattan Community College': ['CUNY Borough Manhattan Community Coll',\n",
       "  100],\n",
       " 'Bossier Parish Community College': ['Bossier Parish Community Coll', 100],\n",
       " 'Coastal Bend College': ['Coastal Bend Coll', 100],\n",
       " 'Cape Cod Community College': ['Cloud Community Coll', 86],\n",
       " 'Catawba College': ['Catawba Coll', 100],\n",
       " 'DePaul University': ['DePaul Univ', 100],\n",
       " 'Central Michigan University': ['Univ Michigan Ctr', 94],\n",
       " 'Columbia University in the City of New York': ['Columbia Univ City New York',\n",
       "  96],\n",
       " 'Brazosport College': ['Brazosport Coll', 100],\n",
       " 'Marquette University': ['Marquette Univ', 100],\n",
       " 'Washington University in St Louis': ['Washington St Louis Univ', 95],\n",
       " 'East Carolina University': ['E Carolina Univ', 100],\n",
       " 'University of Chicago': ['Univ Chicago', 100],\n",
       " 'Gavilan College': ['Coll Mainland', 84],\n",
       " 'Rogue Community College': ['Rogue Community Coll', 100],\n",
       " 'North Hennepin Community College': ['North Hennepin Community Coll', 100],\n",
       " 'Cedar Crest College': ['Cedar Crest Muhlenberg Coll', 78],\n",
       " 'University of California-Los Angeles': ['UC Los Angeles', 100],\n",
       " 'University of Pittsburgh-Pittsburgh Campus': ['Univ Pittsburgh PITT', 80],\n",
       " 'Hofstra University': ['Hofstra Univ', 100],\n",
       " 'University of Toledo': ['Univ Toledo', 100],\n",
       " 'Otterbein University': ['Otterbein Univ', 100],\n",
       " 'Springfield Technical Community College': ['Springfield Tech Community Coll',\n",
       "  93],\n",
       " 'Davidson College': ['Davidson Coll', 100],\n",
       " 'Drexel University': ['Drexel Univ', 100],\n",
       " 'College of the Canyons': ['Coll Canyons', 100],\n",
       " 'Monmouth College': ['Monmouth Coll', 100],\n",
       " 'Columbus State University': ['Columbus State Univ', 100],\n",
       " 'Nashville State Community College': ['Nashville State Community Coll', 100],\n",
       " 'El Camino Community College District': ['El Camino Community Coll', 86],\n",
       " 'Western Oregon University': ['Western Oregon Univ', 100],\n",
       " 'Mississippi State University': ['Mississippi State Univ', 100],\n",
       " 'Lamar State College-Port Arthur': ['Lamar State Coll Port Arthur', 100],\n",
       " 'Northern Illinois University': ['No Univ Illinois', 100],\n",
       " 'Moberly Area Community College': ['Moberly Area Community Coll', 100],\n",
       " 'Minnesota State College-Southeast Technical': ['Minnesota State Community & Tech Coll',\n",
       "  69],\n",
       " 'Texas Tech University Health Sciences Center': ['Texas Tech Univ Heath Sci Ctr',\n",
       "  98],\n",
       " 'Creighton University': ['Creighton Univ', 100],\n",
       " 'Wesley College': ['Wesley Coll', 100],\n",
       " 'University of Nevada-Reno': ['Univ Nevada Reno', 100],\n",
       " 'North Carolina State University at Raleigh': ['North Carolina & A&T State Univ',\n",
       "  89],\n",
       " 'University of Alabama at Birmingham': ['Univ Birmingham Alabama', 100],\n",
       " 'Georgetown University': ['Georgetown Univ', 100],\n",
       " 'Southern Methodist University': ['Southern Methodist Univ', 100],\n",
       " 'University of Oklahoma-Norman Campus': ['Univ Oklahoma Norman', 88],\n",
       " 'Emporia State University': ['Emporia State Univ', 100],\n",
       " 'Western Washington University': ['Western Washington Univ', 100],\n",
       " 'Whitman College': ['Whitman Coll', 100],\n",
       " 'The New School': ['New Sch', 82],\n",
       " 'Texas Christian University': ['Texas Christian Univ', 100],\n",
       " 'Medical University of South Carolina': ['Med Univ South Carolina', 100],\n",
       " 'SUNY College at Cortland': ['SUNY Coll Cortland', 100],\n",
       " 'University of Nebraska at Kearney': ['Univ Nebraska Kearney', 100],\n",
       " 'Bergen Community College': ['Bergen Community Coll', 100],\n",
       " 'Lander University': ['Lander Univ', 100],\n",
       " 'Liberty University': ['Liberty Univ', 100],\n",
       " 'Appalachian State University': ['Appalachian State Univ', 100],\n",
       " 'San Juan College': ['San Jan Coll', 97],\n",
       " 'SUNY College of Technology at Canton': ['SUNY Coll Technol', 93],\n",
       " 'Cleveland State University': ['Cleveland State Univ', 100],\n",
       " 'Western Texas College': ['Eastern Coll', 83],\n",
       " 'Georgia Highlands College': ['Georgia Highlands Coll', 100],\n",
       " 'Florida International University': ['Florida Intern Univ', 88],\n",
       " 'Lake Land College': ['Lake Land Coll', 100],\n",
       " 'Carroll University': ['Carroll Univ', 100],\n",
       " 'Florida Atlantic University': ['Florida Atlantic Univ', 100],\n",
       " 'University of Maine': ['Univ Maine', 100],\n",
       " 'Indiana University-Purdue University-Indianapolis': ['Indiana Univ & Purdue Univ Indianapolis',\n",
       "  100],\n",
       " 'University of California-Santa Cruz': ['Univ California Santa Cruz', 100],\n",
       " 'Houston Graduate School of Theology': ['Oregon Grad Inst Sci & Technol', 61],\n",
       " 'Community College of Philadelphia': ['Philadelphia Community Coll', 100],\n",
       " 'Northwestern Oklahoma State University': ['NW Oklahoma State Univ', 100],\n",
       " 'Dickinson College': ['Dickinson Coll', 100],\n",
       " 'University of Missouri-Columbia': ['Univ Columbia Missouri', 100],\n",
       " 'Monroe County Community College': ['Monroe Cty Community Coll', 95],\n",
       " 'Fort Hays State University': ['Ft Hays State Univ', 100],\n",
       " 'Rose-Hulman Institute of Technology': ['Rose Hulman Inst Technol', 100],\n",
       " 'Hamilton College': ['Hamilton Coll', 100],\n",
       " 'University of San Francisco': ['Univ San Francisco', 100],\n",
       " 'University at Buffalo': ['Univ Buffalo', 100],\n",
       " 'Indiana University of Pennsylvania-Main Campus': ['Indiana Univ Pennsylvania',\n",
       "  84],\n",
       " 'California State University-Long Beach': ['Calif State Univ Long Beach',\n",
       "  100],\n",
       " 'New Mexico State University-Main Campus': ['New Mexico State Univ Las Cruces',\n",
       "  86],\n",
       " 'Lake Tahoe Community College': ['Lake Tahoe Community Coll', 100],\n",
       " 'Hagerstown Community College': ['Hagerstown Community Coll', 100],\n",
       " 'Graceland University-Lamoni': ['Graceland Univ', 85],\n",
       " 'Pomona College': ['Pomona Coll', 100],\n",
       " 'Illinois Wesleyan University': ['Illinois Wesleyan Univ', 100],\n",
       " 'Colorado State University-Pueblo': ['Colorado State Univ Pueblo', 100],\n",
       " 'Albany State University': ['Albany State Univ', 100],\n",
       " 'Colby-Sawyer College': ['Colby Sawyer Coll', 100],\n",
       " 'Weber State University': ['Weber State Univ', 100],\n",
       " 'The Evergreen State College': ['Evergreen State Coll', 100],\n",
       " 'Western Nevada College': ['Coll Southern Nevada', 89],\n",
       " 'SUNY at Binghamton': ['SUNY Binghamton', 100],\n",
       " 'Regis University': ['Regis Univ', 100],\n",
       " 'California Polytechnic State University-San Luis Obispo': ['Calif Polytechnic State Univ San Luis Obispo',\n",
       "  100],\n",
       " 'Metropolitan State University': ['Metropolitan State Univ', 100],\n",
       " 'Western Michigan University': ['Western Michigan Univ', 100],\n",
       " 'Vincennes University': ['Vincennes Univ', 100],\n",
       " 'University of South Carolina-Aiken': ['Univ South Carolina Aiken', 100],\n",
       " 'Columbia Southern University': ['Columbia So Univ', 100],\n",
       " 'Purdue University-Main Campus': ['Univ Toledo Main Campus', 83],\n",
       " 'Southern Utah University': ['Southern Utah Univ', 100],\n",
       " 'Northern Arizona University': ['No Univ Arizona', 100],\n",
       " 'Seattle University': ['Seattle Univ', 100],\n",
       " 'Itawamba Community College': ['Itasca Community Coll', 88],\n",
       " 'St Petersburg College': ['St Petersburg Coll', 100],\n",
       " 'SUNY at Fredonia': ['SUNY Alfred', 91],\n",
       " 'Trinity University': ['Trinity Univ', 100],\n",
       " 'University of Arkansas-Fort Smith': ['Univ Arkansas Ft Smith', 100],\n",
       " 'Tennessee State University': ['Tennessee State Univ', 100],\n",
       " 'Illinois Valley Community College': ['Raritan Valley Community Coll', 83],\n",
       " 'Pacific University': ['Pacific Univ', 100],\n",
       " 'University of Arkansas at Monticello': ['Univ Arkansas Monticello', 100],\n",
       " 'University of Southern Maine': ['Univ So Maine', 100],\n",
       " 'Napa Valley College': ['Napa Valley Coll', 100],\n",
       " 'Lehigh University': ['Lehigh Univ', 100],\n",
       " 'University of Oregon': ['Univ Oregon', 100],\n",
       " 'Adelphi University': ['Adelphi Univ', 100],\n",
       " 'Touro College': ['Touro Coll', 100],\n",
       " 'Cosumnes River College': ['Cosumnes River Coll', 100],\n",
       " 'Hinds Community College': ['Kings Community Coll', 91],\n",
       " 'Jefferson College': ['Emerson Coll', 88],\n",
       " 'College of Marin': ['Coll Marin', 100],\n",
       " 'California State University-Chico': ['Calif State Univ Chico', 100],\n",
       " 'Colby College': ['Colby Coll', 100],\n",
       " 'Calumet College of Saint Joseph': ['Calumet Coll St Joseph', 94],\n",
       " 'Cornell College': ['Cornell Coll', 100],\n",
       " 'College of Staten Island CUNY': ['Coll Staten Isl CUNY', 97],\n",
       " 'Roane State Community College': ['Roane State Community Coll', 100],\n",
       " 'Hampshire College': ['Hampshire Coll', 100],\n",
       " 'Walla Walla Community College': ['Walla Walla Community Coll', 100],\n",
       " 'The University of Texas at El Paso': ['UT El Paso', 100],\n",
       " 'Everett Community College': ['Everett Community Coll', 100],\n",
       " 'Southwest Tennessee Community College': ['SW Tennessee Community Coll', 90],\n",
       " 'New College of Florida': ['New Coll Florida', 100],\n",
       " 'Sacramento City College': ['Sacramento City Coll', 100],\n",
       " 'University of Massachusetts-Lowell': ['Univ Lowell Massachusetts', 100],\n",
       " 'Moraine Valley Community College': ['Moraine Valley Community Coll', 100],\n",
       " 'The University of the Arts': ['Univ AR', 93],\n",
       " 'Neosho County Community College': ['South Mt Community Coll', 83],\n",
       " 'Trinity College': ['Trinity Coll', 100],\n",
       " 'Georgia Gwinnett College': ['Georgia Gwinnett Coll', 100],\n",
       " 'Cornell University': ['Cornell Univ', 100],\n",
       " 'Contra Costa College': ['Contra Costa Coll', 100],\n",
       " 'Naval Postgraduate School': ['Naval Postgraduate Sch', 94],\n",
       " 'Walla Walla University': ['Walla Walla Univ', 100],\n",
       " 'Biola University': ['Biola Univ', 100],\n",
       " 'MiraCosta College': ['MiraCosta Coll', 100],\n",
       " 'Yale University': ['Yale Univ', 100],\n",
       " 'University of South Alabama': ['Univ S Alabama', 100],\n",
       " 'Winthrop University': ['Winthrop Univ', 100],\n",
       " \"Emperor's College of Traditional Oriental Medicine\": ['Emperors Coll Tradit Oriental Med',\n",
       "  81],\n",
       " 'South Mountain Community College': ['South Mt Community Coll', 95],\n",
       " 'Cypress College': ['Cypress Coll', 100],\n",
       " 'Georgia Institute of Technology-Main Campus': ['CSIR Georgia Inst Technol',\n",
       "  85],\n",
       " 'University of South Florida-Sarasota-Manatee': ['Univ South Florida Sarasota Manatee',\n",
       "  100],\n",
       " 'Nicholls State University': ['Nicholls State Univ', 100],\n",
       " 'Columbia College-Chicago': ['Columbia Coll Chicago', 100],\n",
       " 'Stonehill College': ['Stonehill Coll', 100],\n",
       " 'Adler Graduate School': ['Naval Postgraduate Sch', 70],\n",
       " 'Pikes Peak Community College': ['Pikes Peak Community Coll', 100],\n",
       " 'Florida SouthWestern State College': ['Florida SouthWestern State Coll',\n",
       "  100],\n",
       " 'CUNY Lehman College': ['CUNY Lehman Coll', 100],\n",
       " 'Midland College': ['Midland Coll', 100],\n",
       " 'Rhode Island College': ['Rhode Isl Coll', 92],\n",
       " 'Benedictine University': ['Benedictine Univ', 100],\n",
       " 'University of Washington-Tacoma Campus': ['Univ Washington Tacoma', 89],\n",
       " 'Alamance Community College': ['Arapahoe Community Coll', 85],\n",
       " 'Pensacola State College': ['Pensacola State Coll', 100],\n",
       " 'Anoka-Ramsey Community College': ['Anoka Ramsey Community Coll', 100],\n",
       " 'Colorado State University-Fort Collins': ['Colorado State Univ Ft Collins',\n",
       "  100],\n",
       " 'North Park University': ['North Pk Univ', 100],\n",
       " 'Rensselaer Polytechnic Institute': ['Rensselaer Polytechn Inst', 97],\n",
       " 'University of Louisville': ['Univ Louisville', 100],\n",
       " 'Onondaga Community College': ['Onondaga Community Coll', 100],\n",
       " 'Marshall University': ['Marshall Univ', 100],\n",
       " 'Glendale Community College-Glendale': ['Glendale Community Coll', 85],\n",
       " 'DePauw University': ['DePauw Univ', 100],\n",
       " 'George C Wallace State Community College-Hanceville': ['Wallace State Community Coll',\n",
       "  76],\n",
       " \"St John's Seminary\": ['St John Vianney Theol Seminary', 69],\n",
       " 'Millersville University of Pennsylvania': ['Millersville Univ Pennsylvania',\n",
       "  100],\n",
       " 'Utah State University': ['Utah State Univ', 100],\n",
       " 'Los Angeles Valley College': ['Los Angeles Valley Coll', 100],\n",
       " 'California State University-Fresno': ['Calif State Univ Fresno', 100],\n",
       " 'University of Wisconsin-Stout': ['Univ Wisconsin Stout', 100],\n",
       " 'Tallahassee Community College': ['Tallahassee Community Coll', 100],\n",
       " 'University of Missouri-Kansas City': ['Univ Kansas City Missouri', 100],\n",
       " 'University of Richmond': ['Univ Richmond', 100],\n",
       " 'Arkansas Tech University': ['Arkansas Tech Univ', 100],\n",
       " 'Green River College': ['Greenville Coll', 81],\n",
       " 'Kalamazoo College': ['Kalamazoo Coll', 100],\n",
       " 'CUNY John Jay College of Criminal Justice': ['John Jay Coll Criminal Justice CUNY',\n",
       "  100],\n",
       " 'Minnesota State University Moorhead': ['Minnesota State Univ Moorhead', 100],\n",
       " 'Florida Coastal School of Law': ['Florida Coastal Sch Law', 94],\n",
       " 'University of North Florida': ['Univ N Florida', 100],\n",
       " 'Black Hills State University': ['Black Hills State Univ', 100],\n",
       " 'Wittenberg University': ['Wittenberg Univ', 100],\n",
       " 'Northeastern Illinois University': ['NW Univ Illinois', 97],\n",
       " 'Bates College': ['Bates Coll', 100],\n",
       " 'Mount Holyoke College': ['Mount Holyoke Coll', 100],\n",
       " 'University of Northern Iowa': ['Univ No Iowa', 100],\n",
       " 'California State University-Channel Islands': ['Calif State Univ Channel Islands',\n",
       "  100],\n",
       " 'University of Houston-Clear Lake': ['Univ Houston Clear Lake', 100],\n",
       " 'Calvary Bible College and Theological Seminary': ['Nazarene Theol Seminary',\n",
       "  62],\n",
       " 'Inver Hills Community College': ['Inver Hills Community Coll', 100],\n",
       " 'Chattanooga State Community College': ['Chattanooga State Community Coll',\n",
       "  100],\n",
       " 'Snow College': ['Snow Coll', 100],\n",
       " 'Mid Michigan Community College': ['Mid Michigan Community Coll', 100],\n",
       " 'Roanoke College': ['Roanoke Coll', 100],\n",
       " 'Lake Superior State University': ['Lake Superior State Univ', 100],\n",
       " 'Hope College': ['Hope Coll', 100],\n",
       " 'Multnomah University': ['Univ Manoa', 83],\n",
       " 'La Sierra University': ['La Sierra Univ', 100],\n",
       " 'Point Loma Nazarene University': ['Point Loma Nazarene Univ', 100],\n",
       " 'North Dakota State College of Science': ['N Dakota State Coll Sci', 100],\n",
       " 'York College Pennsylvania': ['York Coll Penn', 100],\n",
       " 'Fairfield University': ['Fairfield Univ', 100],\n",
       " 'John A Logan College': ['John A Logan Coll', 100],\n",
       " 'Rio Hondo College': ['Hondros Coll', 81],\n",
       " 'University of South Dakota': ['Univ S Dakota', 100],\n",
       " 'Berea College': ['Berea Coll', 100],\n",
       " 'Old Dominion University': ['Old Dominion Univ', 100],\n",
       " 'University of North Carolina at Asheville': ['Univ North Carolina Asheville',\n",
       "  100],\n",
       " 'Grossmont College': ['Grossmont Coll', 100],\n",
       " 'St Lawrence University': ['St Lawrence Univ', 100],\n",
       " 'Kent State University at Kent': ['Kent State Univ', 89],\n",
       " 'Rowan University': ['Rowan Univ', 100],\n",
       " 'Avila University': ['Avila Univ', 100],\n",
       " 'College of William and Mary': ['Coll William Mary', 100],\n",
       " 'Saint Anselm College': ['St Anselm Coll', 92],\n",
       " 'Wayland Baptist University': ['Wayland Baptist Univ', 100],\n",
       " 'Marietta College': ['Marietta Coll', 100],\n",
       " 'Fayetteville State University': ['Fayetteville State University', 100],\n",
       " 'Jackson State University': ['Jackson State Univ', 100],\n",
       " 'Colby Community College': ['Cloud Community Coll', 87],\n",
       " 'Bryn Mawr College': ['Bryn Mawr Coll', 100],\n",
       " 'Southeast Missouri State University': ['Southeast Missouri State Univ', 100],\n",
       " 'Bard College': ['Bard Coll', 100],\n",
       " 'Drake University': ['Drake Univ', 100],\n",
       " 'Reed College': ['Reed Coll', 100],\n",
       " 'Erskine College': ['Erskine Coll', 100],\n",
       " 'University of Northern Colorado': ['Univ No Colorado', 100],\n",
       " 'Vermont Law School': ['Vermont Law School', 100],\n",
       " 'Hebrew College': ['Hebrew Coll', 100],\n",
       " 'Triton College': ['Triton Coll', 100],\n",
       " 'University of Louisiana at Monroe': ['Univ Louisiana,Monroe', 100],\n",
       " 'Tulane University of Louisiana': ['Tulane Univ Louisiana', 100],\n",
       " 'Diablo Valley College': ['Diablo Valley Coll', 100],\n",
       " 'College of DuPage': ['Coll Dupage', 100],\n",
       " 'University of Idaho': ['Univ Idaho', 100],\n",
       " 'Elon University': ['Elon Univ', 100],\n",
       " 'Nebraska Wesleyan University': ['Nebraska Wesleyan Univ', 100],\n",
       " 'University of San Diego': ['Univ San Diego', 100],\n",
       " 'University of Virginia-Main Campus': ['Nursing Univ Virginia', 83],\n",
       " 'Bridgewater College': ['Bridgewater Coll', 100],\n",
       " 'Tunxis Community College': ['Tunxis Community Coll', 100],\n",
       " 'Bentley University': ['Bentley Univ', 100],\n",
       " 'California State University-Fullerton': ['Calif State Univ Fullerton', 100],\n",
       " 'South Puget Sound Community College': ['S Puget Sound Community Coll', 100],\n",
       " 'Berklee College of Music': ['Berklee Coll Mus', 95],\n",
       " 'Montgomery County Community College': ['Montgomery Cty Community Coll', 96],\n",
       " 'Bakersfield College': ['Bakersfield Coll', 100],\n",
       " 'West Virginia University at Parkersburg': ['West Virginia State Univ', 82],\n",
       " 'Westmoreland County Community College': ['Southwestern Community Coll', 81],\n",
       " 'The College of Wooster': ['Coll Wooster', 100],\n",
       " 'University of Maryland-Baltimore County': ['Univ Maryland Baltimore County',\n",
       "  100],\n",
       " 'Tennessee Technological University': ['Tennessee Technol Univ', 92],\n",
       " \"Prince George's Community College\": ['Prince George Community Coll', 91],\n",
       " 'Northwest Mississippi Community College': ['Northwest Mississippi Community Coll',\n",
       "  100],\n",
       " 'Eastern Michigan University': ['Eastern Michigan Univ', 100],\n",
       " 'Shoreline Community College': ['Shoreline Community Coll', 100],\n",
       " 'Central Oregon Community College': ['Cent Oregon Community Coll', 95],\n",
       " 'CUNY Hunter College': ['CUNY Hunter coll', 100],\n",
       " 'Copiah-Lincoln Community College': ['Lincoln Land Community Coll', 87],\n",
       " 'University of Southern Mississippi': ['Univ Southern Mississippi', 100],\n",
       " 'Drew University': ['Drew Univ', 100],\n",
       " 'Macalester College': ['Macalester Coll', 100],\n",
       " 'SUNY at Purchase College': ['SUNY Coll Purchase', 100],\n",
       " 'Panola College': ['Dana Coll', 85],\n",
       " 'University of Colorado Colorado Springs': ['Univ Colorado Colorado Springs',\n",
       "  100],\n",
       " 'Gordon College': ['Gordon Coll', 100],\n",
       " 'Utah Valley University': ['Utah Valley Univ', 100],\n",
       " 'Southwest Baptist University': ['Southwest Baptist Univ', 100],\n",
       " 'CUNY Graduate School and University Center': ['CUNY Grad Sch & Univ Ctr',\n",
       "  94],\n",
       " 'City College of San Francisco': ['City Coll San Francisco', 100],\n",
       " 'Wheaton College-Wheaton': ['Wheaton Coll', 79],\n",
       " 'Elizabethtown College': ['Elizabethtown Coll', 100],\n",
       " 'Central Piedmont Community College': ['Piedmont Community Coll', 87],\n",
       " 'Villanova University': ['Villanova Univ', 100],\n",
       " 'Miami University-Oxford': ['Univ Miami Ohio', 86],\n",
       " 'Frank Phillips College': ['Franklin Coll', 79],\n",
       " 'Centralia College': ['Centralia Coll', 100],\n",
       " 'Seattle Central College': ['El Centro Coll', 80],\n",
       " 'SIT Graduate Institute': ['Grad Inst', 78],\n",
       " 'University of Nebraska at Omaha': ['Univ Omaha Nebraska', 100],\n",
       " 'Southern Illinois University-Edwardsville': ['Southern Illinois Univ Edwardsville',\n",
       "  100],\n",
       " 'Southeast Community College Area': ['Southeastern Community Coll', 87],\n",
       " \"Texas Woman's University\": ['Texas Woman Univ', 88],\n",
       " 'Berkeley City College': ['Berkeley City Coll', 100],\n",
       " 'University of California-Merced': ['Univ California Merced', 100],\n",
       " 'Gustavus Adolphus College': ['Gustavus Adolphus Coll', 100],\n",
       " 'Ithaca College': ['Ithaca Coll', 100],\n",
       " 'Fullerton College': ['Fullerton Coll', 100],\n",
       " 'Suffolk County Community College': ['Suffolk Cty Community Coll', 95],\n",
       " 'University of Wisconsin-Platteville': ['Univ Wisconsin Platteville', 100],\n",
       " 'Asbury Theological Seminary': ['Asbury Theol Seminary', 88],\n",
       " 'Riverside City College': ['Riverside City Coll', 100],\n",
       " \"Saint Mary's College of California\": ['St Marys Coll California', 84],\n",
       " 'Pasadena City College': ['Pasadena City Coll', 100],\n",
       " 'Broward College': ['Broward Coll', 100],\n",
       " 'Whittier College': ['Whittier Coll', 100],\n",
       " 'University of Mary Washington': ['Mary Washington Univ', 100],\n",
       " 'University of California-Santa Barbara': ['Univ California Santa Barbara',\n",
       "  100],\n",
       " 'New Orleans Baptist Theological Seminary': ['New Orleans Baptist Theol Seminary',\n",
       "  92],\n",
       " 'CUNY York College': ['City Univ New York York Coll', 100],\n",
       " 'Tulsa Community College': ['Tulsa Community Coll', 100],\n",
       " 'University of Arkansas': ['Univ Arkansas', 100],\n",
       " 'University of California-Riverside': ['UC Riverside', 100],\n",
       " 'Johns Hopkins University': ['Johns & Hopkins Univ', 100],\n",
       " 'San Diego State University': ['San Diego State Univ', 100],\n",
       " 'Georgia Southern University': ['Georgia Southern Univ', 100],\n",
       " 'University of Wisconsin-Parkside': ['Univ Wisconsin Parkside', 100],\n",
       " 'Northern Michigan University': ['No Michigan Univ', 100],\n",
       " 'National Louis University': ['Natl Louis Univ', 100],\n",
       " 'Holy Apostles College and Seminary': ['Baptist Coll Hlth Sci', 66],\n",
       " 'North Central Michigan College': ['Northwestern Michigan Coll', 75],\n",
       " 'Catholic University of America': ['Catholic Univ America', 100],\n",
       " 'Luther College': ['Luther College', 100],\n",
       " 'Barton County Community College': ['Baton Rouge Community Coll', 87],\n",
       " 'Queens University of Charlotte': ['Queens Univ Charlotte', 100],\n",
       " 'Midlands Technical College': ['Midland Coll', 73],\n",
       " 'CUNY Bronx Community College': ['Bronx Community Coll City Univ New York',\n",
       "  100],\n",
       " 'William Carey University': ['William Carey Univ', 100],\n",
       " 'Grays Harbor College': ['Grays Harbor Coll', 100],\n",
       " 'Mississippi College': ['Mississippi Coll', 100],\n",
       " 'Eastern Kentucky University': ['Eastern Kentucky Univ', 100],\n",
       " 'Eastern Washington University': ['Eastern Washington Univ', 100],\n",
       " 'Concordia University-Chicago': ['Concordia Univ Chicago', 100],\n",
       " 'Hobart William Smith Colleges': ['Hobart & William Smith Colleges', 100],\n",
       " 'Mississippi Gulf Coast Community College': ['Gulf Coast Community Coll', 82],\n",
       " 'University of Nebraska-Lincoln': ['Univ Lincoln Nebraska', 100],\n",
       " 'Adams State University': ['Adams State Univ', 100],\n",
       " 'New Mexico Institute of Mining and Technology': ['New Mexico Inst Mining & Technol',\n",
       "  100],\n",
       " 'Victor Valley College': ['Victor Valley Coll', 100],\n",
       " 'Missouri State University-Springfield': ['Missouri State Univ Springfield',\n",
       "  100],\n",
       " 'NorthWest Arkansas Community College': ['Northwest Arkansas Community Coll',\n",
       "  100],\n",
       " 'Chatham University': ['Chatham Univ', 100],\n",
       " 'Chemeketa Community College': ['Chemeketa Community Coll', 100],\n",
       " 'Mesa Community College': ['Mesa Community Coll', 100],\n",
       " 'California State University-Stanislaus': ['Calif State Univ Stanislaus',\n",
       "  100],\n",
       " 'Eastern Connecticut State University': ['Eastern Connecticut State Univ',\n",
       "  100],\n",
       " 'Benedictine College': ['Benedictine Coll', 100],\n",
       " 'Hillsborough Community College': ['Hillsborough Community Coll', 100],\n",
       " 'Vanderbilt University': ['Vanderbilt Univ', 100],\n",
       " 'Northern Kentucky University': ['Northern Kentucky Univ', 100],\n",
       " 'Lincoln University-Oakland': ['Univ NE Lincoln', 85],\n",
       " 'University of Alabama in Huntsville': ['Univ Alabama Huntsville', 95],\n",
       " 'Florida State College at Jacksonville': ['Florida State Coll Jacksonville',\n",
       "  100],\n",
       " 'Raritan Valley Community College': ['Raritan Valley Community Coll', 100],\n",
       " 'Gettysburg College': ['Gettysburg Coll', 100],\n",
       " 'Los Angeles Southwest College': ['West Los Angeles Coll', 91],\n",
       " 'Central New Mexico Community College': ['Cent New Mexico Community Coll',\n",
       "  96],\n",
       " 'Edmonds Community College': ['Edmonds Community Coll', 100],\n",
       " 'Naugatuck Valley Community College': ['Mohawk Valley Community Coll', 83],\n",
       " 'William Rainey Harper College': ['William Rainey Harper Coll', 100],\n",
       " 'Cape Fear Community College': ['Cape Fear Community Coll', 100],\n",
       " 'Delta State University': ['Delta State Univ', 100],\n",
       " 'University of Baltimore': ['Univ Baltimore', 100],\n",
       " 'Baylor University': ['Baylor Univ', 100],\n",
       " 'Walden University': ['Walden Univ', 100],\n",
       " 'United States Naval Academy': ['United States Naval Acad', 94],\n",
       " 'High Point University': ['High Point Univ', 100],\n",
       " 'University of Wisconsin Colleges': ['Univ Wisconsin Coll', 98],\n",
       " 'Regent University': ['Regent Univ', 100],\n",
       " 'Radford University': ['Radford Univ', 100],\n",
       " 'West Chester University of Pennsylvania': ['West Chester Univ Pennsylvania',\n",
       "  100],\n",
       " 'Southwestern University': ['Southwestern Univ', 100],\n",
       " 'Community College of Vermont': ['Piedmont Community Coll', 90],\n",
       " 'Rhode Island School of Design': ['Rhode Isl Sch Design', 87],\n",
       " 'CUNY Bernard M Baruch College': ['CUNY Bernard M Baruch Coll', 100],\n",
       " 'Washtenaw Community College': ['Washtenaw Community Coll', 100],\n",
       " 'Chapman University': ['Chapman Univ', 100],\n",
       " 'University of Dayton': ['Univ dayton', 100],\n",
       " 'Institute for Clinical Social Work': ['Western Psychiat Inst & Clin', 72],\n",
       " 'Tompkins Cortland Community College': ['Portland Community Coll', 82],\n",
       " 'Vanguard University of Southern California': ['Univ Southern Calif USC', 88],\n",
       " 'Juniata College': ['Juniata Coll', 100],\n",
       " 'Morehouse College': ['Morehouse Coll', 100],\n",
       " 'Lake-Sumter State College': ['Lake Reg State Coll', 77],\n",
       " \"Saint Mary's College\": ['Coll Southern Maryland', 82],\n",
       " 'California State University-Northridge': ['Calif State Univ Northridge',\n",
       "  100],\n",
       " 'Thomas Nelson Community College': ['NE Texas Community Coll', 84],\n",
       " 'Southern Connecticut State University': ['So Connecticut State Univ', 100],\n",
       " 'Union County College': ['Union Cty Coll', 92],\n",
       " 'Hendrix College': ['Hendrix Coll', 100],\n",
       " 'Mercyhurst University': ['Mercyhurst Univ', 100],\n",
       " 'Des Moines University-Osteopathic Medical Center': ['Des Moines Univ Osteopath Med Ctr',\n",
       "  98],\n",
       " 'Rutgers University-Camden': ['Rutgers Univ Camden', 100],\n",
       " 'Missouri University of Science and Technology': ['Missouri Univ Sci & technol',\n",
       "  100],\n",
       " 'Wichita State University': ['Wichita State Univ', 100],\n",
       " 'College of the Holy Cross': ['Coll Holy Cross', 100],\n",
       " 'Cumberland County College': ['Cumberland Cty Coll', 94],\n",
       " 'University of North Alabama': ['Univ North Alabama', 100],\n",
       " 'Providence College': ['Providence Coll', 100],\n",
       " 'University of Wisconsin-Green Bay': ['Univ Wisconsin Green Bay', 100],\n",
       " 'University of Delaware': ['Univ Delaware', 100],\n",
       " 'Columbia International University': ['Columbia Univ Neurol', 85],\n",
       " 'Ferris State University': ['Ferris State Univ', 100],\n",
       " 'University of Wisconsin-La Crosse': ['Univ La Crosse Wisconsin', 100],\n",
       " 'Tarleton State University': ['Tarleton State Univ', 100],\n",
       " 'University of Minnesota-Duluth': ['Univ Minnesota Duluth', 100],\n",
       " 'Northwest Missouri State University': ['NW Missouri State Univ', 96],\n",
       " 'Lipscomb University': ['Lipscomb Univ', 100],\n",
       " 'Passaic County Community College': ['Passaic Cty Community Coll', 95],\n",
       " 'Long Beach City College': ['Long Beach City Coll', 100],\n",
       " 'Lyndon State College': ['Lyndon State Coll', 100],\n",
       " 'Mesabi Range College': ['Mesa State Coll', 79],\n",
       " 'CUNY Brooklyn College': ['Brooklyn Coll City Univ New York', 100],\n",
       " 'Normandale Community College': ['Normandale Community Coll', 100],\n",
       " 'CUNY Queens College': ['Queens Coll City Univ New York', 100],\n",
       " 'University of Central Missouri': ['Univ Cent Missouri', 94],\n",
       " 'Rowan College at Gloucester County': ['Rowan Coll Gloucester Cty', 95],\n",
       " 'Clackamas Community College': ['Clackamas Community Coll', 100],\n",
       " 'University of La Verne': ['Univ La Verne', 100],\n",
       " 'East Los Angeles College': ['East Los Angeles Coll', 100],\n",
       " 'John Brown University': ['John Brown Univ', 100],\n",
       " 'University of New England': ['Univ New England', 100],\n",
       " 'Cowley County Community College': ['Turtle Mt Community Coll', 82],\n",
       " 'Rainy River Community College': ['Green River Community Coll', 90],\n",
       " 'South Dakota State University': ['South Dakota State Univ', 100],\n",
       " 'La Roche College': ['La Roche Coll', 100],\n",
       " 'Point Park University': ['Point Pk Univ', 100],\n",
       " 'Furman University': ['Furman Univ', 100],\n",
       " 'SUNY College at Oswego': ['SUNY Coll Oswego', 100],\n",
       " 'Big Bend Community College': ['Bergen Community Coll', 84],\n",
       " 'Gannon University': ['Gannon Univ', 100],\n",
       " 'Stevens Institute of Technology': ['Stevens Inst Technol', 100],\n",
       " 'Texas Wesleyan University': ['Texas Wesleyan Univ', 100],\n",
       " 'SUNY Buffalo State': ['State Univ New York Buffalo State', 100],\n",
       " 'CUNY Kingsborough Community College': ['Kingsborough Community Coll CUNY',\n",
       "  100],\n",
       " 'South Seattle College': ['Coll Eastern Utah', 78],\n",
       " 'Wright State University-Main Campus': ['NC State Univ Campus', 82],\n",
       " 'Augustana College-Rock Island': ['Augustana Coll SD', 82],\n",
       " 'Ohlone College': ['Ohlone Coll', 100],\n",
       " 'Cleveland State Community College': ['Cleveland State Community Coll', 100],\n",
       " 'Adrian College': ['Adrian Coll', 100],\n",
       " 'Columbus State Community College': ['Columbus State Community Coll', 100],\n",
       " 'Lewis-Clark State College': ['Lewis & Clark State Coll', 100],\n",
       " 'California State University-San Bernardino': ['Calif State Univ San Bernardino',\n",
       "  100],\n",
       " 'College of the Siskiyous': ['Coll Siskiyous', 100],\n",
       " 'Northeast Alabama Community College': ['Northwest Arkansas Community Coll',\n",
       "  85],\n",
       " 'Wheaton College-Norton': ['Wheaton Coll', 81],\n",
       " 'Wharton County Junior College': ['Wharton Cty Jr Coll', 95],\n",
       " 'Shepherd University': ['Shepherd Univ', 100],\n",
       " 'CUNY New York City College of Technology': ['New York City Coll Technol CUNY',\n",
       "  100],\n",
       " 'Hawaii Pacific University': ['Hawaii Pacific Univ', 100],\n",
       " 'Amberton University': ['Cameron Univ', 92],\n",
       " 'Pacific Lutheran University': ['Pacific Lutheran Univ', 100],\n",
       " 'College of Western Idaho': ['Coll Western Idaho', 100],\n",
       " 'Stetson University': ['Stetson Univ', 100],\n",
       " 'Illinois Institute of Technology': ['Illinois Inst Technol', 100],\n",
       " 'Richland Community College': ['Richmond Community Coll', 92],\n",
       " 'Notre Dame de Namur University': ['Notre Dame de Namur Univ', 100],\n",
       " 'California State University-Dominguez Hills': ['Calif State Univ Dominguez Hills',\n",
       "  100],\n",
       " 'University of Hartford': ['Univ Hartford', 100],\n",
       " 'Troy University': ['Troy Univ', 100],\n",
       " 'Monmouth University': ['Univ Monmouth', 100],\n",
       " 'California State University-Bakersfield': ['Calif State Univ Bakersfield',\n",
       "  100],\n",
       " 'Cedarville University': ['Cedarville Univ', 100],\n",
       " 'Occidental College': ['Occidental Coll', 100],\n",
       " 'Lawrence University': ['Lawrence Univ', 100],\n",
       " 'The College of New Jersey': ['Coll New jersey', 100],\n",
       " 'Community College of Rhode Island': ['Community Coll Rhode Isalnd', 97],\n",
       " 'Western Wyoming Community College': ['Western Wyoming Community Coll', 100],\n",
       " 'Des Moines Area Community College': ['Des Moines Community Coll', 92],\n",
       " \"Saint Joseph's College of Maine\": ['St Josephs Coll Maine', 82],\n",
       " 'Wellesley College': ['Wellesley Coll', 100],\n",
       " 'Swarthmore College': ['Swarthmore Coll', 100],\n",
       " 'Bloomsburg University of Pennsylvania': ['Bloomsburg Univ Penn', 100],\n",
       " 'Wor-Wic Community College': ['Windward Community Coll', 86],\n",
       " 'Blue Ridge Community and Technical College': ['Bluegrass Community & Tech Coll',\n",
       "  77],\n",
       " 'The Lincoln University': ['Lincoln Univ', 100],\n",
       " 'Butler Community College': ['Butler Community Coll', 100],\n",
       " 'Wilson College': ['Wilson Coll', 100],\n",
       " 'Randolph-Macon College': ['Randolph Macon Coll', 100],\n",
       " 'Eastern Florida State College': ['Eastern Florida State Coll', 100],\n",
       " 'Colgate University': ['Colgate Univ', 100],\n",
       " 'Bellevue University': ['Bellevue Univ', 100],\n",
       " 'Colorado School of Mines': ['Colorado Sch Mines', 92],\n",
       " 'Philadelphia University': ['Univ Philadelphia', 100],\n",
       " 'Mott Community College': ['Mott Community Coll', 100],\n",
       " 'University of California-Davis': ['Univ Calif,Davis', 100],\n",
       " 'Austin Peay State University': ['Austin Peay State Univ', 100],\n",
       " 'New Jersey City University': ['New Jersey City Univ', 100],\n",
       " 'Hood College': ['Hood Coll', 100],\n",
       " 'Lorain County Community College': ['Lorain Cty Community Coll', 95],\n",
       " 'Savannah College of Art and Design': ['Savannah Coll Art & Design', 100],\n",
       " 'Ramapo College of New Jersey': ['Rampo Coll New Jersey', 98],\n",
       " 'Blue Mountain Community College': ['Mott Community Coll', 79],\n",
       " 'Duquesne University': ['Duquesne Univ', 100],\n",
       " 'Northland College': ['Northland Coll', 100],\n",
       " 'Evangel University': ['Evangel Univ', 100],\n",
       " 'Seton Hall University': ['Seton Hall Univ', 100],\n",
       " 'Brigham Young University-Idaho': ['Brigham Young Univ Idaho', 100],\n",
       " 'East Central Community College': ['East Cent Community Coll', 95],\n",
       " 'Mansfield University of Pennsylvania': ['Mansfield Univ Penn', 100],\n",
       " 'Hibbing Community College': ['Kings Community Coll', 88],\n",
       " 'The University of Tampa': ['Univ Tampa', 100],\n",
       " 'Sewanee-The University of the South': ['Univ South Sewanee', 100],\n",
       " 'Christopher Newport University': ['Christopher Newport Univ', 100],\n",
       " 'Point University': ['Point Univ', 100],\n",
       " 'University of Alaska Anchorage': ['Univ Alaska Anchorage', 100],\n",
       " 'Mt San Jacinto Community College District': ['Estrella Mt Community Coll',\n",
       "  74],\n",
       " 'Ball State University': ['Ball State Univ', 100],\n",
       " 'University of Illinois at Springfield': ['Univ Illinois Springfield', 100],\n",
       " 'Manhattan College': ['Manhattan Coll', 100],\n",
       " 'Indiana State University': ['Indiana State Univ', 100],\n",
       " 'Lanier Technical College': ['Lerner Coll Med', 78],\n",
       " 'Warren Wilson College': ['Warren Wilson Coll', 100],\n",
       " 'Tidewater Community College': ['Tidewater Community Coll', 100],\n",
       " 'Minnesota State University-Mankato': ['Minnesota State Univ Mankato', 100],\n",
       " 'Dakota County Technical College': ['Delaware Tech Community Coll', 74],\n",
       " 'University of North Dakota': ['Univ North Dakota', 100],\n",
       " 'Towson University': ['Univ Towson', 100],\n",
       " 'The University of West Florida': ['Univ West Florida', 100],\n",
       " 'Wartburg College': ['Wartburg Coll', 100],\n",
       " 'Oklahoma City University': ['Oklahoma City Univ', 100],\n",
       " 'Saint Louis University': ['Saint Louis Univ', 100],\n",
       " 'St Olaf College': ['St Olaf Coll', 100],\n",
       " 'Sacred Heart University': ['Sacred Heart Univ', 100],\n",
       " 'Monroe Community College': ['Monroe Cty Community Coll', 92],\n",
       " 'Franklin and Marshall College': ['Franklin Marshall Coll', 100],\n",
       " 'Wentworth Institute of Technology': ['Wentworth Inst Technol', 100],\n",
       " 'Truman State University': ['Truman State Univ', 100],\n",
       " 'Bucks County Community College': ['Bucks Cty Community Coll', 95],\n",
       " 'Cuyamaca College': ['Coll Humacao', 84],\n",
       " 'The University of Tennessee-Martin': ['Univ Tennessee Martin', 100],\n",
       " 'Massachusetts School of Law': ['Woods Hole Massachusetts', 75],\n",
       " 'Eastern New Mexico University-Main Campus': ['Eastern Univ New Mexico', 83],\n",
       " 'North Georgia Technical College': ['N Georgia Coll', 81],\n",
       " 'Iowa Western Community College': ['Iowa Western Community Coll', 100],\n",
       " 'SUNY College of Environmental Science and Forestry': ['State Univ New York Coll Environm Sci & Forestry',\n",
       "  96],\n",
       " 'School of the Art Institute of Chicago': ['Sch Art Inst Chicago', 94],\n",
       " 'Shelton State Community College': ['NE State Community Coll', 88],\n",
       " 'Hanover College': ['Hanover Coll', 100],\n",
       " 'Dordt College': ['Dordt Coll', 100],\n",
       " 'Jacksonville State University': ['Jacksonville State Univ', 100],\n",
       " 'Wabash College': ['Wabash Coll', 100],\n",
       " 'Central Connecticut State University': ['Cent Connecticut State Univ', 96],\n",
       " 'SUNY Oneonta': ['SUNY Coll Oneonta', 89],\n",
       " 'Metropolitan State University of Denver': ['Metropolitan State Univ Denver',\n",
       "  100],\n",
       " 'Florida Keys Community College': ['Florida Keys Community Coll', 100],\n",
       " 'Bowdoin College': ['Bowdoin Coll', 100],\n",
       " 'Abraham Baldwin Agricultural College': ['Abraham Baldwin Agr Coll', 86],\n",
       " 'Temple College': ['Temple Coll', 100],\n",
       " 'Madison Area Technical College': ['Madison Area Tech Coll', 91],\n",
       " 'Minot State University': ['Minot State Univ', 100],\n",
       " 'Bowling Green State University-Main Campus': ['Bowling Green Ohio State Univ',\n",
       "  83],\n",
       " 'University of Houston-Downtown': ['Univ Houston Downtown', 100],\n",
       " 'State College of Florida-Manatee-Sarasota': ['Northwest Florida State Coll',\n",
       "  78],\n",
       " 'San Jacinto Community College': ['Oakton Community Coll', 83],\n",
       " 'Academy of Art University': ['Acad Art Univ', 93],\n",
       " 'Danville Area Community College': ['Danville Area Community Coll', 100],\n",
       " 'Frostburg State University': ['Frostburg State Univ', 100],\n",
       " 'Ashland University': ['Ashland Univ', 100],\n",
       " 'Winona State University': ['Winona State Univ', 100],\n",
       " 'Eastern Oregon University': ['Eastern Oregon Univ', 100],\n",
       " 'Hartwick College': ['Hartwick Coll', 100],\n",
       " 'Cisco College': ['Cisco Coll', 100],\n",
       " 'Phoenix College': ['Phoenix Coll', 100],\n",
       " 'University of Rio Grande': ['Grande Rio Univ', 100],\n",
       " 'Rose State College': ['Rose State Coll', 100],\n",
       " 'University of Bridgeport': ['Univ Bridgeport', 100],\n",
       " 'Canada College': ['Canada Coll', 100],\n",
       " 'University of the Incarnate Word': ['Incarnate Word Univ', 100],\n",
       " 'Southern University and A & M College': ['So Univ & A & M Coll', 100],\n",
       " 'Northeast State Community College': ['N Seattle Community Coll', 88],\n",
       " 'Bristol Community College': ['Bristol Community Coll', 100],\n",
       " 'Highline College': ['Ohlone Coll', 80],\n",
       " 'Oregon Health & Science University': ['Oregon Heath Sci Univ', 98],\n",
       " 'University of Washington-Bothell Campus': ['Univ Washington Bothell', 89],\n",
       " 'Motlow State Community College': ['Motlow State Community Coll', 100],\n",
       " 'Merced College': ['Mercy Coll', 89],\n",
       " 'Massachusetts College of Art and Design': ['Massachusetts Coll Art & Design',\n",
       "  100],\n",
       " 'Amherst College': ['Amherst Coll', 100],\n",
       " 'University of Science and Arts of Oklahoma': ['Univ Sci & Arts Oklahoma',\n",
       "  100],\n",
       " 'Auburn University at Montgomery': ['Univ Montgomery', 86],\n",
       " 'Case Western Reserve University': ['Case Western Reserve Univ', 100],\n",
       " 'Los Angeles City College': ['Los Angeles City Coll', 100],\n",
       " 'Navarro College': ['Naval War Coll', 81],\n",
       " 'Mt San Antonio College': ['Mt San Antonio Coll', 100],\n",
       " 'Framingham State University': ['Framingham State Univ', 100],\n",
       " 'Skidmore College': ['Skidmore Coll', 100],\n",
       " 'University of Nebraska Medical Center': ['Univ Nebraska Med Ctr', 100],\n",
       " 'Seattle Pacific University': ['Seattle Pacific Univ', 100],\n",
       " 'Slippery Rock University of Pennsylvania': ['Slippery Rock Univ Penn', 100],\n",
       " 'Piedmont Technical College': ['Piedmont Coll', 76],\n",
       " 'Westminster College-Salt Lake City': ['Westminster Coll', 72],\n",
       " 'University of Saint Francis-Fort Wayne': ['St Francis Xavier Univ', 76],\n",
       " 'Clatsop Community College': ['Cloud Community Coll', 88],\n",
       " 'Virginia Wesleyan College': ['Virginia Wesleyan Coll', 100],\n",
       " 'Los Angeles Harbor College': ['East Los Angeles Coll', 84],\n",
       " 'San Jose City College': ['San Jose City Coll', 100],\n",
       " 'Community College of Denver': ['Community Coll Denver', 100],\n",
       " 'Chabot College': ['Chabot Coll', 100],\n",
       " 'St. Thomas Aquinas College': ['St Thomas Aquinas Coll', 100],\n",
       " 'Concord University': ['Concord Univ', 100],\n",
       " 'Arcadia University': ['Arcadia Univ', 100],\n",
       " 'Seton Hill University': ['Univ Seton Hill', 100],\n",
       " 'Union College-Barbourville': ['Bourns Coll Engn', 67],\n",
       " 'Wayne State College': ['Wayne State Coll', 100],\n",
       " 'Brigham Young University-Hawaii': ['Brigham Young Univ Hawaii', 100],\n",
       " 'McMurry University': ['McMurry Univ', 100],\n",
       " 'Canisius College': ['Canisius Coll', 100],\n",
       " 'Ocean County College': ['Ocean Cty Coll', 92],\n",
       " 'Fayetteville Technical Community College': ['Fayetteville Tech Community Coll',\n",
       "  93],\n",
       " 'University of St Thomas-Saint Paul': ['Univ St Thomas Houston', 81],\n",
       " 'Macomb Community College': ['Macomb Community Coll', 100],\n",
       " 'South Georgia Technical College': ['Georgia So Coll', 84],\n",
       " 'Cornish College of the Arts': ['Cornish Coll Arts', 100],\n",
       " 'Huntingdon College': ['Huntingdon Coll', 100],\n",
       " 'New River Community College': ['New River Community Coll', 100],\n",
       " 'Hartnell College': ['Hartnell Coll', 100],\n",
       " 'Clarion University of Pennsylvania': ['Clarion Univ Pennsylvania', 100],\n",
       " 'Texas A & M University-Texarkana': ['Texas A&M Univ Texarkana', 98],\n",
       " 'Lafayette College': ['Lafayette Coll', 100],\n",
       " 'Edison State Community College': ['NE State Community Coll', 89],\n",
       " 'North Carolina Central University': ['N Carolina Cent Univ', 95],\n",
       " 'Union College-Schenectady': ['Union Cty Coll', 81],\n",
       " 'Southeastern Louisiana University': ['Southeastern Louisiana Univ', 100],\n",
       " 'Upper Iowa University': ['Upper Iowa Univ', 100],\n",
       " 'Christian Brothers University': ['Christian Brothers Univ', 100],\n",
       " 'Kankakee Community College': ['Kankakee Community Coll', 100],\n",
       " 'Dalton State College': ['Dalton State Coll', 100],\n",
       " 'St Thomas University': ['St Thomas Univ', 100],\n",
       " 'Louisville Presbyterian Theological Seminary': ['Lutheran Theol Seminary',\n",
       "  66],\n",
       " 'Bucknell University': ['Bucknell Univ', 100],\n",
       " 'University of the District of Columbia': ['Univ District Columbia', 100],\n",
       " 'College of Central Florida': ['El Centro Coll', 75],\n",
       " 'Miami Dade College': ['Miami Dade Coll', 100],\n",
       " 'Kansas State University': ['Kansas State Univ', 100],\n",
       " 'Allegheny College': ['Allegheny Coll', 100],\n",
       " 'Southeastern Oklahoma State University': ['Southeastern Oklahoma State Univ',\n",
       "  100],\n",
       " 'Lower Columbia College': ['Lower Columbia Coll', 100],\n",
       " 'Tuskegee University': ['Tuskegee Univ', 100],\n",
       " 'Texas A & M University-Corpus Christi': ['Texas A& M Univ Corpus Christi',\n",
       "  100],\n",
       " 'Houston Baptist University': ['Houston Baptist Univ', 100],\n",
       " 'Dominican University': ['Dominican Univ', 100],\n",
       " 'Siena College': ['Siena College', 100],\n",
       " 'Peru State College': ['Peru State Coll', 100],\n",
       " 'Elmhurst College': ['Elmhurst Coll', 100],\n",
       " 'University of North Texas Health Science Center': ['Univ North Texas Hlth Sci Ctr',\n",
       "  98],\n",
       " 'Lancaster Bible College': ['Manchaester Coll', 76],\n",
       " 'Essex County College': ['Essex Cty Coll', 92],\n",
       " 'Northwestern State University of Louisiana': ['NW State Univ Louisiana',\n",
       "  100],\n",
       " 'Arkansas State University-Main Campus': ['Arizona State Univ Main Campus',\n",
       "  88],\n",
       " 'Olympic College': ['Olymp Coll', 93],\n",
       " 'Three Rivers Community College-Norwich': ['Three Rivers Community Coll', 88],\n",
       " 'Alabama Southern Community College': ['South Arkansas Community Coll', 82],\n",
       " 'Waukesha County Technical College': ['Wake Tech Community Coll', 80],\n",
       " 'Anna Maria College': ['Maria Coll', 84],\n",
       " 'Cerritos College': ['Cerritos Coll', 100],\n",
       " 'Parkland College': ['Parkland Coll', 100],\n",
       " 'Spartanburg Community College': ['Spartanburg Community Coll', 100],\n",
       " 'Southwest Mississippi Community College': ['Northwest Mississippi Community Coll',\n",
       "  95],\n",
       " 'Bridgewater State University': ['Bridgewater State Univ', 100],\n",
       " 'Ursinus College': ['Ursinus Coll', 100],\n",
       " 'Jefferson State Community College': ['Jefferson Community & Tech Coll', 92],\n",
       " 'Delta College': ['Delta Coll', 100],\n",
       " 'California State University-East Bay': ['Calif State Univ East Bay', 100],\n",
       " \"Saint Michael's College\": ['St Michaels Coll', 78],\n",
       " 'Redlands Community College': ['Redlands Community Coll', 100],\n",
       " 'Fond du Lac Tribal and Community College': ['Florida Community Coll', 75],\n",
       " 'Westminster College-Fulton': ['Westminster Coll', 84],\n",
       " 'Ave Maria University': ['Ave Maria Univ', 100],\n",
       " 'University of Detroit Mercy': ['Univ Detroit Mercy', 100],\n",
       " 'Bradley University': ['Bradley Univ', 100],\n",
       " 'Merritt College': ['Merritt Coll', 100],\n",
       " 'Post University': ['Post Univ', 100],\n",
       " 'Los Angeles Trade Technical College': ['Los Angeles Pierce Coll', 75],\n",
       " 'Scottsdale Community College': ['Scottsdale Community Coll', 100],\n",
       " 'Washburn University': ['Washburn Univ', 100],\n",
       " 'Alfred University': ['Alfred Univ', 100],\n",
       " 'Kirkwood Community College': ['Kirkwood Community Coll', 100],\n",
       " 'Joliet Junior College': ['Joliet Jr Coll', 100],\n",
       " 'Johnson County Community College': ['Johnson Cty Community College', 95],\n",
       " 'Montclair State University': ['Montclair State Univ', 100],\n",
       " ...}"
      ]
     },
     "execution_count": 27,
     "metadata": {},
     "output_type": "execute_result"
    }
   ],
   "source": [
    "teaching_to_research"
   ]
  },
  {
   "cell_type": "code",
   "execution_count": 28,
   "metadata": {},
   "outputs": [],
   "source": [
    "teaching_to_research_match = {}"
   ]
  },
  {
   "cell_type": "code",
   "execution_count": 29,
   "metadata": {},
   "outputs": [],
   "source": [
    "for teach_org in teaching_to_research:\n",
    "    if teaching_to_research[teach_org][1] > 90:\n",
    "        teaching_to_research_match[teach_org] = teaching_to_research[teach_org][0]"
   ]
  },
  {
   "cell_type": "code",
   "execution_count": 30,
   "metadata": {},
   "outputs": [],
   "source": [
    "teaching_to_research_match['University of California-Berkeley'] = 'Univ Calif Berkeley'"
   ]
  },
  {
   "cell_type": "code",
   "execution_count": 31,
   "metadata": {},
   "outputs": [],
   "source": [
    "teaching_to_research_match['University of Washington-Seattle Campus'] = 'Univ Washington'"
   ]
  },
  {
   "cell_type": "code",
   "execution_count": 32,
   "metadata": {},
   "outputs": [],
   "source": [
    "teaching_to_research_match['Georgia Institute of Technology-Main Campus'] = 'Georgia Tech'"
   ]
  },
  {
   "cell_type": "code",
   "execution_count": 33,
   "metadata": {},
   "outputs": [],
   "source": [
    "teaching_to_research_match['University of Pittsburgh-Pittsburgh Campus'] = 'Univ Pittsburgh'"
   ]
  },
  {
   "cell_type": "code",
   "execution_count": 34,
   "metadata": {},
   "outputs": [],
   "source": [
    "teaching_to_research_match['Ohio State University-Main Campus'] = 'Ohio State Univ'"
   ]
  },
  {
   "cell_type": "code",
   "execution_count": 35,
   "metadata": {},
   "outputs": [],
   "source": [
    "teaching_to_research_match['Texas A & M University-College Station'] = 'Texas A&M Univ'"
   ]
  },
  {
   "cell_type": "code",
   "execution_count": 36,
   "metadata": {},
   "outputs": [
    {
     "data": {
      "text/plain": [
       "1583"
      ]
     },
     "execution_count": 36,
     "metadata": {},
     "output_type": "execute_result"
    }
   ],
   "source": [
    "len(teaching_to_research_match)"
   ]
  },
  {
   "cell_type": "code",
   "execution_count": 37,
   "metadata": {},
   "outputs": [],
   "source": [
    "research_to_teaching_match = dict((v, k) for k, v in teaching_to_research_match.items())"
   ]
  },
  {
   "cell_type": "markdown",
   "metadata": {},
   "source": [
    "### angles\n",
    "\n",
    "Our vectors come with three different kinds of information - the mean, the variance, and the number of articles used to create these metrics. One basic tool of analysis we can use is to create angles of difference to measure similarities. This section will contain methods to generate these angles, as well as functions to find most and least similar institutions. "
   ]
  },
  {
   "cell_type": "code",
   "execution_count": 38,
   "metadata": {},
   "outputs": [],
   "source": [
    "def unit_vector(vector):\n",
    "    \"\"\" Returns the unit vector of the vector.  \"\"\"\n",
    "    return vector / np.linalg.norm(vector)"
   ]
  },
  {
   "cell_type": "code",
   "execution_count": 39,
   "metadata": {},
   "outputs": [],
   "source": [
    "def angle_between(v1, v2):\n",
    "    \"\"\" Returns the angle in radians between vectors 'v1' and 'v2'::\n",
    "\n",
    "            >>> angle_between((1, 0, 0), (0, 1, 0))\n",
    "            1.5707963267948966\n",
    "            >>> angle_between((1, 0, 0), (1, 0, 0))\n",
    "            0.0\n",
    "            >>> angle_between((1, 0, 0), (-1, 0, 0))\n",
    "            3.141592653589793\n",
    "    \"\"\"\n",
    "    if v1 is None or v2 is None:\n",
    "        return (None, None)\n",
    "    v1_u = unit_vector(v1)\n",
    "    v2_u = unit_vector(v2)\n",
    "    cos = np.clip(np.dot(v1_u, v2_u), -1.0, 1.0)\n",
    "    return np.arccos(cos)*57.2958 , cos"
   ]
  },
  {
   "cell_type": "code",
   "execution_count": 40,
   "metadata": {},
   "outputs": [],
   "source": [
    "def find_similar(name, dictionary, n=5, reverse=False):\n",
    "    angles = {}\n",
    "    for entity in dictionary:\n",
    "        if entity != name:\n",
    "            angles[entity] = round(angle_between(dictionary[entity][0], dictionary[name][0])[0], 3)\n",
    "    \n",
    "    sorted_n = sorted(angles.items(), key=operator.itemgetter(1))\n",
    "    if not reverse:\n",
    "        return(sorted_n[0:n])\n",
    "    if reverse:\n",
    "        sorted_n.reverse()\n",
    "        return(sorted_n[0:n])"
   ]
  },
  {
   "cell_type": "code",
   "execution_count": 41,
   "metadata": {},
   "outputs": [
    {
     "name": "stdout",
     "output_type": "stream",
     "text": [
      "Amalie Oil Company\n"
     ]
    }
   ],
   "source": [
    "for org in list(job_orgs.keys()):\n",
    "    if \"oil\" in org.lower():\n",
    "        print(org)"
   ]
  },
  {
   "cell_type": "code",
   "execution_count": 42,
   "metadata": {},
   "outputs": [
    {
     "data": {
      "text/plain": [
       "[\"Dave & Buster's\",\n",
       " 'Oriana House Incorporated',\n",
       " 'Intuit',\n",
       " 'Collective Health',\n",
       " \"Macy's\",\n",
       " 'Araz Group Incorporated',\n",
       " 'Audubon Nature Institute',\n",
       " 'Marriott International Incorporated',\n",
       " 'Grant Thornton',\n",
       " 'Telecare Corporation']"
      ]
     },
     "execution_count": 42,
     "metadata": {},
     "output_type": "execute_result"
    }
   ],
   "source": [
    "list(job_orgs.keys())[0:10]"
   ]
  },
  {
   "cell_type": "code",
   "execution_count": 43,
   "metadata": {},
   "outputs": [
    {
     "data": {
      "text/plain": [
       "[('New Haven', 2.479),\n",
       " ('New York', 2.506),\n",
       " ('Philadelphia', 2.737),\n",
       " ('Los Angeles', 2.913),\n",
       " ('Pittsburgh', 2.943),\n",
       " ('Nashville', 3.128),\n",
       " ('St Louis', 3.129),\n",
       " ('Ann Arbor', 3.161),\n",
       " ('Salt Lake City', 3.265),\n",
       " ('Iowa City', 3.283)]"
      ]
     },
     "execution_count": 43,
     "metadata": {},
     "output_type": "execute_result"
    }
   ],
   "source": [
    "find_similar(\"Chicago\", research_cities, n=10)"
   ]
  },
  {
   "cell_type": "code",
   "execution_count": 44,
   "metadata": {},
   "outputs": [
    {
     "data": {
      "text/plain": [
       "[('Griffia', 93.613),\n",
       " ('Etta', 93.239),\n",
       " ('Frankft', 92.225),\n",
       " ('Maysville', 91.6),\n",
       " ('Placer Hall', 91.362),\n",
       " ('Twilliamsburg', 90.619),\n",
       " ('Tupper Hall Davis', 90.329),\n",
       " ('Houstony', 90.316),\n",
       " ('Merrimac', 90.281),\n",
       " ('Urbana Champion', 90.033)]"
      ]
     },
     "execution_count": 44,
     "metadata": {},
     "output_type": "execute_result"
    }
   ],
   "source": [
    "find_similar(\"Chicago\", research_cities, n=10, reverse=True)"
   ]
  },
  {
   "cell_type": "markdown",
   "metadata": {},
   "source": [
    "## visualisation tools\n",
    "\n",
    "We will use the angles and vectors to create visualisations to better understand how the cities or institutions relate."
   ]
  },
  {
   "cell_type": "code",
   "execution_count": 45,
   "metadata": {},
   "outputs": [],
   "source": [
    "import random\n",
    "import numpy as np\n",
    "import matplotlib.pyplot as plt"
   ]
  },
  {
   "cell_type": "code",
   "execution_count": 46,
   "metadata": {},
   "outputs": [],
   "source": [
    "def create_heatmap(matrix, names_0, names_1, kind, title=\"HEATMAP\", figsize=(7, 7)):\n",
    "    angles = np.zeros((len(names_0), len(names_1)))\n",
    "    for i, name_0 in enumerate(names_0):\n",
    "        for j, name_1 in enumerate(names_1):\n",
    "            if name_0 is not name_1:\n",
    "                angles[i][j] = np.around(eval(matrix[repr((name_0, name_1))])[kind], decimals=1)\n",
    "\n",
    "    fig, ax = plt.subplots(figsize=figsize)\n",
    "    im = ax.imshow(angles)\n",
    "    \n",
    "    ax.set_xticks(np.arange(len(names_0)))\n",
    "    ax.set_yticks(np.arange(len(names_1)))\n",
    "    \n",
    "    ax.set_xticklabels(names_0)\n",
    "    ax.set_yticklabels(names_1)\n",
    "    \n",
    "    plt.setp(ax.get_xticklabels(), rotation=45, ha=\"right\", rotation_mode=\"anchor\")\n",
    "    \n",
    "    for i in range(len(names_0)):\n",
    "        for j in range(len(names_1)):\n",
    "            text = ax.text(j, i, angles[i, j], ha=\"center\", va=\"center\", color=\"w\")\n",
    "    \n",
    "    ax.set_title(title)\n",
    "    fig.tight_layout()\n",
    "    plt.show()\n",
    "    "
   ]
  },
  {
   "cell_type": "code",
   "execution_count": 47,
   "metadata": {},
   "outputs": [],
   "source": [
    "names_0 = []\n",
    "names_1 = []"
   ]
  },
  {
   "cell_type": "code",
   "execution_count": 48,
   "metadata": {},
   "outputs": [],
   "source": [
    "with open('../saved_data_structures/org_angles_between.txt', 'r') as file:\n",
    "    org_angles_between = (json.load(file))"
   ]
  },
  {
   "cell_type": "code",
   "execution_count": 49,
   "metadata": {},
   "outputs": [],
   "source": [
    "names = list(org_angles_between.keys())"
   ]
  },
  {
   "cell_type": "code",
   "execution_count": 50,
   "metadata": {},
   "outputs": [],
   "source": [
    "names_0, names_1 = [], []\n",
    "for name_ in random.sample(names, 7):\n",
    "    name_0, name_1 = eval(name_)\n",
    "    names_0.append(name_0)\n",
    "    names_1.append(name_1)"
   ]
  },
  {
   "cell_type": "code",
   "execution_count": 51,
   "metadata": {},
   "outputs": [],
   "source": [
    "names_1.append('Harvard University')"
   ]
  },
  {
   "cell_type": "code",
   "execution_count": 52,
   "metadata": {},
   "outputs": [],
   "source": [
    "names_1.append('University of Chicago')"
   ]
  },
  {
   "cell_type": "code",
   "execution_count": 53,
   "metadata": {},
   "outputs": [],
   "source": [
    "names_1.append('Rice University')"
   ]
  },
  {
   "cell_type": "code",
   "execution_count": 54,
   "metadata": {},
   "outputs": [
    {
     "data": {
      "image/png": "[encoded data removed]",
      "text/plain": [
       "<Figure size 576x576 with 1 Axes>"
      ]
     },
     "metadata": {
      "needs_background": "light"
     },
     "output_type": "display_data"
    }
   ],
   "source": [
    "create_heatmap(org_angles_between, names_1, names_1, 0, \"Angles of Research-Research\", figsize=(8, 8))"
   ]
  },
  {
   "cell_type": "code",
   "execution_count": 55,
   "metadata": {},
   "outputs": [
    {
     "data": {
      "image/png": "[encoded data removed]",
      "text/plain": [
       "<Figure size 576x576 with 1 Axes>"
      ]
     },
     "metadata": {
      "needs_background": "light"
     },
     "output_type": "display_data"
    }
   ],
   "source": [
    "create_heatmap(org_angles_between, names_1, names_1, 3, \"Angles of Teaching-Teaching\", figsize=(8, 8))"
   ]
  },
  {
   "cell_type": "markdown",
   "metadata": {},
   "source": [
    "### tier information\n",
    "\n",
    "We will load tiers so that we can use them to cluster and do tier analysis."
   ]
  },
  {
   "cell_type": "code",
   "execution_count": 56,
   "metadata": {},
   "outputs": [],
   "source": [
    "with open('../saved_data_structures/tiers.txt') as json_file:\n",
    "    tiers = json.load(json_file)"
   ]
  },
  {
   "cell_type": "code",
   "execution_count": 57,
   "metadata": {},
   "outputs": [],
   "source": [
    "tiers['1'].append('Harvard University')"
   ]
  },
  {
   "cell_type": "code",
   "execution_count": 58,
   "metadata": {},
   "outputs": [],
   "source": [
    "with open('../saved_data_structures/tiers_research.txt') as json_file:\n",
    "    tiers_research = json.load(json_file)"
   ]
  },
  {
   "cell_type": "markdown",
   "metadata": {},
   "source": [
    "### clustering\n",
    "\n",
    "We will use the vectors to then cluster and visualise these clusters. "
   ]
  },
  {
   "cell_type": "code",
   "execution_count": 59,
   "metadata": {},
   "outputs": [],
   "source": [
    "from scipy.cluster.vq import kmeans, vq"
   ]
  },
  {
   "cell_type": "code",
   "execution_count": 60,
   "metadata": {},
   "outputs": [],
   "source": [
    "no_clusters = 7"
   ]
  },
  {
   "cell_type": "code",
   "execution_count": 61,
   "metadata": {},
   "outputs": [],
   "source": [
    "def create_clusters_scipy(vector_dict, no_clusters, min_docs=100):\n",
    "    names, vectors = [], []\n",
    "    for name in vector_dict:\n",
    "        vector = vector_dict[name]\n",
    "        if vector[2] > min_docs:\n",
    "            names.append(name)\n",
    "            vectors.append(np.array(vector[0]))\n",
    "    vectors = np.array(vectors)\n",
    "    centroids, _ = kmeans(vectors, no_clusters)\n",
    "    doc_clusters, _ = vq(vectors, centroids)\n",
    "    doc_labels = list(zip(names, doc_clusters))\n",
    "    return doc_labels"
   ]
  },
  {
   "cell_type": "code",
   "execution_count": 62,
   "metadata": {},
   "outputs": [],
   "source": [
    "def in_cluster(entity_labels, label_no):\n",
    "    entities = []\n",
    "    for item_ in entity_labels:\n",
    "        entity, label = item_\n",
    "        if label == label_no:\n",
    "            entities.append(entity)\n",
    "    return entities\n",
    "    "
   ]
  },
  {
   "cell_type": "code",
   "execution_count": 63,
   "metadata": {},
   "outputs": [],
   "source": [
    "clustered_research_orgs = create_clusters_scipy(research_orgs, no_clusters, min_docs=2500)"
   ]
  },
  {
   "cell_type": "code",
   "execution_count": 64,
   "metadata": {},
   "outputs": [
    {
     "name": "stdout",
     "output_type": "stream",
     "text": [
      "47 ['Johns Hopkins Univ', 'Univ Chicago', 'Univ Washington', 'Univ Texas', 'Univ Calif Los Angeles', 'Indiana Univ', 'Georgetown Univ', 'Harvard Univ', 'San Diego State Univ', 'George Washington Univ', 'Boston Univ', 'Duke Univ', 'Univ Minnesota', 'Tulane Univ', 'Univ N Carolina', 'Univ Cincinnati', 'E Carolina Univ', 'Univ Michigan', 'Univ Pittsburgh', 'Northwestern Univ']\n",
      "35 ['Brigham & Womens Hosp', 'Med Univ S Carolina', 'Mem Sloan Kettering Canc Ctr', 'Thomas Jefferson Univ', 'Johns Hopkins Univ Hosp', 'Childrens Hosp', 'Rush Univ', 'Mt Sinai Sch Med', 'Mayo Clin', 'Ctr Dis Control & Prevent', 'Oregon Hlth & Sci Univ', 'Univ Calif San Francisco', 'Loyola Univ', 'Massachusetts Gen Hosp', 'Montefiore Med Ctr', 'Univ Alabama Birmingham', 'Cleveland Clin Fdn', 'Johns Hopkins Bloomberg Sch Publ Hlth', 'Childrens Hosp Philadelphia', 'Columbia Univ Coll Phys & Surg']\n",
      "20 ['US EPA', 'Oregon State Univ', 'USDA ARS', 'USDA', 'Univ New Hampshire', 'Smithsonian Inst', 'Montana State Univ', 'Univ Hawaii Manoa', 'ARS', 'Univ Idaho', 'Univ Alaska Fairbanks', 'US Geol Survey', 'US Forest Serv', 'Woods Hole Oceanog Inst', 'Univ Maine', 'Utah State Univ', 'NOAA', 'Amer Museum Nat Hist', 'S Dakota State Univ', 'Univ Montana']\n",
      "40 ['Roswell Pk Canc Inst', 'Baylor Coll Med', 'Wake Forest Univ', 'Loma Linda Univ', 'NIAID', 'NHLBI', 'NIH', 'Med Coll Wisconsin', 'Albert Einstein Coll Med', 'NIMH', 'Emory Univ', 'Univ Arkansas Med Sci', 'Indiana Univ Sch Med', 'NIA', 'Scripps Res Inst', 'NCI', 'Eli Lilly & Co', 'Vet Affairs Med Ctr', 'Univ Med & Dent New Jersey', 'NIEHS']\n",
      "22 ['Univ Calif Berkeley', 'Argonne Natl Lab', 'Univ Notre Dame', 'Univ Calif Santa Barbara', 'Univ Maryland Baltimore Cty', 'Natl Inst Stand & Technol', 'Univ Calif Riverside', 'NASA', 'Univ Calif Santa Cruz', 'Oak Ridge Natl Lab', 'NIST', 'Brookhaven Natl Lab', 'Los Alamos Natl Lab', 'CALTECH', 'Rice Univ', 'Princeton Univ', 'Pacific NW Natl Lab', 'Lawrence Livermore Natl Lab', 'CUNY City Coll', 'Sandia Natl Labs']\n",
      "42 ['Iowa State Univ', 'Texas A&M Univ', 'Purdue Univ', 'Univ Cent Florida', 'Kent State Univ', 'Clemson Univ', 'USA', 'Florida State Univ', 'Univ Memphis', 'MIT', 'Univ Delaware', 'Virginia Tech', 'USN', 'Old Dominion Univ', 'USAF', 'Univ Oregon', 'SUNY Binghamton', 'IIT', 'Rensselaer Polytech Inst', 'Michigan Technol Univ']\n",
      "70 ['Rutgers State Univ', 'Penn State Univ', 'Univ Houston', 'Univ Toledo', 'Ohio State Univ', 'Univ Oklahoma', 'Univ Wisconsin', 'Univ Florida', 'N Carolina State Univ', 'Miami Univ', 'Cornell Univ', 'Univ Massachusetts', 'SUNY Stony Brook', 'Louisiana State Univ', 'Florida Int Univ', 'Univ Missouri', 'Wright State Univ', 'Michigan State Univ', 'Univ Illinois', 'Univ Arizona']\n"
     ]
    }
   ],
   "source": [
    "for i in range(0, 7):\n",
    "    clust = in_cluster(clustered_research_orgs, i)\n",
    "    print(len(clust), clust[0:20])"
   ]
  },
  {
   "cell_type": "code",
   "execution_count": 65,
   "metadata": {},
   "outputs": [],
   "source": [
    "clustered_research_cities = create_clusters_scipy(research_cities, no_clusters, min_docs=2500)"
   ]
  },
  {
   "cell_type": "code",
   "execution_count": 66,
   "metadata": {},
   "outputs": [
    {
     "name": "stdout",
     "output_type": "stream",
     "text": [
      "36 ['Washington', 'New Brunswick', 'Cincinnati', 'Los Angeles', 'San Antonio', 'Toledo', 'Columbus', 'Gainesville', 'Minneapolis', 'New Orleans', 'Atlanta', 'Columbia', 'Pittsburgh', 'Buffalo', 'Ann Arbor', 'Memphis', 'Lexington', 'New Haven', 'Salt Lake City', 'Brooklyn']\n",
      "19 ['Oklahoma City', 'Charleston', 'Aurora', 'Birmingham', 'Hershey', 'Winston Salem', 'Galveston', 'Loma Linda', 'Jackson', 'Bethesda', 'Oakland', 'Torrance', 'Little Rock', 'Omaha', 'Farmington', 'Augusta', 'Shreveport', 'Duarte', 'Valhalla']\n",
      "41 ['Madison', 'Ithaca', 'Normal', 'Stony Brook', 'E Lansing', 'Kent', 'Tucson', 'Stanford', 'Irvine', 'Tallahassee', 'Storrs', 'Bloomington', 'Greensboro', 'Newark', 'Medford', 'Morgantown', 'Norfolk', 'Knoxville', 'Albuquerque', 'Tuscaloosa']\n",
      "55 ['Berkeley', 'University Pk', 'Argonne', 'Notre Dame', 'Ames', 'College Stn', 'W Lafayette', 'Dayton', 'Evanston', 'Urbana', 'Orlando', 'Santa Barbara', 'Austin', 'Clemson', 'San Jose', 'Gaithersburg', 'Cambridge', 'Riverside', 'Blacksburg', 'Denton']\n",
      "39 ['Baltimore', 'Chicago', 'Seattle', 'Houston', 'Indianapolis', 'Boston', 'San Diego', 'Sacramento', 'Worcester', 'Durham', 'Chapel Hill', 'Miami', 'Greenville', 'New York', 'Providence', 'St Louis', 'Philadelphia', 'Cleveland', 'Bronx', 'Burlington']\n",
      "30 ['Raleigh', 'Oxford', 'Baton Rouge', 'St Paul', 'Corvallis', 'Athens', 'Ft Collins', 'Davis', 'Laramie', 'Mississippi State', 'Lincoln', 'Boise', 'Grand Forks', 'Bozeman', 'Beltsville', 'Pullman', 'Richland', 'Moscow', 'Flagstaff', 'Auburn']\n",
      "10 ['Boulder', 'Hampton', 'Greenbelt', 'Honolulu', 'Fairbanks', 'Palisades', 'Woods Hole', 'Laurel', 'Anchorage', 'Moffett Field']\n",
      "0 []\n",
      "0 []\n",
      "0 []\n",
      "0 []\n",
      "0 []\n",
      "0 []\n",
      "0 []\n",
      "0 []\n"
     ]
    }
   ],
   "source": [
    "for i in range(0, 15):\n",
    "    clust = in_cluster(clustered_research_cities, i)\n",
    "    print(len(clust), clust[0:20])"
   ]
  },
  {
   "cell_type": "code",
   "execution_count": 67,
   "metadata": {},
   "outputs": [],
   "source": [
    "clustered_teaching_orgs = create_clusters_scipy(teaching_orgs, no_clusters, min_docs=1500)"
   ]
  },
  {
   "cell_type": "code",
   "execution_count": 68,
   "metadata": {},
   "outputs": [
    {
     "name": "stdout",
     "output_type": "stream",
     "text": [
      "13 ['Foothill College', 'Galveston College', 'Tyler Junior College', 'Lewis and Clark Community College', 'Casper College', 'Santa Rosa Junior College', 'University of Michigan-Ann Arbor', 'Central Lakes College-Brainerd', 'El Paso Community College', 'Seward County Community College and Area Technical School', 'Santa Barbara City College', 'Gavilan College', 'Minnesota State College-Southeast Technical']\n",
      "1 ['Sierra College']\n",
      "46 ['Angelo State University', 'Jackson College', 'New Mexico Junior College', 'University of West Georgia', 'Excelsior College', 'Western Kentucky University', 'Brigham Young University-Provo', 'Windward Community College', 'San Jose State University', 'Wayne State University', 'Valencia College', 'Northwest College', 'Woodbury University', 'University of North Texas', 'Texas State University', 'The University of Texas at Austin', 'University of Akron Main Campus', 'Amarillo College', 'University of South Florida-Main Campus', 'University of Florida']\n",
      "11 ['Park University', 'University of Maryland-University College', 'University of Southern California', 'Bellevue College', 'George Mason University', 'Illinois State University', 'Calvin College', 'Loyola University Chicago', 'Southern Illinois University-Carbondale', 'DePaul University', 'Lamar State College-Port Arthur']\n",
      "14 ['Lansing Community College', 'Houston Community College', 'Laredo Community College', 'Texas A & M International University', 'Azusa Pacific University', 'Clark State Community College', 'Palm Beach State College', 'North Idaho College', 'Nova Southeastern University', 'Southern Maine Community College', 'California State University-San Marcos', 'Odessa College', 'Bainbridge State College', 'Rio Salado College']\n",
      "33 ['University of Georgia', 'University of Maryland-College Park', 'Brandeis University', 'The University of Montana', 'University of Illinois at Chicago', 'Loyola University New Orleans', 'University of California-San Diego', 'University of California-Irvine', 'University of Illinois at Urbana-Champaign', 'University of Washington-Seattle Campus', 'Stony Brook University', 'Carnegie Mellon University', 'University of Wisconsin-Madison', 'De Anza College', 'University of North Carolina at Chapel Hill', 'Massachusetts Institute of Technology', 'Princeton University', 'New Jersey Institute of Technology', 'University of Colorado Boulder', 'American University']\n",
      "27 ['The University of Alabama', 'Stephen F Austin State University', 'Texas A & M University-Commerce', 'Clemson University', 'South Plains College', 'McLennan Community College', 'The University of Texas at San Antonio', 'The University of Texas at Tyler', 'Imperial Valley College', 'University of North Carolina at Charlotte', 'Sam Houston State University', 'The University of Texas at Dallas', 'Midwestern State University', 'Alvin Community College', 'College of Charleston', 'Oral Roberts University', 'The University of Texas at Arlington', 'Lamar State College-Orange', 'Blinn College', 'Texas Tech University']\n",
      "0 []\n",
      "0 []\n",
      "0 []\n"
     ]
    }
   ],
   "source": [
    "for i in range(0, 10):\n",
    "    clust = in_cluster(clustered_teaching_orgs, i)\n",
    "    print(len(clust), clust[0:20])"
   ]
  },
  {
   "cell_type": "code",
   "execution_count": 69,
   "metadata": {},
   "outputs": [],
   "source": [
    "from sklearn.cluster import KMeans"
   ]
  },
  {
   "cell_type": "code",
   "execution_count": 70,
   "metadata": {},
   "outputs": [],
   "source": [
    "def sklearn_cluster(vector_dict, no_clusters, min_docs=1500):\n",
    "    return it"
   ]
  },
  {
   "cell_type": "markdown",
   "metadata": {},
   "source": [
    "## Visualising clusters"
   ]
  },
  {
   "cell_type": "code",
   "execution_count": 71,
   "metadata": {},
   "outputs": [],
   "source": [
    "from sklearn.manifold import TSNE\n",
    "from sklearn.decomposition import PCA"
   ]
  },
  {
   "cell_type": "code",
   "execution_count": 72,
   "metadata": {},
   "outputs": [],
   "source": [
    "import matplotlib.pyplot as plt"
   ]
  },
  {
   "cell_type": "code",
   "execution_count": 73,
   "metadata": {},
   "outputs": [],
   "source": [
    "import matplotlib._color_data as mcd\n",
    "from random import sample"
   ]
  },
  {
   "cell_type": "code",
   "execution_count": 74,
   "metadata": {},
   "outputs": [],
   "source": [
    "colors_20 = sample(list(mcd.CSS4_COLORS), 20)"
   ]
  },
  {
   "cell_type": "code",
   "execution_count": 75,
   "metadata": {},
   "outputs": [],
   "source": [
    "uni_labels = {}"
   ]
  },
  {
   "cell_type": "code",
   "execution_count": 76,
   "metadata": {},
   "outputs": [],
   "source": [
    "for tier in tiers:\n",
    "    for uni in tiers[tier]:\n",
    "        if uni in teaching_orgs:\n",
    "            uni_labels[uni] = colors_20[int(tier) - 1]"
   ]
  },
  {
   "cell_type": "code",
   "execution_count": 77,
   "metadata": {},
   "outputs": [],
   "source": [
    "def plotpca(vector_dict, dims= (0, 1), n_components=10, min_docs=100, annotate=True):\n",
    "    PCA_n = PCA(n_components=n_components)\n",
    "    names, vectors = [], []\n",
    "    for name in vector_dict:\n",
    "        vector = vector_dict[name]\n",
    "        if vector[2] > min_docs:\n",
    "            if name in research_to_teaching_match:\n",
    "                names.append(research_to_teaching_match[name])\n",
    "            else:\n",
    "                names.append(name)\n",
    "            vectors.append(np.array(vector[0]))\n",
    "    vectors = np.array(vectors)\n",
    "    pca_vecs = PCA_n.fit_transform(vectors)\n",
    "    fig = plt.figure(figsize= (8, 8))\n",
    "    ax = fig.add_subplot(1, 1, 1)\n",
    "    ax.set_xlabel('PCA 1')\n",
    "    ax.set_ylabel('PCA 2')\n",
    "    ax.set_title('PCA plot')\n",
    "    dim_1, dim_2 = dims\n",
    "    for vec, name in zip(pca_vecs, names):\n",
    "        if name in uni_labels:\n",
    "            ax.scatter(vec[dim_1], vec[dim_2], c=uni_labels[name])\n",
    "            if annotate:\n",
    "                ax.annotate(name, (vec[dim_1], vec[dim_2]))\n",
    "    plt.show()"
   ]
  },
  {
   "cell_type": "code",
   "execution_count": 78,
   "metadata": {
    "scrolled": false
   },
   "outputs": [
    {
     "data": {
      "image/png": "[encoded data removed]",
      "text/plain": [
       "<Figure size 576x576 with 1 Axes>"
      ]
     },
     "metadata": {
      "needs_background": "light"
     },
     "output_type": "display_data"
    }
   ],
   "source": [
    "plotpca(research_orgs, min_docs=20000)"
   ]
  },
  {
   "cell_type": "code",
   "execution_count": 79,
   "metadata": {},
   "outputs": [
    {
     "data": {
      "image/png": "[encoded data removed]",
      "text/plain": [
       "<Figure size 576x576 with 1 Axes>"
      ]
     },
     "metadata": {
      "needs_background": "light"
     },
     "output_type": "display_data"
    }
   ],
   "source": [
    "plotpca(research_orgs, min_docs=20000, dims=(2, 3))"
   ]
  },
  {
   "cell_type": "markdown",
   "metadata": {},
   "source": [
    "### t-sne"
   ]
  },
  {
   "cell_type": "code",
   "execution_count": 80,
   "metadata": {},
   "outputs": [],
   "source": [
    "def plottsne(vector_dict, dims= (0, 1), n_components=2, min_docs=500, perplexity=400, n_iter=300, annotate=True):\n",
    "    tsne = TSNE(n_components=n_components, perplexity=perplexity, n_iter=n_iter)    \n",
    "    names, vectors = [], []\n",
    "    for name in vector_dict:\n",
    "        vector = vector_dict[name]\n",
    "        if vector[2] > min_docs:\n",
    "            if name in research_to_teaching_match:\n",
    "                names.append(research_to_teaching_match[name])\n",
    "            else:\n",
    "                names.append(name)\n",
    "            vectors.append(np.array(vector[0]))\n",
    "    vectors = np.array(vectors)\n",
    "    tsne_vecs = tsne.fit_transform(vectors)\n",
    "    fig = plt.figure(figsize= (8, 8))\n",
    "    ax = fig.add_subplot(1, 1, 1)\n",
    "    ax.set_xlabel('tsne 1')\n",
    "    ax.set_ylabel('tsne 2')\n",
    "    ax.set_title('tsne plot')\n",
    "    dim_1, dim_2 = dims\n",
    "    for vec, name in zip(tsne_vecs, names):\n",
    "        if name in uni_labels:\n",
    "            ax.scatter(vec[dim_1], vec[dim_2], c=uni_labels[name])\n",
    "            if annotate:\n",
    "                ax.annotate(name, (vec[dim_1], vec[dim_2]))"
   ]
  },
  {
   "cell_type": "code",
   "execution_count": 81,
   "metadata": {},
   "outputs": [
    {
     "data": {
      "image/png": "[encoded data removed]",
      "text/plain": [
       "<Figure size 576x576 with 1 Axes>"
      ]
     },
     "metadata": {
      "needs_background": "light"
     },
     "output_type": "display_data"
    }
   ],
   "source": [
    "plottsne(teaching_orgs, min_docs=3000)"
   ]
  },
  {
   "cell_type": "markdown",
   "metadata": {},
   "source": [
    "### tier-analysis\n",
    "\n",
    "Access to tiers means we can create more fine tuned analysis within tiers to find patterns. Similarities to other universities within the tier and outside the tier."
   ]
  },
  {
   "cell_type": "code",
   "execution_count": 82,
   "metadata": {},
   "outputs": [],
   "source": [
    "def clean_uni_name(uni_name):\n",
    "    # matching for peculiarities in the tiers\n",
    "    # to fix - Uni Houston, Purdue, University of Pittsburgh, \n",
    "    # to fix - UMass-Amherst, UMass-Boston, Uni South Florida, Tulane, oklahoma-norman, uni of alaska\n",
    "    uni_name = uni_name.replace(\" - \", \"-\").replace(\" : \", \"-\").replace(\", \", \"-\").replace(\" (MIT)\", \"\").replace(\".\", \"\")\n",
    "    uni_name = uni_name.replace(\"Columbia University\", \"Columbia University in the City of New York\").replace(\"The \", \"\")\n",
    "    uni_name = uni_name.replace(\"University of Colorado at Boulder\", \"University of Colorado Boulder\")\n",
    "    uni_name = uni_name.replace(\"University of Colorado at Denver\", \"University of Colorado Denver\")\n",
    "    uni_name = uni_name.replace(\"University of Texas at Austin\", \"The University of Texas at Austin\")\n",
    "    uni_name = uni_name.replace(\"University of Texas at Dallas\", \"The University of Texas at Dallas\")\n",
    "    uni_name = uni_name.replace(\"Indiana University Bloomington\", \"Indiana University-Bloomington\")\n",
    "    uni_name = uni_name.replace(\"University of Washington\", \"University of Washington-Seattle Campus\")\n",
    "    uni_name = uni_name.replace(\"Georgia Institute of Technology\", \"Georgia Institute of Technology-Main Campus\")\n",
    "    uni_name = uni_name.replace(\"The Ohio State University - Columbus\", \"Ohio State University-Main Campus\")\n",
    "    uni_name = uni_name.replace(\"Texas A&M University\", \"Texas A & M University-College Station\")\n",
    "    return(uni_name)"
   ]
  },
  {
   "cell_type": "code",
   "execution_count": 83,
   "metadata": {},
   "outputs": [],
   "source": [
    "within_tier_angles_rr = {}\n",
    "within_tier_angles_tt = {}\n",
    "within_tier_angles_rt = {}\n",
    "within_tier_angles_rt_self = {}"
   ]
  },
  {
   "cell_type": "code",
   "execution_count": 84,
   "metadata": {},
   "outputs": [],
   "source": [
    "missing_unis_teaching = []"
   ]
  },
  {
   "cell_type": "code",
   "execution_count": 85,
   "metadata": {},
   "outputs": [],
   "source": [
    "missing_unis_research = []"
   ]
  },
  {
   "cell_type": "code",
   "execution_count": 86,
   "metadata": {},
   "outputs": [],
   "source": [
    "def get_entity_vector(entity):\n",
    "    # get teaching name\n",
    "    try:\n",
    "        teaching_uni_1_vector = teaching_orgs[entity][0]\n",
    "    except KeyError:\n",
    "        teaching_uni_1_vector = None\n",
    "    # get research name\n",
    "    try:\n",
    "        research_uni_1 = teaching_to_research_match[entity]\n",
    "        research_vector_1 = research_orgs[research_uni_1][0]\n",
    "    except KeyError:\n",
    "        if entity == \"New York University\":\n",
    "            research_uni_1 = \"NYU\"\n",
    "            research_vector_1 = research_orgs[research_uni_1][0]\n",
    "        if entity == \"University of Pennsylvania\":\n",
    "            research_uni_1 = \"UPenn\"\n",
    "            research_vector_1 = research_orgs[research_uni_1][0]\n",
    "        else:\n",
    "            research_vector_1 = None\n",
    "    return teaching_uni_1_vector, research_vector_1"
   ]
  },
  {
   "cell_type": "code",
   "execution_count": 87,
   "metadata": {},
   "outputs": [],
   "source": [
    "unis_per_tier_research = {}\n",
    "unis_per_tier_teaching = {}"
   ]
  },
  {
   "cell_type": "code",
   "execution_count": 88,
   "metadata": {},
   "outputs": [],
   "source": [
    "american_unis = []"
   ]
  },
  {
   "cell_type": "code",
   "execution_count": 89,
   "metadata": {},
   "outputs": [],
   "source": [
    "for tier in tiers:\n",
    "    for uni in tiers[tier]:\n",
    "        uni_name = clean_uni_name(uni)\n",
    "        if uni_name in teaching_orgs:\n",
    "            american_unis.append(uni_name)"
   ]
  },
  {
   "cell_type": "code",
   "execution_count": 90,
   "metadata": {},
   "outputs": [
    {
     "data": {
      "text/plain": [
       "147"
      ]
     },
     "execution_count": 90,
     "metadata": {},
     "output_type": "execute_result"
    }
   ],
   "source": [
    "len(american_unis)"
   ]
  },
  {
   "cell_type": "code",
   "execution_count": 91,
   "metadata": {},
   "outputs": [],
   "source": [
    "america_tiers = {}"
   ]
  },
  {
   "cell_type": "code",
   "execution_count": 92,
   "metadata": {},
   "outputs": [],
   "source": [
    "i = 0"
   ]
  },
  {
   "cell_type": "code",
   "execution_count": 93,
   "metadata": {},
   "outputs": [],
   "source": [
    "for num in range(0, 7):\n",
    "    america_tiers[num] = american_unis[i:i+21]\n",
    "    i += 21"
   ]
  },
  {
   "cell_type": "code",
   "execution_count": 94,
   "metadata": {},
   "outputs": [],
   "source": [
    "america_tiers[0].remove('University of California-San Francisco')"
   ]
  },
  {
   "cell_type": "code",
   "execution_count": 95,
   "metadata": {},
   "outputs": [],
   "source": [
    "america_tiers[0].append('Harvard University')"
   ]
  },
  {
   "cell_type": "code",
   "execution_count": 96,
   "metadata": {},
   "outputs": [],
   "source": [
    "america_tiers[1].remove('Harvard University')"
   ]
  },
  {
   "cell_type": "code",
   "execution_count": 97,
   "metadata": {},
   "outputs": [],
   "source": [
    "america_tiers[1].append('University of California-San Francisco')"
   ]
  },
  {
   "cell_type": "code",
   "execution_count": 98,
   "metadata": {},
   "outputs": [
    {
     "data": {
      "text/plain": [
       "{0: ['Stanford University',\n",
       "  'Massachusetts Institute of Technology',\n",
       "  'University of California-Berkeley',\n",
       "  'Princeton University',\n",
       "  'Columbia University in the City of New York',\n",
       "  'California Institute of Technology',\n",
       "  'University of Chicago',\n",
       "  'University of California-Los Angeles',\n",
       "  'Yale University',\n",
       "  'Cornell University',\n",
       "  'University of Washington-Seattle Campus',\n",
       "  'Johns Hopkins University',\n",
       "  'University of California-San Diego',\n",
       "  'University of Michigan-Ann Arbor',\n",
       "  'Washington University in St Louis',\n",
       "  'University of Wisconsin-Madison',\n",
       "  'Duke University',\n",
       "  'Northwestern University',\n",
       "  'University of North Carolina at Chapel Hill',\n",
       "  'Rockefeller University',\n",
       "  'Harvard University'],\n",
       " 1: ['University of Colorado Boulder',\n",
       "  'University of Illinois at Urbana-Champaign',\n",
       "  'The University of Texas at Austin',\n",
       "  'University of Maryland-College Park',\n",
       "  'University of California-Santa Barbara',\n",
       "  'University of Southern California',\n",
       "  'Vanderbilt University',\n",
       "  'University of California-Irvine',\n",
       "  'Brown University',\n",
       "  'University of Pittsburgh-Pittsburgh Campus',\n",
       "  'University of California-Davis',\n",
       "  'Carnegie Mellon University',\n",
       "  'Rice University',\n",
       "  'University of Florida',\n",
       "  'Baylor College of Medicine',\n",
       "  'Case Western Reserve University',\n",
       "  'Emory University',\n",
       "  'Georgia Institute of Technology-Main Campus',\n",
       "  'Icahn School of Medicine at Mount Sinai',\n",
       "  'Indiana University-Bloomington',\n",
       "  'University of California-San Francisco'],\n",
       " 2: ['Michigan State University',\n",
       "  'University of Arizona',\n",
       "  'University of California-Santa Cruz',\n",
       "  'University of Utah',\n",
       "  'Texas A & M University-College Station',\n",
       "  'Tufts University',\n",
       "  'University of California-Riverside',\n",
       "  'University of Missouri-Columbia',\n",
       "  'University of Rochester',\n",
       "  'Florida State University',\n",
       "  'George Mason University',\n",
       "  'Iowa State University',\n",
       "  'Oregon State University',\n",
       "  'Stony Brook University',\n",
       "  'George Washington University',\n",
       "  'University of Georgia',\n",
       "  'University of Alabama at Birmingham',\n",
       "  'University of Delaware',\n",
       "  'University of Hawaii at Manoa',\n",
       "  'University of Illinois at Chicago',\n",
       "  'University of Iowa'],\n",
       " 3: ['University of Kansas',\n",
       "  'University of Maryland-Baltimore',\n",
       "  'University of Miami',\n",
       "  'University of Nebraska-Lincoln',\n",
       "  'Virginia Commonwealth University',\n",
       "  'Virginia Polytechnic Institute and State University',\n",
       "  'Yeshiva University',\n",
       "  'Brandeis University',\n",
       "  'Dartmouth College',\n",
       "  'Drexel University',\n",
       "  'Georgetown University',\n",
       "  'Kansas State University',\n",
       "  'Rensselaer Polytechnic Institute',\n",
       "  'Temple University',\n",
       "  'The University of Texas at Dallas',\n",
       "  'University of Central Florida',\n",
       "  'University of Colorado Denver',\n",
       "  'University of Kentucky',\n",
       "  'University of Notre Dame',\n",
       "  'University of Oregon',\n",
       "  'University of South Carolina-Columbia'],\n",
       " 4: ['University of Vermont',\n",
       "  'Washington State University',\n",
       "  'Boston College',\n",
       "  'Clemson University',\n",
       "  'CUNY Graduate School and University Center',\n",
       "  'Florida International University',\n",
       "  'Medical University of South Carolina',\n",
       "  'Saint Louis University',\n",
       "  'Thomas Jefferson University',\n",
       "  'University of California-Merced',\n",
       "  'University of North Texas',\n",
       "  'University of Wisconsin-Milwaukee',\n",
       "  'University of Wyoming',\n",
       "  'Utah State University',\n",
       "  'Wake Forest University',\n",
       "  'Wayne State University',\n",
       "  'West Virginia University',\n",
       "  'Auburn University',\n",
       "  'Baylor University',\n",
       "  'Georgia State University',\n",
       "  'Mississippi State University'],\n",
       " 5: ['Northern Arizona University',\n",
       "  'San Diego State University',\n",
       "  'Southern Methodist University',\n",
       "  'Texas Tech University',\n",
       "  'University of Maine',\n",
       "  'University of Maryland-Baltimore County',\n",
       "  'Colorado School of Mines',\n",
       "  'Lehigh University',\n",
       "  'Loyola University Chicago',\n",
       "  'Medical College of Wisconsin',\n",
       "  'Missouri University of Science and Technology',\n",
       "  'Old Dominion University',\n",
       "  'Syracuse University',\n",
       "  'University of Idaho',\n",
       "  'University of Louisville',\n",
       "  'University of Nebraska Medical Center',\n",
       "  'University of Nevada-Reno',\n",
       "  'University of New England',\n",
       "  'University of Rhode Island',\n",
       "  'Amherst College',\n",
       "  'East Carolina University'],\n",
       " 6: ['Michigan Technological University',\n",
       "  'Stevens Institute of Technology',\n",
       "  'Swarthmore College',\n",
       "  'University of Arkansas for Medical Sciences',\n",
       "  'University of Nevada-Las Vegas',\n",
       "  'College of William and Mary',\n",
       "  'CUNY Hunter College',\n",
       "  'Haverford College',\n",
       "  'Portland State University',\n",
       "  'Rutgers University-Newark',\n",
       "  'University of Arkansas at Little Rock',\n",
       "  'University of Mississippi',\n",
       "  'University of Toledo',\n",
       "  'Clark University',\n",
       "  'Florida Atlantic University',\n",
       "  'New Jersey Institute of Technology',\n",
       "  'University of Denver',\n",
       "  'University of New Orleans',\n",
       "  'University of North Carolina at Charlotte',\n",
       "  'Williams College',\n",
       "  'Worcester Polytechnic Institute']}"
      ]
     },
     "execution_count": 98,
     "metadata": {},
     "output_type": "execute_result"
    }
   ],
   "source": [
    "america_tiers"
   ]
  },
  {
   "cell_type": "code",
   "execution_count": 99,
   "metadata": {},
   "outputs": [],
   "source": [
    "for tier in tiers:\n",
    "    \n",
    "    within_tier_angles_rr[tier] = 0\n",
    "    within_tier_angles_tt[tier] = 0\n",
    "    within_tier_angles_rt[tier] = 0\n",
    "    within_tier_angles_rt_self[tier] = 0\n",
    "\n",
    "    no_checks_rr = 0\n",
    "    no_checks_tt = 0\n",
    "    no_checks_rt = 0\n",
    "    no_checks_self = 0\n",
    "    \n",
    "    unis_per_tier_research[tier] = []\n",
    "    unis_per_tier_teaching[tier] = []\n",
    "    \n",
    "    for uni_1 in tiers[tier]:\n",
    "        \n",
    "        \n",
    "        teaching_vector_1, research_vector_1 = get_entity_vector(clean_uni_name(uni_1))\n",
    "        \n",
    "        if research_vector_1 is not None:\n",
    "            unis_per_tier_research[tier].append(uni_1)\n",
    "            \n",
    "        if teaching_vector_1 is not None:\n",
    "            unis_per_tier_teaching[tier].append(uni_1)\n",
    "            \n",
    "        if teaching_vector_1 is not None and research_vector_1 is not None:\n",
    "            within_tier_angles_rt_self[tier] += angle_between(research_vector_1, teaching_vector_1)[0]\n",
    "            no_checks_self += 1\n",
    "            \n",
    "        if teaching_vector_1 is None and uni_1 not in missing_unis_teaching:\n",
    "            missing_unis_teaching.append(uni_1)\n",
    "            \n",
    "        if research_vector_1 is None and uni_1 not in missing_unis_research:\n",
    "            missing_unis_research.append(uni_1)\n",
    "            \n",
    "        for uni_2 in tiers[tier]:\n",
    "            \n",
    "            teaching_vector_2, research_vector_2 = get_entity_vector(clean_uni_name(uni_2))\n",
    "            \n",
    "            if research_vector_1 is not None and research_vector_2 is not None:\n",
    "                within_tier_angles_rr[tier] += angle_between(research_vector_1, research_vector_2)[0]\n",
    "                no_checks_rr += 1\n",
    "            \n",
    "            if teaching_vector_1 is not None and teaching_vector_2 is not None:\n",
    "                within_tier_angles_tt[tier] += angle_between(teaching_vector_1, teaching_vector_2)[0]\n",
    "                no_checks_tt += 1                \n",
    "            \n",
    "            if research_vector_1 is not None and research_vector_2 is not None and teaching_vector_1 is not None and teaching_vector_2 is not None:\n",
    "                within_tier_angles_rt[tier] += angle_between(research_vector_1, teaching_vector_2)[0] + angle_between(teaching_vector_1, research_vector_2)[0]\n",
    "                no_checks_rt += 2\n",
    "\n",
    "    within_tier_angles_rt_self[tier] = round(within_tier_angles_rt_self[tier] / no_checks_self, 3)\n",
    "    within_tier_angles_rr[tier] = round(within_tier_angles_rr[tier] / no_checks_rr, 3)\n",
    "    within_tier_angles_tt[tier] = round(within_tier_angles_tt[tier] / no_checks_tt, 3)\n",
    "    within_tier_angles_rt[tier] = round(within_tier_angles_rt[tier] / no_checks_rt, 3)"
   ]
  },
  {
   "cell_type": "code",
   "execution_count": 100,
   "metadata": {},
   "outputs": [],
   "source": [
    "# missing_unis_research"
   ]
  },
  {
   "cell_type": "code",
   "execution_count": 101,
   "metadata": {},
   "outputs": [],
   "source": [
    "uni_tier_lens = {}\n",
    "for tier in unis_per_tier_research:\n",
    "    uni_tier_lens[tier] = len(unis_per_tier_research[tier])"
   ]
  },
  {
   "cell_type": "code",
   "execution_count": 102,
   "metadata": {},
   "outputs": [
    {
     "data": {
      "text/plain": [
       "{'1': 28,\n",
       " '2': 9,\n",
       " '3': 9,\n",
       " '4': 5,\n",
       " '5': 7,\n",
       " '6': 12,\n",
       " '7': 7,\n",
       " '8': 9,\n",
       " '9': 5,\n",
       " '10': 9,\n",
       " '11': 6,\n",
       " '12': 4,\n",
       " '13': 6,\n",
       " '14': 7,\n",
       " '15': 3,\n",
       " '16': 4,\n",
       " '17': 3,\n",
       " '18': 5,\n",
       " '19': 3,\n",
       " '20': 5}"
      ]
     },
     "execution_count": 102,
     "metadata": {},
     "output_type": "execute_result"
    }
   ],
   "source": [
    "uni_tier_lens"
   ]
  },
  {
   "cell_type": "code",
   "execution_count": 103,
   "metadata": {},
   "outputs": [
    {
     "data": {
      "text/plain": [
       "{'1': 53.526,\n",
       " '2': 27.879,\n",
       " '3': 38.259,\n",
       " '4': 23.378,\n",
       " '5': 20.347,\n",
       " '6': 34.329,\n",
       " '7': 13.984,\n",
       " '8': 51.555,\n",
       " '9': 40.183,\n",
       " '10': 33.402,\n",
       " '11': 22.776,\n",
       " '12': 41.362,\n",
       " '13': 41.169,\n",
       " '14': 25.376,\n",
       " '15': 8.577,\n",
       " '16': 47.001,\n",
       " '17': 44.004,\n",
       " '18': 28.796,\n",
       " '19': 8.917,\n",
       " '20': 24.604}"
      ]
     },
     "execution_count": 103,
     "metadata": {},
     "output_type": "execute_result"
    }
   ],
   "source": [
    "within_tier_angles_rr"
   ]
  },
  {
   "cell_type": "code",
   "execution_count": 104,
   "metadata": {},
   "outputs": [
    {
     "data": {
      "text/plain": [
       "array([[1.       , 0.4383653],\n",
       "       [0.4383653, 1.       ]])"
      ]
     },
     "execution_count": 104,
     "metadata": {},
     "output_type": "execute_result"
    }
   ],
   "source": [
    "np.corrcoef(np.array(list(within_tier_angles_rr.values())), np.array(list(uni_tier_lens.values())))"
   ]
  },
  {
   "cell_type": "code",
   "execution_count": 105,
   "metadata": {},
   "outputs": [
    {
     "data": {
      "text/plain": [
       "{'1': 36.967,\n",
       " '2': 35.541,\n",
       " '3': 37.887,\n",
       " '4': 30.042,\n",
       " '5': 26.852,\n",
       " '6': 32.947,\n",
       " '7': 26.083,\n",
       " '8': 29.368,\n",
       " '9': 33.057,\n",
       " '10': 37.516,\n",
       " '11': 19.924,\n",
       " '12': 26.388,\n",
       " '13': 37.306,\n",
       " '14': 35.725,\n",
       " '15': 26.63,\n",
       " '16': 41.557,\n",
       " '17': 23.951,\n",
       " '18': 28.541,\n",
       " '19': 30.137,\n",
       " '20': 36.775}"
      ]
     },
     "execution_count": 105,
     "metadata": {},
     "output_type": "execute_result"
    }
   ],
   "source": [
    "within_tier_angles_tt"
   ]
  },
  {
   "cell_type": "code",
   "execution_count": 106,
   "metadata": {},
   "outputs": [
    {
     "data": {
      "text/plain": [
       "{'1': 65.034,\n",
       " '2': 65.444,\n",
       " '3': 64.422,\n",
       " '4': 57.521,\n",
       " '5': 53.208,\n",
       " '6': 66.518,\n",
       " '7': 58.685,\n",
       " '8': 65.091,\n",
       " '9': 60.852,\n",
       " '10': 62.873,\n",
       " '11': 54.894,\n",
       " '12': 62.802,\n",
       " '13': 65.589,\n",
       " '14': 56.548,\n",
       " '15': 57.318,\n",
       " '16': 65.67,\n",
       " '17': 62.896,\n",
       " '18': 59.463,\n",
       " '19': 55.903,\n",
       " '20': 59.395}"
      ]
     },
     "execution_count": 106,
     "metadata": {},
     "output_type": "execute_result"
    }
   ],
   "source": [
    "within_tier_angles_rt"
   ]
  },
  {
   "cell_type": "code",
   "execution_count": 107,
   "metadata": {},
   "outputs": [],
   "source": [
    "between_tier_angles_rr = {}\n",
    "between_tier_angles_tt = {}"
   ]
  },
  {
   "cell_type": "code",
   "execution_count": 108,
   "metadata": {},
   "outputs": [],
   "source": [
    "for tier_1 in tiers:\n",
    "    for tier_2 in tiers:\n",
    "        if tier_1 == tier_2:\n",
    "            continue\n",
    "        between_tier_angles_rr[(tier_1, tier_2)] = 0\n",
    "        between_tier_angles_tt[(tier_1, tier_2)] = 0\n",
    "        no_checks_rr = 0\n",
    "        no_checks_tt = 0\n",
    "        for uni_1 in tiers[tier_1]:\n",
    "            \n",
    "            teaching_vector_1, research_vector_1 = get_entity_vector(clean_uni_name(uni_1))\n",
    "\n",
    "            for uni_2 in tiers[tier_2]:\n",
    "                \n",
    "                teaching_vector_2, research_vector_2 = get_entity_vector(clean_uni_name(uni_2))\n",
    "                \n",
    "                if research_vector_1 is not None and research_vector_2 is not None:\n",
    "                    between_tier_angles_rr[(tier_1, tier_2)] += angle_between(research_vector_1, research_vector_2)[0]\n",
    "                    no_checks_rr += 1\n",
    "\n",
    "                if teaching_vector_1 is not None and teaching_vector_2 is not None:\n",
    "                    between_tier_angles_tt[(tier_1, tier_2)] += angle_between(teaching_vector_1, teaching_vector_2)[0]\n",
    "                    no_checks_tt += 1                \n",
    "\n",
    "        between_tier_angles_rr[(tier_1, tier_2)] = round(between_tier_angles_rr[(tier_1, tier_2)] / no_checks_rr, 3)\n",
    "        between_tier_angles_tt[(tier_1, tier_2)] = round(between_tier_angles_tt[(tier_1, tier_2)] / no_checks_tt, 3)"
   ]
  },
  {
   "cell_type": "code",
   "execution_count": 109,
   "metadata": {},
   "outputs": [
    {
     "data": {
      "text/plain": [
       "{('1', '2'): 38.627,\n",
       " ('1', '3'): 41.406,\n",
       " ('1', '4'): 37.849,\n",
       " ('1', '5'): 41.233,\n",
       " ('1', '6'): 39.557,\n",
       " ('1', '7'): 36.202,\n",
       " ('1', '8'): 39.245,\n",
       " ('1', '9'): 39.818,\n",
       " ('1', '10'): 43.99,\n",
       " ('1', '11'): 38.666,\n",
       " ('1', '12'): 40.494,\n",
       " ('1', '13'): 43.332,\n",
       " ('1', '14'): 44.297,\n",
       " ('1', '15'): 37.622,\n",
       " ('1', '16'): 49.543,\n",
       " ('1', '17'): 40.15,\n",
       " ('1', '18'): 40.619,\n",
       " ('1', '19'): 41.352,\n",
       " ('1', '20'): 41.924,\n",
       " ('2', '1'): 38.627,\n",
       " ('2', '3'): 41.869,\n",
       " ('2', '4'): 37.728,\n",
       " ('2', '5'): 40.037,\n",
       " ('2', '6'): 38.743,\n",
       " ('2', '7'): 35.251,\n",
       " ('2', '8'): 37.935,\n",
       " ('2', '9'): 40.279,\n",
       " ('2', '10'): 42.414,\n",
       " ('2', '11'): 37.664,\n",
       " ('2', '12'): 39.999,\n",
       " ('2', '13'): 42.492,\n",
       " ('2', '14'): 43.221,\n",
       " ('2', '15'): 37.016,\n",
       " ('2', '16'): 49.601,\n",
       " ('2', '17'): 41.893,\n",
       " ('2', '18'): 39.561,\n",
       " ('2', '19'): 40.271,\n",
       " ('2', '20'): 41.895,\n",
       " ('3', '1'): 41.406,\n",
       " ('3', '2'): 41.869,\n",
       " ('3', '4'): 38.762,\n",
       " ('3', '5'): 39.263,\n",
       " ('3', '6'): 39.155,\n",
       " ('3', '7'): 37.442,\n",
       " ('3', '8'): 38.574,\n",
       " ('3', '9'): 39.95,\n",
       " ('3', '10'): 43.661,\n",
       " ('3', '11'): 34.96,\n",
       " ('3', '12'): 38.326,\n",
       " ('3', '13'): 43.586,\n",
       " ('3', '14'): 42.121,\n",
       " ('3', '15'): 40.648,\n",
       " ('3', '16'): 50.965,\n",
       " ('3', '17'): 42.571,\n",
       " ('3', '18'): 38.586,\n",
       " ('3', '19'): 41.075,\n",
       " ('3', '20'): 43.103,\n",
       " ('4', '1'): 37.849,\n",
       " ('4', '2'): 37.728,\n",
       " ('4', '3'): 38.762,\n",
       " ('4', '5'): 35.788,\n",
       " ('4', '6'): 36.107,\n",
       " ('4', '7'): 33.893,\n",
       " ('4', '8'): 35.235,\n",
       " ('4', '9'): 36.511,\n",
       " ('4', '10'): 39.569,\n",
       " ('4', '11'): 31.868,\n",
       " ('4', '12'): 35.309,\n",
       " ('4', '13'): 40.881,\n",
       " ('4', '14'): 38.798,\n",
       " ('4', '15'): 35.447,\n",
       " ('4', '16'): 47.34,\n",
       " ('4', '17'): 39.164,\n",
       " ('4', '18'): 35.632,\n",
       " ('4', '19'): 37.953,\n",
       " ('4', '20'): 39.413,\n",
       " ('5', '1'): 41.233,\n",
       " ('5', '2'): 40.037,\n",
       " ('5', '3'): 39.263,\n",
       " ('5', '4'): 35.788,\n",
       " ('5', '6'): 34.782,\n",
       " ('5', '7'): 35.223,\n",
       " ('5', '8'): 32.516,\n",
       " ('5', '9'): 36.796,\n",
       " ('5', '10'): 37.244,\n",
       " ('5', '11'): 28.897,\n",
       " ('5', '12'): 33.022,\n",
       " ('5', '13'): 39.575,\n",
       " ('5', '14'): 36.057,\n",
       " ('5', '15'): 38.868,\n",
       " ('5', '16'): 47.011,\n",
       " ('5', '17'): 42.04,\n",
       " ('5', '18'): 33.361,\n",
       " ('5', '19'): 36.571,\n",
       " ('5', '20'): 41.355,\n",
       " ('6', '1'): 39.557,\n",
       " ('6', '2'): 38.743,\n",
       " ('6', '3'): 39.155,\n",
       " ('6', '4'): 36.107,\n",
       " ('6', '5'): 34.782,\n",
       " ('6', '7'): 33.361,\n",
       " ('6', '8'): 34.75,\n",
       " ('6', '9'): 38.272,\n",
       " ('6', '10'): 39.174,\n",
       " ('6', '11'): 31.796,\n",
       " ('6', '12'): 34.579,\n",
       " ('6', '13'): 39.631,\n",
       " ('6', '14'): 38.468,\n",
       " ('6', '15'): 36.848,\n",
       " ('6', '16'): 48.064,\n",
       " ('6', '17'): 41.086,\n",
       " ('6', '18'): 34.653,\n",
       " ('6', '19'): 37.439,\n",
       " ('6', '20'): 40.498,\n",
       " ('7', '1'): 36.202,\n",
       " ('7', '2'): 35.251,\n",
       " ('7', '3'): 37.442,\n",
       " ('7', '4'): 33.893,\n",
       " ('7', '5'): 35.223,\n",
       " ('7', '6'): 33.361,\n",
       " ('7', '8'): 32.518,\n",
       " ('7', '9'): 36.317,\n",
       " ('7', '10'): 37.584,\n",
       " ('7', '11'): 30.616,\n",
       " ('7', '12'): 33.01,\n",
       " ('7', '13'): 37.917,\n",
       " ('7', '14'): 38.221,\n",
       " ('7', '15'): 32.765,\n",
       " ('7', '16'): 47.556,\n",
       " ('7', '17'): 36.078,\n",
       " ('7', '18'): 33.293,\n",
       " ('7', '19'): 34.244,\n",
       " ('7', '20'): 37.315,\n",
       " ('8', '1'): 39.245,\n",
       " ('8', '2'): 37.935,\n",
       " ('8', '3'): 38.574,\n",
       " ('8', '4'): 35.235,\n",
       " ('8', '5'): 32.516,\n",
       " ('8', '6'): 34.75,\n",
       " ('8', '7'): 32.518,\n",
       " ('8', '9'): 36.765,\n",
       " ('8', '10'): 36.765,\n",
       " ('8', '11'): 29.075,\n",
       " ('8', '12'): 33.278,\n",
       " ('8', '13'): 39.228,\n",
       " ('8', '14'): 36.829,\n",
       " ('8', '15'): 36.538,\n",
       " ('8', '16'): 47.477,\n",
       " ('8', '17'): 39.623,\n",
       " ('8', '18'): 33.913,\n",
       " ('8', '19'): 35.593,\n",
       " ('8', '20'): 38.841,\n",
       " ('9', '1'): 39.818,\n",
       " ('9', '2'): 40.279,\n",
       " ('9', '3'): 39.95,\n",
       " ('9', '4'): 36.511,\n",
       " ('9', '5'): 36.796,\n",
       " ('9', '6'): 38.272,\n",
       " ('9', '7'): 36.317,\n",
       " ('9', '8'): 36.765,\n",
       " ('9', '10'): 41.053,\n",
       " ('9', '11'): 33.667,\n",
       " ('9', '12'): 37.894,\n",
       " ('9', '13'): 42.947,\n",
       " ('9', '14'): 40.452,\n",
       " ('9', '15'): 38.91,\n",
       " ('9', '16'): 48.131,\n",
       " ('9', '17'): 39.234,\n",
       " ('9', '18'): 37.089,\n",
       " ('9', '19'): 40.15,\n",
       " ('9', '20'): 41.587,\n",
       " ('10', '1'): 43.99,\n",
       " ('10', '2'): 42.414,\n",
       " ('10', '3'): 43.661,\n",
       " ('10', '4'): 39.569,\n",
       " ('10', '5'): 37.244,\n",
       " ('10', '6'): 39.174,\n",
       " ('10', '7'): 37.584,\n",
       " ('10', '8'): 36.765,\n",
       " ('10', '9'): 41.053,\n",
       " ('10', '11'): 34.821,\n",
       " ('10', '12'): 38.281,\n",
       " ('10', '13'): 43.166,\n",
       " ('10', '14'): 40.274,\n",
       " ('10', '15'): 40.374,\n",
       " ('10', '16'): 50.677,\n",
       " ('10', '17'): 45.045,\n",
       " ('10', '18'): 38.07,\n",
       " ('10', '19'): 40.13,\n",
       " ('10', '20'): 43.269,\n",
       " ('11', '1'): 38.666,\n",
       " ('11', '2'): 37.664,\n",
       " ('11', '3'): 34.96,\n",
       " ('11', '4'): 31.868,\n",
       " ('11', '5'): 28.897,\n",
       " ('11', '6'): 31.796,\n",
       " ('11', '7'): 30.616,\n",
       " ('11', '8'): 29.075,\n",
       " ('11', '9'): 33.667,\n",
       " ('11', '10'): 34.821,\n",
       " ('11', '12'): 28.757,\n",
       " ('11', '13'): 37.723,\n",
       " ('11', '14'): 32.918,\n",
       " ('11', '15'): 35.324,\n",
       " ('11', '16'): 46.137,\n",
       " ('11', '17'): 38.132,\n",
       " ('11', '18'): 30.004,\n",
       " ('11', '19'): 33.332,\n",
       " ('11', '20'): 37.432,\n",
       " ('12', '1'): 40.494,\n",
       " ('12', '2'): 39.999,\n",
       " ('12', '3'): 38.326,\n",
       " ('12', '4'): 35.309,\n",
       " ('12', '5'): 33.022,\n",
       " ('12', '6'): 34.579,\n",
       " ('12', '7'): 33.01,\n",
       " ('12', '8'): 33.278,\n",
       " ('12', '9'): 37.894,\n",
       " ('12', '10'): 38.281,\n",
       " ('12', '11'): 28.757,\n",
       " ('12', '13'): 39.147,\n",
       " ('12', '14'): 36.883,\n",
       " ('12', '15'): 37.395,\n",
       " ('12', '16'): 49.678,\n",
       " ('12', '17'): 38.214,\n",
       " ('12', '18'): 33.67,\n",
       " ('12', '19'): 35.839,\n",
       " ('12', '20'): 39.655,\n",
       " ('13', '1'): 43.332,\n",
       " ('13', '2'): 42.492,\n",
       " ('13', '3'): 43.586,\n",
       " ('13', '4'): 40.881,\n",
       " ('13', '5'): 39.575,\n",
       " ('13', '6'): 39.631,\n",
       " ('13', '7'): 37.917,\n",
       " ('13', '8'): 39.228,\n",
       " ('13', '9'): 42.947,\n",
       " ('13', '10'): 43.166,\n",
       " ('13', '11'): 37.723,\n",
       " ('13', '12'): 39.147,\n",
       " ('13', '14'): 42.992,\n",
       " ('13', '15'): 41.755,\n",
       " ('13', '16'): 50.371,\n",
       " ('13', '17'): 44.574,\n",
       " ('13', '18'): 40.721,\n",
       " ('13', '19'): 40.62,\n",
       " ('13', '20'): 43.667,\n",
       " ('14', '1'): 44.297,\n",
       " ('14', '2'): 43.221,\n",
       " ('14', '3'): 42.121,\n",
       " ('14', '4'): 38.798,\n",
       " ('14', '5'): 36.057,\n",
       " ('14', '6'): 38.468,\n",
       " ('14', '7'): 38.221,\n",
       " ('14', '8'): 36.829,\n",
       " ('14', '9'): 40.452,\n",
       " ('14', '10'): 40.274,\n",
       " ('14', '11'): 32.918,\n",
       " ('14', '12'): 36.883,\n",
       " ('14', '13'): 42.992,\n",
       " ('14', '15'): 41.694,\n",
       " ('14', '16'): 50.327,\n",
       " ('14', '17'): 44.821,\n",
       " ('14', '18'): 37.051,\n",
       " ('14', '19'): 40.263,\n",
       " ('14', '20'): 43.493,\n",
       " ('15', '1'): 37.622,\n",
       " ('15', '2'): 37.016,\n",
       " ('15', '3'): 40.648,\n",
       " ('15', '4'): 35.447,\n",
       " ('15', '5'): 38.868,\n",
       " ('15', '6'): 36.848,\n",
       " ('15', '7'): 32.765,\n",
       " ('15', '8'): 36.538,\n",
       " ('15', '9'): 38.91,\n",
       " ('15', '10'): 40.374,\n",
       " ('15', '11'): 35.324,\n",
       " ('15', '12'): 37.395,\n",
       " ('15', '13'): 41.755,\n",
       " ('15', '14'): 41.694,\n",
       " ('15', '16'): 49.53,\n",
       " ('15', '17'): 39.323,\n",
       " ('15', '18'): 37.264,\n",
       " ('15', '19'): 38.465,\n",
       " ('15', '20'): 40.36,\n",
       " ('16', '1'): 49.543,\n",
       " ('16', '2'): 49.601,\n",
       " ('16', '3'): 50.965,\n",
       " ('16', '4'): 47.34,\n",
       " ('16', '5'): 47.011,\n",
       " ('16', '6'): 48.064,\n",
       " ('16', '7'): 47.556,\n",
       " ('16', '8'): 47.477,\n",
       " ('16', '9'): 48.131,\n",
       " ('16', '10'): 50.677,\n",
       " ('16', '11'): 46.137,\n",
       " ('16', '12'): 49.678,\n",
       " ('16', '13'): 50.371,\n",
       " ('16', '14'): 50.327,\n",
       " ('16', '15'): 49.53,\n",
       " ('16', '17'): 53.419,\n",
       " ('16', '18'): 48.468,\n",
       " ('16', '19'): 48.252,\n",
       " ('16', '20'): 50.675,\n",
       " ('17', '1'): 40.15,\n",
       " ('17', '2'): 41.893,\n",
       " ('17', '3'): 42.571,\n",
       " ('17', '4'): 39.164,\n",
       " ('17', '5'): 42.04,\n",
       " ('17', '6'): 41.086,\n",
       " ('17', '7'): 36.078,\n",
       " ('17', '8'): 39.623,\n",
       " ('17', '9'): 39.234,\n",
       " ('17', '10'): 45.045,\n",
       " ('17', '11'): 38.132,\n",
       " ('17', '12'): 38.214,\n",
       " ('17', '13'): 44.574,\n",
       " ('17', '14'): 44.821,\n",
       " ('17', '15'): 39.323,\n",
       " ('17', '16'): 53.419,\n",
       " ('17', '18'): 41.27,\n",
       " ('17', '19'): 41.83,\n",
       " ('17', '20'): 42.785,\n",
       " ('18', '1'): 40.619,\n",
       " ('18', '2'): 39.561,\n",
       " ('18', '3'): 38.586,\n",
       " ('18', '4'): 35.632,\n",
       " ('18', '5'): 33.361,\n",
       " ('18', '6'): 34.653,\n",
       " ('18', '7'): 33.293,\n",
       " ('18', '8'): 33.913,\n",
       " ('18', '9'): 37.089,\n",
       " ('18', '10'): 38.07,\n",
       " ('18', '11'): 30.004,\n",
       " ('18', '12'): 33.67,\n",
       " ('18', '13'): 40.721,\n",
       " ('18', '14'): 37.051,\n",
       " ('18', '15'): 37.264,\n",
       " ('18', '16'): 48.468,\n",
       " ('18', '17'): 41.27,\n",
       " ('18', '19'): 36.713,\n",
       " ('18', '20'): 40.704,\n",
       " ('19', '1'): 41.352,\n",
       " ('19', '2'): 40.271,\n",
       " ('19', '3'): 41.075,\n",
       " ('19', '4'): 37.953,\n",
       " ('19', '5'): 36.571,\n",
       " ('19', '6'): 37.439,\n",
       " ('19', '7'): 34.244,\n",
       " ('19', '8'): 35.593,\n",
       " ('19', '9'): 40.15,\n",
       " ('19', '10'): 40.13,\n",
       " ('19', '11'): 33.332,\n",
       " ('19', '12'): 35.839,\n",
       " ('19', '13'): 40.62,\n",
       " ('19', '14'): 40.263,\n",
       " ('19', '15'): 38.465,\n",
       " ('19', '16'): 48.252,\n",
       " ('19', '17'): 41.83,\n",
       " ('19', '18'): 36.713,\n",
       " ('19', '20'): 40.917,\n",
       " ('20', '1'): 41.924,\n",
       " ('20', '2'): 41.895,\n",
       " ('20', '3'): 43.103,\n",
       " ('20', '4'): 39.413,\n",
       " ('20', '5'): 41.355,\n",
       " ('20', '6'): 40.498,\n",
       " ('20', '7'): 37.315,\n",
       " ('20', '8'): 38.841,\n",
       " ('20', '9'): 41.587,\n",
       " ('20', '10'): 43.269,\n",
       " ('20', '11'): 37.432,\n",
       " ('20', '12'): 39.655,\n",
       " ('20', '13'): 43.667,\n",
       " ('20', '14'): 43.493,\n",
       " ('20', '15'): 40.36,\n",
       " ('20', '16'): 50.675,\n",
       " ('20', '17'): 42.785,\n",
       " ('20', '18'): 40.704,\n",
       " ('20', '19'): 40.917}"
      ]
     },
     "execution_count": 109,
     "metadata": {},
     "output_type": "execute_result"
    }
   ],
   "source": [
    "between_tier_angles_tt"
   ]
  },
  {
   "cell_type": "code",
   "execution_count": 110,
   "metadata": {},
   "outputs": [
    {
     "data": {
      "text/plain": [
       "{('1', '2'): 45.145,\n",
       " ('1', '3'): 49.609,\n",
       " ('1', '4'): 43.776,\n",
       " ('1', '5'): 43.067,\n",
       " ('1', '6'): 48.692,\n",
       " ('1', '7'): 40.323,\n",
       " ('1', '8'): 56.625,\n",
       " ('1', '9'): 52.832,\n",
       " ('1', '10'): 48.262,\n",
       " ('1', '11'): 43.551,\n",
       " ('1', '12'): 54.141,\n",
       " ('1', '13'): 51.566,\n",
       " ('1', '14'): 44.979,\n",
       " ('1', '15'): 39.23,\n",
       " ('1', '16'): 57.435,\n",
       " ('1', '17'): 62.228,\n",
       " ('1', '18'): 46.432,\n",
       " ('1', '19'): 39.743,\n",
       " ('1', '20'): 46.858,\n",
       " ('2', '1'): 45.145,\n",
       " ('2', '3'): 35.694,\n",
       " ('2', '4'): 29.098,\n",
       " ('2', '5'): 27.119,\n",
       " ('2', '6'): 33.579,\n",
       " ('2', '7'): 23.219,\n",
       " ('2', '8'): 45.265,\n",
       " ('2', '9'): 40.325,\n",
       " ('2', '10'): 33.451,\n",
       " ('2', '11'): 28.191,\n",
       " ('2', '12'): 42.616,\n",
       " ('2', '13'): 39.233,\n",
       " ('2', '14'): 30.003,\n",
       " ('2', '15'): 21.813,\n",
       " ('2', '16'): 48.78,\n",
       " ('2', '17'): 55.962,\n",
       " ('2', '18'): 33.614,\n",
       " ('2', '19'): 23.138,\n",
       " ('2', '20'): 33.132,\n",
       " ('3', '1'): 49.609,\n",
       " ('3', '2'): 35.694,\n",
       " ('3', '4'): 35.093,\n",
       " ('3', '5'): 33.751,\n",
       " ('3', '6'): 38.926,\n",
       " ('3', '7'): 30.305,\n",
       " ('3', '8'): 50.452,\n",
       " ('3', '9'): 45.068,\n",
       " ('3', '10'): 39.304,\n",
       " ('3', '11'): 34.724,\n",
       " ('3', '12'): 47.939,\n",
       " ('3', '13'): 45.459,\n",
       " ('3', '14'): 35.809,\n",
       " ('3', '15'): 28.983,\n",
       " ('3', '16'): 53.329,\n",
       " ('3', '17'): 57.988,\n",
       " ('3', '18'): 39.176,\n",
       " ('3', '19'): 29.798,\n",
       " ('3', '20'): 38.571,\n",
       " ('4', '1'): 43.776,\n",
       " ('4', '2'): 29.098,\n",
       " ('4', '3'): 35.093,\n",
       " ('4', '5'): 26.935,\n",
       " ('4', '6'): 33.826,\n",
       " ('4', '7'): 22.732,\n",
       " ('4', '8'): 44.958,\n",
       " ('4', '9'): 40.588,\n",
       " ('4', '10'): 34.316,\n",
       " ('4', '11'): 27.203,\n",
       " ('4', '12'): 43.353,\n",
       " ('4', '13'): 38.147,\n",
       " ('4', '14'): 29.279,\n",
       " ('4', '15'): 21.323,\n",
       " ('4', '16'): 47.145,\n",
       " ('4', '17'): 56.716,\n",
       " ('4', '18'): 31.975,\n",
       " ('4', '19'): 21.643,\n",
       " ('4', '20'): 31.459,\n",
       " ('5', '1'): 43.067,\n",
       " ('5', '2'): 27.119,\n",
       " ('5', '3'): 33.751,\n",
       " ('5', '4'): 26.935,\n",
       " ('5', '6'): 31.667,\n",
       " ('5', '7'): 19.549,\n",
       " ('5', '8'): 42.536,\n",
       " ('5', '9'): 36.831,\n",
       " ('5', '10'): 30.375,\n",
       " ('5', '11'): 23.964,\n",
       " ('5', '12'): 38.553,\n",
       " ('5', '13'): 36.355,\n",
       " ('5', '14'): 25.909,\n",
       " ('5', '15'): 17.001,\n",
       " ('5', '16'): 45.001,\n",
       " ('5', '17'): 50.523,\n",
       " ('5', '18'): 29.479,\n",
       " ('5', '19'): 17.46,\n",
       " ('5', '20'): 28.073,\n",
       " ('6', '1'): 48.692,\n",
       " ('6', '2'): 33.579,\n",
       " ('6', '3'): 38.926,\n",
       " ('6', '4'): 33.826,\n",
       " ('6', '5'): 31.667,\n",
       " ('6', '7'): 27.787,\n",
       " ('6', '8'): 48.072,\n",
       " ('6', '9'): 43.754,\n",
       " ('6', '10'): 36.519,\n",
       " ('6', '11'): 32.702,\n",
       " ('6', '12'): 45.923,\n",
       " ('6', '13'): 43.385,\n",
       " ('6', '14'): 33.373,\n",
       " ('6', '15'): 26.664,\n",
       " ('6', '16'): 51.341,\n",
       " ('6', '17'): 56.879,\n",
       " ('6', '18'): 37.241,\n",
       " ('6', '19'): 28.15,\n",
       " ('6', '20'): 36.995,\n",
       " ('7', '1'): 40.323,\n",
       " ('7', '2'): 23.219,\n",
       " ('7', '3'): 30.305,\n",
       " ('7', '4'): 22.732,\n",
       " ('7', '5'): 19.549,\n",
       " ('7', '6'): 27.787,\n",
       " ('7', '8'): 40.059,\n",
       " ('7', '9'): 34.694,\n",
       " ('7', '10'): 27.44,\n",
       " ('7', '11'): 20.829,\n",
       " ('7', '12'): 37.256,\n",
       " ('7', '13'): 33.929,\n",
       " ('7', '14'): 22.672,\n",
       " ('7', '15'): 13.761,\n",
       " ('7', '16'): 43.675,\n",
       " ('7', '17'): 51.057,\n",
       " ('7', '18'): 26.605,\n",
       " ('7', '19'): 15.184,\n",
       " ('7', '20'): 26.538,\n",
       " ('8', '1'): 56.625,\n",
       " ('8', '2'): 45.265,\n",
       " ('8', '3'): 50.452,\n",
       " ('8', '4'): 44.958,\n",
       " ('8', '5'): 42.536,\n",
       " ('8', '6'): 48.072,\n",
       " ('8', '7'): 40.059,\n",
       " ('8', '9'): 53.93,\n",
       " ('8', '10'): 48.125,\n",
       " ('8', '11'): 43.932,\n",
       " ('8', '12'): 54.772,\n",
       " ('8', '13'): 52.31,\n",
       " ('8', '14'): 44.844,\n",
       " ('8', '15'): 38.578,\n",
       " ('8', '16'): 57.844,\n",
       " ('8', '17'): 61.502,\n",
       " ('8', '18'): 47.438,\n",
       " ('8', '19'): 38.697,\n",
       " ('8', '20'): 44.582,\n",
       " ('9', '1'): 52.832,\n",
       " ('9', '2'): 40.325,\n",
       " ('9', '3'): 45.068,\n",
       " ('9', '4'): 40.588,\n",
       " ('9', '5'): 36.831,\n",
       " ('9', '6'): 43.754,\n",
       " ('9', '7'): 34.694,\n",
       " ('9', '8'): 53.93,\n",
       " ('9', '10'): 42.676,\n",
       " ('9', '11'): 39.169,\n",
       " ('9', '12'): 49.231,\n",
       " ('9', '13'): 48.227,\n",
       " ('9', '14'): 39.428,\n",
       " ('9', '15'): 33.685,\n",
       " ('9', '16'): 55.471,\n",
       " ('9', '17'): 57.438,\n",
       " ('9', '18'): 43.532,\n",
       " ('9', '19'): 34.762,\n",
       " ('9', '20'): 42.959,\n",
       " ('10', '1'): 48.262,\n",
       " ('10', '2'): 33.451,\n",
       " ('10', '3'): 39.304,\n",
       " ('10', '4'): 34.316,\n",
       " ('10', '5'): 30.375,\n",
       " ('10', '6'): 36.519,\n",
       " ('10', '7'): 27.44,\n",
       " ('10', '8'): 48.125,\n",
       " ('10', '9'): 42.676,\n",
       " ('10', '11'): 32.194,\n",
       " ('10', '12'): 44.933,\n",
       " ('10', '13'): 42.693,\n",
       " ('10', '14'): 32.671,\n",
       " ('10', '15'): 26.005,\n",
       " ('10', '16'): 51.006,\n",
       " ('10', '17'): 55.76,\n",
       " ('10', '18'): 37.326,\n",
       " ('10', '19'): 27.684,\n",
       " ('10', '20'): 36.957,\n",
       " ('11', '1'): 43.551,\n",
       " ('11', '2'): 28.191,\n",
       " ('11', '3'): 34.724,\n",
       " ('11', '4'): 27.203,\n",
       " ('11', '5'): 23.964,\n",
       " ('11', '6'): 32.702,\n",
       " ('11', '7'): 20.829,\n",
       " ('11', '8'): 43.932,\n",
       " ('11', '9'): 39.169,\n",
       " ('11', '10'): 32.194,\n",
       " ('11', '12'): 40.713,\n",
       " ('11', '13'): 36.989,\n",
       " ('11', '14'): 27.819,\n",
       " ('11', '15'): 18.933,\n",
       " ('11', '16'): 46.824,\n",
       " ('11', '17'): 54.464,\n",
       " ('11', '18'): 30.593,\n",
       " ('11', '19'): 19.473,\n",
       " ('11', '20'): 30.726,\n",
       " ('12', '1'): 54.141,\n",
       " ('12', '2'): 42.616,\n",
       " ('12', '3'): 47.939,\n",
       " ('12', '4'): 43.353,\n",
       " ('12', '5'): 38.553,\n",
       " ('12', '6'): 45.923,\n",
       " ('12', '7'): 37.256,\n",
       " ('12', '8'): 54.772,\n",
       " ('12', '9'): 49.231,\n",
       " ('12', '10'): 44.933,\n",
       " ('12', '11'): 40.713,\n",
       " ('12', '13'): 49.162,\n",
       " ('12', '14'): 42.252,\n",
       " ('12', '15'): 35.312,\n",
       " ('12', '16'): 56.245,\n",
       " ('12', '17'): 60.618,\n",
       " ('12', '18'): 44.95,\n",
       " ('12', '19'): 36.59,\n",
       " ('12', '20'): 45.173,\n",
       " ('13', '1'): 51.566,\n",
       " ('13', '2'): 39.233,\n",
       " ('13', '3'): 45.459,\n",
       " ('13', '4'): 38.147,\n",
       " ('13', '5'): 36.355,\n",
       " ('13', '6'): 43.385,\n",
       " ('13', '7'): 33.929,\n",
       " ('13', '8'): 52.31,\n",
       " ('13', '9'): 48.227,\n",
       " ('13', '10'): 42.693,\n",
       " ('13', '11'): 36.989,\n",
       " ('13', '12'): 49.162,\n",
       " ('13', '14'): 39.161,\n",
       " ('13', '15'): 32.419,\n",
       " ('13', '16'): 51.708,\n",
       " ('13', '17'): 61.282,\n",
       " ('13', '18'): 41.495,\n",
       " ('13', '19'): 32.325,\n",
       " ('13', '20'): 41.217,\n",
       " ('14', '1'): 44.979,\n",
       " ('14', '2'): 30.003,\n",
       " ('14', '3'): 35.809,\n",
       " ('14', '4'): 29.279,\n",
       " ('14', '5'): 25.909,\n",
       " ('14', '6'): 33.373,\n",
       " ('14', '7'): 22.672,\n",
       " ('14', '8'): 44.844,\n",
       " ('14', '9'): 39.428,\n",
       " ('14', '10'): 32.671,\n",
       " ('14', '11'): 27.819,\n",
       " ('14', '12'): 42.252,\n",
       " ('14', '13'): 39.161,\n",
       " ('14', '15'): 20.999,\n",
       " ('14', '16'): 47.045,\n",
       " ('14', '17'): 51.367,\n",
       " ('14', '18'): 32.211,\n",
       " ('14', '19'): 21.968,\n",
       " ('14', '20'): 31.35,\n",
       " ('15', '1'): 39.23,\n",
       " ('15', '2'): 21.813,\n",
       " ('15', '3'): 28.983,\n",
       " ('15', '4'): 21.323,\n",
       " ('15', '5'): 17.001,\n",
       " ('15', '6'): 26.664,\n",
       " ('15', '7'): 13.761,\n",
       " ('15', '8'): 38.578,\n",
       " ('15', '9'): 33.685,\n",
       " ('15', '10'): 26.005,\n",
       " ('15', '11'): 18.933,\n",
       " ('15', '12'): 35.312,\n",
       " ('15', '13'): 32.419,\n",
       " ('15', '14'): 20.999,\n",
       " ('15', '16'): 42.518,\n",
       " ('15', '17'): 49.339,\n",
       " ('15', '18'): 24.48,\n",
       " ('15', '19'): 11.856,\n",
       " ('15', '20'): 23.554,\n",
       " ('16', '1'): 57.435,\n",
       " ('16', '2'): 48.78,\n",
       " ('16', '3'): 53.329,\n",
       " ('16', '4'): 47.145,\n",
       " ('16', '5'): 45.001,\n",
       " ('16', '6'): 51.341,\n",
       " ('16', '7'): 43.675,\n",
       " ('16', '8'): 57.844,\n",
       " ('16', '9'): 55.471,\n",
       " ('16', '10'): 51.006,\n",
       " ('16', '11'): 46.824,\n",
       " ('16', '12'): 56.245,\n",
       " ('16', '13'): 51.708,\n",
       " ('16', '14'): 47.045,\n",
       " ('16', '15'): 42.518,\n",
       " ('16', '17'): 60.16,\n",
       " ('16', '18'): 48.13,\n",
       " ('16', '19'): 40.911,\n",
       " ('16', '20'): 45.844,\n",
       " ('17', '1'): 62.228,\n",
       " ('17', '2'): 55.962,\n",
       " ('17', '3'): 57.988,\n",
       " ('17', '4'): 56.716,\n",
       " ('17', '5'): 50.523,\n",
       " ('17', '6'): 56.879,\n",
       " ('17', '7'): 51.057,\n",
       " ('17', '8'): 61.502,\n",
       " ('17', '9'): 57.438,\n",
       " ('17', '10'): 55.76,\n",
       " ('17', '11'): 54.464,\n",
       " ('17', '12'): 60.618,\n",
       " ('17', '13'): 61.282,\n",
       " ('17', '14'): 51.367,\n",
       " ('17', '15'): 49.339,\n",
       " ('17', '16'): 60.16,\n",
       " ('17', '18'): 53.873,\n",
       " ('17', '19'): 48.166,\n",
       " ('17', '20'): 50.467,\n",
       " ('18', '1'): 46.432,\n",
       " ('18', '2'): 33.614,\n",
       " ('18', '3'): 39.176,\n",
       " ('18', '4'): 31.975,\n",
       " ('18', '5'): 29.479,\n",
       " ('18', '6'): 37.241,\n",
       " ('18', '7'): 26.605,\n",
       " ('18', '8'): 47.438,\n",
       " ('18', '9'): 43.532,\n",
       " ('18', '10'): 37.326,\n",
       " ('18', '11'): 30.593,\n",
       " ('18', '12'): 44.95,\n",
       " ('18', '13'): 41.495,\n",
       " ('18', '14'): 32.211,\n",
       " ('18', '15'): 24.48,\n",
       " ('18', '16'): 48.13,\n",
       " ('18', '17'): 53.873,\n",
       " ('18', '19'): 24.361,\n",
       " ('18', '20'): 31.846,\n",
       " ('19', '1'): 39.743,\n",
       " ('19', '2'): 23.138,\n",
       " ('19', '3'): 29.798,\n",
       " ('19', '4'): 21.643,\n",
       " ('19', '5'): 17.46,\n",
       " ('19', '6'): 28.15,\n",
       " ('19', '7'): 15.184,\n",
       " ('19', '8'): 38.697,\n",
       " ('19', '9'): 34.762,\n",
       " ('19', '10'): 27.684,\n",
       " ('19', '11'): 19.473,\n",
       " ('19', '12'): 36.59,\n",
       " ('19', '13'): 32.325,\n",
       " ('19', '14'): 21.968,\n",
       " ('19', '15'): 11.856,\n",
       " ('19', '16'): 40.911,\n",
       " ('19', '17'): 48.166,\n",
       " ('19', '18'): 24.361,\n",
       " ('19', '20'): 21.872,\n",
       " ('20', '1'): 46.858,\n",
       " ('20', '2'): 33.132,\n",
       " ('20', '3'): 38.571,\n",
       " ('20', '4'): 31.459,\n",
       " ('20', '5'): 28.073,\n",
       " ('20', '6'): 36.995,\n",
       " ('20', '7'): 26.538,\n",
       " ('20', '8'): 44.582,\n",
       " ('20', '9'): 42.959,\n",
       " ('20', '10'): 36.957,\n",
       " ('20', '11'): 30.726,\n",
       " ('20', '12'): 45.173,\n",
       " ('20', '13'): 41.217,\n",
       " ('20', '14'): 31.35,\n",
       " ('20', '15'): 23.554,\n",
       " ('20', '16'): 45.844,\n",
       " ('20', '17'): 50.467,\n",
       " ('20', '18'): 31.846,\n",
       " ('20', '19'): 21.872}"
      ]
     },
     "execution_count": 110,
     "metadata": {},
     "output_type": "execute_result"
    }
   ],
   "source": [
    "between_tier_angles_rr"
   ]
  },
  {
   "cell_type": "code",
   "execution_count": 111,
   "metadata": {},
   "outputs": [],
   "source": [
    "within_tier_angles_rr = {}\n",
    "within_tier_angles_tt = {}\n",
    "within_tier_angles_rt = {}\n",
    "within_tier_angles_rt_self = {}"
   ]
  },
  {
   "cell_type": "code",
   "execution_count": 112,
   "metadata": {},
   "outputs": [],
   "source": [
    "missing_unis_teaching = []"
   ]
  },
  {
   "cell_type": "code",
   "execution_count": 113,
   "metadata": {},
   "outputs": [],
   "source": [
    "missing_unis_research = []"
   ]
  },
  {
   "cell_type": "code",
   "execution_count": 114,
   "metadata": {},
   "outputs": [],
   "source": [
    "for tier in america_tiers:\n",
    "    \n",
    "    within_tier_angles_rr[tier] = 0\n",
    "    within_tier_angles_tt[tier] = 0\n",
    "    within_tier_angles_rt[tier] = 0\n",
    "    within_tier_angles_rt_self[tier] = 0\n",
    "\n",
    "    no_checks_rr = 0\n",
    "    no_checks_tt = 0\n",
    "    no_checks_rt = 0\n",
    "    no_checks_self = 0\n",
    "    \n",
    "    unis_per_tier_research[tier] = []\n",
    "    unis_per_tier_teaching[tier] = []\n",
    "    \n",
    "    for uni_1 in america_tiers[tier]:\n",
    "        \n",
    "        \n",
    "        teaching_vector_1, research_vector_1 = get_entity_vector(clean_uni_name(uni_1))\n",
    "        \n",
    "            \n",
    "        if teaching_vector_1 is not None and research_vector_1 is not None:\n",
    "            within_tier_angles_rt_self[tier] += angle_between(research_vector_1, teaching_vector_1)[0]\n",
    "            no_checks_self += 1\n",
    "            \n",
    "        if teaching_vector_1 is None and uni_1 not in missing_unis_teaching:\n",
    "            missing_unis_teaching.append(uni_1)\n",
    "            \n",
    "        if research_vector_1 is None and uni_1 not in missing_unis_research:\n",
    "            missing_unis_research.append(uni_1)\n",
    "            \n",
    "        for uni_2 in america_tiers[tier]:\n",
    "            \n",
    "            teaching_vector_2, research_vector_2 = get_entity_vector(clean_uni_name(uni_2))\n",
    "            \n",
    "            if research_vector_1 is not None and research_vector_2 is not None:\n",
    "                within_tier_angles_rr[tier] += angle_between(research_vector_1, research_vector_2)[0]\n",
    "                no_checks_rr += 1\n",
    "            \n",
    "            if teaching_vector_1 is not None and teaching_vector_2 is not None:\n",
    "                within_tier_angles_tt[tier] += angle_between(teaching_vector_1, teaching_vector_2)[0]\n",
    "                no_checks_tt += 1                \n",
    "            \n",
    "            if research_vector_1 is not None and research_vector_2 is not None and teaching_vector_1 is not None and teaching_vector_2 is not None:\n",
    "                within_tier_angles_rt[tier] += angle_between(research_vector_1, teaching_vector_2)[0] + angle_between(teaching_vector_1, research_vector_2)[0]\n",
    "                no_checks_rt += 2\n",
    "\n",
    "    within_tier_angles_rt_self[tier] = round(within_tier_angles_rt_self[tier] / no_checks_self, 3)\n",
    "    within_tier_angles_rr[tier] = round(within_tier_angles_rr[tier] / no_checks_rr, 3)\n",
    "    within_tier_angles_tt[tier] = round(within_tier_angles_tt[tier] / no_checks_tt, 3)\n",
    "    within_tier_angles_rt[tier] = round(within_tier_angles_rt[tier] / no_checks_rt, 3)"
   ]
  },
  {
   "cell_type": "code",
   "execution_count": 115,
   "metadata": {},
   "outputs": [],
   "source": [
    "between_tier_angles_rr = {}\n",
    "between_tier_angles_tt = {}"
   ]
  },
  {
   "cell_type": "code",
   "execution_count": 116,
   "metadata": {},
   "outputs": [],
   "source": [
    "for tier_1 in america_tiers:\n",
    "    for tier_2 in america_tiers:\n",
    "        if tier_1 == tier_2:\n",
    "            continue\n",
    "        between_tier_angles_rr[(tier_1, tier_2)] = 0\n",
    "        between_tier_angles_tt[(tier_1, tier_2)] = 0\n",
    "        no_checks_rr = 0\n",
    "        no_checks_tt = 0\n",
    "        for uni_1 in america_tiers[tier_1]:\n",
    "            \n",
    "            teaching_vector_1, research_vector_1 = get_entity_vector(clean_uni_name(uni_1))\n",
    "\n",
    "            for uni_2 in america_tiers[tier_2]:\n",
    "                \n",
    "                teaching_vector_2, research_vector_2 = get_entity_vector(clean_uni_name(uni_2))\n",
    "                \n",
    "                if research_vector_1 is not None and research_vector_2 is not None:\n",
    "                    between_tier_angles_rr[(tier_1, tier_2)] += angle_between(research_vector_1, research_vector_2)[0]\n",
    "                    no_checks_rr += 1\n",
    "\n",
    "                if teaching_vector_1 is not None and teaching_vector_2 is not None:\n",
    "                    between_tier_angles_tt[(tier_1, tier_2)] += angle_between(teaching_vector_1, teaching_vector_2)[0]\n",
    "                    no_checks_tt += 1\n",
    "            \n",
    "\n",
    "        between_tier_angles_rr[(tier_1, tier_2)] = round(between_tier_angles_rr[(tier_1, tier_2)] / no_checks_rr, 3)\n",
    "        between_tier_angles_tt[(tier_1, tier_2)] = round(between_tier_angles_tt[(tier_1, tier_2)] / no_checks_tt, 3)"
   ]
  },
  {
   "cell_type": "code",
   "execution_count": 117,
   "metadata": {},
   "outputs": [
    {
     "data": {
      "text/plain": [
       "{0: 48.177, 1: 49.828, 2: 28.211, 3: 41.27, 4: 31.495, 5: 38.469, 6: 38.193}"
      ]
     },
     "execution_count": 117,
     "metadata": {},
     "output_type": "execute_result"
    }
   ],
   "source": [
    "within_tier_angles_rr"
   ]
  },
  {
   "cell_type": "code",
   "execution_count": 118,
   "metadata": {},
   "outputs": [
    {
     "data": {
      "text/plain": [
       "{0: 37.213, 1: 40.356, 2: 31.049, 3: 34.263, 4: 35.206, 5: 37.582, 6: 41.767}"
      ]
     },
     "execution_count": 118,
     "metadata": {},
     "output_type": "execute_result"
    }
   ],
   "source": [
    "within_tier_angles_tt"
   ]
  },
  {
   "cell_type": "code",
   "execution_count": 119,
   "metadata": {},
   "outputs": [],
   "source": [
    "def avg_between_tiers(between_tiers):\n",
    "    tiers = {}\n",
    "    for tier in between_tiers:\n",
    "        tier_1, tier_2 = tier\n",
    "        if tier_1 not in tiers:\n",
    "            tiers[tier_1] = 0\n",
    "        if tier_1 in tiers:\n",
    "            tiers[tier_1] += between_tiers[tier]\n",
    "    \n",
    "    for tier in tiers:\n",
    "        tiers[tier] = round(tiers[tier] / len(tiers), 3)\n",
    "    \n",
    "    return tiers"
   ]
  },
  {
   "cell_type": "code",
   "execution_count": 120,
   "metadata": {},
   "outputs": [
    {
     "data": {
      "text/plain": [
       "{0: 39.532, 1: 40.041, 2: 31.734, 3: 36.403, 4: 32.934, 5: 35.252, 6: 36.185}"
      ]
     },
     "execution_count": 120,
     "metadata": {},
     "output_type": "execute_result"
    }
   ],
   "source": [
    "avg_between_tiers(between_tier_angles_rr)"
   ]
  },
  {
   "cell_type": "code",
   "execution_count": 121,
   "metadata": {},
   "outputs": [
    {
     "data": {
      "text/plain": [
       "{0: 35.859, 1: 35.09, 2: 31.852, 3: 32.562, 4: 33.209, 5: 34.103, 6: 35.339}"
      ]
     },
     "execution_count": 121,
     "metadata": {},
     "output_type": "execute_result"
    }
   ],
   "source": [
    "avg_between_tiers(between_tier_angles_tt)"
   ]
  },
  {
   "cell_type": "markdown",
   "metadata": {},
   "source": [
    "### geographical/spatial analysis\n",
    "\n",
    "Similar to tier analysis, how do universities relate within and outside the state?"
   ]
  },
  {
   "cell_type": "code",
   "execution_count": 122,
   "metadata": {},
   "outputs": [],
   "source": [
    "reader = csv.reader(open(\"../saved_data_structures/state_unis.csv\"))"
   ]
  },
  {
   "cell_type": "code",
   "execution_count": 123,
   "metadata": {},
   "outputs": [],
   "source": [
    "states = {}"
   ]
  },
  {
   "cell_type": "code",
   "execution_count": 124,
   "metadata": {},
   "outputs": [],
   "source": [
    "for k,v in reader:\n",
    "    states[k] = eval(v)"
   ]
  },
  {
   "cell_type": "code",
   "execution_count": 125,
   "metadata": {},
   "outputs": [],
   "source": [
    "within_state_angles_rr = {}\n",
    "between_state_angles_rr = {}\n",
    "\n",
    "within_state_angles_rt = {}\n",
    "within_state_angles_rt_self = {}\n",
    "\n",
    "within_state_angles_tt = {}\n",
    "between_state_angles_tt = {}"
   ]
  },
  {
   "cell_type": "code",
   "execution_count": 126,
   "metadata": {},
   "outputs": [],
   "source": [
    "missing_unis_research_states = []\n",
    "missing_unis_teaching_states = []"
   ]
  },
  {
   "cell_type": "code",
   "execution_count": 127,
   "metadata": {},
   "outputs": [],
   "source": [
    "for state in states:\n",
    "    \n",
    "    within_state_angles_rr[state] = 0\n",
    "    within_state_angles_tt[state] = 0\n",
    "    within_state_angles_rt[state] = 0\n",
    "    within_state_angles_rt_self[state] = 0\n",
    "\n",
    "    no_checks_rr = 0\n",
    "    no_checks_tt = 0\n",
    "    no_checks_rt = 0\n",
    "    no_checks_self = 0\n",
    "    \n",
    "    for uni_1 in states[state]:\n",
    "        \n",
    "        teaching_vector_1, research_vector_1 = get_entity_vector(uni_1)\n",
    "        \n",
    "        if teaching_vector_1 is not None and research_vector_1 is not None:\n",
    "            within_state_angles_rt_self[state] += angle_between(research_vector_1, teaching_vector_1)[0]\n",
    "            no_checks_self += 1\n",
    "            \n",
    "        if teaching_vector_1 is None and uni_1 not in missing_unis_teaching_states:\n",
    "            missing_unis_teaching_states.append(uni_1)\n",
    "            \n",
    "        if research_vector_1 is None and uni_1 not in missing_unis_research_states:\n",
    "            missing_unis_research_states.append(uni_1)\n",
    "            \n",
    "        for uni_2 in states[state]:\n",
    "            \n",
    "            teaching_vector_2, research_vector_2 = get_entity_vector(uni_2)\n",
    "            \n",
    "            if research_vector_1 is not None and research_vector_2 is not None:\n",
    "                within_state_angles_rr[state] += angle_between(research_vector_1, research_vector_2)[0]\n",
    "                no_checks_rr += 1\n",
    "            \n",
    "            if teaching_vector_1 is not None and teaching_vector_2 is not None:\n",
    "                within_state_angles_tt[state] += angle_between(teaching_vector_1, teaching_vector_2)[0]\n",
    "                no_checks_tt += 1                \n",
    "            \n",
    "            if research_vector_1 is not None and research_vector_2 is not None and teaching_vector_1 is not None and teaching_vector_2 is not None:\n",
    "                within_state_angles_rt[state] += angle_between(research_vector_1, teaching_vector_2)[0] + angle_between(teaching_vector_1, research_vector_2)[0]\n",
    "                no_checks_rt += 2\n",
    "    try:\n",
    "        within_state_angles_rt_self[state] = round(within_state_angles_rt_self[state] / no_checks_self, 3)\n",
    "        within_state_angles_rr[state] = round(within_state_angles_rr[state] / no_checks_rr, 3)\n",
    "        within_state_angles_tt[state] = round(within_state_angles_tt[state] / no_checks_tt, 3)\n",
    "        within_state_angles_rt[state] = round(within_state_angles_rt[state] / no_checks_rt, 3)\n",
    "    except ZeroDivisionError:\n",
    "        continue\n"
   ]
  },
  {
   "cell_type": "code",
   "execution_count": 128,
   "metadata": {},
   "outputs": [
    {
     "name": "stdout",
     "output_type": "stream",
     "text": [
      "TX 119\n",
      "MS 27\n",
      "MA 87\n",
      "CA 217\n",
      "GA 61\n",
      "NJ 43\n",
      "MI 67\n",
      "FL 69\n",
      "AL 44\n",
      "NM 15\n",
      "MO 53\n",
      "NC 84\n",
      "NY 152\n",
      "OH 75\n",
      "IL 102\n",
      "WA 49\n",
      "MD 41\n",
      "SC 44\n",
      "MT 10\n",
      "KY 31\n",
      "IA 39\n",
      "LA 28\n",
      "UT 13\n",
      "CO 34\n",
      "HI 11\n",
      "OK 34\n",
      "WY 7\n",
      "PA 111\n",
      "IN 40\n",
      "AZ 23\n",
      "VA 63\n",
      "VT 15\n",
      "WI 53\n",
      "ID 11\n",
      "AR 31\n",
      "DC 8\n",
      "TN 51\n",
      "OR 35\n",
      "NV 9\n",
      "MN 57\n",
      "NH 15\n",
      "KS 44\n",
      "RI 10\n",
      "ME 18\n",
      "WV 19\n",
      "AK 5\n",
      "SD 10\n",
      "NE 23\n",
      "ND 11\n",
      "CT 31\n",
      "DE 5\n",
      " 1\n"
     ]
    }
   ],
   "source": [
    "state_lens = {}\n",
    "for state in states:\n",
    "    state_lens[state] = len(states[state])\n",
    "    print(state, len(states[state]))"
   ]
  },
  {
   "cell_type": "code",
   "execution_count": 129,
   "metadata": {},
   "outputs": [],
   "source": [
    "import seaborn as sns"
   ]
  },
  {
   "cell_type": "code",
   "execution_count": 130,
   "metadata": {},
   "outputs": [
    {
     "data": {
      "image/png": "[encoded data removed]",
      "text/plain": [
       "<Figure size 432x288 with 1 Axes>"
      ]
     },
     "metadata": {
      "needs_background": "light"
     },
     "output_type": "display_data"
    }
   ],
   "source": [
    "ax = sns.distplot(list(state_lens.values()))\n",
    "ax.set(xlabel=\"No. of Unis\", ylabel=\"Proportion of Counts\", title=\"No. of Unis in States\")\n",
    "plt.show()"
   ]
  },
  {
   "cell_type": "code",
   "execution_count": 131,
   "metadata": {},
   "outputs": [
    {
     "data": {
      "text/plain": [
       "{'TX': 57.822,\n",
       " 'MS': 57.314,\n",
       " 'MA': 50.032,\n",
       " 'CA': 57.275,\n",
       " 'GA': 47.803,\n",
       " 'NJ': 52.583,\n",
       " 'MI': 53.005,\n",
       " 'FL': 57.35,\n",
       " 'AL': 45.528,\n",
       " 'NM': 59.708,\n",
       " 'MO': 57.876,\n",
       " 'NC': 58.056,\n",
       " 'NY': 52.419,\n",
       " 'OH': 45.643,\n",
       " 'IL': 55.694,\n",
       " 'WA': 55.097,\n",
       " 'MD': 56.383,\n",
       " 'SC': 51.219,\n",
       " 'MT': 39.943,\n",
       " 'KY': 47.412,\n",
       " 'IA': 50.269,\n",
       " 'LA': 53.702,\n",
       " 'UT': 46.599,\n",
       " 'CO': 55.865,\n",
       " 'HI': 49.987,\n",
       " 'OK': 53.652,\n",
       " 'WY': 38.64,\n",
       " 'PA': 46.94,\n",
       " 'IN': 41.875,\n",
       " 'AZ': 58.265,\n",
       " 'VA': 43.102,\n",
       " 'VT': 40.688,\n",
       " 'WI': 46.316,\n",
       " 'ID': 47.59,\n",
       " 'AR': 47.157,\n",
       " 'DC': 35.947,\n",
       " 'TN': 54.97,\n",
       " 'OR': 46.508,\n",
       " 'NV': 50.293,\n",
       " 'MN': 47.194,\n",
       " 'NH': 46.34,\n",
       " 'KS': 44.466,\n",
       " 'RI': 40.86,\n",
       " 'ME': 36.816,\n",
       " 'WV': 45.914,\n",
       " 'AK': 15.618,\n",
       " 'SD': 55.44,\n",
       " 'NE': 45.986,\n",
       " 'ND': 52.094,\n",
       " 'CT': 42.125,\n",
       " 'DE': 27.747,\n",
       " '': 0}"
      ]
     },
     "execution_count": 131,
     "metadata": {},
     "output_type": "execute_result"
    }
   ],
   "source": [
    "within_state_angles_rr"
   ]
  },
  {
   "cell_type": "code",
   "execution_count": 201,
   "metadata": {},
   "outputs": [],
   "source": [
    "sorted_states_rr = sorted(within_state_angles_rr.items(), key=operator.itemgetter(1))\n"
   ]
  },
  {
   "cell_type": "code",
   "execution_count": 202,
   "metadata": {},
   "outputs": [
    {
     "data": {
      "text/plain": [
       "[('', 0),\n",
       " ('AK', 15.618),\n",
       " ('DE', 27.747),\n",
       " ('DC', 35.947),\n",
       " ('ME', 36.816),\n",
       " ('WY', 38.64),\n",
       " ('MT', 39.943),\n",
       " ('VT', 40.688),\n",
       " ('RI', 40.86),\n",
       " ('IN', 41.875),\n",
       " ('CT', 42.125),\n",
       " ('VA', 43.102),\n",
       " ('KS', 44.466),\n",
       " ('AL', 45.528),\n",
       " ('OH', 45.643),\n",
       " ('WV', 45.914),\n",
       " ('NE', 45.986),\n",
       " ('WI', 46.316),\n",
       " ('NH', 46.34),\n",
       " ('OR', 46.508),\n",
       " ('UT', 46.599),\n",
       " ('PA', 46.94),\n",
       " ('AR', 47.157),\n",
       " ('MN', 47.194),\n",
       " ('KY', 47.412),\n",
       " ('ID', 47.59),\n",
       " ('GA', 47.803),\n",
       " ('HI', 49.987),\n",
       " ('MA', 50.032),\n",
       " ('IA', 50.269),\n",
       " ('NV', 50.293),\n",
       " ('SC', 51.219),\n",
       " ('ND', 52.094),\n",
       " ('NY', 52.419),\n",
       " ('NJ', 52.583),\n",
       " ('MI', 53.005),\n",
       " ('OK', 53.652),\n",
       " ('LA', 53.702),\n",
       " ('TN', 54.97),\n",
       " ('WA', 55.097),\n",
       " ('SD', 55.44),\n",
       " ('IL', 55.694),\n",
       " ('CO', 55.865),\n",
       " ('MD', 56.383),\n",
       " ('CA', 57.275),\n",
       " ('MS', 57.314),\n",
       " ('FL', 57.35),\n",
       " ('TX', 57.822),\n",
       " ('MO', 57.876),\n",
       " ('NC', 58.056),\n",
       " ('AZ', 58.265),\n",
       " ('NM', 59.708)]"
      ]
     },
     "execution_count": 202,
     "metadata": {},
     "output_type": "execute_result"
    }
   ],
   "source": [
    "sorted_states_rr"
   ]
  },
  {
   "cell_type": "code",
   "execution_count": 134,
   "metadata": {},
   "outputs": [
    {
     "data": {
      "text/plain": [
       "array([[1.        , 0.39702842],\n",
       "       [0.39702842, 1.        ]])"
      ]
     },
     "execution_count": 134,
     "metadata": {},
     "output_type": "execute_result"
    }
   ],
   "source": [
    "np.corrcoef(np.array(list(within_state_angles_rr.values())), np.array(list(state_lens.values())))"
   ]
  },
  {
   "cell_type": "code",
   "execution_count": 135,
   "metadata": {},
   "outputs": [
    {
     "data": {
      "text/plain": [
       "array([[1.        , 0.36875681],\n",
       "       [0.36875681, 1.        ]])"
      ]
     },
     "execution_count": 135,
     "metadata": {},
     "output_type": "execute_result"
    }
   ],
   "source": [
    "np.corrcoef(np.array(list(within_state_angles_tt.values())), np.array(list(state_lens.values())))"
   ]
  },
  {
   "cell_type": "code",
   "execution_count": 136,
   "metadata": {},
   "outputs": [
    {
     "data": {
      "text/plain": [
       "{'TX': 45.577,\n",
       " 'MS': 42.291,\n",
       " 'MA': 56.062,\n",
       " 'CA': 51.265,\n",
       " 'GA': 52.553,\n",
       " 'NJ': 47.559,\n",
       " 'MI': 50.146,\n",
       " 'FL': 47.205,\n",
       " 'AL': 55.136,\n",
       " 'NM': 45.542,\n",
       " 'MO': 53.5,\n",
       " 'NC': 56.162,\n",
       " 'NY': 57.469,\n",
       " 'OH': 51.885,\n",
       " 'IL': 54.511,\n",
       " 'WA': 51.228,\n",
       " 'MD': 50.398,\n",
       " 'SC': 53.125,\n",
       " 'MT': 50.209,\n",
       " 'KY': 56.06,\n",
       " 'IA': 58.719,\n",
       " 'LA': 52.479,\n",
       " 'UT': 38.209,\n",
       " 'CO': 50.33,\n",
       " 'HI': 45.757,\n",
       " 'OK': 50.864,\n",
       " 'WY': 28.426,\n",
       " 'PA': 56.196,\n",
       " 'IN': 51.809,\n",
       " 'AZ': 50.647,\n",
       " 'VA': 52.236,\n",
       " 'VT': 54.095,\n",
       " 'WI': 53.242,\n",
       " 'ID': 41.245,\n",
       " 'AR': 54.57,\n",
       " 'DC': 37.958,\n",
       " 'TN': 51.682,\n",
       " 'OR': 54.834,\n",
       " 'NV': 24.318,\n",
       " 'MN': 55.212,\n",
       " 'NH': 50.923,\n",
       " 'KS': 53.121,\n",
       " 'RI': 47.355,\n",
       " 'ME': 54.43,\n",
       " 'WV': 49.651,\n",
       " 'AK': 47.354,\n",
       " 'SD': 41.061,\n",
       " 'NE': 59.137,\n",
       " 'ND': 51.32,\n",
       " 'CT': 51.775,\n",
       " 'DE': 41.15,\n",
       " '': 0}"
      ]
     },
     "execution_count": 136,
     "metadata": {},
     "output_type": "execute_result"
    }
   ],
   "source": [
    "within_state_angles_tt"
   ]
  },
  {
   "cell_type": "code",
   "execution_count": 137,
   "metadata": {},
   "outputs": [],
   "source": [
    "for state_1 in states:\n",
    "    for state_2 in states:\n",
    "        if state_1 == state_2:\n",
    "            continue\n",
    "        between_state_angles_rr[(state_1, state_2)] = 0\n",
    "        between_state_angles_tt[(state_1, state_2)] = 0\n",
    "        no_checks_rr = 0\n",
    "        no_checks_tt = 0\n",
    "        for uni_1 in states[state_1]:\n",
    "            \n",
    "            teaching_vector_1, research_vector_1 = get_entity_vector(uni_1)\n",
    "\n",
    "            for uni_2 in states[state_2]:\n",
    "                \n",
    "                teaching_vector_2, research_vector_2 = get_entity_vector(uni_2)\n",
    "                \n",
    "                if research_vector_1 is not None and research_vector_2 is not None:\n",
    "                    between_state_angles_rr[(state_1, state_2)] += angle_between(research_vector_1, research_vector_2)[0]\n",
    "                    no_checks_rr += 1\n",
    "\n",
    "                if teaching_vector_1 is not None and teaching_vector_2 is not None:\n",
    "                    between_state_angles_tt[(state_1, state_2)] += angle_between(teaching_vector_1, teaching_vector_2)[0]\n",
    "                    no_checks_tt += 1                \n",
    "        try:\n",
    "            between_state_angles_rr[(state_1, state_2)] = round(between_state_angles_rr[(state_1, state_2)] / no_checks_rr, 3)\n",
    "            between_state_angles_tt[(state_1, state_2)] = round(between_state_angles_tt[(state_1, state_2)] / no_checks_tt, 3)\n",
    "        except ZeroDivisionError:\n",
    "            continue"
   ]
  },
  {
   "cell_type": "code",
   "execution_count": 138,
   "metadata": {},
   "outputs": [],
   "source": [
    "avg_angle_between_rr = 0\n",
    "avg_angle_between_tt = 0"
   ]
  },
  {
   "cell_type": "code",
   "execution_count": 139,
   "metadata": {},
   "outputs": [
    {
     "data": {
      "text/plain": [
       "{'TX': 53.322,\n",
       " 'MS': 54.544,\n",
       " 'MA': 49.678,\n",
       " 'CA': 52.955,\n",
       " 'GA': 48.803,\n",
       " 'NJ': 51.404,\n",
       " 'MI': 51.185,\n",
       " 'FL': 53.331,\n",
       " 'AL': 48.045,\n",
       " 'NM': 58.452,\n",
       " 'MO': 53.982,\n",
       " 'NC': 53.704,\n",
       " 'NY': 50.529,\n",
       " 'OH': 47.585,\n",
       " 'IL': 52.291,\n",
       " 'WA': 52.291,\n",
       " 'MD': 53.246,\n",
       " 'SC': 50.577,\n",
       " 'MT': 47.962,\n",
       " 'KY': 48.687,\n",
       " 'IA': 50.291,\n",
       " 'LA': 52.024,\n",
       " 'UT': 49.087,\n",
       " 'CO': 52.854,\n",
       " 'HI': 51.371,\n",
       " 'OK': 52.146,\n",
       " 'WY': 51.984,\n",
       " 'PA': 48.1,\n",
       " 'IN': 46.347,\n",
       " 'AZ': 55.849,\n",
       " 'VA': 46.687,\n",
       " 'VT': 46.928,\n",
       " 'WI': 48.203,\n",
       " 'ID': 50.991,\n",
       " 'AR': 49.341,\n",
       " 'DC': 44.936,\n",
       " 'TN': 52.457,\n",
       " 'OR': 48.58,\n",
       " 'NV': 55.24,\n",
       " 'MN': 48.692,\n",
       " 'NH': 49.214,\n",
       " 'KS': 48.016,\n",
       " 'RI': 46.928,\n",
       " 'ME': 45.735,\n",
       " 'WV': 48.868,\n",
       " 'AK': 41.465,\n",
       " 'SD': 54.277,\n",
       " 'NE': 49.163,\n",
       " 'ND': 55.027,\n",
       " 'CT': 47.222,\n",
       " 'DE': 45.71,\n",
       " '': 0.0}"
      ]
     },
     "execution_count": 139,
     "metadata": {},
     "output_type": "execute_result"
    }
   ],
   "source": [
    "avg_between_tiers(between_state_angles_rr)"
   ]
  },
  {
   "cell_type": "code",
   "execution_count": 140,
   "metadata": {},
   "outputs": [],
   "source": [
    "for pairs in between_state_angles_rr:\n",
    "    avg_angle_between_rr += between_state_angles_rr[pairs]\n",
    "    avg_angle_between_tt += between_state_angles_tt[pairs]"
   ]
  },
  {
   "cell_type": "code",
   "execution_count": 141,
   "metadata": {},
   "outputs": [],
   "source": [
    "avg_angle_between_rr /= len(between_state_angles_rr)\n",
    "avg_angle_between_tt /= len(between_state_angles_tt)"
   ]
  },
  {
   "cell_type": "code",
   "execution_count": 142,
   "metadata": {},
   "outputs": [],
   "source": [
    "avg_angle_within_rr = 0\n",
    "avg_angle_within_tt = 0"
   ]
  },
  {
   "cell_type": "code",
   "execution_count": 143,
   "metadata": {},
   "outputs": [],
   "source": [
    "for state in within_state_angles_rr:\n",
    "    avg_angle_within_rr += within_state_angles_rr[state]\n",
    "    avg_angle_within_tt += within_state_angles_tt[state]"
   ]
  },
  {
   "cell_type": "code",
   "execution_count": 144,
   "metadata": {},
   "outputs": [],
   "source": [
    "avg_angle_within_rr /= len(within_state_angles_rr) - 1\n",
    "avg_angle_within_tt /= len(within_state_angles_tt) - 1"
   ]
  },
  {
   "cell_type": "code",
   "execution_count": 145,
   "metadata": {},
   "outputs": [
    {
     "data": {
      "text/plain": [
       "(50.31979034690799, 51.23743061840113, 48.37503921568627, 49.7644705882353)"
      ]
     },
     "execution_count": 145,
     "metadata": {},
     "output_type": "execute_result"
    }
   ],
   "source": [
    "avg_angle_between_rr, avg_angle_between_tt, avg_angle_within_rr, avg_angle_within_tt"
   ]
  },
  {
   "cell_type": "markdown",
   "metadata": {},
   "source": [
    "### Spatial Unit City Analysis"
   ]
  },
  {
   "cell_type": "code",
   "execution_count": 146,
   "metadata": {},
   "outputs": [],
   "source": [
    "reader = csv.reader(open(\"../saved_data_structures/city_unis.csv\"))"
   ]
  },
  {
   "cell_type": "code",
   "execution_count": 147,
   "metadata": {},
   "outputs": [],
   "source": [
    "cities = {}"
   ]
  },
  {
   "cell_type": "code",
   "execution_count": 148,
   "metadata": {},
   "outputs": [],
   "source": [
    "for k,v in reader:\n",
    "    cities[k] = eval(v)"
   ]
  },
  {
   "cell_type": "code",
   "execution_count": 149,
   "metadata": {},
   "outputs": [],
   "source": [
    "within_city_angles_rr = {}\n",
    "between_city_angles_rr = {}\n",
    "\n",
    "within_city_angles_rt = {}\n",
    "within_city_angles_rt_self = {}\n",
    "\n",
    "within_city_angles_tt = {}\n",
    "between_city_angles_tt = {}"
   ]
  },
  {
   "cell_type": "code",
   "execution_count": 150,
   "metadata": {},
   "outputs": [],
   "source": [
    "missing_unis_research_cities = []\n",
    "missing_unis_teaching_cities = []"
   ]
  },
  {
   "cell_type": "code",
   "execution_count": 151,
   "metadata": {},
   "outputs": [],
   "source": [
    "for city in cities:\n",
    "    \n",
    "        \n",
    "    if len(cities[city]) < 2:\n",
    "        continue\n",
    "    \n",
    "    within_city_angles_rr[city] = 0\n",
    "    within_city_angles_tt[city] = 0\n",
    "    within_city_angles_rt[city] = 0\n",
    "    within_city_angles_rt_self[city] = 0\n",
    "\n",
    "    no_checks_rr = 0\n",
    "    no_checks_tt = 0\n",
    "    no_checks_rt = 0\n",
    "    no_checks_self = 0\n",
    "\n",
    "    \n",
    "    for uni_1 in cities[city]:\n",
    "        \n",
    "        teaching_vector_1, research_vector_1 = get_entity_vector(uni_1)\n",
    "        \n",
    "        if teaching_vector_1 is not None and research_vector_1 is not None:\n",
    "            within_city_angles_rt_self[city] += angle_between(research_vector_1, teaching_vector_1)[0]\n",
    "            no_checks_self += 1\n",
    "            \n",
    "        if teaching_vector_1 is None and uni_1 not in missing_unis_teaching_states:\n",
    "            missing_unis_teaching_cities.append(uni_1)\n",
    "            \n",
    "        if research_vector_1 is None and uni_1 not in missing_unis_research_states:\n",
    "            missing_unis_research_citites.append(uni_1)\n",
    "            \n",
    "        for uni_2 in cities[city]:\n",
    "            \n",
    "            if uni_1 == uni_2:\n",
    "                continue\n",
    "            \n",
    "            teaching_vector_2, research_vector_2 = get_entity_vector(uni_2)\n",
    "            \n",
    "            if research_vector_1 is not None and research_vector_2 is not None:\n",
    "                within_city_angles_rr[city] += angle_between(research_vector_1, research_vector_2)[0]\n",
    "                no_checks_rr += 1\n",
    "            \n",
    "            if teaching_vector_1 is not None and teaching_vector_2 is not None:\n",
    "                within_city_angles_tt[city] += angle_between(teaching_vector_1, teaching_vector_2)[0]\n",
    "                no_checks_tt += 1                \n",
    "            \n",
    "            if research_vector_1 is not None and research_vector_2 is not None and teaching_vector_1 is not None and teaching_vector_2 is not None:\n",
    "                within_city_angles_rt[city] += angle_between(research_vector_1, teaching_vector_2)[0] + angle_between(teaching_vector_1, research_vector_2)[0]\n",
    "                no_checks_rt += 2\n",
    "    try:\n",
    "        within_city_angles_rt_self[city] = round(within_city_angles_rt_self[city] / no_checks_self, 3)\n",
    "    except ZeroDivisionError:\n",
    "        pass\n",
    "    try:\n",
    "        within_city_angles_rr[city] = round(within_city_angles_rr[city] / no_checks_rr, 3)\n",
    "    except ZeroDivisionError:\n",
    "        pass\n",
    "    try:\n",
    "        within_city_angles_tt[city] = round(within_city_angles_tt[city] / no_checks_tt, 3)\n",
    "    except ZeroDivisionError:\n",
    "        pass\n",
    "    try:\n",
    "        within_city_angles_rt[city] = round(within_city_angles_rt[city] / no_checks_rt, 3)\n",
    "    except ZeroDivisionError:\n",
    "        pass"
   ]
  },
  {
   "cell_type": "code",
   "execution_count": 152,
   "metadata": {},
   "outputs": [
    {
     "data": {
      "text/plain": [
       "51.5"
      ]
     },
     "execution_count": 152,
     "metadata": {},
     "output_type": "execute_result"
    }
   ],
   "source": [
    "within_city_angles_rr['Chicago']"
   ]
  },
  {
   "cell_type": "code",
   "execution_count": 153,
   "metadata": {},
   "outputs": [
    {
     "data": {
      "text/plain": [
       "59.379"
      ]
     },
     "execution_count": 153,
     "metadata": {},
     "output_type": "execute_result"
    }
   ],
   "source": [
    "within_city_angles_rr['Houston']"
   ]
  },
  {
   "cell_type": "code",
   "execution_count": 154,
   "metadata": {},
   "outputs": [],
   "source": [
    "between_city_angles_rr = {}\n",
    "between_city_angles_tt = {}"
   ]
  },
  {
   "cell_type": "code",
   "execution_count": 155,
   "metadata": {},
   "outputs": [],
   "source": [
    "for city_1 in cities:\n",
    "    for city_2 in cities:\n",
    "        if city_1 == city_2:\n",
    "            continue\n",
    "        between_city_angles_rr[(city_1, city_2)] = 0\n",
    "        between_city_angles_tt[(city_1, city_2)] = 0\n",
    "        no_checks_rr = 0\n",
    "        no_checks_tt = 0\n",
    "        for uni_1 in cities[city_1]:\n",
    "            \n",
    "            teaching_vector_1, research_vector_1 = get_entity_vector(uni_1)\n",
    "\n",
    "            for uni_2 in cities[city_2]:\n",
    "                \n",
    "                teaching_vector_2, research_vector_2 = get_entity_vector(uni_2)\n",
    "                \n",
    "                if research_vector_1 is not None and research_vector_2 is not None:\n",
    "                    between_city_angles_rr[(city_1, city_2)] += angle_between(research_vector_1, research_vector_2)[0]\n",
    "                    no_checks_rr += 1\n",
    "\n",
    "                if teaching_vector_1 is not None and teaching_vector_2 is not None:\n",
    "                    between_city_angles_tt[(city_1, city_2)] += angle_between(teaching_vector_1, teaching_vector_2)[0]\n",
    "                    no_checks_tt += 1                \n",
    "        try:\n",
    "            between_city_angles_rr[(city_1, city_2)] = round(between_city_angles_rr[(city_1, city_2)] / no_checks_rr, 3)\n",
    "            between_city_angles_tt[(city_1, city_2)] = round(between_city_angles_tt[(city_1, city_2)] / no_checks_tt, 3)\n",
    "        except ZeroDivisionError:\n",
    "            continue"
   ]
  },
  {
   "cell_type": "code",
   "execution_count": 156,
   "metadata": {},
   "outputs": [],
   "source": [
    "import seaborn as sns"
   ]
  },
  {
   "cell_type": "code",
   "execution_count": 157,
   "metadata": {},
   "outputs": [
    {
     "data": {
      "text/plain": [
       "51.5"
      ]
     },
     "execution_count": 157,
     "metadata": {},
     "output_type": "execute_result"
    }
   ],
   "source": [
    "within_city_angles_rr['Chicago']"
   ]
  },
  {
   "cell_type": "code",
   "execution_count": 158,
   "metadata": {},
   "outputs": [],
   "source": [
    "avg_angle_between_rr = 0\n",
    "avg_angle_between_tt = 0"
   ]
  },
  {
   "cell_type": "code",
   "execution_count": 159,
   "metadata": {},
   "outputs": [],
   "source": [
    "for pairs in between_city_angles_rr:\n",
    "    avg_angle_between_rr += between_city_angles_rr[pairs]\n",
    "    avg_angle_between_tt += between_city_angles_tt[pairs]"
   ]
  },
  {
   "cell_type": "code",
   "execution_count": 160,
   "metadata": {},
   "outputs": [],
   "source": [
    "avg_angle_between_rr /= len(between_city_angles_rr)\n",
    "avg_angle_between_tt /= len(between_city_angles_tt)"
   ]
  },
  {
   "cell_type": "code",
   "execution_count": 161,
   "metadata": {},
   "outputs": [],
   "source": [
    "avg_angle_within_rr = 0\n",
    "avg_angle_within_tt = 0"
   ]
  },
  {
   "cell_type": "code",
   "execution_count": 162,
   "metadata": {},
   "outputs": [],
   "source": [
    "for city in within_city_angles_rr:\n",
    "    avg_angle_within_rr += within_city_angles_rr[city]\n",
    "    avg_angle_within_tt += within_city_angles_tt[city]"
   ]
  },
  {
   "cell_type": "code",
   "execution_count": 163,
   "metadata": {},
   "outputs": [],
   "source": [
    "avg_angle_within_rr /= len(within_city_angles_rr) - 1\n",
    "avg_angle_within_tt /= len(within_city_angles_tt) - 1"
   ]
  },
  {
   "cell_type": "code",
   "execution_count": 164,
   "metadata": {},
   "outputs": [
    {
     "data": {
      "text/plain": [
       "(33.85338227309856, 67.05668553038848, 38.744530612244894, 52.10139650145772)"
      ]
     },
     "execution_count": 164,
     "metadata": {},
     "output_type": "execute_result"
    }
   ],
   "source": [
    "avg_angle_between_rr, avg_angle_between_tt, avg_angle_within_rr, avg_angle_within_tt"
   ]
  },
  {
   "cell_type": "code",
   "execution_count": 165,
   "metadata": {},
   "outputs": [],
   "source": [
    "def analyse_cities(cities, rev=True):\n",
    "    angles = list(cities.values())\n",
    "    angles = list(filter((0).__ne__, angles))\n",
    "    ax = sns.distplot(angles)\n",
    "    ax.set(xlabel=\"Angles\", ylabel=\"Proportion of Counts\", title=\"Distribution of Angles\")\n",
    "    plt.show()\n",
    "    sorted_vals = sorted(cities.items(), key=operator.itemgetter(1))\n",
    "    if rev:\n",
    "        sorted_vals.reverse()\n",
    "        return sorted_vals\n",
    "    else:\n",
    "        return sorted_vals"
   ]
  },
  {
   "cell_type": "code",
   "execution_count": 166,
   "metadata": {},
   "outputs": [
    {
     "data": {
      "image/png": "[encoded data removed]",
      "text/plain": [
       "<Figure size 432x288 with 1 Axes>"
      ]
     },
     "metadata": {
      "needs_background": "light"
     },
     "output_type": "display_data"
    }
   ],
   "source": [
    "sorted_rr_cities = analyse_cities(within_city_angles_rr)"
   ]
  },
  {
   "cell_type": "code",
   "execution_count": 167,
   "metadata": {},
   "outputs": [
    {
     "data": {
      "image/png": "[encoded data removed]",
      "text/plain": [
       "<Figure size 432x288 with 1 Axes>"
      ]
     },
     "metadata": {
      "needs_background": "light"
     },
     "output_type": "display_data"
    }
   ],
   "source": [
    "sorted_tt_cities = analyse_cities(within_city_angles_tt)"
   ]
  },
  {
   "cell_type": "code",
   "execution_count": 168,
   "metadata": {},
   "outputs": [
    {
     "data": {
      "text/plain": [
       "[('Dayton', 106.913),\n",
       " ('Orlando', 89.392),\n",
       " ('Long Island City', 84.193),\n",
       " ('Franklin', 83.544),\n",
       " ('El Paso', 83.455),\n",
       " ('Sumter', 83.306),\n",
       " ('Greensburg', 82.832),\n",
       " ('Little Rock', 81.266),\n",
       " ('Blacksburg', 80.922),\n",
       " ('Weatherford', 80.477),\n",
       " ('Ann Arbor', 78.05),\n",
       " ('Chattanooga', 77.892),\n",
       " ('Pensacola', 77.498),\n",
       " ('Ventura', 77.436),\n",
       " ('Aberdeen', 77.023),\n",
       " ('Lewiston', 76.84),\n",
       " ('Wilkes-Barre', 76.071),\n",
       " ('West Hartford', 75.621),\n",
       " ('Lincoln', 75.29),\n",
       " ('San Luis Obispo', 75.263),\n",
       " ('Asheville', 74.415),\n",
       " ('Fremont', 74.225),\n",
       " ('Lancaster', 74.091),\n",
       " ('Westminster', 73.57),\n",
       " ('Joliet', 73.315),\n",
       " ('Fort Lauderdale', 73.261),\n",
       " ('Adrian', 73.076),\n",
       " ('Moorhead', 72.656),\n",
       " ('Pasadena', 72.59),\n",
       " ('Rocklin', 71.573),\n",
       " ('Baton Rouge', 71.476),\n",
       " ('Long Beach', 71.005),\n",
       " ('Nampa', 70.786),\n",
       " ('Grand Rapids', 70.482),\n",
       " ('Flint', 70.424),\n",
       " ('Dallas', 70.216),\n",
       " ('Bakersfield', 69.56),\n",
       " ('Green Bay', 68.554),\n",
       " ('Lakewood', 68.294),\n",
       " ('Winter Park', 68.276),\n",
       " ('Odessa', 67.796),\n",
       " ('North Canton', 67.742),\n",
       " ('Smithfield', 67.524),\n",
       " ('Phoenix', 66.85),\n",
       " ('Nashua', 66.602),\n",
       " ('Hartford', 66.585),\n",
       " ('Buffalo', 66.119),\n",
       " ('Sioux City', 66.035),\n",
       " ('Walla Walla', 66.029),\n",
       " ('Flushing', 65.948),\n",
       " ('Greeley', 65.803),\n",
       " ('Raleigh', 65.742),\n",
       " ('Hattiesburg', 65.104),\n",
       " ('Austin', 65.103),\n",
       " ('Farmington', 64.865),\n",
       " ('Pomona', 64.752),\n",
       " ('Plymouth', 64.659),\n",
       " ('Sacramento', 64.419),\n",
       " ('Bryn Mawr', 64.109),\n",
       " ('Brooklyn', 63.894),\n",
       " ('Bellingham', 63.72),\n",
       " ('Lafayette', 63.664),\n",
       " ('Quincy', 63.281),\n",
       " ('Elgin', 63.14),\n",
       " ('Lakeland', 62.657),\n",
       " ('Saint Louis', 62.34),\n",
       " ('Tucson', 62.069),\n",
       " ('Decatur', 61.87),\n",
       " ('Orange', 61.823),\n",
       " ('Columbia', 61.652),\n",
       " ('Las Vegas', 61.35),\n",
       " ('Oakland', 61.296),\n",
       " ('Kansas City', 61.182),\n",
       " ('Santa Barbara', 61.12),\n",
       " ('Bronx', 61.04),\n",
       " ('Salt Lake City', 61.007),\n",
       " ('Aurora', 60.822),\n",
       " ('San Antonio', 60.644),\n",
       " ('Rocky Mount', 60.421),\n",
       " ('San Jose', 60.318),\n",
       " ('Livonia', 60.055),\n",
       " ('Tyler', 60.033),\n",
       " ('Fullerton', 59.937),\n",
       " ('Staten Island', 59.534),\n",
       " ('Houston', 59.379),\n",
       " ('Jacksonville', 59.359),\n",
       " ('Corpus Christi', 58.793),\n",
       " ('San Marcos', 58.745),\n",
       " ('La Crosse', 58.724),\n",
       " ('Olympia', 58.629),\n",
       " ('Greensboro', 58.26),\n",
       " ('Plattsburgh', 58.052),\n",
       " ('Tallahassee', 58.004),\n",
       " ('Poughkeepsie', 57.651),\n",
       " ('Springfield', 57.598),\n",
       " ('La Jolla', 57.441),\n",
       " ('Monterey', 56.948),\n",
       " ('Prescott', 56.774),\n",
       " ('Cincinnati', 56.736),\n",
       " ('Los Angeles', 56.439),\n",
       " ('Vallejo', 56.33),\n",
       " ('San Francisco', 56.211),\n",
       " ('Madison', 56.187),\n",
       " ('Denver', 56.017),\n",
       " ('New Orleans', 55.612),\n",
       " ('Florence', 55.604),\n",
       " ('Spartanburg', 55.542),\n",
       " ('El Dorado', 55.483),\n",
       " ('Fayetteville', 55.439),\n",
       " ('Boston', 55.282),\n",
       " ('Jersey City', 55.143),\n",
       " ('Macon', 55.065),\n",
       " ('Marshall', 54.896),\n",
       " ('Monroe', 54.774),\n",
       " ('Memphis', 54.558),\n",
       " ('Lubbock', 53.807),\n",
       " ('Chestnut Hill', 53.759),\n",
       " ('Hayward', 53.469),\n",
       " ('Athens', 53.446),\n",
       " ('Cambridge', 53.386),\n",
       " ('Wilmington', 53.216),\n",
       " ('Bridgeport', 52.782),\n",
       " ('Albany', 52.484),\n",
       " ('Gainesville', 52.393),\n",
       " ('Baltimore', 52.245),\n",
       " ('Riverside', 52.198),\n",
       " ('Salem', 51.957),\n",
       " ('Billings', 51.935),\n",
       " ('Danville', 51.827),\n",
       " ('Rockford', 51.556),\n",
       " ('Fairfax', 51.534),\n",
       " ('Chicago', 51.5),\n",
       " ('Bellevue', 51.259),\n",
       " ('Troy', 51.239),\n",
       " ('Daytona Beach', 51.234),\n",
       " ('Pleasant Hill', 51.219),\n",
       " ('Tuscaloosa', 51.212),\n",
       " ('Bloomington', 50.933),\n",
       " ('Savannah', 50.885),\n",
       " ('Honolulu', 50.872),\n",
       " ('Reno', 50.831),\n",
       " ('Bristol', 50.685),\n",
       " ('Cleveland', 50.678),\n",
       " ('Tampa', 50.372),\n",
       " ('Jackson', 50.249),\n",
       " ('Cedar Rapids', 49.433),\n",
       " ('Montgomery', 49.078),\n",
       " ('Marietta', 49.041),\n",
       " ('Philadelphia', 48.691),\n",
       " ('Canton', 48.61),\n",
       " ('Fort Myers', 48.399),\n",
       " ('Omaha', 48.377),\n",
       " ('Oklahoma City', 48.299),\n",
       " ('Birmingham', 48.276),\n",
       " ('Sioux Falls', 48.174),\n",
       " ('Irvine', 48.018),\n",
       " ('New York', 47.902),\n",
       " ('Indianapolis', 47.79),\n",
       " ('Fresno', 47.543),\n",
       " ('Knoxville', 47.289),\n",
       " ('Durham', 47.102),\n",
       " ('Colorado Springs', 47.086),\n",
       " ('Sarasota', 46.821),\n",
       " ('Arkadelphia', 46.728),\n",
       " ('Charleston', 46.579),\n",
       " ('Newark', 46.515),\n",
       " ('University Center', 46.396),\n",
       " ('Manchester', 46.128),\n",
       " ('Edmond', 46.127),\n",
       " ('Washington', 46.112),\n",
       " ('Normal', 46.087),\n",
       " ('Kalamazoo', 45.943),\n",
       " ('Richmond', 45.75),\n",
       " ('Eugene', 45.699),\n",
       " ('Des Moines', 45.615),\n",
       " ('Mount Vernon', 45.427),\n",
       " ('River Forest', 44.093),\n",
       " ('Milwaukee', 43.974),\n",
       " ('San Diego', 43.893),\n",
       " ('Saint Paul', 43.739),\n",
       " ('Berkeley', 43.725),\n",
       " ('Brunswick', 43.524),\n",
       " ('Seattle', 43.452),\n",
       " ('Syracuse', 43.277),\n",
       " ('Wichita', 42.679),\n",
       " ('Tulsa', 42.63),\n",
       " ('Williamsburg', 42.309),\n",
       " ('Davenport', 42.177),\n",
       " ('Hilo', 42.071),\n",
       " ('Reading', 41.886),\n",
       " ('Arlington', 41.623),\n",
       " ('Charlotte', 41.505),\n",
       " ('Rochester', 41.338),\n",
       " ('Frederick', 41.217),\n",
       " ('Georgetown', 40.795),\n",
       " ('Longview', 40.762),\n",
       " ('Lebanon', 40.45),\n",
       " ('Columbus', 39.913),\n",
       " ('Pittsburgh', 39.731),\n",
       " ('Roanoke', 39.611),\n",
       " ('Nashville', 39.556),\n",
       " ('Norfolk', 38.615),\n",
       " ('Detroit', 37.959),\n",
       " ('Shreveport', 37.869),\n",
       " ('New Rochelle', 36.937),\n",
       " ('Salisbury', 36.853),\n",
       " ('Worcester', 36.62),\n",
       " ('Huntington', 36.321),\n",
       " ('Portland', 36.029),\n",
       " ('Abilene', 34.905),\n",
       " ('Atlanta', 34.546),\n",
       " ('Fairfield', 33.858),\n",
       " ('Wayne', 32.87),\n",
       " ('Orangeburg', 32.864),\n",
       " ('Dubuque', 32.703),\n",
       " ('Clinton', 32.485),\n",
       " ('Bridgewater', 32.348),\n",
       " ('Champaign', 32.33),\n",
       " ('Houghton', 32.257),\n",
       " ('Dover', 31.562),\n",
       " ('Lynchburg', 31.107),\n",
       " ('Saratoga Springs', 31.074),\n",
       " ('Greenville', 30.852),\n",
       " ('New London', 29.953),\n",
       " ('Berea', 29.835),\n",
       " ('Maryville', 29.774),\n",
       " ('Mobile', 29.755),\n",
       " ('New Haven', 29.241),\n",
       " ('Louisville', 28.883),\n",
       " ('Tacoma', 28.001),\n",
       " ('Ashland', 27.765),\n",
       " ('Boca Raton', 27.473),\n",
       " ('Miami', 26.9),\n",
       " ('Minneapolis', 26.795),\n",
       " ('Claremont', 25.895),\n",
       " ('Wellesley', 25.642),\n",
       " ('Lexington', 24.569),\n",
       " ('Anchorage', 24.371),\n",
       " ('Purchase', 23.944),\n",
       " ('Bethlehem', 23.761),\n",
       " ('Burlington', 23.603),\n",
       " ('Evansville', 23.155),\n",
       " ('Huntsville', 22.986),\n",
       " ('Erie', 22.64),\n",
       " ('Fort Worth', 22.47),\n",
       " ('Harrisonburg', 21.466),\n",
       " ('Scranton', 21.308),\n",
       " ('Potsdam', 21.2),\n",
       " ('Monmouth', 19.905),\n",
       " ('Hanover', 19.777),\n",
       " ('Northfield', 19.202),\n",
       " ('Waltham', 19.065),\n",
       " ('Kenosha', 18.763),\n",
       " ('Notre Dame', 18.145),\n",
       " ('Easton', 18.008),\n",
       " ('Providence', 17.303),\n",
       " ('Conway', 15.67),\n",
       " ('Lawrenceville', 14.445),\n",
       " ('Terre Haute', 13.75),\n",
       " ('Ithaca', 12.763),\n",
       " ('Amherst', 12.643),\n",
       " ('Henderson', 0),\n",
       " ('Watertown', 0),\n",
       " ('Johnstown', 0),\n",
       " ('Bethany', 0),\n",
       " ('Alexandria', 0),\n",
       " ('Hickory', 0),\n",
       " ('Batesville', 0),\n",
       " ('Bismarck', 0),\n",
       " ('Lake Charles', 0),\n",
       " ('Keene', 0),\n",
       " ('Galesburg', 0),\n",
       " ('Winston-Salem', 0),\n",
       " ('Trenton', 0),\n",
       " ('Utica', 0),\n",
       " ('Jefferson City', 0),\n",
       " ('Joplin', 0),\n",
       " ('Newton', 0),\n",
       " ('Augusta', 0),\n",
       " ('Dearborn', 0),\n",
       " ('Eau Claire', 0),\n",
       " ('Stockton', 0),\n",
       " ('Elizabeth City', 0),\n",
       " ('Klamath Falls', 0),\n",
       " ('Delaware', 0),\n",
       " ('Overland Park', 0),\n",
       " ('Norwalk', 0),\n",
       " ('Schenectady', 0),\n",
       " ('Manhattan', 0),\n",
       " ('Americus', 0),\n",
       " ('Glenside', 0),\n",
       " ('Oneonta', 0),\n",
       " ('New Britain', 0),\n",
       " ('Sanford', 0),\n",
       " ('Kirksville', 0),\n",
       " ('Helena', 0),\n",
       " ('Pendleton', 0),\n",
       " ('Clarksville', 0),\n",
       " ('Appleton', 0),\n",
       " ('San Bernardino', 0),\n",
       " ('Duluth', 0),\n",
       " ('Hampton', 0),\n",
       " ('Costa Mesa', 0),\n",
       " ('Waterbury', 0),\n",
       " ('Hammond', 0),\n",
       " ('Wilmore', 0),\n",
       " ('Merced', 0),\n",
       " ('Centralia', 0),\n",
       " ('Charlottesville', 0),\n",
       " ('Newton Centre', 0),\n",
       " ('El Cajon', 0),\n",
       " ('Whittier', 0),\n",
       " ('York', 0),\n",
       " ('Auburn', 0),\n",
       " ('Camarillo', 0),\n",
       " ('Cypress', 0),\n",
       " ('Hillsboro', 0),\n",
       " ('Fulton', 0),\n",
       " ('Pueblo', 0),\n",
       " ('Greenwood', 0),\n",
       " ('Winona', 0),\n",
       " ('Toledo', 0),\n",
       " ('Allentown', 0),\n",
       " ('Brooklyn Park', 0),\n",
       " ('Mansfield', 0),\n",
       " ('Texarkana', 0),\n",
       " ('Rock Hill', 0),\n",
       " ('Albuquerque', 0),\n",
       " ('Eureka', 0),\n",
       " ('Fort Wayne', 0),\n",
       " ('Boulder', 0),\n",
       " ('Evanston', 0),\n",
       " ('Princeton', 0),\n",
       " ('Rome', 0),\n",
       " ('Santa Clara', 0),\n",
       " ('Pittsburg', 0),\n",
       " ('Victoria', 0),\n",
       " ('Mount Pleasant', 0),\n",
       " ('Santa Monica', 0),\n",
       " ('Denton', 0),\n",
       " ('Laredo', 0),\n",
       " ('Waco', 0),\n",
       " ('Bowling Green', 0),\n",
       " ('Union', 0)]"
      ]
     },
     "execution_count": 168,
     "metadata": {},
     "output_type": "execute_result"
    }
   ],
   "source": [
    "sorted_rr_cities"
   ]
  },
  {
   "cell_type": "code",
   "execution_count": 169,
   "metadata": {},
   "outputs": [
    {
     "name": "stdout",
     "output_type": "stream",
     "text": [
      "Chicago\n",
      "New York\n",
      "Boston\n"
     ]
    }
   ],
   "source": [
    "city_nums = {}\n",
    "for city in cities:\n",
    "    city_nums[city] = len(cities[city])\n",
    "    if city_nums[city] > 15:\n",
    "        print(city)"
   ]
  },
  {
   "cell_type": "code",
   "execution_count": 170,
   "metadata": {},
   "outputs": [
    {
     "data": {
      "image/png": "[encoded data removed]",
      "text/plain": [
       "<Figure size 432x288 with 1 Axes>"
      ]
     },
     "metadata": {
      "needs_background": "light"
     },
     "output_type": "display_data"
    }
   ],
   "source": [
    "ax = sns.distplot(list(city_nums.values()))\n",
    "ax.set(xlabel=\"No. of Unis\", ylabel=\"Proportion of Counts\", title=\"No. of Unis in Cities\")\n",
    "plt.show()"
   ]
  },
  {
   "cell_type": "markdown",
   "metadata": {},
   "source": [
    "### Centre of Mass for USA and States\n",
    "\n",
    "Calculate the centroid values for all of USA."
   ]
  },
  {
   "cell_type": "code",
   "execution_count": 171,
   "metadata": {},
   "outputs": [],
   "source": [
    "research_usa = []"
   ]
  },
  {
   "cell_type": "code",
   "execution_count": 172,
   "metadata": {},
   "outputs": [],
   "source": [
    "for city in research_cities:\n",
    "    research_usa.append(research_cities[city][0])"
   ]
  },
  {
   "cell_type": "code",
   "execution_count": 173,
   "metadata": {},
   "outputs": [],
   "source": [
    "com_usa_research = np.mean(research_usa, axis=0)"
   ]
  },
  {
   "cell_type": "code",
   "execution_count": 174,
   "metadata": {},
   "outputs": [],
   "source": [
    "job_usa = []"
   ]
  },
  {
   "cell_type": "code",
   "execution_count": 175,
   "metadata": {},
   "outputs": [],
   "source": [
    "for city in job_cities:\n",
    "    job_usa.append(job_cities[city][0])"
   ]
  },
  {
   "cell_type": "code",
   "execution_count": 176,
   "metadata": {},
   "outputs": [],
   "source": [
    "com_usa_jobs = np.mean(job_usa, axis=0)"
   ]
  },
  {
   "cell_type": "code",
   "execution_count": 177,
   "metadata": {},
   "outputs": [],
   "source": [
    "teaching_usa = []"
   ]
  },
  {
   "cell_type": "code",
   "execution_count": 178,
   "metadata": {},
   "outputs": [],
   "source": [
    "for city in teaching_cities:\n",
    "    teaching_usa.append(teaching_cities[city][0])"
   ]
  },
  {
   "cell_type": "code",
   "execution_count": 179,
   "metadata": {},
   "outputs": [],
   "source": [
    "com_usa_teaching = np.mean(teaching_usa, axis=0)"
   ]
  },
  {
   "cell_type": "code",
   "execution_count": 180,
   "metadata": {},
   "outputs": [],
   "source": [
    "research_diff_orgs = {}"
   ]
  },
  {
   "cell_type": "code",
   "execution_count": 181,
   "metadata": {},
   "outputs": [],
   "source": [
    "for org in research_orgs:\n",
    "    research_diff_orgs[org] = round(angle_between(com_usa_research, research_orgs[org][0])[0], 3)"
   ]
  },
  {
   "cell_type": "code",
   "execution_count": 182,
   "metadata": {},
   "outputs": [],
   "source": [
    "sorted_diff_research_orgs = sorted(research_diff_orgs.items(), key=operator.itemgetter(1))"
   ]
  },
  {
   "cell_type": "code",
   "execution_count": 183,
   "metadata": {},
   "outputs": [
    {
     "data": {
      "text/plain": [
       "[('Indiana State Univ', 4.683),\n",
       " ('Univ Washington', 4.808),\n",
       " ('Columbia Univ', 5.61),\n",
       " ('Univ Minnesota', 5.642),\n",
       " ('Univ S Florida', 5.672),\n",
       " ('George Washington Univ', 5.772),\n",
       " ('Univ Wisconsin Madison', 5.894),\n",
       " ('San Diego State Univ', 6.017),\n",
       " ('Florida Atlantic Univ', 6.177),\n",
       " ('Univ Alabama', 6.179)]"
      ]
     },
     "execution_count": 183,
     "metadata": {},
     "output_type": "execute_result"
    }
   ],
   "source": [
    "sorted_diff_research_orgs[:10]"
   ]
  },
  {
   "cell_type": "code",
   "execution_count": 184,
   "metadata": {},
   "outputs": [],
   "source": [
    "sorted_diff_research_orgs.reverse()"
   ]
  },
  {
   "cell_type": "code",
   "execution_count": 185,
   "metadata": {},
   "outputs": [
    {
     "data": {
      "text/plain": [
       "[('Alcatel Lucent Bell Labs Murray Hill', 98.597),\n",
       " ('E2 Mayo Clin Jacksonville', 98.06),\n",
       " ('Off Med Director', 97.93),\n",
       " ('MGHIHP', 97.903),\n",
       " ('Oregon Med Grp', 97.639),\n",
       " ('Univ Illinois Med', 97.548),\n",
       " ('Cent Arkansas', 97.51),\n",
       " ('Duluth Community Clin Oncol Program', 97.291),\n",
       " ('HealthS Braintree Rehabil Hosp', 97.018),\n",
       " ('Zoonosis Control Branch', 96.873)]"
      ]
     },
     "execution_count": 185,
     "metadata": {},
     "output_type": "execute_result"
    }
   ],
   "source": [
    "sorted_diff_research_orgs[:10]"
   ]
  },
  {
   "cell_type": "code",
   "execution_count": 186,
   "metadata": {},
   "outputs": [],
   "source": [
    "teaching_diff_orgs = {}"
   ]
  },
  {
   "cell_type": "code",
   "execution_count": 187,
   "metadata": {},
   "outputs": [],
   "source": [
    "for org in teaching_orgs:\n",
    "    teaching_diff_orgs[org] = round(angle_between(com_usa_teaching, teaching_orgs[org][0])[0], 3)"
   ]
  },
  {
   "cell_type": "code",
   "execution_count": 188,
   "metadata": {},
   "outputs": [],
   "source": [
    "sorted_diff_teaching_orgs = sorted(teaching_diff_orgs.items(), key=operator.itemgetter(1))"
   ]
  },
  {
   "cell_type": "code",
   "execution_count": 189,
   "metadata": {},
   "outputs": [
    {
     "data": {
      "text/plain": [
       "[('Middle Tennessee State University', 12.62),\n",
       " ('California State University-Fullerton', 14.119),\n",
       " ('Rhode Island College', 14.178),\n",
       " ('University of Colorado Colorado Springs', 14.516),\n",
       " ('Houston Community College', 14.899),\n",
       " ('Cosumnes River College', 15.031),\n",
       " ('Eastern Connecticut State University', 15.304),\n",
       " ('University of Central Florida', 15.626),\n",
       " ('Northwest College', 15.637),\n",
       " ('The University of Tennessee-Martin', 15.796)]"
      ]
     },
     "execution_count": 189,
     "metadata": {},
     "output_type": "execute_result"
    }
   ],
   "source": [
    "sorted_diff_teaching_orgs[:10]"
   ]
  },
  {
   "cell_type": "code",
   "execution_count": 190,
   "metadata": {},
   "outputs": [
    {
     "data": {
      "text/plain": [
       "[('Houghton College', 90.3),\n",
       " ('University of Pittsburgh-Greensburg', 89.256),\n",
       " ('Stillman College', 88.371),\n",
       " ('Williams Baptist College', 87.963),\n",
       " ('Palmer College of Chiropractic', 87.497),\n",
       " ('Covenant Theological Seminary', 86.563),\n",
       " ('Nebraska Christian College', 85.819),\n",
       " ('Jewish Theological Seminary of America', 85.525),\n",
       " ('Trident University International', 85.186),\n",
       " ('Methodist Theological School in Ohio', 84.419)]"
      ]
     },
     "execution_count": 190,
     "metadata": {},
     "output_type": "execute_result"
    }
   ],
   "source": [
    "sorted_diff_teaching_orgs.reverse()\n",
    "sorted_diff_teaching_orgs[:10]"
   ]
  },
  {
   "cell_type": "code",
   "execution_count": 191,
   "metadata": {},
   "outputs": [],
   "source": [
    "job_diff_cities = {}"
   ]
  },
  {
   "cell_type": "code",
   "execution_count": 192,
   "metadata": {},
   "outputs": [],
   "source": [
    "for city in job_cities:\n",
    "    job_diff_cities[city] = round(angle_between(com_usa_jobs, job_cities[city][0])[0], 3)"
   ]
  },
  {
   "cell_type": "code",
   "execution_count": 193,
   "metadata": {},
   "outputs": [],
   "source": [
    "sorted_diff_job_cities = sorted(job_diff_cities.items(), key=operator.itemgetter(1))"
   ]
  },
  {
   "cell_type": "code",
   "execution_count": 194,
   "metadata": {},
   "outputs": [
    {
     "data": {
      "text/plain": [
       "[('Golden', 36.871),\n",
       " ('Houston', 37.079),\n",
       " ('Springfield', 37.78),\n",
       " ('Georgetown', 39.247),\n",
       " ('Orlando', 39.4),\n",
       " ('Canby', 41.226),\n",
       " ('Buckeye', 42.786),\n",
       " ('Portland', 43.227),\n",
       " ('Norfolk', 43.284),\n",
       " ('Chula Vista', 43.321)]"
      ]
     },
     "execution_count": 194,
     "metadata": {},
     "output_type": "execute_result"
    }
   ],
   "source": [
    "sorted_diff_job_cities[:10]"
   ]
  },
  {
   "cell_type": "code",
   "execution_count": 195,
   "metadata": {},
   "outputs": [
    {
     "data": {
      "text/plain": [
       "[('Green Mountain Falls', 97.342),\n",
       " ('Morristown', 93.942),\n",
       " ('Savannah', 93.056),\n",
       " ('Forsyth', 92.626),\n",
       " ('Charlotte', 90.82),\n",
       " ('Imperial Beach', 90.755),\n",
       " ('Reidsville', 90.556),\n",
       " ('Grovetown', 90.077),\n",
       " ('Jersey City', 88.91),\n",
       " ('Wilmington', 87.016)]"
      ]
     },
     "execution_count": 195,
     "metadata": {},
     "output_type": "execute_result"
    }
   ],
   "source": [
    "sorted_diff_job_cities.reverse()\n",
    "sorted_diff_job_cities[:10]"
   ]
  },
  {
   "cell_type": "markdown",
   "metadata": {},
   "source": [
    "### State wise angle comparisons"
   ]
  },
  {
   "cell_type": "code",
   "execution_count": 196,
   "metadata": {},
   "outputs": [],
   "source": [
    "state_vectors_res, state_vectors_teach = {}, {}"
   ]
  },
  {
   "cell_type": "code",
   "execution_count": 197,
   "metadata": {},
   "outputs": [],
   "source": [
    "for state in states:\n",
    "    state_vectors_res[state] = []\n",
    "    state_vectors_teach[state] = []\n",
    "    for uni in states[state]:\n",
    "        try:\n",
    "            state_vectors_res[state].append(research_orgs[teaching_to_research_match[uni]][0])\n",
    "        except KeyError:\n",
    "            pass\n",
    "        try:\n",
    "            state_vectors_teach[state].append(teaching_orgs[uni][0])\n",
    "        except KeyError:\n",
    "            pass"
   ]
  },
  {
   "cell_type": "code",
   "execution_count": 198,
   "metadata": {},
   "outputs": [
    {
     "name": "stderr",
     "output_type": "stream",
     "text": [
      "/software/Anaconda3-5.3.0-el7-x86_64/lib/python3.6/site-packages/numpy/core/fromnumeric.py:2920: RuntimeWarning: Mean of empty slice.\n",
      "  out=out, **kwargs)\n",
      "/software/Anaconda3-5.3.0-el7-x86_64/lib/python3.6/site-packages/numpy/core/_methods.py:85: RuntimeWarning: invalid value encountered in double_scalars\n",
      "  ret = ret.dtype.type(ret / rcount)\n"
     ]
    }
   ],
   "source": [
    "for state in state_vectors_res:\n",
    "    state_vectors_res[state] = np.mean(state_vectors_res[state], axis=0)\n",
    "    state_vectors_teach[state] = np.mean(state_vectors_teach[state], axis=0)"
   ]
  },
  {
   "cell_type": "code",
   "execution_count": 211,
   "metadata": {},
   "outputs": [],
   "source": [
    "state_angles_usa_res, state_angles_usa_teach = {}, {}"
   ]
  },
  {
   "cell_type": "code",
   "execution_count": 210,
   "metadata": {},
   "outputs": [],
   "source": [
    "del state_vectors_res['']"
   ]
  },
  {
   "cell_type": "code",
   "execution_count": 212,
   "metadata": {},
   "outputs": [],
   "source": [
    "for state in state_vectors_res:\n",
    "    state_angles_usa_res[state] = round(angle_between(state_vectors_res[state], com_usa_research)[0], 3)\n",
    "    state_angles_usa_teach[state] = round(angle_between(state_vectors_teach[state], com_usa_teaching)[0], 3)"
   ]
  },
  {
   "cell_type": "code",
   "execution_count": 213,
   "metadata": {},
   "outputs": [
    {
     "data": {
      "text/plain": [
       "{'TX': 13.061,\n",
       " 'MS': 20.771,\n",
       " 'MA': 10.981,\n",
       " 'CA': 9.625,\n",
       " 'GA': 13.186,\n",
       " 'NJ': 16.373,\n",
       " 'MI': 17.849,\n",
       " 'FL': 13.808,\n",
       " 'AL': 10.699,\n",
       " 'NM': 21.309,\n",
       " 'MO': 11.89,\n",
       " 'NC': 9.127,\n",
       " 'NY': 9.572,\n",
       " 'OH': 8.043,\n",
       " 'IL': 12.579,\n",
       " 'WA': 12.665,\n",
       " 'MD': 12.54,\n",
       " 'SC': 14.737,\n",
       " 'MT': 17.197,\n",
       " 'KY': 8.532,\n",
       " 'IA': 20.117,\n",
       " 'LA': 15.336,\n",
       " 'UT': 16.279,\n",
       " 'CO': 13.266,\n",
       " 'HI': 14.329,\n",
       " 'OK': 14.451,\n",
       " 'WY': 33.915,\n",
       " 'PA': 8.54,\n",
       " 'IN': 12.249,\n",
       " 'AZ': 22.763,\n",
       " 'VA': 11.739,\n",
       " 'VT': 16.143,\n",
       " 'WI': 12.652,\n",
       " 'ID': 23.666,\n",
       " 'AR': 19.28,\n",
       " 'DC': 17.183,\n",
       " 'TN': 12.904,\n",
       " 'OR': 11.134,\n",
       " 'NV': 30.293,\n",
       " 'MN': 11.719,\n",
       " 'NH': 16.76,\n",
       " 'KS': 14.395,\n",
       " 'RI': 16.533,\n",
       " 'ME': 21.741,\n",
       " 'WV': 10.978,\n",
       " 'AK': 17.238,\n",
       " 'SD': 19.549,\n",
       " 'NE': 18.041,\n",
       " 'ND': 24.15,\n",
       " 'CT': 22.544,\n",
       " 'DE': 25.295}"
      ]
     },
     "execution_count": 213,
     "metadata": {},
     "output_type": "execute_result"
    }
   ],
   "source": [
    "state_angles_usa_res"
   ]
  },
  {
   "cell_type": "code",
   "execution_count": 214,
   "metadata": {},
   "outputs": [
    {
     "data": {
      "text/plain": [
       "{'TX': 12.145,\n",
       " 'MS': 14.152,\n",
       " 'MA': 8.816,\n",
       " 'CA': 7.367,\n",
       " 'GA': 11.536,\n",
       " 'NJ': 9.835,\n",
       " 'MI': 7.462,\n",
       " 'FL': 8.032,\n",
       " 'AL': 15.881,\n",
       " 'NM': 17.33,\n",
       " 'MO': 11.548,\n",
       " 'NC': 16.001,\n",
       " 'NY': 10.971,\n",
       " 'OH': 6.851,\n",
       " 'IL': 8.286,\n",
       " 'WA': 14.168,\n",
       " 'MD': 10.285,\n",
       " 'SC': 13.389,\n",
       " 'MT': 30.086,\n",
       " 'KY': 18.606,\n",
       " 'IA': 10.352,\n",
       " 'LA': 13.442,\n",
       " 'UT': 13.784,\n",
       " 'CO': 14.72,\n",
       " 'HI': 18.58,\n",
       " 'OK': 8.514,\n",
       " 'WY': 15.378,\n",
       " 'PA': 13.132,\n",
       " 'IN': 14.318,\n",
       " 'AZ': 14.45,\n",
       " 'VA': 7.079,\n",
       " 'VT': 23.556,\n",
       " 'WI': 12.204,\n",
       " 'ID': 11.09,\n",
       " 'AR': 9.473,\n",
       " 'DC': 18.322,\n",
       " 'TN': 9.052,\n",
       " 'OR': 13.419,\n",
       " 'NV': 9.848,\n",
       " 'MN': 12.344,\n",
       " 'NH': 13.84,\n",
       " 'KS': 17.596,\n",
       " 'RI': 17.241,\n",
       " 'ME': 17.529,\n",
       " 'WV': 12.131,\n",
       " 'AK': 51.323,\n",
       " 'SD': 15.138,\n",
       " 'NE': 18.375,\n",
       " 'ND': 19.064,\n",
       " 'CT': 10.384,\n",
       " 'DE': 18.784}"
      ]
     },
     "execution_count": 214,
     "metadata": {},
     "output_type": "execute_result"
    }
   ],
   "source": [
    "state_angles_usa_teach"
   ]
  },
  {
   "cell_type": "code",
   "execution_count": 215,
   "metadata": {},
   "outputs": [],
   "source": [
    "state_sorted_com_res = sorted(state_angles_usa_res.items(), key=operator.itemgetter(1))"
   ]
  },
  {
   "cell_type": "code",
   "execution_count": 216,
   "metadata": {},
   "outputs": [],
   "source": [
    "state_sorted_com_teach = sorted(state_angles_usa_teach.items(), key=operator.itemgetter(1))"
   ]
  },
  {
   "cell_type": "code",
   "execution_count": 218,
   "metadata": {},
   "outputs": [
    {
     "data": {
      "text/plain": [
       "[('OH', 8.043),\n",
       " ('KY', 8.532),\n",
       " ('PA', 8.54),\n",
       " ('NC', 9.127),\n",
       " ('NY', 9.572),\n",
       " ('CA', 9.625),\n",
       " ('AL', 10.699),\n",
       " ('WV', 10.978),\n",
       " ('MA', 10.981),\n",
       " ('OR', 11.134),\n",
       " ('MN', 11.719),\n",
       " ('VA', 11.739),\n",
       " ('MO', 11.89),\n",
       " ('IN', 12.249),\n",
       " ('MD', 12.54),\n",
       " ('IL', 12.579),\n",
       " ('WI', 12.652),\n",
       " ('WA', 12.665),\n",
       " ('TN', 12.904),\n",
       " ('TX', 13.061),\n",
       " ('GA', 13.186),\n",
       " ('CO', 13.266),\n",
       " ('FL', 13.808),\n",
       " ('HI', 14.329),\n",
       " ('KS', 14.395),\n",
       " ('OK', 14.451),\n",
       " ('SC', 14.737),\n",
       " ('LA', 15.336),\n",
       " ('VT', 16.143),\n",
       " ('UT', 16.279),\n",
       " ('NJ', 16.373),\n",
       " ('RI', 16.533),\n",
       " ('NH', 16.76),\n",
       " ('DC', 17.183),\n",
       " ('MT', 17.197),\n",
       " ('AK', 17.238),\n",
       " ('MI', 17.849),\n",
       " ('NE', 18.041),\n",
       " ('AR', 19.28),\n",
       " ('SD', 19.549),\n",
       " ('IA', 20.117),\n",
       " ('MS', 20.771),\n",
       " ('NM', 21.309),\n",
       " ('ME', 21.741),\n",
       " ('CT', 22.544),\n",
       " ('AZ', 22.763),\n",
       " ('ID', 23.666),\n",
       " ('ND', 24.15),\n",
       " ('DE', 25.295),\n",
       " ('NV', 30.293),\n",
       " ('WY', 33.915)]"
      ]
     },
     "execution_count": 218,
     "metadata": {},
     "output_type": "execute_result"
    }
   ],
   "source": [
    "state_sorted_com_res"
   ]
  },
  {
   "cell_type": "code",
   "execution_count": null,
   "metadata": {},
   "outputs": [],
   "source": []
  },
  {
   "cell_type": "markdown",
   "metadata": {},
   "source": [
    "### Norm - Variance Vector Number Analysis\n",
    "\n",
    "How does the variance norm vector and number of articles link to the research outputs?"
   ]
  },
  {
   "cell_type": "code",
   "execution_count": null,
   "metadata": {},
   "outputs": [],
   "source": [
    "def sorted_total_articles_norm(vectors, no_papers=500, ascending=False):\n",
    "    total_no_articles = {}\n",
    "    norms = {}\n",
    "    for entity in vectors:\n",
    "        if vectors[entity][2] > no_papers:\n",
    "            total_no_articles[entity] = vectors[entity][2]\n",
    "            norms[entity] = np.linalg.norm(vectors[entity][1])\n",
    "    sorted_total_papers = sorted(total_no_articles.items(), key=operator.itemgetter(1))\n",
    "    sorted_norms = sorted(norms.items(), key=operator.itemgetter(1))\n",
    "    if ascending:\n",
    "        return sorted_total_papers, sorted_norms\n",
    "    else:\n",
    "        sorted_total_papers.reverse() \n",
    "        sorted_norms.reverse()\n",
    "        return sorted_total_papers, sorted_norms, norms"
   ]
  },
  {
   "cell_type": "code",
   "execution_count": null,
   "metadata": {},
   "outputs": [],
   "source": [
    "sorted_research_orgs_total_papers, sorted_research_orgs_norms, research_orgs_norms = sorted_total_articles_norm(research_orgs)"
   ]
  },
  {
   "cell_type": "code",
   "execution_count": null,
   "metadata": {},
   "outputs": [],
   "source": [
    "sorted_research_orgs_total_papers[0:50]"
   ]
  },
  {
   "cell_type": "code",
   "execution_count": null,
   "metadata": {},
   "outputs": [],
   "source": [
    "#for org in sorted_research_orgs_total_papers[0:50]:\n",
    "#    uni, papers = org\n",
    "#   print(uni, research_orgs_norms[uni])"
   ]
  },
  {
   "cell_type": "code",
   "execution_count": null,
   "metadata": {},
   "outputs": [],
   "source": [
    "# sorted_research_orgs_norms[0:25]"
   ]
  },
  {
   "cell_type": "code",
   "execution_count": null,
   "metadata": {},
   "outputs": [],
   "source": [
    "# sorted_research_orgs_norms[-25:]"
   ]
  },
  {
   "cell_type": "markdown",
   "metadata": {},
   "source": [
    "### teaching-research analysis\n",
    "\n",
    "How is what is being taught in universities related to what is being researched? Does this spill-over, spatially?"
   ]
  },
  {
   "cell_type": "code",
   "execution_count": null,
   "metadata": {},
   "outputs": [],
   "source": []
  },
  {
   "cell_type": "markdown",
   "metadata": {},
   "source": [
    "### teaching-job analysis\n",
    "\n",
    "How is what is being taught at universities related to what jobs are being advertised? Does this spill-over, spatially?"
   ]
  },
  {
   "cell_type": "code",
   "execution_count": null,
   "metadata": {},
   "outputs": [],
   "source": []
  },
  {
   "cell_type": "code",
   "execution_count": null,
   "metadata": {},
   "outputs": [],
   "source": []
  }
 ],
 "metadata": {
  "kernelspec": {
   "display_name": "Python 3",
   "language": "python",
   "name": "python3"
  },
  "language_info": {
   "codemirror_mode": {
    "name": "ipython",
    "version": 3
   },
   "file_extension": ".py",
   "mimetype": "text/x-python",
   "name": "python",
   "nbconvert_exporter": "python",
   "pygments_lexer": "ipython3",
   "version": "3.6.9"
  }
 },
 "nbformat": 4,
 "nbformat_minor": 2
}
