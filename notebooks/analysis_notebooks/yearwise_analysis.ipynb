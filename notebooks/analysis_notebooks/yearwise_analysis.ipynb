{
 "cells": [
  {
   "cell_type": "markdown",
   "metadata": {},
   "source": [
    "## Temporal Analysis\n",
    "\n",
    "This notebook will lay the framework for a temporal analysis of the research, teaching and jobs vectors of different institutions and cities. We will start with loading these vectors up."
   ]
  },
  {
   "cell_type": "code",
   "execution_count": 1,
   "metadata": {},
   "outputs": [],
   "source": [
    "import csv\n",
    "import json\n",
    "import operator"
   ]
  },
  {
   "cell_type": "code",
   "execution_count": 2,
   "metadata": {},
   "outputs": [],
   "source": [
    "import numpy as np"
   ]
  },
  {
   "cell_type": "code",
   "execution_count": 3,
   "metadata": {},
   "outputs": [],
   "source": [
    "def read_vectors(file_name):\n",
    "    line = open(file_name, \"r\")\n",
    "    for l in line:\n",
    "        d = eval(l)\n",
    "    final_dict = {eval(k):eval(v) for k, v in d.items()}\n",
    "    return final_dict"
   ]
  },
  {
   "cell_type": "code",
   "execution_count": 4,
   "metadata": {},
   "outputs": [],
   "source": [
    "# job_cities_vectors = read_vectors(\"../saved_data_structures/job_yearwise_vectors/jobs_vectors_cities_yearwise.txt\")"
   ]
  },
  {
   "cell_type": "code",
   "execution_count": 5,
   "metadata": {},
   "outputs": [],
   "source": [
    "# job_orgs_vectors = read_vectors(\"../saved_data_structures/job_yearwise_vectors/jobs_vectors_orgs_yearwise.txt\")"
   ]
  },
  {
   "cell_type": "code",
   "execution_count": 6,
   "metadata": {},
   "outputs": [],
   "source": [
    "research_cities_vectors = read_vectors(\"../saved_data_structures/research_teaching_yearwise_vectors/research_vectors_cities_yearwise.txt\")"
   ]
  },
  {
   "cell_type": "code",
   "execution_count": 7,
   "metadata": {},
   "outputs": [],
   "source": [
    "research_orgs_vectors = read_vectors(\"../saved_data_structures/research_teaching_yearwise_vectors/research_vectors_orgs_yearwise.txt\")"
   ]
  },
  {
   "cell_type": "code",
   "execution_count": 8,
   "metadata": {},
   "outputs": [],
   "source": [
    "# teaching_cities_vectors = read_vectors(\"../saved_data_structures/research_teaching_yearwise_vectors/teaching_vectors_cities_yearwise.txt\")"
   ]
  },
  {
   "cell_type": "code",
   "execution_count": 9,
   "metadata": {},
   "outputs": [],
   "source": [
    "teaching_orgs_vectors = read_vectors(\"../saved_data_structures/research_teaching_yearwise_vectors/teaching_vectors_orgs_yearwise.txt\")"
   ]
  },
  {
   "cell_type": "code",
   "execution_count": 10,
   "metadata": {},
   "outputs": [],
   "source": [
    "with open(\"../saved_data_structures/teaching_to_research_matching.txt\") as file:\n",
    "    teaching_to_research = json.load(file)"
   ]
  },
  {
   "cell_type": "code",
   "execution_count": 11,
   "metadata": {},
   "outputs": [],
   "source": [
    "teaching_to_research_match = {}"
   ]
  },
  {
   "cell_type": "code",
   "execution_count": 12,
   "metadata": {},
   "outputs": [],
   "source": [
    "for teach_org in teaching_to_research:\n",
    "    if teaching_to_research[teach_org][1] > 90:\n",
    "        teaching_to_research_match[teach_org] = teaching_to_research[teach_org][0]"
   ]
  },
  {
   "cell_type": "code",
   "execution_count": 13,
   "metadata": {},
   "outputs": [],
   "source": [
    "teaching_to_research_match['University of California-Berkeley'] = 'Univ Calif Berkeley'\n",
    "teaching_to_research_match['University of Washington-Seattle Campus'] = 'Univ Washington'\n",
    "teaching_to_research_match['Georgia Institute of Technology-Main Campus'] = 'Georgia Tech'\n",
    "teaching_to_research_match['University of Pittsburgh-Pittsburgh Campus'] = 'Univ Pittsburgh'\n",
    "teaching_to_research_match['Ohio State University-Main Campus'] = 'Ohio State Univ'\n",
    "teaching_to_research_match['Texas A & M University-College Station'] = 'Texas A&M Univ'\n"
   ]
  },
  {
   "cell_type": "code",
   "execution_count": 103,
   "metadata": {},
   "outputs": [],
   "source": [
    "teaching_to_research_match['Massachusetts Institute of Technology'] = 'MIT'"
   ]
  },
  {
   "cell_type": "code",
   "execution_count": null,
   "metadata": {},
   "outputs": [],
   "source": [
    "teaching_to_research_match['']"
   ]
  },
  {
   "cell_type": "code",
   "execution_count": 14,
   "metadata": {},
   "outputs": [],
   "source": [
    "entity_names = []\n",
    "for pair in teaching_orgs_vectors:\n",
    "    entity, year = pair\n",
    "    if entity not in entity_names:\n",
    "        entity_names.append(entity)"
   ]
  },
  {
   "cell_type": "code",
   "execution_count": 15,
   "metadata": {},
   "outputs": [],
   "source": [
    "def unit_vector(vector):\n",
    "    \"\"\" Returns the unit vector of the vector.  \"\"\"\n",
    "    return vector / np.linalg.norm(vector)"
   ]
  },
  {
   "cell_type": "code",
   "execution_count": 16,
   "metadata": {},
   "outputs": [],
   "source": [
    "def angle_between(v1, v2):\n",
    "    \"\"\" Returns the angle in radians between vectors 'v1' and 'v2'::\n",
    "\n",
    "            >>> angle_between((1, 0, 0), (0, 1, 0))\n",
    "            1.5707963267948966\n",
    "            >>> angle_between((1, 0, 0), (1, 0, 0))\n",
    "            0.0\n",
    "            >>> angle_between((1, 0, 0), (-1, 0, 0))\n",
    "            3.141592653589793\n",
    "    \"\"\"\n",
    "    if v1 is None or v2 is None:\n",
    "        return (None, None)\n",
    "    v1_u = unit_vector(v1)\n",
    "    v2_u = unit_vector(v2)\n",
    "    cos = np.clip(np.dot(v1_u, v2_u), -1.0, 1.0)\n",
    "    return np.arccos(cos)*57.2958 , cos"
   ]
  },
  {
   "cell_type": "code",
   "execution_count": 17,
   "metadata": {},
   "outputs": [],
   "source": [
    "def find_similar(name, dictionary, n=5, reverse=False, cutoff=100):\n",
    "    angles = {}\n",
    "    for entity in dictionary:\n",
    "        if entity != name and dictionary[entity][2] > cutoff:\n",
    "            angles[entity] = round(angle_between(dictionary[entity][0], dictionary[name][0])[0], 3)\n",
    "    \n",
    "    sorted_n = sorted(angles.items(), key=operator.itemgetter(1))\n",
    "    if not reverse:\n",
    "        return(sorted_n[0:n])\n",
    "    if reverse:\n",
    "        sorted_n.reverse()\n",
    "        return(sorted_n[0:n])"
   ]
  },
  {
   "cell_type": "code",
   "execution_count": 18,
   "metadata": {},
   "outputs": [],
   "source": [
    "for year in range(2006, 2015):\n",
    "    avg_mean = np.array(np.array(research_orgs_vectors[('Georgia Tech', year)][0]) + np.array(research_orgs_vectors[('Georgia Inst Technol', year)][0])) / 2.0\n",
    "    avg_var = np.array(np.array(research_orgs_vectors[('Georgia Tech', year)][1]) + np.array(research_orgs_vectors[('Georgia Inst Technol', year)][1])) / 2.0\n",
    "    total_papers = research_orgs_vectors[('Georgia Tech', year)][2] + research_orgs_vectors[('Georgia Inst Technol', year)][2]\n",
    "    research_orgs_vectors[('Georgia Tech', year)] = (avg_mean, avg_var, total_papers)"
   ]
  },
  {
   "cell_type": "code",
   "execution_count": 19,
   "metadata": {},
   "outputs": [
    {
     "data": {
      "text/plain": [
       "[(('Washington University in St Louis', 2012), 24.678),\n",
       " (('University of Chicago', 2016), 25.475),\n",
       " (('University of Oregon', 2011), 25.705),\n",
       " (('University of California-Berkeley', 2016), 25.986),\n",
       " (('Washington University in St Louis', 2013), 26.224),\n",
       " (('University of Oregon', 2012), 26.301),\n",
       " (('University of Oregon', 2013), 27.276),\n",
       " (('Bennington College', 2010), 27.462),\n",
       " (('University of California-San Diego', 2014), 27.884),\n",
       " (('California State University-Chico', 2014), 27.987),\n",
       " (('Portland State University', 2011), 28.233),\n",
       " (('University of California-San Diego', 2012), 28.386),\n",
       " (('University of California-San Diego', 2009), 28.387),\n",
       " (('Stanford University', 2015), 28.65),\n",
       " (('Rhodes College', 2011), 28.757)]"
      ]
     },
     "execution_count": 19,
     "metadata": {},
     "output_type": "execute_result"
    }
   ],
   "source": [
    "find_similar(('University of Chicago', 2008), teaching_orgs_vectors, n=15)"
   ]
  },
  {
   "cell_type": "code",
   "execution_count": 20,
   "metadata": {},
   "outputs": [
    {
     "data": {
      "text/plain": [
       "[(('Univ Chicago', 2009), 3.144),\n",
       " (('Univ Chicago', 2007), 3.31),\n",
       " (('Univ Chicago', 2006), 3.454),\n",
       " (('Univ Chicago', 2014), 3.994),\n",
       " (('Univ Chicago', 2011), 4.123),\n",
       " (('Univ Chicago', 2013), 4.154),\n",
       " (('Univ Chicago', 2010), 4.222),\n",
       " (('NYU', 2008), 4.273),\n",
       " (('Univ Virginia', 2011), 4.485),\n",
       " (('Univ Chicago', 2015), 4.545),\n",
       " (('Univ Texas', 2006), 4.583),\n",
       " (('Univ Chicago', 2012), 4.777),\n",
       " (('Yale Univ', 2007), 4.935),\n",
       " (('Univ Texas', 2007), 5.2),\n",
       " (('Univ Virginia', 2012), 5.478)]"
      ]
     },
     "execution_count": 20,
     "metadata": {},
     "output_type": "execute_result"
    }
   ],
   "source": [
    "find_similar(('Univ Chicago', 2008), research_orgs_vectors, n=15)"
   ]
  },
  {
   "cell_type": "code",
   "execution_count": 21,
   "metadata": {},
   "outputs": [
    {
     "data": {
      "text/plain": [
       "[(('MIT', 2010), 2.903),\n",
       " (('MIT', 2006), 2.943),\n",
       " (('MIT', 2007), 2.943),\n",
       " (('MIT', 2009), 3.029),\n",
       " (('Princeton Univ', 2012), 3.934),\n",
       " (('MIT', 2012), 4.011),\n",
       " (('Princeton Univ', 2008), 4.154),\n",
       " (('Princeton Univ', 2010), 4.337),\n",
       " (('Princeton Univ', 2013), 4.344),\n",
       " (('MIT', 2011), 4.365),\n",
       " (('Princeton Univ', 2009), 4.576),\n",
       " (('Carnegie Mellon Univ', 2010), 4.581),\n",
       " (('Univ Calif Berkeley', 2007), 4.887),\n",
       " (('Princeton Univ', 2006), 4.933),\n",
       " (('Carnegie Mellon Univ', 2009), 4.937)]"
      ]
     },
     "execution_count": 21,
     "metadata": {},
     "output_type": "execute_result"
    }
   ],
   "source": [
    "find_similar(('MIT', 2008), research_orgs_vectors, n=15)"
   ]
  },
  {
   "cell_type": "code",
   "execution_count": 22,
   "metadata": {},
   "outputs": [
    {
     "data": {
      "text/plain": [
       "[(('Univ Cent Florida', 2009), 9.393),\n",
       " (('Univ Cent Florida', 2007), 9.629),\n",
       " (('Univ Texas Dallas', 2009), 9.877),\n",
       " (('IIT', 2006), 9.9),\n",
       " (('Univ Texas Dallas', 2010), 10.05),\n",
       " (('IIT', 2012), 10.076),\n",
       " (('IBM Corp', 2014), 10.102),\n",
       " (('IIT', 2009), 10.259),\n",
       " (('Univ Cent Florida', 2008), 10.355),\n",
       " (('Univ Texas Dallas', 2012), 10.359),\n",
       " (('Univ Cent Florida', 2010), 10.52),\n",
       " (('IBM Corp', 2011), 10.545),\n",
       " (('Lehigh Univ', 2007), 10.634),\n",
       " (('Univ Texas Arlington', 2011), 10.638),\n",
       " (('Georgia Tech', 2014), 10.789)]"
      ]
     },
     "execution_count": 22,
     "metadata": {},
     "output_type": "execute_result"
    }
   ],
   "source": [
    "find_similar(('Georgia Tech', 2006), research_orgs_vectors, n=15)"
   ]
  },
  {
   "cell_type": "code",
   "execution_count": 23,
   "metadata": {},
   "outputs": [
    {
     "data": {
      "text/plain": [
       "[(('Univ Texas Austin', 2007), 13.53),\n",
       " (('Rochester Inst Technol', 2013), 14.122),\n",
       " (('Carnegie Mellon Univ', 2006), 14.423),\n",
       " (('Virginia Tech', 2007), 14.503),\n",
       " (('IBM Corp', 2007), 14.614),\n",
       " (('Virginia Tech', 2008), 14.781),\n",
       " (('George Mason Univ', 2006), 14.782),\n",
       " (('Lehigh Univ', 2011), 14.842),\n",
       " (('Syracuse Univ', 2009), 14.86),\n",
       " (('Stevens Inst Technol', 2012), 15.015),\n",
       " (('Univ Texas Dallas', 2007), 15.19),\n",
       " (('IBM Corp', 2008), 15.286),\n",
       " (('IIT', 2009), 15.286),\n",
       " (('Worcester Polytech Inst', 2008), 15.317),\n",
       " (('Univ Texas Dallas', 2009), 15.365)]"
      ]
     },
     "execution_count": 23,
     "metadata": {},
     "output_type": "execute_result"
    }
   ],
   "source": [
    "find_similar(('Georgia Tech', 2015), research_orgs_vectors, n=15)"
   ]
  },
  {
   "cell_type": "code",
   "execution_count": 147,
   "metadata": {},
   "outputs": [],
   "source": [
    "def vector_change(vector, min_papers=25):\n",
    "    entity_names = []\n",
    "    for pair in vector:\n",
    "        entity, year = pair\n",
    "        if entity not in entity_names:\n",
    "            entity_names.append(entity)\n",
    "    entity_vector_changes = {}\n",
    "    for entity in entity_names:\n",
    "        years = range(2006, 2018)\n",
    "        exist = []\n",
    "        for year in years:\n",
    "            if (entity, year) in vector and vector[(entity, year)][2] > min_papers:\n",
    "                exist.append(year)\n",
    "        if len(exist) == 0:\n",
    "            continue\n",
    "        min_year = min(exist)\n",
    "        max_year = max(exist)\n",
    "        \n",
    "        entity_vector_changes[entity] = round(angle_between(vector[(entity, min_year)][0], vector[(entity, max_year)][0])[0], 10)\n",
    "\n",
    "    return entity_vector_changes"
   ]
  },
  {
   "cell_type": "code",
   "execution_count": 178,
   "metadata": {},
   "outputs": [],
   "source": [
    "research_orgs_changes = vector_change(research_orgs_vectors, min_papers=50)"
   ]
  },
  {
   "cell_type": "code",
   "execution_count": 179,
   "metadata": {},
   "outputs": [],
   "source": [
    "teaching_orgs_changes = vector_change(teaching_orgs_vectors, min_papers=50)"
   ]
  },
  {
   "cell_type": "code",
   "execution_count": 162,
   "metadata": {},
   "outputs": [
    {
     "data": {
      "text/plain": [
       "5.1563229589"
      ]
     },
     "execution_count": 162,
     "metadata": {},
     "output_type": "execute_result"
    }
   ],
   "source": [
    "research_orgs_changes['Univ Calif Berkeley']"
   ]
  },
  {
   "cell_type": "code",
   "execution_count": 163,
   "metadata": {},
   "outputs": [
    {
     "data": {
      "text/plain": [
       "10.7890133256"
      ]
     },
     "execution_count": 163,
     "metadata": {},
     "output_type": "execute_result"
    }
   ],
   "source": [
    "research_orgs_changes['Georgia Tech']"
   ]
  },
  {
   "cell_type": "code",
   "execution_count": 164,
   "metadata": {},
   "outputs": [],
   "source": [
    "sorted_research_orgs_changes = sorted(research_orgs_changes.items(), key=operator.itemgetter(1))"
   ]
  },
  {
   "cell_type": "code",
   "execution_count": 165,
   "metadata": {},
   "outputs": [],
   "source": [
    "sorted_teaching_orgs_changes = sorted(teaching_orgs_changes.items(), key=operator.itemgetter(1))"
   ]
  },
  {
   "cell_type": "code",
   "execution_count": 172,
   "metadata": {},
   "outputs": [
    {
     "data": {
      "text/plain": [
       "[('Oregon Hlth Sci Univ', 0.0),\n",
       " ('New Mexico State Univ', 0.0),\n",
       " ('Boston Coll', 0.0),\n",
       " ('Univ Texas Galveston', 0.0),\n",
       " ('Cincinnati Childrens Hosp', 8.538e-07),\n",
       " ('Univ Texas', 2.0536169471),\n",
       " ('Univ Pittsburgh', 4.1805319214),\n",
       " ('Univ Wisconsin', 4.6802231509),\n",
       " ('Univ Calif Los Angeles', 4.6977884044),\n",
       " ('Duke Univ', 4.7748040093),\n",
       " ('Univ Minnesota', 4.8655793068),\n",
       " ('Louisiana State Univ', 4.966145265),\n",
       " ('Univ Calif Berkeley', 5.1563229589),\n",
       " ('Case Western Reserve Univ', 5.1711289549),\n",
       " ('Tufts Univ', 5.1953386992),\n",
       " ('Boston Univ', 5.2147518758),\n",
       " ('Univ Texas MD Anderson Canc Ctr', 5.2543926931),\n",
       " ('USDA', 5.2775118965),\n",
       " ('Wake Forest Univ', 5.2991203578),\n",
       " ('NASA', 5.3092487395),\n",
       " ('Cornell Univ', 5.3170439867),\n",
       " ('Univ Connecticut', 5.3476826123),\n",
       " ('Texas A&M Univ', 5.3492936047),\n",
       " ('Univ Chicago', 5.3592153224),\n",
       " ('Tulane Univ', 5.4097866029),\n",
       " ('Univ Tennessee', 5.4515215021),\n",
       " ('Univ Michigan', 5.4621094678),\n",
       " ('Univ Calif Davis', 5.4785519023),\n",
       " ('ARS', 5.4833189131),\n",
       " ('Univ Georgia', 5.5010747685)]"
      ]
     },
     "execution_count": 172,
     "metadata": {},
     "output_type": "execute_result"
    }
   ],
   "source": [
    "sorted_research_orgs_changes[0:30]"
   ]
  },
  {
   "cell_type": "code",
   "execution_count": 173,
   "metadata": {},
   "outputs": [
    {
     "data": {
      "text/plain": [
       "[('Univ Texas Med Branch', 9.8936576515),\n",
       " ('Univ Calif Santa Barbara', 9.9230305781),\n",
       " ('Univ Texas Dallas', 10.0416282241),\n",
       " ('Drexel Univ', 10.1074333695),\n",
       " ('Fred Hutchinson Canc Res Ctr', 10.1280406675),\n",
       " ('Mississippi State Univ', 10.1413955264),\n",
       " ('Univ Idaho', 10.2339565389),\n",
       " ('Univ Houston', 10.2798125343),\n",
       " ('Virginia Polytech Inst & State Univ', 10.2951230186),\n",
       " ('Thomas Jefferson Univ', 10.348879224),\n",
       " ('Univ Delaware', 10.4138550781),\n",
       " ('Rensselaer Polytech Inst', 10.4454949199),\n",
       " ('Univ Texas Arlington', 10.4822660141),\n",
       " ('Univ Wyoming', 10.5095935315),\n",
       " ('Univ Cent Florida', 10.5167820115),\n",
       " ('US FDA', 10.5558047647),\n",
       " ('Univ N Texas', 10.6703172034),\n",
       " ('Georgia Tech', 10.7890133256),\n",
       " ('US EPA', 10.9982535116),\n",
       " ('NHLBI', 11.1608412877),\n",
       " ('So Illinois Univ', 11.236663659),\n",
       " ('Univ Toledo', 11.2593284702),\n",
       " ('Univ Texas Austin', 11.4102325155),\n",
       " ('Ohio Univ', 11.8751655813),\n",
       " ('Beth Israel Deaconess Med Ctr', 12.0055523775),\n",
       " ('NIH', 12.4367803651),\n",
       " ('N Dakota State Univ', 12.5411041199),\n",
       " ('George Mason Univ', 12.6159187308),\n",
       " ('Georgia State Univ', 12.680822129),\n",
       " ('Univ Alabama', 12.9147307729)]"
      ]
     },
     "execution_count": 173,
     "metadata": {},
     "output_type": "execute_result"
    }
   ],
   "source": [
    "sorted_research_orgs_changes[-30:]"
   ]
  },
  {
   "cell_type": "code",
   "execution_count": 174,
   "metadata": {},
   "outputs": [
    {
     "data": {
      "text/plain": [
       "[('Valencia College', 0.0),\n",
       " ('Palm Beach State College', 0.0),\n",
       " ('Nova Southeastern University', 0.0),\n",
       " ('University of North Carolina at Chapel Hill', 0.0),\n",
       " ('Florence-Darlington Technical College', 0.0),\n",
       " ('Calvin College', 0.0),\n",
       " ('The University of Texas of the Permian Basin', 0.0),\n",
       " ('North Central Texas College', 0.0),\n",
       " ('Rio Salado College', 0.0),\n",
       " ('Santa Barbara City College', 0.0),\n",
       " ('North Central State College', 0.0),\n",
       " ('Minnesota State College-Southeast Technical', 0.0),\n",
       " ('Brandeis University', 8.538e-07),\n",
       " ('University of Rhode Island', 8.538e-07),\n",
       " ('College of Marin', 8.538e-07),\n",
       " ('Central Lakes College-Brainerd', 1.2074e-06),\n",
       " ('Central Michigan University', 1.2074e-06),\n",
       " ('SUNY at Binghamton', 1.2074e-06),\n",
       " ('Galveston College', 4.0744213576),\n",
       " ('Bellevue College', 5.0969404343),\n",
       " ('The University of Texas at Tyler', 5.1257592159),\n",
       " ('Dixie State University', 5.8188007707),\n",
       " ('Tyler Junior College', 5.8781476678),\n",
       " ('Southern Maine Community College', 6.1155218914),\n",
       " ('University of West Georgia', 6.1838898017),\n",
       " ('The University of Texas at San Antonio', 6.7482645294),\n",
       " ('Angelina College', 6.8107932332),\n",
       " ('Texas A & M International University', 7.141436127),\n",
       " ('Texas State University', 7.1602992218),\n",
       " ('El Paso Community College', 7.3025866892)]"
      ]
     },
     "execution_count": 174,
     "metadata": {},
     "output_type": "execute_result"
    }
   ],
   "source": [
    "sorted_teaching_orgs_changes[0:30]"
   ]
  },
  {
   "cell_type": "code",
   "execution_count": 169,
   "metadata": {},
   "outputs": [
    {
     "data": {
      "text/plain": [
       "[('Lansing Community College', 16.9017629858),\n",
       " ('The University of Texas at Arlington', 18.0855248642),\n",
       " ('Park University', 18.301895948),\n",
       " ('South Texas College', 18.8048918002),\n",
       " ('Bainbridge State College', 19.8516932047),\n",
       " ('Carnegie Mellon University', 20.1429719046),\n",
       " ('Blinn College', 20.5606108849),\n",
       " ('Casper College', 20.782816091),\n",
       " ('Lamar State College-Port Arthur', 20.7915415699),\n",
       " ('North Idaho College', 21.464381859),\n",
       " ('University of Florida', 21.8885893037),\n",
       " ('University of California-Irvine', 22.1277922004),\n",
       " ('The University of Texas at Austin', 22.3304274655),\n",
       " ('McLennan Community College', 23.0066010582),\n",
       " ('The University of Texas at Dallas', 25.0715182887),\n",
       " ('Alvin Community College', 25.3260995289),\n",
       " ('Loyola University New Orleans', 26.378563899),\n",
       " ('The University of Montana', 26.425997267),\n",
       " ('Imperial Valley College', 27.032456339),\n",
       " ('Amarillo College', 27.564027358),\n",
       " ('The University of Alabama', 29.5787790049),\n",
       " ('American University', 30.9383510282),\n",
       " ('Excelsior College', 31.1508004883),\n",
       " ('Clark State Community College', 31.6171327179),\n",
       " ('University of Southern California', 32.1949725082),\n",
       " ('Odessa College', 32.4316031507),\n",
       " ('San Jose State University', 34.3022243839),\n",
       " ('Stony Brook University', 35.6022387541),\n",
       " ('Princeton University', 45.3455490102),\n",
       " ('Texas A & M University-College Station', 51.7545528854)]"
      ]
     },
     "execution_count": 169,
     "metadata": {},
     "output_type": "execute_result"
    }
   ],
   "source": [
    "sorted_teaching_orgs_changes[-30:]"
   ]
  },
  {
   "cell_type": "markdown",
   "metadata": {},
   "source": [
    "### Direction of Changes"
   ]
  },
  {
   "cell_type": "code",
   "execution_count": 35,
   "metadata": {},
   "outputs": [],
   "source": [
    "from gensim.models.doc2vec import Doc2Vec"
   ]
  },
  {
   "cell_type": "code",
   "execution_count": 36,
   "metadata": {},
   "outputs": [],
   "source": [
    "d2vmodel = Doc2Vec.load(\"../embedding_models/alldoc2vec\")"
   ]
  },
  {
   "cell_type": "code",
   "execution_count": 37,
   "metadata": {},
   "outputs": [],
   "source": [
    "AI_keywords = \"Artificial Intelligence Machine Learning Data Oriented Methods Learning Process Classification \\\n",
    "                Prediction Performance Dataset Automation Automating Kernel Vector Computational\""
   ]
  },
  {
   "cell_type": "code",
   "execution_count": 38,
   "metadata": {},
   "outputs": [],
   "source": [
    "AI_vector = d2vmodel.infer_vector(AI_keywords)"
   ]
  },
  {
   "cell_type": "code",
   "execution_count": 39,
   "metadata": {},
   "outputs": [
    {
     "data": {
      "text/plain": [
       "69.59176790168699"
      ]
     },
     "execution_count": 39,
     "metadata": {},
     "output_type": "execute_result"
    }
   ],
   "source": [
    "angle_between(AI_vector, research_orgs_vectors[(\"Georgia Tech\", 2006)][0])[0]"
   ]
  },
  {
   "cell_type": "code",
   "execution_count": 40,
   "metadata": {},
   "outputs": [
    {
     "data": {
      "text/plain": [
       "65.4062296942917"
      ]
     },
     "execution_count": 40,
     "metadata": {},
     "output_type": "execute_result"
    }
   ],
   "source": [
    "angle_between(AI_vector, research_orgs_vectors[(\"Georgia Tech\", 2015)][0])[0]"
   ]
  },
  {
   "cell_type": "code",
   "execution_count": 175,
   "metadata": {},
   "outputs": [],
   "source": [
    "def maximum_change(vectors, direction_vector, min_papers=50, rev=False):\n",
    "    angles_between = {}\n",
    "    entity_names = []\n",
    "    \n",
    "    for pair in vectors:\n",
    "        entity, year = pair\n",
    "        if entity not in entity_names:\n",
    "            entity_names.append(entity)\n",
    "    \n",
    "    for entity in entity_names:\n",
    "        years = range(2006, 2018)\n",
    "        exist = []\n",
    "        for year in years:\n",
    "            if (entity, year) in vectors and vectors[(entity, year)][2] > min_papers:\n",
    "                exist.append(year)\n",
    "        if len(exist) == 0:\n",
    "            continue\n",
    "        min_year = min(exist)\n",
    "        max_year = max(exist)\n",
    "            \n",
    "        initial_diff = angle_between(vectors[(entity, min_year)][0], direction_vector)[0]\n",
    "        final_diff = angle_between(vectors[(entity, max_year)][0], direction_vector)[0]\n",
    "        angles_between[entity] = round(initial_diff - final_diff, 3)\n",
    "\n",
    "    sorted_angles = sorted(angles_between.items(), key=operator.itemgetter(1)) \n",
    "    if rev:\n",
    "        return sorted_angles\n",
    "    else:\n",
    "        sorted_angles.reverse()\n",
    "        return sorted_angles"
   ]
  },
  {
   "cell_type": "code",
   "execution_count": 219,
   "metadata": {},
   "outputs": [],
   "source": [
    "ai_angles = maximum_change(teaching_orgs_vectors, AI_vector, min_papers=500)"
   ]
  },
  {
   "cell_type": "code",
   "execution_count": 220,
   "metadata": {},
   "outputs": [
    {
     "data": {
      "text/plain": [
       "98"
      ]
     },
     "execution_count": 220,
     "metadata": {},
     "output_type": "execute_result"
    }
   ],
   "source": [
    "len(ai_angles)"
   ]
  },
  {
   "cell_type": "code",
   "execution_count": 217,
   "metadata": {},
   "outputs": [],
   "source": [
    "pos_med = []\n",
    "neg_med = []\n",
    "for angles in ai_angles:\n",
    "    uni, angle = angles\n",
    "    if \"Hlth\" in uni or \"Clin\" in uni or \"Hosp\" in uni or \"Med\" in uni or \"Biomed\" in uni:\n",
    "        if angle > 0:\n",
    "            pos_med.append(uni)\n",
    "        if angle < 0:\n",
    "            neg_med.append(uni)"
   ]
  },
  {
   "cell_type": "code",
   "execution_count": 221,
   "metadata": {},
   "outputs": [
    {
     "data": {
      "text/plain": [
       "[('Bainbridge State College', 8.633),\n",
       " ('Loyola University New Orleans', 5.353),\n",
       " ('Imperial Valley College', 5.011),\n",
       " ('University of Southern California', 4.78),\n",
       " ('Amarillo College', 3.809),\n",
       " ('Alvin Community College', 3.235),\n",
       " ('Princeton University', 3.148),\n",
       " ('Park University', 2.634),\n",
       " ('University of Florida', 2.582),\n",
       " ('Odessa College', 2.554),\n",
       " ('Texas A & M University-Commerce', 2.507),\n",
       " ('Southern Illinois University-Carbondale', 2.183),\n",
       " ('Azusa Pacific University', 2.178),\n",
       " ('Lamar University', 2.081),\n",
       " ('University of North Texas', 2.012),\n",
       " ('The University of Texas at Austin', 1.928),\n",
       " ('Texas Tech University', 1.761),\n",
       " ('Clark State Community College', 1.656),\n",
       " ('Tyler Junior College', 1.644),\n",
       " ('Bellevue College', 1.315),\n",
       " ('North Idaho College', 1.297),\n",
       " ('The University of Texas at San Antonio', 1.289),\n",
       " ('South Plains College', 1.26),\n",
       " ('College of the Redwoods', 1.218),\n",
       " ('Sul Ross State University', 1.187),\n",
       " ('Midwestern State University', 1.148),\n",
       " ('West Los Angeles College', 1.036),\n",
       " ('Dixie State University', 0.96),\n",
       " ('University of Michigan-Ann Arbor', 0.908),\n",
       " ('Southern Maine Community College', 0.875),\n",
       " ('The University of Montana', 0.834),\n",
       " ('Chaminade University of Honolulu', 0.818),\n",
       " ('Western New Mexico University', 0.687),\n",
       " ('College of Charleston', 0.633),\n",
       " ('Texas A & M International University', 0.582),\n",
       " ('University of Maryland-University College', 0.577),\n",
       " ('George Mason University', 0.419),\n",
       " ('Great Basin College', 0.304),\n",
       " ('Galveston College', 0.301),\n",
       " ('The University of Texas at Tyler', 0.205),\n",
       " ('University of Georgia', 0.171),\n",
       " ('Western Kentucky University', 0.136),\n",
       " ('Victoria College', 0.128),\n",
       " ('El Paso Community College', 0.089),\n",
       " ('South Texas College', 0.083),\n",
       " ('Collin County Community College District', 0.024),\n",
       " ('College of Marin', 0.0),\n",
       " ('SUNY at Binghamton', 0.0),\n",
       " ('Minnesota State College-Southeast Technical', 0.0),\n",
       " ('Central Michigan University', 0.0),\n",
       " ('North Central State College', 0.0),\n",
       " ('Santa Barbara City College', 0.0),\n",
       " ('Rio Salado College', 0.0),\n",
       " ('North Central Texas College', 0.0),\n",
       " ('The University of Texas of the Permian Basin', 0.0),\n",
       " ('Calvin College', 0.0),\n",
       " ('Florence-Darlington Technical College', 0.0),\n",
       " ('University of North Carolina at Chapel Hill', 0.0),\n",
       " ('University of Rhode Island', 0.0),\n",
       " ('Central Lakes College-Brainerd', 0.0),\n",
       " ('Nova Southeastern University', 0.0),\n",
       " ('Palm Beach State College', 0.0),\n",
       " ('Valencia College', 0.0),\n",
       " ('Brandeis University', 0.0),\n",
       " ('Santa Rosa Junior College', -0.019),\n",
       " ('Carnegie Mellon University', -0.304),\n",
       " ('Clemson University', -0.355),\n",
       " ('Lamar State College-Port Arthur', -0.678),\n",
       " ('Houston Community College', -0.766),\n",
       " ('Laredo Community College', -0.778),\n",
       " ('Texas State University', -0.891),\n",
       " ('College of the Mainland', -0.973),\n",
       " ('University of West Georgia', -1.075),\n",
       " ('Foothill College', -1.235),\n",
       " ('De Anza College', -1.357),\n",
       " ('Iowa State University', -1.431),\n",
       " ('Angelina College', -1.684),\n",
       " ('Jackson College', -1.713),\n",
       " ('Reedley College', -1.793),\n",
       " ('Oral Roberts University', -1.887),\n",
       " ('Sam Houston State University', -1.926),\n",
       " ('The University of Texas at Dallas', -2.062),\n",
       " ('Stephen F Austin State University', -2.068),\n",
       " ('Angelo State University', -2.284),\n",
       " ('New Mexico Junior College', -3.221),\n",
       " ('Casper College', -3.768),\n",
       " ('Lewis and Clark Community College', -3.866),\n",
       " ('Lansing Community College', -3.994),\n",
       " ('The University of Texas at Arlington', -4.122),\n",
       " ('American University', -4.188),\n",
       " ('The University of Alabama', -4.63),\n",
       " ('San Jose State University', -5.219),\n",
       " ('Excelsior College', -5.373),\n",
       " ('McLennan Community College', -7.146),\n",
       " ('Stony Brook University', -8.864),\n",
       " ('University of California-Irvine', -10.157),\n",
       " ('Blinn College', -10.173),\n",
       " ('Texas A & M University-College Station', -15.86)]"
      ]
     },
     "execution_count": 221,
     "metadata": {},
     "output_type": "execute_result"
    }
   ],
   "source": [
    "ai_angles"
   ]
  },
  {
   "cell_type": "markdown",
   "metadata": {},
   "source": [
    "### Rate of changes"
   ]
  },
  {
   "cell_type": "markdown",
   "metadata": {},
   "source": [
    "### Tiers and States and Change\n"
   ]
  },
  {
   "cell_type": "code",
   "execution_count": 44,
   "metadata": {},
   "outputs": [],
   "source": [
    "with open('../saved_data_structures/tiers.txt') as json_file:\n",
    "    tiers = json.load(json_file)"
   ]
  },
  {
   "cell_type": "code",
   "execution_count": 45,
   "metadata": {},
   "outputs": [],
   "source": [
    "tiers['1'].append('Harvard University')"
   ]
  },
  {
   "cell_type": "code",
   "execution_count": 46,
   "metadata": {},
   "outputs": [],
   "source": [
    "with open('../saved_data_structures/tiers_research.txt') as json_file:\n",
    "    tiers_research = json.load(json_file)"
   ]
  },
  {
   "cell_type": "code",
   "execution_count": 47,
   "metadata": {},
   "outputs": [],
   "source": [
    "def clean_uni_name(uni_name):\n",
    "    # matching for peculiarities in the tiers\n",
    "    # to fix - Uni Houston, Purdue, University of Pittsburgh, \n",
    "    # to fix - UMass-Amherst, UMass-Boston, Uni South Florida, Tulane, oklahoma-norman, uni of alaska\n",
    "    uni_name = uni_name.replace(\" - \", \"-\").replace(\" : \", \"-\").replace(\", \", \"-\").replace(\" (MIT)\", \"\").replace(\".\", \"\")\n",
    "    uni_name = uni_name.replace(\"Columbia University\", \"Columbia University in the City of New York\").replace(\"The \", \"\")\n",
    "    uni_name = uni_name.replace(\"University of Colorado at Boulder\", \"University of Colorado Boulder\")\n",
    "    uni_name = uni_name.replace(\"University of Colorado at Denver\", \"University of Colorado Denver\")\n",
    "    uni_name = uni_name.replace(\"University of Texas at Austin\", \"The University of Texas at Austin\")\n",
    "    uni_name = uni_name.replace(\"University of Texas at Dallas\", \"The University of Texas at Dallas\")\n",
    "    uni_name = uni_name.replace(\"Indiana University Bloomington\", \"Indiana University-Bloomington\")\n",
    "    uni_name = uni_name.replace(\"University of Washington\", \"University of Washington-Seattle Campus\")\n",
    "    uni_name = uni_name.replace(\"Georgia Institute of Technology\", \"Georgia Institute of Technology-Main Campus\")\n",
    "    uni_name = uni_name.replace(\"The Ohio State University - Columbus\", \"Ohio State University-Main Campus\")\n",
    "    uni_name = uni_name.replace(\"Texas A&M University\", \"Texas A & M University-College Station\")\n",
    "    return(uni_name)"
   ]
  },
  {
   "cell_type": "code",
   "execution_count": 180,
   "metadata": {},
   "outputs": [],
   "source": [
    "within_tier_angles_r = {}\n",
    "within_tier_angles_t = {}"
   ]
  },
  {
   "cell_type": "code",
   "execution_count": 49,
   "metadata": {},
   "outputs": [],
   "source": [
    "american_unis = []"
   ]
  },
  {
   "cell_type": "code",
   "execution_count": 50,
   "metadata": {},
   "outputs": [],
   "source": [
    "for tier in tiers:\n",
    "    for uni in tiers[tier]:\n",
    "        uni_name = clean_uni_name(uni)\n",
    "        if uni_name in entity_names:\n",
    "            american_unis.append(uni_name)"
   ]
  },
  {
   "cell_type": "code",
   "execution_count": 51,
   "metadata": {},
   "outputs": [],
   "source": [
    "america_tiers = {}"
   ]
  },
  {
   "cell_type": "code",
   "execution_count": 52,
   "metadata": {},
   "outputs": [],
   "source": [
    "i = 0"
   ]
  },
  {
   "cell_type": "code",
   "execution_count": 53,
   "metadata": {},
   "outputs": [],
   "source": [
    "for num in range(0, 7):\n",
    "    america_tiers[num] = american_unis[i:i+21]\n",
    "    i += 21"
   ]
  },
  {
   "cell_type": "code",
   "execution_count": 54,
   "metadata": {},
   "outputs": [],
   "source": [
    "america_tiers[0].remove('University of California-San Francisco')"
   ]
  },
  {
   "cell_type": "code",
   "execution_count": 55,
   "metadata": {},
   "outputs": [],
   "source": [
    "america_tiers[0].append('Harvard University')"
   ]
  },
  {
   "cell_type": "code",
   "execution_count": 56,
   "metadata": {},
   "outputs": [],
   "source": [
    "america_tiers[1].remove('Harvard University')"
   ]
  },
  {
   "cell_type": "code",
   "execution_count": 57,
   "metadata": {},
   "outputs": [],
   "source": [
    "america_tiers[1].append('University of California-San Francisco')"
   ]
  },
  {
   "cell_type": "code",
   "execution_count": 93,
   "metadata": {},
   "outputs": [
    {
     "data": {
      "text/plain": [
       "6.996"
      ]
     },
     "execution_count": 93,
     "metadata": {},
     "output_type": "execute_result"
    }
   ],
   "source": [
    "research_orgs_changes['MIT']"
   ]
  },
  {
   "cell_type": "code",
   "execution_count": 181,
   "metadata": {},
   "outputs": [
    {
     "name": "stdout",
     "output_type": "stream",
     "text": [
      "0 10 18\n",
      "1 8 15\n",
      "2 15 17\n",
      "3 12 14\n",
      "4 14 15\n",
      "5 14 8\n",
      "6 13 11\n"
     ]
    }
   ],
   "source": [
    "for tier in america_tiers:\n",
    "    \n",
    "    within_tier_angles_r[tier] = 0\n",
    "    within_tier_angles_t[tier] = 0\n",
    "    tier_checks_r = 0\n",
    "    tier_checks_t = 0\n",
    "    for uni in america_tiers[tier]:  \n",
    "        try:\n",
    "            teaching_change = teaching_orgs_changes[clean_uni_name(uni)]\n",
    "            within_tier_angles_t[tier] += teaching_change\n",
    "            tier_checks_t += 1\n",
    "        except KeyError:\n",
    "            #print(uni + \" teaching\")\n",
    "            pass\n",
    "        try:\n",
    "            research_change = research_orgs_changes[teaching_to_research_match[clean_uni_name(uni)]]\n",
    "            within_tier_angles_r[tier] += research_change\n",
    "            tier_checks_r += 1\n",
    "        except KeyError:\n",
    "            #print(uni + \" research\")\n",
    "            pass\n",
    "            \n",
    "    print(tier, tier_checks_r, tier_checks_t)\n",
    "    within_tier_angles_r[tier] = round(within_tier_angles_r[tier] / tier_checks_r, 3)\n",
    "    within_tier_angles_t[tier] = round(within_tier_angles_t[tier] / tier_checks_t, 3)\n",
    "        \n",
    "        "
   ]
  },
  {
   "cell_type": "code",
   "execution_count": 182,
   "metadata": {},
   "outputs": [
    {
     "data": {
      "text/plain": [
       "{0: 6.34, 1: 7.246, 2: 7.4, 3: 8.847, 4: 10.224, 5: 11.878, 6: 16.818}"
      ]
     },
     "execution_count": 182,
     "metadata": {},
     "output_type": "execute_result"
    }
   ],
   "source": [
    "within_tier_angles_r"
   ]
  },
  {
   "cell_type": "code",
   "execution_count": 183,
   "metadata": {},
   "outputs": [
    {
     "data": {
      "text/plain": [
       "{0: 29.407, 1: 33.552, 2: 29.279, 3: 30.693, 4: 23.486, 5: 21.315, 6: 22.239}"
      ]
     },
     "execution_count": 183,
     "metadata": {},
     "output_type": "execute_result"
    }
   ],
   "source": [
    "within_tier_angles_t"
   ]
  },
  {
   "cell_type": "code",
   "execution_count": 184,
   "metadata": {},
   "outputs": [],
   "source": [
    "reader = csv.reader(open(\"../saved_data_structures/state_unis.csv\"))"
   ]
  },
  {
   "cell_type": "code",
   "execution_count": 185,
   "metadata": {},
   "outputs": [],
   "source": [
    "states = {}"
   ]
  },
  {
   "cell_type": "code",
   "execution_count": 186,
   "metadata": {},
   "outputs": [],
   "source": [
    "for k,v in reader:\n",
    "    states[k] = eval(v)"
   ]
  },
  {
   "cell_type": "code",
   "execution_count": 187,
   "metadata": {},
   "outputs": [],
   "source": [
    "state_changes_r = {}\n",
    "state_changes_t = {}"
   ]
  },
  {
   "cell_type": "code",
   "execution_count": 188,
   "metadata": {},
   "outputs": [
    {
     "name": "stdout",
     "output_type": "stream",
     "text": [
      "NM\n",
      "MO\n",
      "NV\n",
      "ND\n",
      "DE\n",
      "\n"
     ]
    }
   ],
   "source": [
    "for state in states:\n",
    "    state_changes_r[state] = 0\n",
    "    state_changes_t[state] = 0\n",
    "    state_checks_r = 0\n",
    "    state_checks_t = 0\n",
    "    \n",
    "    for uni in states[state]:  \n",
    "        try:\n",
    "            teaching_change = teaching_orgs_changes[uni]\n",
    "            state_changes_t[state] += teaching_change\n",
    "            state_checks_t += 1\n",
    "        except KeyError:\n",
    "            pass\n",
    "        try:\n",
    "            research_change = research_orgs_changes[teaching_to_research_match[uni]]\n",
    "            state_changes_r[state] += research_change\n",
    "            state_checks_r += 1\n",
    "        except KeyError:\n",
    "            pass\n",
    "            \n",
    "    try:\n",
    "        state_changes_r[state] = round(state_changes_r[state] / state_checks_r, 3)\n",
    "        state_changes_t[state] = round(state_changes_t[state] / state_checks_t, 3)\n",
    "    except ZeroDivisionError:\n",
    "        del state_changes_r[state]\n",
    "        del state_changes_t[state]\n",
    "        print(state)\n",
    "        \n"
   ]
  },
  {
   "cell_type": "code",
   "execution_count": 189,
   "metadata": {},
   "outputs": [
    {
     "data": {
      "text/plain": [
       "{'TX': 18.048,\n",
       " 'MS': 12.46,\n",
       " 'MA': 15.871,\n",
       " 'CA': 17.548,\n",
       " 'GA': 12.989,\n",
       " 'NJ': 16.534,\n",
       " 'MI': 17.417,\n",
       " 'FL': 12.132,\n",
       " 'AL': 17.713,\n",
       " 'NC': 11.964,\n",
       " 'NY': 14.419,\n",
       " 'OH': 16.141,\n",
       " 'IL': 19.283,\n",
       " 'WA': 11.082,\n",
       " 'MD': 21.477,\n",
       " 'SC': 9.284,\n",
       " 'MT': 10.098,\n",
       " 'KY': 13.152,\n",
       " 'IA': 14.037,\n",
       " 'LA': 15.106,\n",
       " 'UT': 4.866,\n",
       " 'CO': 14.1,\n",
       " 'HI': 7.539,\n",
       " 'OK': 21.36,\n",
       " 'WY': 8.6,\n",
       " 'PA': 15.636,\n",
       " 'IN': 18.915,\n",
       " 'AZ': 5.69,\n",
       " 'VA': 15.375,\n",
       " 'VT': 17.619,\n",
       " 'WI': 17.063,\n",
       " 'ID': 12.656,\n",
       " 'AR': 4.941,\n",
       " 'DC': 12.352,\n",
       " 'TN': 16.893,\n",
       " 'OR': 9.244,\n",
       " 'MN': 0.0,\n",
       " 'NH': 17.07,\n",
       " 'KS': 11.236,\n",
       " 'RI': 6.116,\n",
       " 'ME': 22.731,\n",
       " 'WV': 18.745,\n",
       " 'AK': 13.787,\n",
       " 'SD': 10.541,\n",
       " 'NE': 13.629,\n",
       " 'CT': 12.978}"
      ]
     },
     "execution_count": 189,
     "metadata": {},
     "output_type": "execute_result"
    }
   ],
   "source": [
    "state_changes_r"
   ]
  },
  {
   "cell_type": "code",
   "execution_count": 190,
   "metadata": {},
   "outputs": [
    {
     "data": {
      "text/plain": [
       "{'TX': 17.777,\n",
       " 'MS': 4.735,\n",
       " 'MA': 23.362,\n",
       " 'CA': 24.517,\n",
       " 'GA': 30.793,\n",
       " 'NJ': 19.538,\n",
       " 'MI': 16.868,\n",
       " 'FL': 17.769,\n",
       " 'AL': 13.757,\n",
       " 'NC': 21.334,\n",
       " 'NY': 25.876,\n",
       " 'OH': 25.962,\n",
       " 'IL': 20.046,\n",
       " 'WA': 21.367,\n",
       " 'MD': 17.602,\n",
       " 'SC': 13.346,\n",
       " 'MT': 18.874,\n",
       " 'KY': 14.198,\n",
       " 'IA': 25.152,\n",
       " 'LA': 22.615,\n",
       " 'UT': 20.374,\n",
       " 'CO': 21.611,\n",
       " 'HI': 20.273,\n",
       " 'OK': 24.845,\n",
       " 'WY': 20.055,\n",
       " 'PA': 21.483,\n",
       " 'IN': 25.333,\n",
       " 'AZ': 20.63,\n",
       " 'VA': 14.083,\n",
       " 'VT': 24.459,\n",
       " 'WI': 18.336,\n",
       " 'ID': 20.651,\n",
       " 'AR': 24.861,\n",
       " 'DC': 28.461,\n",
       " 'TN': 11.565,\n",
       " 'OR': 27.727,\n",
       " 'MN': 24.732,\n",
       " 'NH': 24.757,\n",
       " 'KS': 11.574,\n",
       " 'RI': 31.949,\n",
       " 'ME': 4.156,\n",
       " 'WV': 24.684,\n",
       " 'AK': 13.744,\n",
       " 'SD': 7.034,\n",
       " 'NE': 25.603,\n",
       " 'CT': 16.379}"
      ]
     },
     "execution_count": 190,
     "metadata": {},
     "output_type": "execute_result"
    }
   ],
   "source": [
    "state_changes_t"
   ]
  },
  {
   "cell_type": "code",
   "execution_count": 191,
   "metadata": {},
   "outputs": [],
   "source": [
    "sorted_state_changes_r = sorted(state_changes_r.items(), key=operator.itemgetter(1))"
   ]
  },
  {
   "cell_type": "code",
   "execution_count": 192,
   "metadata": {},
   "outputs": [],
   "source": [
    "sorted_state_changes_t = sorted(state_changes_t.items(), key=operator.itemgetter(1))"
   ]
  },
  {
   "cell_type": "code",
   "execution_count": 193,
   "metadata": {},
   "outputs": [
    {
     "data": {
      "text/plain": [
       "[('MN', 0.0),\n",
       " ('UT', 4.866),\n",
       " ('AR', 4.941),\n",
       " ('AZ', 5.69),\n",
       " ('RI', 6.116),\n",
       " ('HI', 7.539),\n",
       " ('WY', 8.6),\n",
       " ('OR', 9.244),\n",
       " ('SC', 9.284),\n",
       " ('MT', 10.098),\n",
       " ('SD', 10.541),\n",
       " ('WA', 11.082),\n",
       " ('KS', 11.236),\n",
       " ('NC', 11.964),\n",
       " ('FL', 12.132),\n",
       " ('DC', 12.352),\n",
       " ('MS', 12.46),\n",
       " ('ID', 12.656),\n",
       " ('CT', 12.978),\n",
       " ('GA', 12.989),\n",
       " ('KY', 13.152),\n",
       " ('NE', 13.629),\n",
       " ('AK', 13.787),\n",
       " ('IA', 14.037),\n",
       " ('CO', 14.1),\n",
       " ('NY', 14.419),\n",
       " ('LA', 15.106),\n",
       " ('VA', 15.375),\n",
       " ('PA', 15.636),\n",
       " ('MA', 15.871),\n",
       " ('OH', 16.141),\n",
       " ('NJ', 16.534),\n",
       " ('TN', 16.893),\n",
       " ('WI', 17.063),\n",
       " ('NH', 17.07),\n",
       " ('MI', 17.417),\n",
       " ('CA', 17.548),\n",
       " ('VT', 17.619),\n",
       " ('AL', 17.713),\n",
       " ('TX', 18.048),\n",
       " ('WV', 18.745),\n",
       " ('IN', 18.915),\n",
       " ('IL', 19.283),\n",
       " ('OK', 21.36),\n",
       " ('MD', 21.477),\n",
       " ('ME', 22.731)]"
      ]
     },
     "execution_count": 193,
     "metadata": {},
     "output_type": "execute_result"
    }
   ],
   "source": [
    "sorted_state_changes_r"
   ]
  },
  {
   "cell_type": "code",
   "execution_count": 194,
   "metadata": {},
   "outputs": [],
   "source": [
    "reader = csv.reader(open(\"../saved_data_structures/city_unis.csv\"))"
   ]
  },
  {
   "cell_type": "code",
   "execution_count": 195,
   "metadata": {},
   "outputs": [],
   "source": [
    "cities = {}"
   ]
  },
  {
   "cell_type": "code",
   "execution_count": 196,
   "metadata": {},
   "outputs": [],
   "source": [
    "for k,v in reader:\n",
    "    cities[k] = eval(v)"
   ]
  },
  {
   "cell_type": "code",
   "execution_count": 197,
   "metadata": {},
   "outputs": [],
   "source": [
    "city_changes_r = {}\n",
    "city_changes_t = {}"
   ]
  },
  {
   "cell_type": "code",
   "execution_count": 198,
   "metadata": {},
   "outputs": [
    {
     "name": "stdout",
     "output_type": "stream",
     "text": [
      "Union\n",
      "Albany\n",
      "Laredo\n",
      "Orlando\n",
      "Bellevue\n",
      "Wilkes-Barre\n",
      "Saratoga Springs\n",
      "Evansville\n",
      "Charlotte\n",
      "Denton\n",
      "Austin\n",
      "La Jolla\n",
      "Irvine\n",
      "Tampa\n",
      "Springfield\n",
      "Champaign\n",
      "Fort Lauderdale\n",
      "Knoxville\n",
      "Santa Monica\n",
      "Scranton\n",
      "Ann Arbor\n",
      "Mount Pleasant\n",
      "Abilene\n",
      "Victoria\n",
      "Salem\n",
      "Salisbury\n",
      "Madison\n",
      "Pittsburg\n",
      "Wilmington\n",
      "Florence\n",
      "Arlington\n",
      "Grand Rapids\n",
      "Rome\n",
      "Las Vegas\n",
      "Saint Louis\n",
      "Bloomington\n",
      "Evanston\n",
      "Northfield\n",
      "Boulder\n",
      "Fort Wayne\n",
      "Blacksburg\n",
      "El Paso\n",
      "Claremont\n",
      "Eureka\n",
      "Danville\n",
      "Columbia\n",
      "Louisville\n",
      "Odessa\n",
      "Santa Barbara\n",
      "Winter Park\n",
      "Houghton\n",
      "Albuquerque\n",
      "Greensboro\n",
      "Kansas City\n",
      "Rock Hill\n",
      "Baton Rouge\n",
      "Worcester\n",
      "Minneapolis\n",
      "Roanoke\n",
      "Edmond\n",
      "Miami\n",
      "Rocklin\n",
      "Texarkana\n",
      "Chattanooga\n",
      "Mansfield\n",
      "Little Rock\n",
      "Pasadena\n",
      "Greenville\n",
      "Brooklyn Park\n",
      "Allentown\n",
      "Monmouth\n",
      "Winona\n",
      "Omaha\n",
      "Dover\n",
      "Reno\n",
      "Raleigh\n",
      "Birmingham\n",
      "Dallas\n",
      "Walla Walla\n",
      "Fort Worth\n",
      "Greenwood\n",
      "Lynchburg\n",
      "Farmington\n",
      "Canton\n",
      "Indianapolis\n",
      "Monroe\n",
      "Clinton\n",
      "Pueblo\n",
      "New London\n",
      "Olympia\n",
      "San Luis Obispo\n",
      "Kalamazoo\n",
      "Fulton\n",
      "Hillsboro\n",
      "Plattsburgh\n",
      "Mount Vernon\n",
      "Staten Island\n",
      "Sarasota\n",
      "Hartford\n",
      "Savannah\n",
      "Lawrenceville\n",
      "Monterey\n",
      "Mobile\n",
      "Phoenix\n",
      "Cypress\n",
      "Easton\n",
      "Colorado Springs\n",
      "Tacoma\n",
      "Pensacola\n",
      "Troy\n",
      "Camarillo\n",
      "Fresno\n",
      "Auburn\n",
      "Moorhead\n",
      "Lewiston\n",
      "Riverside\n",
      "Decatur\n",
      "York\n",
      "Fairfield\n",
      "Whittier\n",
      "Berea\n",
      "Norfolk\n",
      "Asheville\n",
      "El Cajon\n",
      "Pleasant Hill\n",
      "Williamsburg\n",
      "Manchester\n",
      "Marietta\n",
      "Bryn Mawr\n",
      "Des Moines\n",
      "Newton Centre\n",
      "Lincoln\n",
      "Charlottesville\n",
      "Bridgewater\n",
      "Bakersfield\n",
      "Hattiesburg\n",
      "Purchase\n",
      "Centralia\n",
      "Merced\n",
      "Wilmore\n",
      "Kenosha\n",
      "Hammond\n",
      "Aberdeen\n",
      "River Forest\n",
      "Oakland\n",
      "Waterbury\n",
      "Georgetown\n",
      "Dayton\n",
      "Costa Mesa\n",
      "Hampton\n",
      "Erie\n",
      "Green Bay\n",
      "La Crosse\n",
      "Duluth\n",
      "Maryville\n",
      "Spartanburg\n",
      "Brooklyn\n",
      "Flushing\n",
      "Fremont\n",
      "Adrian\n",
      "San Bernardino\n",
      "Nampa\n",
      "West Hartford\n",
      "Appleton\n",
      "Wellesley\n",
      "El Dorado\n",
      "Ashland\n",
      "Flint\n",
      "Clarksville\n",
      "Jersey City\n",
      "Frederick\n",
      "Pendleton\n",
      "Anchorage\n",
      "Oklahoma City\n",
      "Lancaster\n",
      "Helena\n",
      "Kirksville\n",
      "Sanford\n",
      "New Britain\n",
      "Nashua\n",
      "Oneonta\n",
      "Brunswick\n",
      "Bridgeport\n",
      "Montgomery\n",
      "Hayward\n",
      "Glenside\n",
      "Greensburg\n",
      "Wayne\n",
      "Americus\n",
      "Manhattan\n",
      "Schenectady\n",
      "Longview\n",
      "Corpus Christi\n",
      "Norwalk\n",
      "University Center\n",
      "Billings\n",
      "Cedar Rapids\n",
      "Lafayette\n",
      "Joliet\n",
      "Overland Park\n",
      "Plymouth\n",
      "Delaware\n",
      "Klamath Falls\n",
      "Weatherford\n",
      "Bristol\n",
      "Poughkeepsie\n",
      "Long Island City\n",
      "Lebanon\n",
      "Potsdam\n",
      "Elizabeth City\n",
      "Stockton\n",
      "New Rochelle\n",
      "Lakewood\n",
      "Elgin\n",
      "Macon\n",
      "Marshall\n",
      "Eau Claire\n",
      "Sioux City\n",
      "Franklin\n",
      "Dearborn\n",
      "Daytona Beach\n",
      "Augusta\n",
      "Reading\n",
      "Quincy\n",
      "Davenport\n",
      "Dubuque\n",
      "Sioux Falls\n",
      "Westminster\n",
      "Shreveport\n",
      "Newton\n",
      "North Canton\n",
      "Joplin\n",
      "Jefferson City\n",
      "Arkadelphia\n",
      "Utica\n",
      "Aurora\n",
      "Prescott\n",
      "Rockford\n",
      "Trenton\n",
      "Winston-Salem\n",
      "Orangeburg\n",
      "Galesburg\n",
      "Keene\n",
      "Lakeland\n",
      "Lake Charles\n",
      "Bismarck\n",
      "Batesville\n",
      "Hilo\n",
      "Hickory\n",
      "Rocky Mount\n",
      "Alexandria\n",
      "Ventura\n",
      "Bethany\n",
      "Johnstown\n",
      "Smithfield\n",
      "Watertown\n",
      "Livonia\n",
      "Vallejo\n",
      "Henderson\n",
      "Sumter\n"
     ]
    },
    {
     "name": "stderr",
     "output_type": "stream",
     "text": [
      "/software/Anaconda3-5.3.0-el7-x86_64/lib/python3.6/site-packages/ipykernel_launcher.py:31: RuntimeWarning: divide by zero encountered in double_scalars\n",
      "/software/Anaconda3-5.3.0-el7-x86_64/lib/python3.6/site-packages/ipykernel_launcher.py:30: RuntimeWarning: invalid value encountered in double_scalars\n",
      "/software/Anaconda3-5.3.0-el7-x86_64/lib/python3.6/site-packages/ipykernel_launcher.py:31: RuntimeWarning: invalid value encountered in double_scalars\n"
     ]
    }
   ],
   "source": [
    "for city in cities:\n",
    "    \n",
    "    \n",
    "    if len(cities[city]) < 2:\n",
    "        continue\n",
    "    \n",
    "    city_changes_r[city] = 0\n",
    "    city_changes_t[city] = 0\n",
    "    city_checks_r = 0\n",
    "    city_checks_t = 0\n",
    "    \n",
    "\n",
    "    \n",
    "    \n",
    "    for uni in cities[city]:  \n",
    "        try:\n",
    "            teaching_change = teaching_orgs_changes[uni]\n",
    "            city_changes_t[city] += teaching_change\n",
    "            city_checks_t += 1\n",
    "        except KeyError:\n",
    "            pass\n",
    "        try:\n",
    "            research_change = research_orgs_changes[teaching_to_research_match[uni]]\n",
    "            city_changes_r[city] += research_change\n",
    "            city_checks_r += 1\n",
    "        except KeyError:\n",
    "            pass\n",
    "            \n",
    "    try:\n",
    "        city_changes_r[city] /= round(city_changes_r[city] / city_checks_r, 3)\n",
    "        city_changes_t[city] /= round(city_changes_t[city] / city_checks_t, 3)\n",
    "    except ZeroDivisionError:\n",
    "        del city_changes_r[city]\n",
    "        del city_changes_t[city]\n",
    "        print(city)"
   ]
  },
  {
   "cell_type": "code",
   "execution_count": 199,
   "metadata": {},
   "outputs": [
    {
     "data": {
      "text/plain": [
       "1.0000401795857436"
      ]
     },
     "execution_count": 199,
     "metadata": {},
     "output_type": "execute_result"
    }
   ],
   "source": [
    "city_changes_r['Chicago']"
   ]
  },
  {
   "cell_type": "code",
   "execution_count": 200,
   "metadata": {},
   "outputs": [],
   "source": [
    "import seaborn as sns\n",
    "import matplotlib.pyplot as plt"
   ]
  },
  {
   "cell_type": "code",
   "execution_count": 201,
   "metadata": {},
   "outputs": [],
   "source": [
    "def analyse_cities(cities, rev=True):\n",
    "    angles = list(cities.values())\n",
    "    angles = list(filter((0).__ne__, angles))\n",
    "    ax = sns.distplot(angles)\n",
    "    ax.set(xlabel=\"Angles\", ylabel=\"Proportion of Counts\", title=\"Distribution of Angles\")\n",
    "    plt.show()\n",
    "    sorted_vals = sorted(cities.items(), key=operator.itemgetter(1))\n",
    "    if rev:\n",
    "        sorted_vals.reverse()\n",
    "        return sorted_vals\n",
    "    else:\n",
    "        return sorted_vals"
   ]
  },
  {
   "cell_type": "code",
   "execution_count": 202,
   "metadata": {},
   "outputs": [
    {
     "name": "stderr",
     "output_type": "stream",
     "text": [
      "/software/Anaconda3-5.3.0-el7-x86_64/lib/python3.6/site-packages/numpy/core/_methods.py:28: RuntimeWarning: invalid value encountered in reduce\n",
      "  return umr_maximum(a, axis, None, out, keepdims, initial)\n",
      "/software/Anaconda3-5.3.0-el7-x86_64/lib/python3.6/site-packages/numpy/core/_methods.py:32: RuntimeWarning: invalid value encountered in reduce\n",
      "  return umr_minimum(a, axis, None, out, keepdims, initial)\n"
     ]
    },
    {
     "ename": "ValueError",
     "evalue": "cannot convert float NaN to integer",
     "output_type": "error",
     "traceback": [
      "\u001b[0;31m---------------------------------------------------------------------------\u001b[0m",
      "\u001b[0;31mValueError\u001b[0m                                Traceback (most recent call last)",
      "\u001b[0;32m<ipython-input-202-0773c0cb34ba>\u001b[0m in \u001b[0;36m<module>\u001b[0;34m\u001b[0m\n\u001b[0;32m----> 1\u001b[0;31m \u001b[0msorted_changes_r\u001b[0m \u001b[0;34m=\u001b[0m \u001b[0manalyse_cities\u001b[0m\u001b[0;34m(\u001b[0m\u001b[0mcity_changes_r\u001b[0m\u001b[0;34m)\u001b[0m\u001b[0;34m\u001b[0m\u001b[0;34m\u001b[0m\u001b[0m\n\u001b[0m",
      "\u001b[0;32m<ipython-input-201-6e6c8d21c35d>\u001b[0m in \u001b[0;36manalyse_cities\u001b[0;34m(cities, rev)\u001b[0m\n\u001b[1;32m      2\u001b[0m     \u001b[0mangles\u001b[0m \u001b[0;34m=\u001b[0m \u001b[0mlist\u001b[0m\u001b[0;34m(\u001b[0m\u001b[0mcities\u001b[0m\u001b[0;34m.\u001b[0m\u001b[0mvalues\u001b[0m\u001b[0;34m(\u001b[0m\u001b[0;34m)\u001b[0m\u001b[0;34m)\u001b[0m\u001b[0;34m\u001b[0m\u001b[0;34m\u001b[0m\u001b[0m\n\u001b[1;32m      3\u001b[0m     \u001b[0mangles\u001b[0m \u001b[0;34m=\u001b[0m \u001b[0mlist\u001b[0m\u001b[0;34m(\u001b[0m\u001b[0mfilter\u001b[0m\u001b[0;34m(\u001b[0m\u001b[0;34m(\u001b[0m\u001b[0;36m0\u001b[0m\u001b[0;34m)\u001b[0m\u001b[0;34m.\u001b[0m\u001b[0m__ne__\u001b[0m\u001b[0;34m,\u001b[0m \u001b[0mangles\u001b[0m\u001b[0;34m)\u001b[0m\u001b[0;34m)\u001b[0m\u001b[0;34m\u001b[0m\u001b[0;34m\u001b[0m\u001b[0m\n\u001b[0;32m----> 4\u001b[0;31m     \u001b[0max\u001b[0m \u001b[0;34m=\u001b[0m \u001b[0msns\u001b[0m\u001b[0;34m.\u001b[0m\u001b[0mdistplot\u001b[0m\u001b[0;34m(\u001b[0m\u001b[0mangles\u001b[0m\u001b[0;34m)\u001b[0m\u001b[0;34m\u001b[0m\u001b[0;34m\u001b[0m\u001b[0m\n\u001b[0m\u001b[1;32m      5\u001b[0m     \u001b[0max\u001b[0m\u001b[0;34m.\u001b[0m\u001b[0mset\u001b[0m\u001b[0;34m(\u001b[0m\u001b[0mxlabel\u001b[0m\u001b[0;34m=\u001b[0m\u001b[0;34m\"Angles\"\u001b[0m\u001b[0;34m,\u001b[0m \u001b[0mylabel\u001b[0m\u001b[0;34m=\u001b[0m\u001b[0;34m\"Proportion of Counts\"\u001b[0m\u001b[0;34m,\u001b[0m \u001b[0mtitle\u001b[0m\u001b[0;34m=\u001b[0m\u001b[0;34m\"Distribution of Angles\"\u001b[0m\u001b[0;34m)\u001b[0m\u001b[0;34m\u001b[0m\u001b[0;34m\u001b[0m\u001b[0m\n\u001b[1;32m      6\u001b[0m     \u001b[0mplt\u001b[0m\u001b[0;34m.\u001b[0m\u001b[0mshow\u001b[0m\u001b[0;34m(\u001b[0m\u001b[0;34m)\u001b[0m\u001b[0;34m\u001b[0m\u001b[0;34m\u001b[0m\u001b[0m\n",
      "\u001b[0;32m/software/Anaconda3-5.3.0-el7-x86_64/lib/python3.6/site-packages/seaborn/distributions.py\u001b[0m in \u001b[0;36mdistplot\u001b[0;34m(a, bins, hist, kde, rug, fit, hist_kws, kde_kws, rug_kws, fit_kws, color, vertical, norm_hist, axlabel, label, ax)\u001b[0m\n\u001b[1;32m    213\u001b[0m     \u001b[0;32mif\u001b[0m \u001b[0mhist\u001b[0m\u001b[0;34m:\u001b[0m\u001b[0;34m\u001b[0m\u001b[0;34m\u001b[0m\u001b[0m\n\u001b[1;32m    214\u001b[0m         \u001b[0;32mif\u001b[0m \u001b[0mbins\u001b[0m \u001b[0;32mis\u001b[0m \u001b[0;32mNone\u001b[0m\u001b[0;34m:\u001b[0m\u001b[0;34m\u001b[0m\u001b[0;34m\u001b[0m\u001b[0m\n\u001b[0;32m--> 215\u001b[0;31m             \u001b[0mbins\u001b[0m \u001b[0;34m=\u001b[0m \u001b[0mmin\u001b[0m\u001b[0;34m(\u001b[0m\u001b[0m_freedman_diaconis_bins\u001b[0m\u001b[0;34m(\u001b[0m\u001b[0ma\u001b[0m\u001b[0;34m)\u001b[0m\u001b[0;34m,\u001b[0m \u001b[0;36m50\u001b[0m\u001b[0;34m)\u001b[0m\u001b[0;34m\u001b[0m\u001b[0;34m\u001b[0m\u001b[0m\n\u001b[0m\u001b[1;32m    216\u001b[0m         \u001b[0mhist_kws\u001b[0m\u001b[0;34m.\u001b[0m\u001b[0msetdefault\u001b[0m\u001b[0;34m(\u001b[0m\u001b[0;34m\"alpha\"\u001b[0m\u001b[0;34m,\u001b[0m \u001b[0;36m0.4\u001b[0m\u001b[0;34m)\u001b[0m\u001b[0;34m\u001b[0m\u001b[0;34m\u001b[0m\u001b[0m\n\u001b[1;32m    217\u001b[0m         \u001b[0;32mif\u001b[0m \u001b[0mLooseVersion\u001b[0m\u001b[0;34m(\u001b[0m\u001b[0mmpl\u001b[0m\u001b[0;34m.\u001b[0m\u001b[0m__version__\u001b[0m\u001b[0;34m)\u001b[0m \u001b[0;34m<\u001b[0m \u001b[0mLooseVersion\u001b[0m\u001b[0;34m(\u001b[0m\u001b[0;34m\"2.2\"\u001b[0m\u001b[0;34m)\u001b[0m\u001b[0;34m:\u001b[0m\u001b[0;34m\u001b[0m\u001b[0;34m\u001b[0m\u001b[0m\n",
      "\u001b[0;32m/software/Anaconda3-5.3.0-el7-x86_64/lib/python3.6/site-packages/seaborn/distributions.py\u001b[0m in \u001b[0;36m_freedman_diaconis_bins\u001b[0;34m(a)\u001b[0m\n\u001b[1;32m     37\u001b[0m         \u001b[0;32mreturn\u001b[0m \u001b[0mint\u001b[0m\u001b[0;34m(\u001b[0m\u001b[0mnp\u001b[0m\u001b[0;34m.\u001b[0m\u001b[0msqrt\u001b[0m\u001b[0;34m(\u001b[0m\u001b[0ma\u001b[0m\u001b[0;34m.\u001b[0m\u001b[0msize\u001b[0m\u001b[0;34m)\u001b[0m\u001b[0;34m)\u001b[0m\u001b[0;34m\u001b[0m\u001b[0;34m\u001b[0m\u001b[0m\n\u001b[1;32m     38\u001b[0m     \u001b[0;32melse\u001b[0m\u001b[0;34m:\u001b[0m\u001b[0;34m\u001b[0m\u001b[0;34m\u001b[0m\u001b[0m\n\u001b[0;32m---> 39\u001b[0;31m         \u001b[0;32mreturn\u001b[0m \u001b[0mint\u001b[0m\u001b[0;34m(\u001b[0m\u001b[0mnp\u001b[0m\u001b[0;34m.\u001b[0m\u001b[0mceil\u001b[0m\u001b[0;34m(\u001b[0m\u001b[0;34m(\u001b[0m\u001b[0ma\u001b[0m\u001b[0;34m.\u001b[0m\u001b[0mmax\u001b[0m\u001b[0;34m(\u001b[0m\u001b[0;34m)\u001b[0m \u001b[0;34m-\u001b[0m \u001b[0ma\u001b[0m\u001b[0;34m.\u001b[0m\u001b[0mmin\u001b[0m\u001b[0;34m(\u001b[0m\u001b[0;34m)\u001b[0m\u001b[0;34m)\u001b[0m \u001b[0;34m/\u001b[0m \u001b[0mh\u001b[0m\u001b[0;34m)\u001b[0m\u001b[0;34m)\u001b[0m\u001b[0;34m\u001b[0m\u001b[0;34m\u001b[0m\u001b[0m\n\u001b[0m\u001b[1;32m     40\u001b[0m \u001b[0;34m\u001b[0m\u001b[0m\n\u001b[1;32m     41\u001b[0m \u001b[0;34m\u001b[0m\u001b[0m\n",
      "\u001b[0;31mValueError\u001b[0m: cannot convert float NaN to integer"
     ]
    },
    {
     "data": {
      "image/png": "[encoded data removed]",
      "text/plain": [
       "<Figure size 432x288 with 1 Axes>"
      ]
     },
     "metadata": {
      "needs_background": "light"
     },
     "output_type": "display_data"
    }
   ],
   "source": [
    "sorted_changes_r = analyse_cities(city_changes_r)"
   ]
  },
  {
   "cell_type": "code",
   "execution_count": null,
   "metadata": {},
   "outputs": [],
   "source": [
    "sorted_changes_r[-20:]"
   ]
  },
  {
   "cell_type": "code",
   "execution_count": null,
   "metadata": {},
   "outputs": [],
   "source": [
    "sorted_changes_r[0:20]"
   ]
  }
 ],
 "metadata": {
  "kernelspec": {
   "display_name": "Python 3",
   "language": "python",
   "name": "python3"
  },
  "language_info": {
   "codemirror_mode": {
    "name": "ipython",
    "version": 3
   },
   "file_extension": ".py",
   "mimetype": "text/x-python",
   "name": "python",
   "nbconvert_exporter": "python",
   "pygments_lexer": "ipython3",
   "version": "3.6.9"
  }
 },
 "nbformat": 4,
 "nbformat_minor": 2
}
