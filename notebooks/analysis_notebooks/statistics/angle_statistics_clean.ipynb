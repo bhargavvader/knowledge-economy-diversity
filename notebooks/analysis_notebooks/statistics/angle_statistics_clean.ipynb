{
 "cells": [
  {
   "cell_type": "markdown",
   "metadata": {},
   "source": [
    "### Relationship Matrix\n",
    "\n",
    "We will be creating a dictionary which will create a matrix from the vectors passed.\n",
    "\n",
    "For cities:\n",
    "\n",
    "{(city_1, city_2)} = angles((r1, r2), (t1, r2), (j1, r2), (r1, t2), (t1, t2), (j1, t2), (r1, j2), (t1, j2), (j1, j2))\n",
    "\n",
    "{city} = angles((r, t), (r, j), (t, j))\n",
    "\n",
    "For orgs:\n",
    "\n",
    "{(org_1, org_2)} = angles((r1, r2), (t1, r2), (r1, t2), (t1, t2))\n",
    "\n",
    "{org} = angles(r, t) "
   ]
  },
  {
   "cell_type": "code",
   "execution_count": 1,
   "metadata": {},
   "outputs": [],
   "source": [
    "import json\n",
    "import numpy as np"
   ]
  },
  {
   "cell_type": "code",
   "execution_count": 2,
   "metadata": {},
   "outputs": [],
   "source": [
    "org_angles_between = {}"
   ]
  },
  {
   "cell_type": "code",
   "execution_count": 3,
   "metadata": {},
   "outputs": [],
   "source": [
    "with open('../saved_data_structures/org_angles_between.txt', 'r') as file:\n",
    "    org_angles_between = (json.load(file))"
   ]
  },
  {
   "cell_type": "code",
   "execution_count": 4,
   "metadata": {},
   "outputs": [],
   "source": [
    "org_angles_within = {}"
   ]
  },
  {
   "cell_type": "code",
   "execution_count": 5,
   "metadata": {},
   "outputs": [],
   "source": [
    "with open('../saved_data_structures/org_angles_within.txt', 'r') as file:\n",
    "    org_angles_within = (json.load(file))"
   ]
  },
  {
   "cell_type": "code",
   "execution_count": 6,
   "metadata": {},
   "outputs": [],
   "source": [
    "city_angles_between = {}"
   ]
  },
  {
   "cell_type": "code",
   "execution_count": 7,
   "metadata": {},
   "outputs": [],
   "source": [
    "city_angles_within = {}"
   ]
  },
  {
   "cell_type": "code",
   "execution_count": 8,
   "metadata": {},
   "outputs": [],
   "source": [
    "with open('../saved_data_structures/city_angles_between.txt', 'r') as file:\n",
    "    city_angles_between = (json.load(file))"
   ]
  },
  {
   "cell_type": "code",
   "execution_count": 9,
   "metadata": {},
   "outputs": [],
   "source": [
    "with open('../saved_data_structures/city_angles_within.txt', 'r') as file:\n",
    "    city_angles_within = (json.load(file))"
   ]
  },
  {
   "cell_type": "markdown",
   "metadata": {},
   "source": [
    "### Summary Statistics\n",
    "\n",
    "What are the average angles between and within -\n",
    "\n",
    "#### Unis"
   ]
  },
  {
   "cell_type": "code",
   "execution_count": 10,
   "metadata": {},
   "outputs": [],
   "source": [
    "rrs, tts = [], []"
   ]
  },
  {
   "cell_type": "code",
   "execution_count": 11,
   "metadata": {},
   "outputs": [],
   "source": [
    "rt_between, rt_within = [], []"
   ]
  },
  {
   "cell_type": "code",
   "execution_count": 12,
   "metadata": {},
   "outputs": [],
   "source": [
    "for org in org_angles_within:\n",
    "    if org_angles_within[org] is not None:\n",
    "        rt_within.append(eval(org_angles_within[org]))"
   ]
  },
  {
   "cell_type": "code",
   "execution_count": 13,
   "metadata": {},
   "outputs": [],
   "source": [
    "for org in org_angles_between:\n",
    "    r1r2, t1r2, r1t2, t1t2 = eval(org_angles_between[org])\n",
    "    if r1r2 is not None:\n",
    "        rrs.append(r1r2)\n",
    "    if t1r2 is not None:\n",
    "        rt_between.append(t1r2)\n",
    "    if r1t2 is not None:\n",
    "        rt_between.append(r1t2)\n",
    "    if t1t2 is not None:\n",
    "        tts.append(t1t2)"
   ]
  },
  {
   "cell_type": "code",
   "execution_count": 14,
   "metadata": {},
   "outputs": [
    {
     "data": {
      "text/plain": [
       "(2488506, 2488506)"
      ]
     },
     "execution_count": 14,
     "metadata": {},
     "output_type": "execute_result"
    }
   ],
   "source": [
    "len(rrs), len(tts)"
   ]
  },
  {
   "cell_type": "code",
   "execution_count": 15,
   "metadata": {},
   "outputs": [
    {
     "data": {
      "text/plain": [
       "(0.0,\n",
       " 130.0345596463356,\n",
       " 10.077369029008706,\n",
       " 120.45562183431173,\n",
       " 40.432619881353865,\n",
       " 107.91760705286482,\n",
       " 27.438776600132638,\n",
       " 124.96398812042209)"
      ]
     },
     "execution_count": 15,
     "metadata": {},
     "output_type": "execute_result"
    }
   ],
   "source": [
    "min(rrs), max(rrs), min(tts), max(tts), min(rt_within), max(rt_within), min(rt_between), max(rt_between)\n"
   ]
  },
  {
   "cell_type": "code",
   "execution_count": 16,
   "metadata": {},
   "outputs": [],
   "source": [
    "avg_rr = np.mean(rrs)\n",
    "avg_tt = np.mean(tts)\n",
    "avg_rt_within = np.mean(rt_within)\n",
    "avg_rt_between = np.mean(rt_between)"
   ]
  },
  {
   "cell_type": "code",
   "execution_count": 17,
   "metadata": {},
   "outputs": [
    {
     "data": {
      "text/plain": [
       "(53.44007162398876, 52.20673177029096, 67.73245228854915, 66.84531950475271)"
      ]
     },
     "execution_count": 17,
     "metadata": {},
     "output_type": "execute_result"
    }
   ],
   "source": [
    "avg_rr, avg_tt, avg_rt_between, avg_rt_within"
   ]
  },
  {
   "cell_type": "code",
   "execution_count": 18,
   "metadata": {},
   "outputs": [],
   "source": [
    "var_rr = np.var(rrs)\n",
    "var_tt = np.var(tts)\n",
    "var_rt_within = np.var(rt_within)\n",
    "var_rt_between = np.var(rt_between)"
   ]
  },
  {
   "cell_type": "code",
   "execution_count": 19,
   "metadata": {},
   "outputs": [
    {
     "data": {
      "text/plain": [
       "(393.07520392465676,\n",
       " 213.62330472881348,\n",
       " 128.09774872308174,\n",
       " 136.56807632650938)"
      ]
     },
     "execution_count": 19,
     "metadata": {},
     "output_type": "execute_result"
    }
   ],
   "source": [
    "var_rr, var_tt, var_rt_between, var_rt_within"
   ]
  },
  {
   "cell_type": "code",
   "execution_count": 20,
   "metadata": {},
   "outputs": [
    {
     "data": {
      "text/plain": [
       "array([[1.        , 0.13212252],\n",
       "       [0.13212252, 1.        ]])"
      ]
     },
     "execution_count": 20,
     "metadata": {},
     "output_type": "execute_result"
    }
   ],
   "source": [
    "np.corrcoef(rrs, tts)"
   ]
  },
  {
   "cell_type": "code",
   "execution_count": 21,
   "metadata": {},
   "outputs": [],
   "source": [
    "import seaborn as sns"
   ]
  },
  {
   "cell_type": "code",
   "execution_count": 22,
   "metadata": {},
   "outputs": [],
   "source": [
    "import matplotlib.pyplot as plt"
   ]
  },
  {
   "cell_type": "code",
   "execution_count": 23,
   "metadata": {},
   "outputs": [
    {
     "data": {
      "image/png": "[encoded data removed]",
      "text/plain": [
       "<Figure size 432x288 with 1 Axes>"
      ]
     },
     "metadata": {
      "needs_background": "light"
     },
     "output_type": "display_data"
    }
   ],
   "source": [
    "ax = sns.distplot(rrs)\n",
    "ax.set(xlabel=\"Angles of Research\", ylabel=\"Proportion of Counts\", title=\"Distribution of Research Angles\")\n",
    "plt.show()"
   ]
  },
  {
   "cell_type": "code",
   "execution_count": 24,
   "metadata": {},
   "outputs": [
    {
     "data": {
      "image/png": "[encoded data removed]",
      "text/plain": [
       "<Figure size 432x288 with 1 Axes>"
      ]
     },
     "metadata": {
      "needs_background": "light"
     },
     "output_type": "display_data"
    }
   ],
   "source": [
    "ax = sns.distplot(tts)\n",
    "ax.set(xlabel=\"Angles of Teaching\", ylabel=\"Proportion of Counts\", title=\"Distribution of Teaching Angles\")\n",
    "plt.show()"
   ]
  },
  {
   "cell_type": "code",
   "execution_count": 25,
   "metadata": {},
   "outputs": [
    {
     "data": {
      "image/png": "[encoded data removed]",
      "text/plain": [
       "<Figure size 432x288 with 1 Axes>"
      ]
     },
     "metadata": {
      "needs_background": "light"
     },
     "output_type": "display_data"
    }
   ],
   "source": [
    "ax = sns.distplot(rt_between)\n",
    "ax.set(xlabel=\"Angles of Research/Teaching\", ylabel=\"Proportion of Counts\", title=\"Distribution of Research-Teaching Angles between Universities\")\n",
    "plt.show()"
   ]
  },
  {
   "cell_type": "markdown",
   "metadata": {},
   "source": [
    "### Cities\n",
    "\n"
   ]
  },
  {
   "cell_type": "code",
   "execution_count": 26,
   "metadata": {},
   "outputs": [],
   "source": [
    "rrs_cities, tts_cities, jjs_cities = [], [], []"
   ]
  },
  {
   "cell_type": "code",
   "execution_count": 27,
   "metadata": {},
   "outputs": [],
   "source": [
    "rt_between_cities, rt_within_cities, rj_between_cities, rj_within_cities, tj_between_cities, tj_within_cities = [], [], [], [], [], []"
   ]
  },
  {
   "cell_type": "code",
   "execution_count": 28,
   "metadata": {},
   "outputs": [],
   "source": [
    "for city in city_angles_within:\n",
    "    rt, rj, tj = eval(city_angles_within[city])\n",
    "    if rt is not None:\n",
    "        rt_within_cities.append(rt)\n",
    "    if rj is not None:\n",
    "        rj_within_cities.append(rj)\n",
    "    if tj is not None:\n",
    "        tj_within_cities.append(tj)"
   ]
  },
  {
   "cell_type": "code",
   "execution_count": 29,
   "metadata": {},
   "outputs": [],
   "source": [
    "for city in city_angles_between:\n",
    "    r1r2, t1r2, j1r2, r1t2, t1t2, j1t2, r1j2, t1j2, j1j2 = eval(city_angles_between[city])\n",
    "    if r1r2 is not None:\n",
    "        rrs_cities.append(r1r2)\n",
    "    if t1r2 is not None:\n",
    "        rt_between_cities.append(t1r2)\n",
    "    if j1r2 is not None:\n",
    "        rj_between_cities.append(j1r2)\n",
    "    if r1t2 is not None:\n",
    "        rt_between_cities.append(r1t2)\n",
    "    if t1t2 is not None:\n",
    "        tts_cities.append(t1t2)\n",
    "    if j1t2 is not None:\n",
    "        tj_between_cities.append(j1t2)\n",
    "    if r1j2 is not None:\n",
    "        rj_between_cities.append(r1j2)\n",
    "    if t1j2 is not None:\n",
    "        tj_between_cities.append(t1j2)\n",
    "    if j1j2 is not None:\n",
    "        jjs_cities.append(j1j2)"
   ]
  },
  {
   "cell_type": "code",
   "execution_count": 30,
   "metadata": {},
   "outputs": [
    {
     "data": {
      "text/plain": [
       "(1.8437836809927666, 136.9583768774205)"
      ]
     },
     "execution_count": 30,
     "metadata": {},
     "output_type": "execute_result"
    }
   ],
   "source": [
    "min(rrs_cities), max(rrs_cities)"
   ]
  },
  {
   "cell_type": "code",
   "execution_count": 31,
   "metadata": {},
   "outputs": [
    {
     "data": {
      "text/plain": [
       "(53268357, 1312213)"
      ]
     },
     "execution_count": 31,
     "metadata": {},
     "output_type": "execute_result"
    }
   ],
   "source": [
    "len(rrs_cities), len(tts_cities)"
   ]
  },
  {
   "cell_type": "code",
   "execution_count": 32,
   "metadata": {},
   "outputs": [],
   "source": [
    "# np.corrcoef(rrs_cities, tts_cities)"
   ]
  },
  {
   "cell_type": "code",
   "execution_count": 33,
   "metadata": {},
   "outputs": [
    {
     "data": {
      "text/plain": [
       "(0.0, 119.72475578678619)"
      ]
     },
     "execution_count": 33,
     "metadata": {},
     "output_type": "execute_result"
    }
   ],
   "source": [
    " min(tts_cities), max(tts_cities)"
   ]
  },
  {
   "cell_type": "code",
   "execution_count": 34,
   "metadata": {},
   "outputs": [
    {
     "data": {
      "text/plain": [
       "(0.0, 124.21006328502777)"
      ]
     },
     "execution_count": 34,
     "metadata": {},
     "output_type": "execute_result"
    }
   ],
   "source": [
    " min(jjs_cities), max(jjs_cities)"
   ]
  },
  {
   "cell_type": "code",
   "execution_count": 35,
   "metadata": {},
   "outputs": [
    {
     "data": {
      "text/plain": [
       "(50.23105884778088, 97.92935871089563)"
      ]
     },
     "execution_count": 35,
     "metadata": {},
     "output_type": "execute_result"
    }
   ],
   "source": [
    " min(rt_within_cities), max(rt_within_cities)"
   ]
  },
  {
   "cell_type": "code",
   "execution_count": 36,
   "metadata": {},
   "outputs": [
    {
     "data": {
      "text/plain": [
       "(26.89994844438095, 130.25782832777261)"
      ]
     },
     "execution_count": 36,
     "metadata": {},
     "output_type": "execute_result"
    }
   ],
   "source": [
    " min(rt_between_cities), max(rt_between_cities)"
   ]
  },
  {
   "cell_type": "code",
   "execution_count": 37,
   "metadata": {},
   "outputs": [
    {
     "data": {
      "text/plain": [
       "(44.29188255188958, 117.19666172365775)"
      ]
     },
     "execution_count": 37,
     "metadata": {},
     "output_type": "execute_result"
    }
   ],
   "source": [
    " min(rj_within_cities), max(rj_within_cities)"
   ]
  },
  {
   "cell_type": "code",
   "execution_count": 38,
   "metadata": {},
   "outputs": [
    {
     "data": {
      "text/plain": [
       "(28.094968304589482, 132.75520301386865)"
      ]
     },
     "execution_count": 38,
     "metadata": {},
     "output_type": "execute_result"
    }
   ],
   "source": [
    " min(rj_between_cities), max(rj_between_cities)"
   ]
  },
  {
   "cell_type": "code",
   "execution_count": 39,
   "metadata": {},
   "outputs": [],
   "source": [
    "def find_corr(vectors_0, vectors_1):\n",
    "    vecs_0, vecs_1 = [], []\n",
    "    for entity in vectors_0:\n",
    "        if entity in vectors_1:\n",
    "            vecs_0.append(vectors_0[entity][0])\n",
    "            vecs_1.append(vectors_1[entity][0])\n",
    "    return(np.corrcoef(vecs_0, vecs_1))"
   ]
  },
  {
   "cell_type": "code",
   "execution_count": 40,
   "metadata": {},
   "outputs": [],
   "source": [
    "# orrs = find_corr(teaching_cities, job_cities)"
   ]
  },
  {
   "cell_type": "code",
   "execution_count": 41,
   "metadata": {},
   "outputs": [],
   "source": [
    "# corrs[1]"
   ]
  },
  {
   "cell_type": "code",
   "execution_count": 42,
   "metadata": {},
   "outputs": [
    {
     "data": {
      "text/plain": [
       "(71.37128227476973, 73.15304861362536)"
      ]
     },
     "execution_count": 42,
     "metadata": {},
     "output_type": "execute_result"
    }
   ],
   "source": [
    "np.mean(rt_between_cities), np.mean(rt_within_cities)"
   ]
  },
  {
   "cell_type": "code",
   "execution_count": 43,
   "metadata": {},
   "outputs": [
    {
     "data": {
      "text/plain": [
       "(52.919979778356556, 108.29795406052334)"
      ]
     },
     "execution_count": 43,
     "metadata": {},
     "output_type": "execute_result"
    }
   ],
   "source": [
    " min(tj_within_cities), max(tj_within_cities)"
   ]
  },
  {
   "cell_type": "code",
   "execution_count": 44,
   "metadata": {},
   "outputs": [
    {
     "data": {
      "text/plain": [
       "(25.341472506791348, 127.61510063597416)"
      ]
     },
     "execution_count": 44,
     "metadata": {},
     "output_type": "execute_result"
    }
   ],
   "source": [
    " min(tj_between_cities), max(tj_between_cities)"
   ]
  },
  {
   "cell_type": "code",
   "execution_count": 45,
   "metadata": {},
   "outputs": [],
   "source": [
    "avg_rr = np.mean(rrs_cities)\n",
    "avg_tt = np.mean(tts_cities)\n",
    "avg_jj = np.mean(jjs_cities)\n",
    "avg_rt_within = np.mean(rt_within_cities)\n",
    "avg_rt_between = np.mean(rt_between_cities)\n",
    "avg_rj_within = np.mean(rj_within_cities)\n",
    "avg_rj_between = np.mean(rj_between_cities)\n",
    "avg_tj_within = np.mean(tj_within_cities)\n",
    "avg_tj_between = np.mean(tj_between_cities)"
   ]
  },
  {
   "cell_type": "code",
   "execution_count": 46,
   "metadata": {},
   "outputs": [
    {
     "data": {
      "text/plain": [
       "(66.77106613164942,\n",
       " 49.72483604716012,\n",
       " 78.28370628291422,\n",
       " 73.15304861362536,\n",
       " 71.37128227476973,\n",
       " 78.94480426635592,\n",
       " 76.99285710204731,\n",
       " 77.22721317538304,\n",
       " 79.17201843000939)"
      ]
     },
     "execution_count": 46,
     "metadata": {},
     "output_type": "execute_result"
    }
   ],
   "source": [
    "avg_rr, avg_tt, avg_jj, avg_rt_within, avg_rt_between, avg_rj_within, avg_rj_between, avg_tj_within, avg_tj_between"
   ]
  },
  {
   "cell_type": "code",
   "execution_count": 47,
   "metadata": {},
   "outputs": [
    {
     "data": {
      "image/png": "[encoded data removed]",
      "text/plain": [
       "<Figure size 432x288 with 1 Axes>"
      ]
     },
     "metadata": {
      "needs_background": "light"
     },
     "output_type": "display_data"
    }
   ],
   "source": [
    "ax = sns.distplot(tts_cities)\n",
    "ax.set(xlabel=\"Angles of Teaching Cities\", ylabel=\"Proportion of Counts\", title=\"Distribution of Teaching Angles\")\n",
    "plt.show()"
   ]
  },
  {
   "cell_type": "code",
   "execution_count": 48,
   "metadata": {},
   "outputs": [
    {
     "data": {
      "image/png": "[encoded data removed]",
      "text/plain": [
       "<Figure size 432x288 with 1 Axes>"
      ]
     },
     "metadata": {
      "needs_background": "light"
     },
     "output_type": "display_data"
    }
   ],
   "source": [
    "ax = sns.distplot(jjs_cities)\n",
    "ax.set(xlabel=\"Angles of Jobs Cities\", ylabel=\"Proportion of Counts\", title=\"Distribution of Job Angles\")\n",
    "plt.show()"
   ]
  },
  {
   "cell_type": "code",
   "execution_count": 49,
   "metadata": {},
   "outputs": [],
   "source": [
    "var_rr = np.var(rrs_cities)\n",
    "var_tt = np.var(tts_cities)\n",
    "var_jj = np.var(jjs_cities)\n",
    "var_rt_within = np.var(rt_within_cities)\n",
    "var_rt_between = np.var(rt_between_cities)\n",
    "var_rj_within = np.var(rj_within_cities)\n",
    "var_rj_between = np.var(rj_between_cities)\n",
    "var_tj_within = np.var(tj_within_cities)\n",
    "var_tj_between = np.var(tj_between_cities)"
   ]
  },
  {
   "cell_type": "code",
   "execution_count": 50,
   "metadata": {},
   "outputs": [
    {
     "data": {
      "text/plain": [
       "(276.2772867049989,\n",
       " 216.37291576696884,\n",
       " 178.00710905831653,\n",
       " 56.42456678396613,\n",
       " 140.23110071110514,\n",
       " 110.88576127503309,\n",
       " 148.50357319947935,\n",
       " 125.03178702950899,\n",
       " 136.4019652250339)"
      ]
     },
     "execution_count": 50,
     "metadata": {},
     "output_type": "execute_result"
    }
   ],
   "source": [
    "var_rr, var_tt, var_jj, var_rt_within, var_rt_between, var_rj_within, var_rj_between, var_tj_within, var_tj_between"
   ]
  },
  {
   "cell_type": "code",
   "execution_count": null,
   "metadata": {},
   "outputs": [],
   "source": []
  },
  {
   "cell_type": "code",
   "execution_count": null,
   "metadata": {},
   "outputs": [],
   "source": []
  },
  {
   "cell_type": "code",
   "execution_count": null,
   "metadata": {},
   "outputs": [],
   "source": []
  }
 ],
 "metadata": {
  "kernelspec": {
   "display_name": "Python 3",
   "language": "python",
   "name": "python3"
  },
  "language_info": {
   "codemirror_mode": {
    "name": "ipython",
    "version": 3
   },
   "file_extension": ".py",
   "mimetype": "text/x-python",
   "name": "python",
   "nbconvert_exporter": "python",
   "pygments_lexer": "ipython3",
   "version": "3.6.9"
  }
 },
 "nbformat": 4,
 "nbformat_minor": 2
}
